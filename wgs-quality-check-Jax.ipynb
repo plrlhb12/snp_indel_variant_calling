{
 "cells": [
  {
   "cell_type": "markdown",
   "metadata": {},
   "source": [
    "## Jax IlluminaWGS 25Aug, 2020"
   ]
  },
  {
   "cell_type": "markdown",
   "metadata": {},
   "source": [
    "## Notes\n",
    "1. -mq  -q means quiet, no verbose at all\n",
    "2. gsutil doesn't work on python3.8, which is installed in my plot env\n",
    "3. global varibles and libraries\n",
    "4. Remeber to update the WRKDIR for previously used notebooks\n",
    "5. Remember do not add comments before %%bash\n",
    "6. Remember to replace 'usuhsID' with 'Sample_Name' in sample_ids\n",
    "7. make sure the json or tool dir are there for the next steps"
   ]
  },
  {
   "cell_type": "code",
   "execution_count": 1,
   "metadata": {},
   "outputs": [],
   "source": [
    "#global notebook variables for both python and bash majic (by stdin arguments)\n",
    "#WRKDIR = '/Users/mooreank/Desktop/Mark/UNHS'\n",
    "WRKDIR = '/Users/pengl7/Downloads/WGS/Jax'\n",
    "#PRJ_BUCKET = 'gs://nihnialngcbg-testing'\n",
    "PRJ_BUCKET = 'gs://test-7cee72c0e768'\n",
    "#PROJECT_ID = 'nih-nia-lng-cbg'\n",
    "PROJECT_ID = 'singlecellseq'\n",
    "#MYUSER = 'mooreank'\n",
    "MYUSER = 'pengl7'\n",
    "AUTOSOMES=[str(x) for x in list(range(1,23))]\n",
    "SEXOMES=['X','Y']\n",
    "CHROMOSOMES=AUTOSOMES + SEXOMES\n",
    "\n",
    "# COHORT='UNHS'\n",
    "# remember the folder sequence should also be the same in the local dir\n",
    "COHORT = 'Jax'\n",
    "\n",
    "# Notice that COHORT_BUCKET means the main data_folder path in the project bucket, instead of a bucket name\n",
    "COHORT_BUCKET=f'{PRJ_BUCKET}/{COHORT}'"
   ]
  },
  {
   "cell_type": "markdown",
   "metadata": {},
   "source": [
    " -s option: This option allows the positional parameters to be set when invoking an interactive shell."
   ]
  },
  {
   "cell_type": "code",
   "execution_count": 2,
   "metadata": {
    "tags": []
   },
   "outputs": [
    {
     "name": "stdout",
     "output_type": "stream",
     "text": [
      "gs://test-7cee72c0e768/Jax\n"
     ]
    }
   ],
   "source": [
    "%%bash -s \"$PRJ_BUCKET\" \"$COHORT\"\n",
    "PRJ_BUCKET=${1}\n",
    "COHORT=${2}\n",
    "echo ${PRJ_BUCKET}/${COHORT}"
   ]
  },
  {
   "cell_type": "code",
   "execution_count": 3,
   "metadata": {},
   "outputs": [],
   "source": [
    "import pandas as pd\n",
    "import numpy as np\n",
    "import time\n",
    "import json\n",
    "import os\n",
    "import seaborn as sns\n",
    "import matplotlib.pyplot as plt"
   ]
  },
  {
   "cell_type": "markdown",
   "metadata": {},
   "source": [
    "#### Check the vcf files inside the data folder"
   ]
  },
  {
   "cell_type": "code",
   "execution_count": 6,
   "metadata": {},
   "outputs": [
    {
     "name": "stdout",
     "output_type": "stream",
     "text": [
      "  2.94 KiB  2020-08-25T15:04:43Z  gs://test-7cee72c0e768/Jax/hg38/joint-discovery/Jax.variant_calling_detail_metrics\r\n",
      "  1.52 KiB  2020-08-25T15:04:43Z  gs://test-7cee72c0e768/Jax/hg38/joint-discovery/Jax.variant_calling_summary_metrics\r\n",
      "  1.68 GiB  2020-08-25T15:04:43Z  gs://test-7cee72c0e768/Jax/hg38/joint-discovery/Jax.vcf.gz\r\n",
      "  2.55 MiB  2020-08-25T15:04:43Z  gs://test-7cee72c0e768/Jax/hg38/joint-discovery/Jax.vcf.gz.tbi\r\n",
      "     748 B  2020-08-25T15:04:43Z  gs://test-7cee72c0e768/Jax/hg38/joint-discovery/out.intervals\r\n",
      "904.95 KiB  2020-08-25T15:04:43Z  gs://test-7cee72c0e768/Jax/hg38/joint-discovery/wdl_run_metadata.json\r\n",
      "TOTAL: 6 objects, 1802286842 bytes (1.68 GiB)\r\n"
     ]
    }
   ],
   "source": [
    "#confirm output file was successfull created\n",
    "!gsutil -mq ls -lh {COHORT_BUCKET}/hg38/joint-discovery"
   ]
  },
  {
   "cell_type": "markdown",
   "metadata": {},
   "source": [
    "## Run QC on samples"
   ]
  },
  {
   "cell_type": "code",
   "execution_count": 8,
   "metadata": {},
   "outputs": [
    {
     "name": "stdout",
     "output_type": "stream",
     "text": [
      "Copying gs://test-7cee72c0e768/Jax/hg38/joint-discovery/Jax.vcf.gz...\n",
      "==> NOTE: You are downloading one or more large file(s), which would            \n",
      "run significantly faster if you enabled sliced object downloads. This\n",
      "feature is enabled by default but requires that compiled crcmod be\n",
      "installed (see \"gsutil help crcmod\").\n",
      "\n",
      "Copying gs://test-7cee72c0e768/Jax/hg38/joint-discovery/Jax.vcf.gz.tbi...\n",
      "/ [2/2 files][  1.7 GiB/  1.7 GiB] 100% Done   8.2 MiB/s ETA 00:00:00           \n",
      "Operation completed over 2 objects/1.7 GiB.                                      \n"
     ]
    }
   ],
   "source": [
    "!mkdir /Users/pengl7/Downloads/WGS/{COHORT}/genotypes\n",
    "!gsutil -m cp {COHORT_BUCKET}/hg38/joint-discovery/*gz* /Users/pengl7/Downloads/WGS/{COHORT}/genotypes/"
   ]
  },
  {
   "cell_type": "markdown",
   "metadata": {},
   "source": [
    "## Update ID version\n",
    "\n",
    "As suggested by Raph: The joint calling is usually done with pre-100 genomes dbSNP version 138, so lots missing dbSNP IDs for rare variants. You may want to update IDs using newer version dbSNP vcf file and then for variants still without dbSNP IDs create names for those, typically naming format is chr_pos_alleles. The bcftools annotate command can perform both these; of course want to update IDs first then rename where still missing."
   ]
  },
  {
   "cell_type": "markdown",
   "metadata": {},
   "source": [
    "#### prior to converting from vcf to plink helps to go ahead and include dx and dx ???\n",
    "\n",
    "can format using plink2 sample file psam\n",
    "#FID IID sex dx\n",
    "\n",
    "hold over from plink1 sex; male=1, female=2, unknown/other=0"
   ]
  },
  {
   "cell_type": "markdown",
   "metadata": {},
   "source": [
    "## Preprocessing for the purpose of QC \n",
    "According to Raph's suggestion, using plink instead of VSRQ.\n",
    "Two versions of plink were used in Raph and Anni's notebook for different purpose. For example, multiallelics option is available in plink2, however, flags of --check-sex don't work plink2\n",
    "1. Use plink2: Use the option of --make-pgen multiallelics=-, otherwise error occurs during plink trim from the bed file\n",
    "2. Use plink1.9: Extract chrX for sexcheck"
   ]
  },
  {
   "cell_type": "code",
   "execution_count": null,
   "metadata": {},
   "outputs": [],
   "source": [
    "# templates for dealing with multiallelic in plink2\n",
    "# plink2 --vcf <input VCF> --make-pgen multiallelics=- --out tmp\n",
    "# plink2 --pfile tmp --make-bed --out <final prefix>\n",
    "# rm tmp.*"
   ]
  },
  {
   "cell_type": "code",
   "execution_count": 13,
   "metadata": {},
   "outputs": [],
   "source": [
    "PLINK2='/Users/pengl7/Downloads/WGS/plink2'"
   ]
  },
  {
   "cell_type": "code",
   "execution_count": 27,
   "metadata": {},
   "outputs": [],
   "source": [
    "#convert from vcf to plink2\n",
    "\n",
    "input_vcf = f'{WRKDIR}/genotypes/{COHORT}.vcf.gz'\n",
    "out_file_set = f'{WRKDIR}/genotypes/{COHORT}'\n",
    "\n",
    "# !/Users/mooreank/Downloads/plink2 --vcf {input_vcf} --double-id \\\n",
    "# --update-sex /Users/mooreank/Desktop/WGS/genotypes/ninds_eopd.txt col-num=3 \\\n",
    "# --pheno /Users/mooreank/Desktop/WGS/genotypes/ninds_eopd.txt --pheno-col-nums 4 \\\n",
    "# --silent --allow-extra-chr --make-pgen --out {out_file_set}\n",
    "\n",
    "!{PLINK2} --vcf {input_vcf} --double-id \\\n",
    "--silent --allow-extra-chr --make-pgen multiallelics=- --out {out_file_set}\n",
    "\n",
    "# input_vcf = f'{WRKDIR}/genotypes/{COHORT}.chrX.gtonly.vcf.gz'\n",
    "# out_file_set = f'{WRKDIR}/genotypes/{COHORT}.chrX'\n",
    "\n",
    "# !/Users/mooreank/Downloads/plink2 --vcf {input_vcf} --double-id \\\n",
    "# --update-sex /Users/mooreank/Desktop/WGS/genotypes/ninds_eopd.txt col-num=3 \\\n",
    "# --pheno /Users/mooreank/Desktop/WGS/genotypes/ninds_eopd.txt --pheno-col-nums 4 \\\n",
    "# --silent --allow-extra-chr --make-pgen --out {out_file_set}\n",
    "\n",
    "# !/Users/mooreank/Downloads/plink2 --vcf {input_vcf} --double-id \\\n",
    "# --silent --allow-extra-chr --make-pgen --out {out_file_set}"
   ]
  },
  {
   "cell_type": "code",
   "execution_count": 28,
   "metadata": {},
   "outputs": [
    {
     "name": "stdout",
     "output_type": "stream",
     "text": [
      "-rw-r--r--  1 pengl7  NIH\\Domain Users   1.3K Aug 26 11:33 /Users/pengl7/Downloads/WGS/Jax/genotypes/Jax.log\n",
      "-rw-r--r--  1 pengl7  NIH\\Domain Users    40M Aug 26 11:33 /Users/pengl7/Downloads/WGS/Jax/genotypes/Jax.pgen\n",
      "-rw-r--r--  1 pengl7  NIH\\Domain Users   2.8G Aug 26 11:33 /Users/pengl7/Downloads/WGS/Jax/genotypes/Jax.pvar\n",
      "-rw-r--r--  1 pengl7  NIH\\Domain Users   209B Aug 26 11:33 /Users/pengl7/Downloads/WGS/Jax/genotypes/Jax.psam\n",
      "-rw-r--r--  1 pengl7  NIH\\Domain Users   1.7G Aug 26 10:06 /Users/pengl7/Downloads/WGS/Jax/genotypes/Jax.vcf.gz\n",
      "-rw-r--r--  1 pengl7  NIH\\Domain Users   2.5M Aug 26 10:03 /Users/pengl7/Downloads/WGS/Jax/genotypes/Jax.vcf.gz.tbi\n",
      "/Users/pengl7/Downloads/WGS/Jax/genotypes/Jax-temporary.psam.\n",
      "9893835 variants loaded from\n",
      "/Users/pengl7/Downloads/WGS/Jax/genotypes/Jax-temporary.pvar.\n",
      "Note: No phenotype data present.\n",
      "Writing /Users/pengl7/Downloads/WGS/Jax/genotypes/Jax.psam ... done.\n",
      "Writing /Users/pengl7/Downloads/WGS/Jax/genotypes/Jax.pvar ... done.\n",
      "Writing /Users/pengl7/Downloads/WGS/Jax/genotypes/Jax.pgen ... done.\n",
      "Multiallelic split: 10756762 variants written.\n",
      "\n",
      "End time: Wed Aug 26 11:33:41 2020\n"
     ]
    }
   ],
   "source": [
    "#check creation and logging\n",
    "!ls -lth {WRKDIR}/genotypes/{COHORT}.*\n",
    "!tail {WRKDIR}/genotypes/{COHORT}.*log"
   ]
  },
  {
   "cell_type": "markdown",
   "metadata": {},
   "source": [
    "## Trim variants to QC set\n",
    "\n",
    "what do geno, maf, and hwe mean?\n",
    "\n",
    "- --geno Missing genotype rates: filters out all variants with missing call rates exceeding the provided value (default 0.1) to be removed, while --mind does the same for samples.\n",
    "- --maf (minor allele frequency (MAF)) filters out all variants with allele frequency below the provided threshold (default 0.01)\n",
    "- --hwe filters out all variants which have Hardy-Weinberg equilibrium exact test p-value below the provided threshold."
   ]
  },
  {
   "cell_type": "code",
   "execution_count": null,
   "metadata": {},
   "outputs": [],
   "source": [
    "INPUT_DIR='/Users/pengl7/Downloads/WGS/{COHORT}/genotypes/'"
   ]
  },
  {
   "cell_type": "code",
   "execution_count": 30,
   "metadata": {},
   "outputs": [
    {
     "name": "stdout",
     "output_type": "stream",
     "text": [
      "PLINK v2.00a2.3 64-bit (24 Jan 2020)           www.cog-genomics.org/plink/2.0/\n",
      "(C) 2005-2020 Shaun Purcell, Christopher Chang   GNU General Public License v3\n",
      "Logging to /Users/pengl7/Downloads/WGS/Jax/qc/Jax.geno05maf05hwe000001.log.\n",
      "Options in effect:\n",
      "  --geno 0.05\n",
      "  --hwe 0.000001\n",
      "  --maf 0.05\n",
      "  --make-bed\n",
      "  --out /Users/pengl7/Downloads/WGS/Jax/qc/Jax.geno05maf05hwe000001\n",
      "  --pfile /Users/pengl7/Downloads/WGS/Jax/genotypes/Jax\n",
      "\n",
      "Start time: Wed Aug 26 11:51:35 2020\n",
      "16384 MiB RAM detected; reserving 8192 MiB for main workspace.\n",
      "Using up to 12 threads (change this with --threads).\n",
      "8 samples (0 females, 0 males, 8 ambiguous; 8 founders) loaded from\n",
      "/Users/pengl7/Downloads/WGS/Jax/genotypes/Jax.psam.\n",
      "10756762 variants loaded from\n",
      "/Users/pengl7/Downloads/WGS/Jax/genotypes/Jax.pvar.\n",
      "Note: No phenotype data present.\n",
      "Calculating allele frequencies... 101112131415161718192021222324252627282930313233343536373839404142434445464748495051525354555657585960616263646566676869707172737475767778798081828384858687888990919293949596979899done.\n",
      "--geno: 718731 variants removed due to missing genotype data.\n",
      "--hwe: 0 variants removed due to Hardy-Weinberg exact test (founders only).\n",
      "436777 variants removed due to allele frequency threshold(s)\n",
      "(--maf/--max-maf/--mac/--max-mac).\n",
      "9601254 variants remaining after main filters.\n",
      "Writing /Users/pengl7/Downloads/WGS/Jax/qc/Jax.geno05maf05hwe000001.fam ...\n",
      "done.\n",
      "Writing /Users/pengl7/Downloads/WGS/Jax/qc/Jax.geno05maf05hwe000001.bim ...\n",
      "done.\n",
      "Writing /Users/pengl7/Downloads/WGS/Jax/qc/Jax.geno05maf05hwe000001.bed ...\n",
      "101112131415161718192021222324252627282930313233343536373839404142434445464748495051525354555657585960616263646566676869707172737475767778798081828384858687888990919293949596979899done.\n",
      "End time: Wed Aug 26 11:51:40 2020\n"
     ]
    }
   ],
   "source": [
    "#trim variant to QC set\n",
    "input_file_set = f'{WRKDIR}/genotypes/{COHORT}'\n",
    "out_file_set = f'{WRKDIR}/qc/{COHORT}.geno05maf05hwe000001'\n",
    "\n",
    "#!mkdir -p {WRKDIR}/qc\n",
    "\n",
    "#!{PLINK2} --vcf {input_file_set} --make-pgen multiallelics=- --double-id --allow-extra-chr --out {out_file_set}\n",
    "!{PLINK2} --pfile {input_file_set} --make-bed --geno 0.05 --maf 0.05 --hwe 0.000001 --out {out_file_set}"
   ]
  },
  {
   "cell_type": "markdown",
   "metadata": {},
   "source": [
    "### Extract chrX for checksex at the step of --make-bed using opton of --chr X"
   ]
  },
  {
   "cell_type": "code",
   "execution_count": 46,
   "metadata": {},
   "outputs": [
    {
     "name": "stdout",
     "output_type": "stream",
     "text": [
      "PLINK v2.00a2.3 64-bit (24 Jan 2020)           www.cog-genomics.org/plink/2.0/\n",
      "(C) 2005-2020 Shaun Purcell, Christopher Chang   GNU General Public License v3\n",
      "Logging to /Users/pengl7/Downloads/WGS/Jax/qc/Jax.chrX.geno05maf05.log.\n",
      "Options in effect:\n",
      "  --chr X\n",
      "  --geno 0.05\n",
      "  --maf 0.05\n",
      "  --make-bed\n",
      "  --out /Users/pengl7/Downloads/WGS/Jax/qc/Jax.chrX.geno05maf05\n",
      "  --pfile /Users/pengl7/Downloads/WGS/Jax/genotypes/Jax\n",
      "\n",
      "Start time: Wed Aug 26 13:37:32 2020\n",
      "16384 MiB RAM detected; reserving 8192 MiB for main workspace.\n",
      "Using up to 12 threads (change this with --threads).\n",
      "8 samples (0 females, 0 males, 8 ambiguous; 8 founders) loaded from\n",
      "/Users/pengl7/Downloads/WGS/Jax/genotypes/Jax.psam.\n",
      "292398 out of 10756762 variants loaded from\n",
      "/Users/pengl7/Downloads/WGS/Jax/genotypes/Jax.pvar.\n",
      "Note: No phenotype data present.\n",
      "Calculating allele frequencies... 18406285done.\n",
      "--geno: 23084 variants removed due to missing genotype data.\n",
      "23306 variants removed due to allele frequency threshold(s)\n",
      "(--maf/--max-maf/--mac/--max-mac).\n",
      "246008 variants remaining after main filters.\n",
      "Writing /Users/pengl7/Downloads/WGS/Jax/qc/Jax.chrX.geno05maf05.fam ... done.\n",
      "Writing /Users/pengl7/Downloads/WGS/Jax/qc/Jax.chrX.geno05maf05.bim ... done.\n",
      "Writing /Users/pengl7/Downloads/WGS/Jax/qc/Jax.chrX.geno05maf05.bed ... 19426385done.\n",
      "End time: Wed Aug 26 13:37:34 2020\n"
     ]
    }
   ],
   "source": [
    "#trim variant to QC set\n",
    "input_file_set = f'{WRKDIR}/genotypes/{COHORT}'\n",
    "out_file_set = f'{WRKDIR}/qc/{COHORT}.chrX.geno05maf05'\n",
    "\n",
    "#!mkdir -p {WRKDIR}/qc\n",
    "\n",
    "#!{PLINK2} --vcf {input_file_set} --make-pgen multiallelics=- --double-id --allow-extra-chr --out {out_file_set}\n",
    "!{PLINK2} --pfile {input_file_set} --make-bed --chr X --geno 0.05 --maf 0.05 --out {out_file_set}"
   ]
  },
  {
   "cell_type": "code",
   "execution_count": 107,
   "metadata": {
    "scrolled": true
   },
   "outputs": [
    {
     "name": "stdout",
     "output_type": "stream",
     "text": [
      "total 1644656\r\n",
      "-rw-r--r--  1 pengl7  NIH\\Domain Users   3.0K Aug 26 15:20 Jax.king.related.log\r\n",
      "-rw-r--r--  1 pengl7  NIH\\Domain Users    46B Aug 26 15:20 Jax.king.relatedX.kin0\r\n",
      "-rw-r--r--  1 pengl7  NIH\\Domain Users    45B Aug 26 15:20 Jax.king.relatedX.kin\r\n",
      "-rw-r--r--  1 pengl7  NIH\\Domain Users   2.0K Aug 26 15:20 Jax.king.related.kin0\r\n",
      "-rw-r--r--  1 pengl7  NIH\\Domain Users   1.0K Aug 26 14:05 Jax.het.log\r\n",
      "-rw-r--r--  1 pengl7  NIH\\Domain Users   774B Aug 26 14:05 Jax.het.het\r\n",
      "-rw-r--r--  1 pengl7  NIH\\Domain Users   172B Aug 26 14:05 Jax.het.nosex\r\n",
      "-rw-r--r--  1 pengl7  NIH\\Domain Users   1.1K Aug 26 13:59 Jax.missing.log\r\n",
      "-rw-r--r--  1 pengl7  NIH\\Domain Users   152M Aug 26 13:59 Jax.missing.vmiss\r\n",
      "-rw-r--r--  1 pengl7  NIH\\Domain Users   302B Aug 26 13:59 Jax.missing.smiss\r\n",
      "-rw-r--r--  1 pengl7  NIH\\Domain Users   1.0K Aug 26 13:53 Jax.sex2.log\r\n",
      "-rw-r--r--  1 pengl7  NIH\\Domain Users   774B Aug 26 13:53 Jax.sex2.sexcheck\r\n",
      "-rw-r--r--  1 pengl7  NIH\\Domain Users   172B Aug 26 13:53 Jax.sex2.nosex\r\n",
      "-rw-r--r--  1 pengl7  NIH\\Domain Users   1.3K Aug 26 13:49 Jax.sex.log\r\n",
      "-rw-r--r--  1 pengl7  NIH\\Domain Users   774B Aug 26 13:49 Jax.sex.sexcheck\r\n",
      "-rw-r--r--  1 pengl7  NIH\\Domain Users   172B Aug 26 13:49 Jax.sex.nosex\r\n",
      "-rw-r--r--  1 pengl7  NIH\\Domain Users   1.8M Aug 26 13:49 Jax.chrX.list\r\n",
      "-rw-r--r--  1 pengl7  NIH\\Domain Users   1.2K Aug 26 13:37 Jax.chrX.geno05maf05.log\r\n",
      "-rw-r--r--  1 pengl7  NIH\\Domain Users   480K Aug 26 13:37 Jax.chrX.geno05maf05.bed\r\n",
      "-rw-r--r--  1 pengl7  NIH\\Domain Users   6.2M Aug 26 13:37 Jax.chrX.geno05maf05.bim\r\n",
      "-rw-r--r--  1 pengl7  NIH\\Domain Users   244B Aug 26 13:37 Jax.chrX.geno05maf05.fam\r\n",
      "-rw-r--r--  1 pengl7  NIH\\Domain Users    70M Aug 26 12:02 Jax.list\r\n",
      "-rw-r--r--  1 pengl7  NIH\\Domain Users   1.2K Aug 26 11:59 Jax.geno05maf05.log\r\n",
      "-rw-r--r--  1 pengl7  NIH\\Domain Users    18M Aug 26 11:59 Jax.geno05maf05.bed\r\n",
      "-rw-r--r--  1 pengl7  NIH\\Domain Users   254M Aug 26 11:59 Jax.geno05maf05.bim\r\n",
      "-rw-r--r--  1 pengl7  NIH\\Domain Users   244B Aug 26 11:59 Jax.geno05maf05.fam\r\n",
      "-rw-r--r--  1 pengl7  NIH\\Domain Users   1.3K Aug 26 11:51 Jax.geno05maf05hwe000001.log\r\n",
      "-rw-r--r--  1 pengl7  NIH\\Domain Users    18M Aug 26 11:51 Jax.geno05maf05hwe000001.bed\r\n",
      "-rw-r--r--  1 pengl7  NIH\\Domain Users   254M Aug 26 11:51 Jax.geno05maf05hwe000001.bim\r\n",
      "-rw-r--r--  1 pengl7  NIH\\Domain Users   244B Aug 26 11:51 Jax.geno05maf05hwe000001.fam\r\n"
     ]
    }
   ],
   "source": [
    "%ls -lth {WRKDIR}/qc"
   ]
  },
  {
   "cell_type": "markdown",
   "metadata": {},
   "source": [
    "### Check sex"
   ]
  },
  {
   "cell_type": "markdown",
   "metadata": {},
   "source": [
    "## Plink2 doesn't have the tag --check-sex, so change to plink1.9\n",
    "PLINK v2.00a2.3 64-bit (24 Jan 2020)           www.cog-genomics.org/plink/2.0/\n",
    "Error: Unrecognized flag ('--check-sex')."
   ]
  },
  {
   "cell_type": "code",
   "execution_count": 54,
   "metadata": {},
   "outputs": [
    {
     "name": "stdout",
     "output_type": "stream",
     "text": [
      "total 4464\r\n",
      "-rwxr-xr-x@ 1 pengl7  NIH\\Domain Users   2.1M Jul 12 13:05 \u001b[31mplink\u001b[m\u001b[m*\r\n",
      "-rw-r--r--@ 1 pengl7  NIH\\Domain Users    58B Mar 22  2019 toy.ped\r\n",
      "-rwxr-xr-x@ 1 pengl7  NIH\\Domain Users    18K Mar  5  2019 \u001b[31mprettify\u001b[m\u001b[m*\r\n",
      "-rw-r--r--@ 1 pengl7  NIH\\Domain Users    34K Feb 19  2018 LICENSE\r\n",
      "-rw-r--r--@ 1 pengl7  NIH\\Domain Users    27B Feb 19  2018 toy.map\r\n"
     ]
    }
   ],
   "source": [
    "%ls -lth /Users/pengl7/Downloads/WGS/plink_mac_20200616/"
   ]
  },
  {
   "cell_type": "code",
   "execution_count": 51,
   "metadata": {},
   "outputs": [],
   "source": [
    "# Use plink1.9\n",
    "plink=\"/Users/pengl7/Downloads/WGS/plink_mac_20200616/plink\""
   ]
  },
  {
   "cell_type": "markdown",
   "metadata": {},
   "source": [
    "### Using one of the two methods below (either my method or Raph's)"
   ]
  },
  {
   "cell_type": "code",
   "execution_count": 57,
   "metadata": {},
   "outputs": [
    {
     "name": "stdout",
     "output_type": "stream",
     "text": [
      "PLINK v1.90p 64-bit (16 Jun 2020)              www.cog-genomics.org/plink/1.9/\n",
      "(C) 2005-2020 Shaun Purcell, Christopher Chang   GNU General Public License v3\n",
      "Logging to /Users/pengl7/Downloads/WGS/Jax/qc/Jax.sex2.log.\n",
      "Options in effect:\n",
      "  --bfile /Users/pengl7/Downloads/WGS/Jax/qc/Jax.chrX.geno05maf05\n",
      "  --check-sex 0.25 0.75\n",
      "  --out /Users/pengl7/Downloads/WGS/Jax/qc/Jax.sex2\n",
      "\n",
      "16384 MB RAM detected; reserving 8192 MB for main workspace.\n",
      "246008 variants loaded from .bim file.\n",
      "8 people (0 males, 0 females, 8 ambiguous) loaded from .fam.\n",
      "Ambiguous sex IDs written to /Users/pengl7/Downloads/WGS/Jax/qc/Jax.sex2.nosex\n",
      ".\n",
      "Using 1 thread (no multithreaded calculations invoked).\n",
      "Before main variant filters, 8 founders and 0 nonfounders present.\n",
      "Calculating allele frequencies... 10111213141516171819202122232425262728293031323334353637383940414243444546474849505152535455565758596061626364656667686970717273747576777879808182838485868788899091929394959697989 done.\n",
      "246008 variants and 8 people pass filters and QC.\n",
      "Note: No phenotypes present.\n",
      "--check-sex: 246008 Xchr and 0 Ychr variant(s) scanned, 8 problems detected.\n",
      "Report written to /Users/pengl7/Downloads/WGS/Jax/qc/Jax.sex2.sexcheck .\n"
     ]
    }
   ],
   "source": [
    "!{plink} --bfile {WRKDIR}/qc/{COHORT}.chrX.geno05maf05 --check-sex 0.25 0.75 --out {WRKDIR}/qc/{COHORT}.sex2"
   ]
  },
  {
   "cell_type": "code",
   "execution_count": 110,
   "metadata": {},
   "outputs": [
    {
     "name": "stdout",
     "output_type": "stream",
     "text": [
      "PLINK v1.90p 64-bit (16 Jun 2020)              www.cog-genomics.org/plink/1.9/\n",
      "(C) 2005-2020 Shaun Purcell, Christopher Chang   GNU General Public License v3\n",
      "Logging to /Users/pengl7/Downloads/WGS/Jax/qc/Jax.sex.log.\n",
      "Options in effect:\n",
      "  --bfile /Users/pengl7/Downloads/WGS/Jax/qc/Jax.chrX.geno05maf05\n",
      "  --check-sex 0.25 0.75\n",
      "  --extract /Users/pengl7/Downloads/WGS/Jax/qc/Jax.chrX.list\n",
      "  --out /Users/pengl7/Downloads/WGS/Jax/qc/Jax.sex\n",
      "\n",
      "16384 MB RAM detected; reserving 8192 MB for main workspace.\n",
      "246008 variants loaded from .bim file.\n",
      "8 people (0 males, 0 females, 8 ambiguous) loaded from .fam.\n",
      "Ambiguous sex IDs written to /Users/pengl7/Downloads/WGS/Jax/qc/Jax.sex.nosex .\n",
      "--extract: 245947 variants remaining.\n",
      "Using 1 thread (no multithreaded calculations invoked).\n",
      "Before main variant filters, 8 founders and 0 nonfounders present.\n",
      "Calculating allele frequencies... 0%\b\b1%\b\b2%\b\b3%\b\b4%\b\b5%\b\b6%\b\b7%\b\b8%\b\b9%\b\b10%\b\b\b11%\b\b\b12%\b\b\b13%\b\b\b14%\b\b\b15%\b\b\b16%\b\b\b17%\b\b\b18%\b\b\b19%\b\b\b20%\b\b\b21%\b\b\b22%\b\b\b23%\b\b\b24%\b\b\b25%\b\b\b26%\b\b\b27%\b\b\b28%\b\b\b29%\b\b\b30%\b\b\b31%\b\b\b32%\b\b\b33%\b\b\b34%\b\b\b35%\b\b\b36%\b\b\b37%\b\b\b38%\b\b\b39%\b\b\b40%\b\b\b41%\b\b\b42%\b\b\b43%\b\b\b44%\b\b\b45%\b\b\b46%\b\b\b47%\b\b\b48%\b\b\b49%\b\b\b50%\b\b\b51%\b\b\b52%\b\b\b53%\b\b\b54%\b\b\b55%\b\b\b56%\b\b\b57%\b\b\b58%\b\b\b59%\b\b\b60%\b\b\b61%\b\b\b62%\b\b\b63%\b\b\b64%\b\b\b65%\b\b\b66%\b\b\b67%\b\b\b68%\b\b\b69%\b\b\b70%\b\b\b71%\b\b\b72%\b\b\b73%\b\b\b74%\b\b\b75%\b\b\b76%\b\b\b77%\b\b\b78%\b\b\b79%\b\b\b80%\b\b\b81%\b\b\b82%\b\b\b83%\b\b\b84%\b\b\b85%\b\b\b86%\b\b\b87%\b\b\b88%\b\b\b89%\b\b\b90%\b\b\b91%\b\b\b92%\b\b\b93%\b\b\b94%\b\b\b95%\b\b\b96%\b\b\b97%\b\b\b98%\b\b\b99%\b\b\b\b done.\n",
      "245947 variants and 8 people pass filters and QC.\n",
      "Note: No phenotypes present.\n",
      "--check-sex: 245947 Xchr and 0 Ychr variant(s) scanned, 8 problems detected.\n",
      "Report written to /Users/pengl7/Downloads/WGS/Jax/qc/Jax.sex.sexcheck .\n"
     ]
    },
    {
     "name": "stderr",
     "output_type": "stream",
     "text": [
      "Warning: At least 59186 duplicate IDs in --extract file.\n"
     ]
    }
   ],
   "source": [
    "%%bash -s \"$COHORT\" \"$WRKDIR\"\n",
    "#check gender\n",
    "COHORT=${1}\n",
    "WRKDIR=${2}\"/qc\"\n",
    "plink=${3}\n",
    "#hg38 non-PAR\n",
    "awk '$4 > 2800000 && $4 < 155700000 {print $2}' ${WRKDIR}/${COHORT}.chrX.geno05maf05.bim \\\n",
    "    > ${WRKDIR}/${COHORT}.chrX.list\n",
    "\n",
    "plink1.9 --bfile ${WRKDIR}/${COHORT}.chrX.geno05maf05 --extract ${WRKDIR}/${COHORT}.chrX.list \\\n",
    "--check-sex 0.25 0.75 --out ${WRKDIR}/${COHORT}.sex"
   ]
  },
  {
   "cell_type": "code",
   "execution_count": 58,
   "metadata": {},
   "outputs": [
    {
     "name": "stdout",
     "output_type": "stream",
     "text": [
      "sexcheck shape is (8, 6)\n",
      "number of samples failing sexcheck 8\n",
      "              FID             IID  PEDSEX  SNPSEX   STATUS       F\n",
      "0  KOLF2-ARID2-A2  KOLF2-ARID2-A2       0       1  PROBLEM  0.8124\n",
      "1        KUCG3-C1        KUCG3-C1       0       1  PROBLEM  0.7902\n",
      "2       LNGPI1-C1       LNGPI1-C1       0       1  PROBLEM  0.8041\n",
      "3        NCRM1-C6        NCRM1-C6       0       1  PROBLEM  0.8177\n",
      "4        NCRM5-C5        NCRM5-C5       0       1  PROBLEM  0.8045\n",
      "5    NN0003932-C3    NN0003932-C3       0       1  PROBLEM  0.8132\n",
      "6    NN0004297-C1    NN0004297-C1       0       1  PROBLEM  0.7929\n",
      "7         PGP1-C2         PGP1-C2       0       1  PROBLEM  0.8233\n",
      "number of samples failing sexcheck excluding missing info (0, 6)\n",
      "Empty DataFrame\n",
      "Columns: [FID, IID, PEDSEX, SNPSEX, STATUS, F]\n",
      "Index: []\n"
     ]
    }
   ],
   "source": [
    "#check sex test results\n",
    "sexcheck_df = pd.read_csv(f'{WRKDIR}/qc/{COHORT}.sex.sexcheck', sep='\\s+')\n",
    "print(f'sexcheck shape is {sexcheck_df.shape}')\n",
    "\n",
    "fail_sexcheck_df = sexcheck_df.loc[sexcheck_df['STATUS'] == 'PROBLEM']\n",
    "print(f'number of samples failing sexcheck {fail_sexcheck_df.shape[0]}')\n",
    "print(fail_sexcheck_df)\n",
    "\n",
    "fail_sexcheck_df = sexcheck_df.loc[(sexcheck_df['STATUS'] == 'PROBLEM') & \\\n",
    "                                   (sexcheck_df['PEDSEX'] != 0)]\n",
    "print(f'number of samples failing sexcheck excluding missing info {fail_sexcheck_df.shape}')\n",
    "print(fail_sexcheck_df)"
   ]
  },
  {
   "cell_type": "code",
   "execution_count": 62,
   "metadata": {},
   "outputs": [
    {
     "name": "stdout",
     "output_type": "stream",
     "text": [
      "PLINK v2.00a2.3 64-bit (24 Jan 2020)           www.cog-genomics.org/plink/2.0/\n",
      "(C) 2005-2020 Shaun Purcell, Christopher Chang   GNU General Public License v3\n",
      "Logging to /Users/pengl7/Downloads/WGS/Jax/qc/Jax.missing.log.\n",
      "Options in effect:\n",
      "  --autosome\n",
      "  --bfile /Users/pengl7/Downloads/WGS/Jax/qc/Jax.geno05maf05hwe000001\n",
      "  --missing\n",
      "  --out /Users/pengl7/Downloads/WGS/Jax/qc/Jax.missing\n",
      "\n",
      "Start time: Wed Aug 26 13:59:03 2020\n",
      "16384 MiB RAM detected; reserving 8192 MiB for main workspace.\n",
      "Using up to 12 threads (change this with --threads).\n",
      "8 samples (0 females, 0 males, 8 ambiguous; 8 founders) loaded from\n",
      "/Users/pengl7/Downloads/WGS/Jax/qc/Jax.geno05maf05hwe000001.fam.\n",
      "9323608 out of 9601254 variants loaded from\n",
      "/Users/pengl7/Downloads/WGS/Jax/qc/Jax.geno05maf05hwe000001.bim.\n",
      "Note: No phenotype data present.\n",
      "Calculating sample missingness rates... 101112131415161718192021222324252627282930313233343536373839404142434445464748495051525354555657585960616263646566676869707172737475767778798081828384858687888990919293949596979899done.\n",
      "Calculating allele frequencies... 101112131415161718192021222324252627282930313233343536373839404142434445464748495051525354555657585960616263646566676869707172737475767778798081828384858687888990919293949596979899done.\n",
      "--missing: Sample missing data report written to\n",
      "/Users/pengl7/Downloads/WGS/Jax/qc/Jax.missing.smiss .\n",
      "--missing: Variant missing data report written to51616171718181919202021212222232324252526262727282829293030313132323333343435353636373738383939404041414242434344444545464647474848495050515152525353545455555656575758585959606061616262636364646565666667676868696970707171727273737475757676777778787979808081818282838384848585868687878888898990909191929293939494959596969797989899%\n",
      "/Users/pengl7/Downloads/WGS/Jax/qc/Jax.missing.vmiss .\n",
      "End time: Wed Aug 26 13:59:05 2020\n"
     ]
    }
   ],
   "source": [
    "#check missingness\n",
    "!{PLINK2} --bfile {WRKDIR}/qc/{COHORT}.geno05maf05hwe000001 --missing --autosome \\\n",
    "--out {WRKDIR}/qc/{COHORT}.missing"
   ]
  },
  {
   "cell_type": "code",
   "execution_count": 61,
   "metadata": {},
   "outputs": [
    {
     "name": "stdout",
     "output_type": "stream",
     "text": [
      "-rw-r--r--  1 pengl7  NIH\\Domain Users   1.1K Aug 26 13:56 /Users/pengl7/Downloads/WGS/Jax/qc/Jax.missing.log\r\n",
      "-rw-r--r--  1 pengl7  NIH\\Domain Users   152M Aug 26 13:56 /Users/pengl7/Downloads/WGS/Jax/qc/Jax.missing.vmiss\r\n",
      "-rw-r--r--  1 pengl7  NIH\\Domain Users   302B Aug 26 13:56 /Users/pengl7/Downloads/WGS/Jax/qc/Jax.missing.smiss\r\n"
     ]
    }
   ],
   "source": [
    "%ls -lth {WRKDIR}/qc/{COHORT}.missing*"
   ]
  },
  {
   "cell_type": "code",
   "execution_count": 63,
   "metadata": {},
   "outputs": [
    {
     "name": "stdout",
     "output_type": "stream",
     "text": [
      "number samples failing missingness test 0\n",
      "Empty DataFrame\n",
      "Columns: [#FID, IID, MISSING_CT, OBS_CT, F_MISS]\n",
      "Index: []\n"
     ]
    }
   ],
   "source": [
    "#check missingness results\n",
    "misstest_df = pd.read_csv(f'{WRKDIR}/qc/{COHORT}.missing.smiss', sep='\\s+')\n",
    "\n",
    "#find failed\n",
    "misstest_failed_df = misstest_df.loc[misstest_df['F_MISS'] > 0.05]\n",
    "\n",
    "print(f'number samples failing missingness test {misstest_failed_df.shape[0]}')\n",
    "\n",
    "print(misstest_failed_df)"
   ]
  },
  {
   "cell_type": "markdown",
   "metadata": {},
   "source": [
    "### check het rates"
   ]
  },
  {
   "cell_type": "code",
   "execution_count": 66,
   "metadata": {},
   "outputs": [],
   "source": [
    "#check het rates, plink2 doesn't work\n",
    "!{plink} --bfile {WRKDIR}/qc/{COHORT}.geno05maf05hwe000001 --het --autosome \\\n",
    "--silent --out {WRKDIR}/qc/{COHORT}.het"
   ]
  },
  {
   "cell_type": "code",
   "execution_count": 67,
   "metadata": {},
   "outputs": [
    {
     "name": "stdout",
     "output_type": "stream",
     "text": [
      "number samples failing heterzygosity check 0\n",
      "Empty DataFrame\n",
      "Columns: [FID, IID, O(HOM), E(HOM), N(NM), F]\n",
      "Index: []\n"
     ]
    }
   ],
   "source": [
    "#check het rate results\n",
    "\n",
    "###2 failes\n",
    "\n",
    "hets_df = pd.read_csv(f'{WRKDIR}/qc/{COHORT}.het.het', sep='\\s+')\n",
    "\n",
    "#find failed\n",
    "hets_failed_df = hets_df.loc[(hets_df['F'] > 0.15) | (hets_df['F'] < -0.15)]\n",
    "\n",
    "print(f'number samples failing heterzygosity check {hets_failed_df.shape[0]}')\n",
    "\n",
    "print(hets_failed_df)"
   ]
  },
  {
   "cell_type": "markdown",
   "metadata": {},
   "source": [
    "### check for relatedness, including duplicates"
   ]
  },
  {
   "cell_type": "code",
   "execution_count": 76,
   "metadata": {},
   "outputs": [
    {
     "name": "stdout",
     "output_type": "stream",
     "text": [
      "total 4464\r\n",
      "-rwxr-xr-x@ 1 pengl7  NIH\\Domain Users   2.1M Jul 12 13:05 \u001b[31mplink\u001b[m\u001b[m*\r\n",
      "-rw-r--r--@ 1 pengl7  NIH\\Domain Users    58B Mar 22  2019 toy.ped\r\n",
      "-rwxr-xr-x@ 1 pengl7  NIH\\Domain Users    18K Mar  5  2019 \u001b[31mprettify\u001b[m\u001b[m*\r\n",
      "-rw-r--r--@ 1 pengl7  NIH\\Domain Users    34K Feb 19  2018 LICENSE\r\n",
      "-rw-r--r--@ 1 pengl7  NIH\\Domain Users    27B Feb 19  2018 toy.map\r\n"
     ]
    }
   ],
   "source": [
    "%ls -lth /Users/pengl7/Downloads/WGS/plink_mac_20200616/"
   ]
  },
  {
   "cell_type": "code",
   "execution_count": 77,
   "metadata": {},
   "outputs": [],
   "source": [
    "#!cp /Users/pengl7/Downloads/WGS/king /usr/local/bin/king\n",
    "!cp /Users/pengl7/Downloads/WGS/plink2 /usr/local/bin/plink2\n",
    "\n",
    "!cp /Users/pengl7/Downloads/WGS/plink_mac_20200616/plink /usr/local/bin/plink1.9"
   ]
  },
  {
   "cell_type": "code",
   "execution_count": 88,
   "metadata": {},
   "outputs": [],
   "source": [
    "!cp /Users/pengl7/Downloads/WGS/king/king /usr/local/bin/king"
   ]
  },
  {
   "cell_type": "code",
   "execution_count": 89,
   "metadata": {},
   "outputs": [
    {
     "name": "stdout",
     "output_type": "stream",
     "text": [
      "/usr/local/bin/king\r\n"
     ]
    }
   ],
   "source": [
    "!which king\n"
   ]
  },
  {
   "cell_type": "code",
   "execution_count": 80,
   "metadata": {},
   "outputs": [
    {
     "name": "stdout",
     "output_type": "stream",
     "text": [
      "/usr/local/bin/plink1.9\r\n"
     ]
    }
   ],
   "source": [
    "!which plink1.9"
   ]
  },
  {
   "cell_type": "markdown",
   "metadata": {},
   "source": [
    "## KING is a toolset to explore genotype data from a genome-wide association study (GWAS) or a sequencing project. \n",
    "\n",
    "The latest version is KING 2.2.5 available on June 5, 2020. KING can be used to check family relationship and flag pedigree errors by estimating kinship coefficients and inferring IBD segments for all pairwise relationships. Unrelated pairs can be precisely separated from close relatives with no false positives, with accuracy up to 3rd- or 4th-degree (depending on array or WGS) for --related and --ibdseg analyses, and up to 2nd-degree for --kinship analysis.\n",
    "\n",
    "http://people.virginia.edu/~wc9c/KING/manual.html"
   ]
  },
  {
   "cell_type": "code",
   "execution_count": 96,
   "metadata": {},
   "outputs": [
    {
     "name": "stdout",
     "output_type": "stream",
     "text": [
      "#run these commands at terminal:\n",
      "\n",
      "king --related -b /Users/pengl7/Downloads/WGS/Jax/qc/Jax.geno05maf05hwe000001.bed  --degree 2 --prefix /Users/pengl7/Downloads/WGS/Jax/qc/Jax.king.related > /Users/pengl7/Downloads/WGS/Jax/qc/Jax.king.related.log &\n"
     ]
    }
   ],
   "source": [
    "# king_related_cmd = f'nohup king --related -b {WRKDIR}/qc/{COHORTBUILD}.geno05maf05hwe000001.bed \\\n",
    "# --cpus $(nproc) --degree 2 --prefix {WRKDIR}/qc/{COHORTBUILD}.king.related \\\n",
    "# > {WRKDIR}/qc/{COHORTBUILD}.king.related.log &'\n",
    "\n",
    "# king_related_cmd = f'nohup /Users/mooreank/Downloads/king --related -b {WRKDIR}/qc/{COHORTBUILD}.geno05maf05hwe000001.bed \\\n",
    "#  --degree 2 --prefix {WRKDIR}/qc/{COHORTBUILD}.king.related \\\n",
    "# > {WRKDIR}/qc/{COHORTBUILD}.king.related.log &'\n",
    "\n",
    "\n",
    "king_related_cmd = f'king --related -b {WRKDIR}/qc/{COHORT}.geno05maf05hwe000001.bed \\\n",
    " --degree 2 --prefix {WRKDIR}/qc/{COHORT}.king.related \\\n",
    "> {WRKDIR}/qc/{COHORT}.king.related.log &'\n",
    "\n",
    "print('#run these commands at terminal:\\n')\n",
    "print(king_related_cmd)"
   ]
  },
  {
   "cell_type": "code",
   "execution_count": 97,
   "metadata": {},
   "outputs": [
    {
     "name": "stdout",
     "output_type": "stream",
     "text": [
      "\t--kinship\r\n",
      "\t--prefix /Users/pengl7/Downloads/WGS/Jax/qc/Jax.king.related\r\n",
      "\r\n",
      "Relationship inference across families starts at Wed Aug 26 15:20:31 2020\r\n",
      "6 CPU cores are used.\r\n",
      "                                         ends at Wed Aug 26 15:20:31 2020\r\n",
      "Between-family kinship data saved in file /Users/pengl7/Downloads/WGS/Jax/qc/Jax.king.related.kin0\r\n",
      "Note --kinship --degree <n> can filter & speed up the kinship computing.\r\n",
      "\r\n",
      "X-chromosome analysis...\r\n",
      "X-chromosome genotypes stored in 3844 64-bit words for each of 8 individuals.\r\n",
      "Within-family kinship data saved in file /Users/pengl7/Downloads/WGS/Jax/qc/Jax.king.relatedX.kin\r\n",
      "Relationship inference across families starts at Wed Aug 26 15:20:31 2020\r\n",
      "                                         ends at Wed Aug 26 15:20:31 2020\r\n",
      "Between-family kinship data saved in file /Users/pengl7/Downloads/WGS/Jax/qc/Jax.king.relatedX.kin0\r\n",
      "KING ends at Wed Aug 26 15:20:31 2020\r\n"
     ]
    }
   ],
   "source": [
    "#check the king log\n",
    "!tail -n 16 {WRKDIR}/qc/{COHORT}.king.related.log"
   ]
  },
  {
   "cell_type": "markdown",
   "metadata": {},
   "source": [
    "### For the duplicates see which ones also failed sexcheck, ie clues how to correctly resolve duplicates¶"
   ]
  },
  {
   "cell_type": "code",
   "execution_count": 99,
   "metadata": {},
   "outputs": [
    {
     "name": "stdout",
     "output_type": "stream",
     "text": [
      "total 1644656\r\n",
      "-rw-r--r--  1 pengl7  NIH\\Domain Users   3.0K Aug 26 15:20 Jax.king.related.log\r\n",
      "-rw-r--r--  1 pengl7  NIH\\Domain Users    46B Aug 26 15:20 Jax.king.relatedX.kin0\r\n",
      "-rw-r--r--  1 pengl7  NIH\\Domain Users    45B Aug 26 15:20 Jax.king.relatedX.kin\r\n",
      "-rw-r--r--  1 pengl7  NIH\\Domain Users   2.0K Aug 26 15:20 Jax.king.related.kin0\r\n",
      "-rw-r--r--  1 pengl7  NIH\\Domain Users   1.0K Aug 26 14:05 Jax.het.log\r\n",
      "-rw-r--r--  1 pengl7  NIH\\Domain Users   774B Aug 26 14:05 Jax.het.het\r\n",
      "-rw-r--r--  1 pengl7  NIH\\Domain Users   172B Aug 26 14:05 Jax.het.nosex\r\n",
      "-rw-r--r--  1 pengl7  NIH\\Domain Users   1.1K Aug 26 13:59 Jax.missing.log\r\n",
      "-rw-r--r--  1 pengl7  NIH\\Domain Users   152M Aug 26 13:59 Jax.missing.vmiss\r\n",
      "-rw-r--r--  1 pengl7  NIH\\Domain Users   302B Aug 26 13:59 Jax.missing.smiss\r\n",
      "-rw-r--r--  1 pengl7  NIH\\Domain Users   1.0K Aug 26 13:53 Jax.sex2.log\r\n",
      "-rw-r--r--  1 pengl7  NIH\\Domain Users   774B Aug 26 13:53 Jax.sex2.sexcheck\r\n",
      "-rw-r--r--  1 pengl7  NIH\\Domain Users   172B Aug 26 13:53 Jax.sex2.nosex\r\n",
      "-rw-r--r--  1 pengl7  NIH\\Domain Users   1.3K Aug 26 13:49 Jax.sex.log\r\n",
      "-rw-r--r--  1 pengl7  NIH\\Domain Users   774B Aug 26 13:49 Jax.sex.sexcheck\r\n",
      "-rw-r--r--  1 pengl7  NIH\\Domain Users   172B Aug 26 13:49 Jax.sex.nosex\r\n",
      "-rw-r--r--  1 pengl7  NIH\\Domain Users   1.8M Aug 26 13:49 Jax.chrX.list\r\n",
      "-rw-r--r--  1 pengl7  NIH\\Domain Users   1.2K Aug 26 13:37 Jax.chrX.geno05maf05.log\r\n",
      "-rw-r--r--  1 pengl7  NIH\\Domain Users   480K Aug 26 13:37 Jax.chrX.geno05maf05.bed\r\n",
      "-rw-r--r--  1 pengl7  NIH\\Domain Users   6.2M Aug 26 13:37 Jax.chrX.geno05maf05.bim\r\n",
      "-rw-r--r--  1 pengl7  NIH\\Domain Users   244B Aug 26 13:37 Jax.chrX.geno05maf05.fam\r\n",
      "-rw-r--r--  1 pengl7  NIH\\Domain Users    70M Aug 26 12:02 Jax.list\r\n",
      "-rw-r--r--  1 pengl7  NIH\\Domain Users   1.2K Aug 26 11:59 Jax.geno05maf05.log\r\n",
      "-rw-r--r--  1 pengl7  NIH\\Domain Users    18M Aug 26 11:59 Jax.geno05maf05.bed\r\n",
      "-rw-r--r--  1 pengl7  NIH\\Domain Users   254M Aug 26 11:59 Jax.geno05maf05.bim\r\n",
      "-rw-r--r--  1 pengl7  NIH\\Domain Users   244B Aug 26 11:59 Jax.geno05maf05.fam\r\n",
      "-rw-r--r--  1 pengl7  NIH\\Domain Users   1.3K Aug 26 11:51 Jax.geno05maf05hwe000001.log\r\n",
      "-rw-r--r--  1 pengl7  NIH\\Domain Users    18M Aug 26 11:51 Jax.geno05maf05hwe000001.bed\r\n",
      "-rw-r--r--  1 pengl7  NIH\\Domain Users   254M Aug 26 11:51 Jax.geno05maf05hwe000001.bim\r\n",
      "-rw-r--r--  1 pengl7  NIH\\Domain Users   244B Aug 26 11:51 Jax.geno05maf05hwe000001.fam\r\n"
     ]
    }
   ],
   "source": [
    "%ls -lth {WRKDIR}/qc"
   ]
  },
  {
   "cell_type": "code",
   "execution_count": 101,
   "metadata": {},
   "outputs": [
    {
     "data": {
      "text/html": [
       "<div>\n",
       "<style scoped>\n",
       "    .dataframe tbody tr th:only-of-type {\n",
       "        vertical-align: middle;\n",
       "    }\n",
       "\n",
       "    .dataframe tbody tr th {\n",
       "        vertical-align: top;\n",
       "    }\n",
       "\n",
       "    .dataframe thead th {\n",
       "        text-align: right;\n",
       "    }\n",
       "</style>\n",
       "<table border=\"1\" class=\"dataframe\">\n",
       "  <thead>\n",
       "    <tr style=\"text-align: right;\">\n",
       "      <th></th>\n",
       "      <th>FID</th>\n",
       "      <th>IID</th>\n",
       "      <th>PEDSEX</th>\n",
       "      <th>SNPSEX</th>\n",
       "      <th>STATUS</th>\n",
       "      <th>F</th>\n",
       "    </tr>\n",
       "  </thead>\n",
       "  <tbody>\n",
       "  </tbody>\n",
       "</table>\n",
       "</div>"
      ],
      "text/plain": [
       "Empty DataFrame\n",
       "Columns: [FID, IID, PEDSEX, SNPSEX, STATUS, F]\n",
       "Index: []"
      ]
     },
     "execution_count": 101,
     "metadata": {},
     "output_type": "execute_result"
    }
   ],
   "source": [
    "#get the sex problems\n",
    "sexcheck = pd.read_csv(f'{WRKDIR}/qc/{COHORT}.sex.sexcheck',sep='\\s+')\n",
    "sexmismatch = sexcheck.loc[(sexcheck['PEDSEX'] != 0) & (sexcheck['STATUS'] == 'PROBLEM')]\n",
    "sexmismatch"
   ]
  },
  {
   "cell_type": "code",
   "execution_count": 106,
   "metadata": {},
   "outputs": [
    {
     "name": "stdout",
     "output_type": "stream",
     "text": [
      "FID1            ID1             FID2          ID2           N_SNP    HetHet  IBS0    Kinship\r\n",
      "KOLF2-ARID2-A2  KOLF2-ARID2-A2  KUCG3-C1      KUCG3-C1      9323608  0.1262  0.0526  0.0291\r\n",
      "KOLF2-ARID2-A2  KOLF2-ARID2-A2  LNGPI1-C1     LNGPI1-C1     9323608  0.1249  0.0521  0.0302\r\n",
      "KOLF2-ARID2-A2  KOLF2-ARID2-A2  NCRM1-C6      NCRM1-C6      9323608  0.1229  0.0527  0.0244\r\n",
      "KOLF2-ARID2-A2  KOLF2-ARID2-A2  NCRM5-C5      NCRM5-C5      9323608  0.1227  0.0529  0.0235\r\n",
      "KOLF2-ARID2-A2  KOLF2-ARID2-A2  NN0003932-C3  NN0003932-C3  9323608  0.1225  0.0534  0.0202\r\n",
      "KOLF2-ARID2-A2  KOLF2-ARID2-A2  NN0004297-C1  NN0004297-C1  9323608  0.1235  0.0528  0.0252\r\n",
      "KOLF2-ARID2-A2  KOLF2-ARID2-A2  PGP1-C2       PGP1-C2       9323608  0.1218  0.0534  0.0221\r\n",
      "KUCG3-C1        KUCG3-C1        LNGPI1-C1     LNGPI1-C1     9323608  0.1251  0.0517  0.0292\r\n",
      "KUCG3-C1        KUCG3-C1        NCRM1-C6      NCRM1-C6      9323608  0.1230  0.0526  0.0225\r\n",
      "KUCG3-C1        KUCG3-C1        NCRM5-C5      NCRM5-C5      9323608  0.1239  0.0537  0.0204\r\n",
      "KUCG3-C1        KUCG3-C1        NN0003932-C3  NN0003932-C3  9323608  0.1250  0.0536  0.0210\r\n",
      "KUCG3-C1        KUCG3-C1        NN0004297-C1  NN0004297-C1  9323608  0.1262  0.0530  0.0263\r\n",
      "KUCG3-C1        KUCG3-C1        PGP1-C2       PGP1-C2       9323608  0.1253  0.0526  0.0273\r\n",
      "LNGPI1-C1       LNGPI1-C1       NCRM1-C6      NCRM1-C6      9323608  0.1239  0.0517  0.0298\r\n",
      "LNGPI1-C1       LNGPI1-C1       NCRM5-C5      NCRM5-C5      9323608  0.1233  0.0530  0.0251\r\n",
      "LNGPI1-C1       LNGPI1-C1       NN0003932-C3  NN0003932-C3  9323608  0.1237  0.0535  0.0227\r\n",
      "LNGPI1-C1       LNGPI1-C1       NN0004297-C1  NN0004297-C1  9323608  0.1246  0.0529  0.0276\r\n",
      "LNGPI1-C1       LNGPI1-C1       PGP1-C2       PGP1-C2       9323608  0.1239  0.0525  0.0280\r\n",
      "NCRM1-C6        NCRM1-C6        NCRM5-C5      NCRM5-C5      9323608  0.1222  0.0529  0.0248\r\n",
      "NCRM1-C6        NCRM1-C6        NN0003932-C3  NN0003932-C3  9323608  0.1213  0.0534  0.0206\r\n",
      "NCRM1-C6        NCRM1-C6        NN0004297-C1  NN0004297-C1  9323608  0.1224  0.0528  0.0252\r\n",
      "NCRM1-C6        NCRM1-C6        PGP1-C2       PGP1-C2       9323608  0.1226  0.0520  0.0263\r\n",
      "NCRM5-C5        NCRM5-C5        NN0003932-C3  NN0003932-C3  9323608  0.1195  0.0538  0.0167\r\n",
      "NCRM5-C5        NCRM5-C5        NN0004297-C1  NN0004297-C1  9323608  0.1204  0.0531  0.0212\r\n",
      "NCRM5-C5        NCRM5-C5        PGP1-C2       PGP1-C2       9323608  0.1218  0.0542  0.0188\r\n",
      "NN0003932-C3    NN0003932-C3    NN0004297-C1  NN0004297-C1  9323608  0.3076  0.0016  0.4624\r\n",
      "NN0003932-C3    NN0003932-C3    PGP1-C2       PGP1-C2       9323608  0.1213  0.0539  0.0173\r\n",
      "NN0004297-C1    NN0004297-C1    PGP1-C2       PGP1-C2       9323608  0.1223  0.0533  0.0224\r\n"
     ]
    }
   ],
   "source": [
    "!cat {WRKDIR}/qc/{COHORT}.king.related.kin0 | column -t"
   ]
  },
  {
   "cell_type": "code",
   "execution_count": 105,
   "metadata": {},
   "outputs": [
    {
     "name": "stdout",
     "output_type": "stream",
     "text": [
      "      29 /Users/pengl7/Downloads/WGS/Jax/qc/Jax.king.related.kin0\r\n"
     ]
    }
   ],
   "source": [
    "!wc -l {WRKDIR}/qc/{COHORT}.king.related.kin0"
   ]
  },
  {
   "cell_type": "code",
   "execution_count": 102,
   "metadata": {},
   "outputs": [
    {
     "name": "stdout",
     "output_type": "stream",
     "text": [
      "number of related pairs 28\n"
     ]
    },
    {
     "ename": "KeyError",
     "evalue": "'InfType'",
     "output_type": "error",
     "traceback": [
      "\u001b[0;31m---------------------------------------------------------------------------\u001b[0m",
      "\u001b[0;31mKeyError\u001b[0m                                  Traceback (most recent call last)",
      "\u001b[0;32m~/opt/anaconda3/lib/python3.7/site-packages/pandas/core/indexes/base.py\u001b[0m in \u001b[0;36mget_loc\u001b[0;34m(self, key, method, tolerance)\u001b[0m\n\u001b[1;32m   2645\u001b[0m             \u001b[0;32mtry\u001b[0m\u001b[0;34m:\u001b[0m\u001b[0;34m\u001b[0m\u001b[0;34m\u001b[0m\u001b[0m\n\u001b[0;32m-> 2646\u001b[0;31m                 \u001b[0;32mreturn\u001b[0m \u001b[0mself\u001b[0m\u001b[0;34m.\u001b[0m\u001b[0m_engine\u001b[0m\u001b[0;34m.\u001b[0m\u001b[0mget_loc\u001b[0m\u001b[0;34m(\u001b[0m\u001b[0mkey\u001b[0m\u001b[0;34m)\u001b[0m\u001b[0;34m\u001b[0m\u001b[0;34m\u001b[0m\u001b[0m\n\u001b[0m\u001b[1;32m   2647\u001b[0m             \u001b[0;32mexcept\u001b[0m \u001b[0mKeyError\u001b[0m\u001b[0;34m:\u001b[0m\u001b[0;34m\u001b[0m\u001b[0;34m\u001b[0m\u001b[0m\n",
      "\u001b[0;32mpandas/_libs/index.pyx\u001b[0m in \u001b[0;36mpandas._libs.index.IndexEngine.get_loc\u001b[0;34m()\u001b[0m\n",
      "\u001b[0;32mpandas/_libs/index.pyx\u001b[0m in \u001b[0;36mpandas._libs.index.IndexEngine.get_loc\u001b[0;34m()\u001b[0m\n",
      "\u001b[0;32mpandas/_libs/hashtable_class_helper.pxi\u001b[0m in \u001b[0;36mpandas._libs.hashtable.PyObjectHashTable.get_item\u001b[0;34m()\u001b[0m\n",
      "\u001b[0;32mpandas/_libs/hashtable_class_helper.pxi\u001b[0m in \u001b[0;36mpandas._libs.hashtable.PyObjectHashTable.get_item\u001b[0;34m()\u001b[0m\n",
      "\u001b[0;31mKeyError\u001b[0m: 'InfType'",
      "\nDuring handling of the above exception, another exception occurred:\n",
      "\u001b[0;31mKeyError\u001b[0m                                  Traceback (most recent call last)",
      "\u001b[0;32m<ipython-input-102-996f7d0b5cbf>\u001b[0m in \u001b[0;36m<module>\u001b[0;34m\u001b[0m\n\u001b[1;32m      2\u001b[0m \u001b[0mrels_df\u001b[0m \u001b[0;34m=\u001b[0m \u001b[0mpd\u001b[0m\u001b[0;34m.\u001b[0m\u001b[0mread_csv\u001b[0m\u001b[0;34m(\u001b[0m\u001b[0;34mf'{WRKDIR}/qc/{COHORT}.king.related.kin0'\u001b[0m\u001b[0;34m,\u001b[0m\u001b[0msep\u001b[0m\u001b[0;34m=\u001b[0m\u001b[0;34m'\\s+'\u001b[0m\u001b[0;34m)\u001b[0m\u001b[0;34m\u001b[0m\u001b[0;34m\u001b[0m\u001b[0m\n\u001b[1;32m      3\u001b[0m \u001b[0mprint\u001b[0m\u001b[0;34m(\u001b[0m\u001b[0;34mf'number of related pairs {rels_df.shape[0]}'\u001b[0m\u001b[0;34m)\u001b[0m\u001b[0;34m\u001b[0m\u001b[0;34m\u001b[0m\u001b[0m\n\u001b[0;32m----> 4\u001b[0;31m \u001b[0mprint\u001b[0m\u001b[0;34m(\u001b[0m\u001b[0mrels_df\u001b[0m\u001b[0;34m[\u001b[0m\u001b[0;34m'InfType'\u001b[0m\u001b[0;34m]\u001b[0m\u001b[0;34m.\u001b[0m\u001b[0mvalue_counts\u001b[0m\u001b[0;34m(\u001b[0m\u001b[0;34m)\u001b[0m\u001b[0;34m)\u001b[0m\u001b[0;34m\u001b[0m\u001b[0;34m\u001b[0m\u001b[0m\n\u001b[0m",
      "\u001b[0;32m~/opt/anaconda3/lib/python3.7/site-packages/pandas/core/frame.py\u001b[0m in \u001b[0;36m__getitem__\u001b[0;34m(self, key)\u001b[0m\n\u001b[1;32m   2798\u001b[0m             \u001b[0;32mif\u001b[0m \u001b[0mself\u001b[0m\u001b[0;34m.\u001b[0m\u001b[0mcolumns\u001b[0m\u001b[0;34m.\u001b[0m\u001b[0mnlevels\u001b[0m \u001b[0;34m>\u001b[0m \u001b[0;36m1\u001b[0m\u001b[0;34m:\u001b[0m\u001b[0;34m\u001b[0m\u001b[0;34m\u001b[0m\u001b[0m\n\u001b[1;32m   2799\u001b[0m                 \u001b[0;32mreturn\u001b[0m \u001b[0mself\u001b[0m\u001b[0;34m.\u001b[0m\u001b[0m_getitem_multilevel\u001b[0m\u001b[0;34m(\u001b[0m\u001b[0mkey\u001b[0m\u001b[0;34m)\u001b[0m\u001b[0;34m\u001b[0m\u001b[0;34m\u001b[0m\u001b[0m\n\u001b[0;32m-> 2800\u001b[0;31m             \u001b[0mindexer\u001b[0m \u001b[0;34m=\u001b[0m \u001b[0mself\u001b[0m\u001b[0;34m.\u001b[0m\u001b[0mcolumns\u001b[0m\u001b[0;34m.\u001b[0m\u001b[0mget_loc\u001b[0m\u001b[0;34m(\u001b[0m\u001b[0mkey\u001b[0m\u001b[0;34m)\u001b[0m\u001b[0;34m\u001b[0m\u001b[0;34m\u001b[0m\u001b[0m\n\u001b[0m\u001b[1;32m   2801\u001b[0m             \u001b[0;32mif\u001b[0m \u001b[0mis_integer\u001b[0m\u001b[0;34m(\u001b[0m\u001b[0mindexer\u001b[0m\u001b[0;34m)\u001b[0m\u001b[0;34m:\u001b[0m\u001b[0;34m\u001b[0m\u001b[0;34m\u001b[0m\u001b[0m\n\u001b[1;32m   2802\u001b[0m                 \u001b[0mindexer\u001b[0m \u001b[0;34m=\u001b[0m \u001b[0;34m[\u001b[0m\u001b[0mindexer\u001b[0m\u001b[0;34m]\u001b[0m\u001b[0;34m\u001b[0m\u001b[0;34m\u001b[0m\u001b[0m\n",
      "\u001b[0;32m~/opt/anaconda3/lib/python3.7/site-packages/pandas/core/indexes/base.py\u001b[0m in \u001b[0;36mget_loc\u001b[0;34m(self, key, method, tolerance)\u001b[0m\n\u001b[1;32m   2646\u001b[0m                 \u001b[0;32mreturn\u001b[0m \u001b[0mself\u001b[0m\u001b[0;34m.\u001b[0m\u001b[0m_engine\u001b[0m\u001b[0;34m.\u001b[0m\u001b[0mget_loc\u001b[0m\u001b[0;34m(\u001b[0m\u001b[0mkey\u001b[0m\u001b[0;34m)\u001b[0m\u001b[0;34m\u001b[0m\u001b[0;34m\u001b[0m\u001b[0m\n\u001b[1;32m   2647\u001b[0m             \u001b[0;32mexcept\u001b[0m \u001b[0mKeyError\u001b[0m\u001b[0;34m:\u001b[0m\u001b[0;34m\u001b[0m\u001b[0;34m\u001b[0m\u001b[0m\n\u001b[0;32m-> 2648\u001b[0;31m                 \u001b[0;32mreturn\u001b[0m \u001b[0mself\u001b[0m\u001b[0;34m.\u001b[0m\u001b[0m_engine\u001b[0m\u001b[0;34m.\u001b[0m\u001b[0mget_loc\u001b[0m\u001b[0;34m(\u001b[0m\u001b[0mself\u001b[0m\u001b[0;34m.\u001b[0m\u001b[0m_maybe_cast_indexer\u001b[0m\u001b[0;34m(\u001b[0m\u001b[0mkey\u001b[0m\u001b[0;34m)\u001b[0m\u001b[0;34m)\u001b[0m\u001b[0;34m\u001b[0m\u001b[0;34m\u001b[0m\u001b[0m\n\u001b[0m\u001b[1;32m   2649\u001b[0m         \u001b[0mindexer\u001b[0m \u001b[0;34m=\u001b[0m \u001b[0mself\u001b[0m\u001b[0;34m.\u001b[0m\u001b[0mget_indexer\u001b[0m\u001b[0;34m(\u001b[0m\u001b[0;34m[\u001b[0m\u001b[0mkey\u001b[0m\u001b[0;34m]\u001b[0m\u001b[0;34m,\u001b[0m \u001b[0mmethod\u001b[0m\u001b[0;34m=\u001b[0m\u001b[0mmethod\u001b[0m\u001b[0;34m,\u001b[0m \u001b[0mtolerance\u001b[0m\u001b[0;34m=\u001b[0m\u001b[0mtolerance\u001b[0m\u001b[0;34m)\u001b[0m\u001b[0;34m\u001b[0m\u001b[0;34m\u001b[0m\u001b[0m\n\u001b[1;32m   2650\u001b[0m         \u001b[0;32mif\u001b[0m \u001b[0mindexer\u001b[0m\u001b[0;34m.\u001b[0m\u001b[0mndim\u001b[0m \u001b[0;34m>\u001b[0m \u001b[0;36m1\u001b[0m \u001b[0;32mor\u001b[0m \u001b[0mindexer\u001b[0m\u001b[0;34m.\u001b[0m\u001b[0msize\u001b[0m \u001b[0;34m>\u001b[0m \u001b[0;36m1\u001b[0m\u001b[0;34m:\u001b[0m\u001b[0;34m\u001b[0m\u001b[0;34m\u001b[0m\u001b[0m\n",
      "\u001b[0;32mpandas/_libs/index.pyx\u001b[0m in \u001b[0;36mpandas._libs.index.IndexEngine.get_loc\u001b[0;34m()\u001b[0m\n",
      "\u001b[0;32mpandas/_libs/index.pyx\u001b[0m in \u001b[0;36mpandas._libs.index.IndexEngine.get_loc\u001b[0;34m()\u001b[0m\n",
      "\u001b[0;32mpandas/_libs/hashtable_class_helper.pxi\u001b[0m in \u001b[0;36mpandas._libs.hashtable.PyObjectHashTable.get_item\u001b[0;34m()\u001b[0m\n",
      "\u001b[0;32mpandas/_libs/hashtable_class_helper.pxi\u001b[0m in \u001b[0;36mpandas._libs.hashtable.PyObjectHashTable.get_item\u001b[0;34m()\u001b[0m\n",
      "\u001b[0;31mKeyError\u001b[0m: 'InfType'"
     ]
    }
   ],
   "source": [
    "#get the duplicates\n",
    "rels_df = pd.read_csv(f'{WRKDIR}/qc/{COHORT}.king.related.kin0',sep='\\s+')\n",
    "print(f'number of related pairs {rels_df.shape[0]}')\n",
    "print(rels_df['InfType'].value_counts())"
   ]
  },
  {
   "cell_type": "code",
   "execution_count": 98,
   "metadata": {},
   "outputs": [
    {
     "name": "stdout",
     "output_type": "stream",
     "text": [
      "number of related pairs 28\n"
     ]
    },
    {
     "ename": "KeyError",
     "evalue": "'InfType'",
     "output_type": "error",
     "traceback": [
      "\u001b[0;31m---------------------------------------------------------------------------\u001b[0m",
      "\u001b[0;31mKeyError\u001b[0m                                  Traceback (most recent call last)",
      "\u001b[0;32m~/opt/anaconda3/lib/python3.7/site-packages/pandas/core/indexes/base.py\u001b[0m in \u001b[0;36mget_loc\u001b[0;34m(self, key, method, tolerance)\u001b[0m\n\u001b[1;32m   2645\u001b[0m             \u001b[0;32mtry\u001b[0m\u001b[0;34m:\u001b[0m\u001b[0;34m\u001b[0m\u001b[0;34m\u001b[0m\u001b[0m\n\u001b[0;32m-> 2646\u001b[0;31m                 \u001b[0;32mreturn\u001b[0m \u001b[0mself\u001b[0m\u001b[0;34m.\u001b[0m\u001b[0m_engine\u001b[0m\u001b[0;34m.\u001b[0m\u001b[0mget_loc\u001b[0m\u001b[0;34m(\u001b[0m\u001b[0mkey\u001b[0m\u001b[0;34m)\u001b[0m\u001b[0;34m\u001b[0m\u001b[0;34m\u001b[0m\u001b[0m\n\u001b[0m\u001b[1;32m   2647\u001b[0m             \u001b[0;32mexcept\u001b[0m \u001b[0mKeyError\u001b[0m\u001b[0;34m:\u001b[0m\u001b[0;34m\u001b[0m\u001b[0;34m\u001b[0m\u001b[0m\n",
      "\u001b[0;32mpandas/_libs/index.pyx\u001b[0m in \u001b[0;36mpandas._libs.index.IndexEngine.get_loc\u001b[0;34m()\u001b[0m\n",
      "\u001b[0;32mpandas/_libs/index.pyx\u001b[0m in \u001b[0;36mpandas._libs.index.IndexEngine.get_loc\u001b[0;34m()\u001b[0m\n",
      "\u001b[0;32mpandas/_libs/hashtable_class_helper.pxi\u001b[0m in \u001b[0;36mpandas._libs.hashtable.PyObjectHashTable.get_item\u001b[0;34m()\u001b[0m\n",
      "\u001b[0;32mpandas/_libs/hashtable_class_helper.pxi\u001b[0m in \u001b[0;36mpandas._libs.hashtable.PyObjectHashTable.get_item\u001b[0;34m()\u001b[0m\n",
      "\u001b[0;31mKeyError\u001b[0m: 'InfType'",
      "\nDuring handling of the above exception, another exception occurred:\n",
      "\u001b[0;31mKeyError\u001b[0m                                  Traceback (most recent call last)",
      "\u001b[0;32m<ipython-input-98-ddf8378b4aec>\u001b[0m in \u001b[0;36m<module>\u001b[0;34m\u001b[0m\n\u001b[1;32m      6\u001b[0m \u001b[0mrels_df\u001b[0m \u001b[0;34m=\u001b[0m \u001b[0mpd\u001b[0m\u001b[0;34m.\u001b[0m\u001b[0mread_csv\u001b[0m\u001b[0;34m(\u001b[0m\u001b[0;34mf'{WRKDIR}/qc/{COHORT}.king.related.kin0'\u001b[0m\u001b[0;34m,\u001b[0m\u001b[0msep\u001b[0m\u001b[0;34m=\u001b[0m\u001b[0;34m'\\s+'\u001b[0m\u001b[0;34m)\u001b[0m\u001b[0;34m\u001b[0m\u001b[0;34m\u001b[0m\u001b[0m\n\u001b[1;32m      7\u001b[0m \u001b[0mprint\u001b[0m\u001b[0;34m(\u001b[0m\u001b[0;34mf'number of related pairs {rels_df.shape[0]}'\u001b[0m\u001b[0;34m)\u001b[0m\u001b[0;34m\u001b[0m\u001b[0;34m\u001b[0m\u001b[0m\n\u001b[0;32m----> 8\u001b[0;31m \u001b[0mprint\u001b[0m\u001b[0;34m(\u001b[0m\u001b[0mrels_df\u001b[0m\u001b[0;34m[\u001b[0m\u001b[0;34m'InfType'\u001b[0m\u001b[0;34m]\u001b[0m\u001b[0;34m.\u001b[0m\u001b[0mvalue_counts\u001b[0m\u001b[0;34m(\u001b[0m\u001b[0;34m)\u001b[0m\u001b[0;34m)\u001b[0m\u001b[0;34m\u001b[0m\u001b[0;34m\u001b[0m\u001b[0m\n\u001b[0m\u001b[1;32m      9\u001b[0m \u001b[0;34m\u001b[0m\u001b[0m\n\u001b[1;32m     10\u001b[0m \u001b[0;31m#subset just the dups\u001b[0m\u001b[0;34m\u001b[0m\u001b[0;34m\u001b[0m\u001b[0;34m\u001b[0m\u001b[0m\n",
      "\u001b[0;32m~/opt/anaconda3/lib/python3.7/site-packages/pandas/core/frame.py\u001b[0m in \u001b[0;36m__getitem__\u001b[0;34m(self, key)\u001b[0m\n\u001b[1;32m   2798\u001b[0m             \u001b[0;32mif\u001b[0m \u001b[0mself\u001b[0m\u001b[0;34m.\u001b[0m\u001b[0mcolumns\u001b[0m\u001b[0;34m.\u001b[0m\u001b[0mnlevels\u001b[0m \u001b[0;34m>\u001b[0m \u001b[0;36m1\u001b[0m\u001b[0;34m:\u001b[0m\u001b[0;34m\u001b[0m\u001b[0;34m\u001b[0m\u001b[0m\n\u001b[1;32m   2799\u001b[0m                 \u001b[0;32mreturn\u001b[0m \u001b[0mself\u001b[0m\u001b[0;34m.\u001b[0m\u001b[0m_getitem_multilevel\u001b[0m\u001b[0;34m(\u001b[0m\u001b[0mkey\u001b[0m\u001b[0;34m)\u001b[0m\u001b[0;34m\u001b[0m\u001b[0;34m\u001b[0m\u001b[0m\n\u001b[0;32m-> 2800\u001b[0;31m             \u001b[0mindexer\u001b[0m \u001b[0;34m=\u001b[0m \u001b[0mself\u001b[0m\u001b[0;34m.\u001b[0m\u001b[0mcolumns\u001b[0m\u001b[0;34m.\u001b[0m\u001b[0mget_loc\u001b[0m\u001b[0;34m(\u001b[0m\u001b[0mkey\u001b[0m\u001b[0;34m)\u001b[0m\u001b[0;34m\u001b[0m\u001b[0;34m\u001b[0m\u001b[0m\n\u001b[0m\u001b[1;32m   2801\u001b[0m             \u001b[0;32mif\u001b[0m \u001b[0mis_integer\u001b[0m\u001b[0;34m(\u001b[0m\u001b[0mindexer\u001b[0m\u001b[0;34m)\u001b[0m\u001b[0;34m:\u001b[0m\u001b[0;34m\u001b[0m\u001b[0;34m\u001b[0m\u001b[0m\n\u001b[1;32m   2802\u001b[0m                 \u001b[0mindexer\u001b[0m \u001b[0;34m=\u001b[0m \u001b[0;34m[\u001b[0m\u001b[0mindexer\u001b[0m\u001b[0;34m]\u001b[0m\u001b[0;34m\u001b[0m\u001b[0;34m\u001b[0m\u001b[0m\n",
      "\u001b[0;32m~/opt/anaconda3/lib/python3.7/site-packages/pandas/core/indexes/base.py\u001b[0m in \u001b[0;36mget_loc\u001b[0;34m(self, key, method, tolerance)\u001b[0m\n\u001b[1;32m   2646\u001b[0m                 \u001b[0;32mreturn\u001b[0m \u001b[0mself\u001b[0m\u001b[0;34m.\u001b[0m\u001b[0m_engine\u001b[0m\u001b[0;34m.\u001b[0m\u001b[0mget_loc\u001b[0m\u001b[0;34m(\u001b[0m\u001b[0mkey\u001b[0m\u001b[0;34m)\u001b[0m\u001b[0;34m\u001b[0m\u001b[0;34m\u001b[0m\u001b[0m\n\u001b[1;32m   2647\u001b[0m             \u001b[0;32mexcept\u001b[0m \u001b[0mKeyError\u001b[0m\u001b[0;34m:\u001b[0m\u001b[0;34m\u001b[0m\u001b[0;34m\u001b[0m\u001b[0m\n\u001b[0;32m-> 2648\u001b[0;31m                 \u001b[0;32mreturn\u001b[0m \u001b[0mself\u001b[0m\u001b[0;34m.\u001b[0m\u001b[0m_engine\u001b[0m\u001b[0;34m.\u001b[0m\u001b[0mget_loc\u001b[0m\u001b[0;34m(\u001b[0m\u001b[0mself\u001b[0m\u001b[0;34m.\u001b[0m\u001b[0m_maybe_cast_indexer\u001b[0m\u001b[0;34m(\u001b[0m\u001b[0mkey\u001b[0m\u001b[0;34m)\u001b[0m\u001b[0;34m)\u001b[0m\u001b[0;34m\u001b[0m\u001b[0;34m\u001b[0m\u001b[0m\n\u001b[0m\u001b[1;32m   2649\u001b[0m         \u001b[0mindexer\u001b[0m \u001b[0;34m=\u001b[0m \u001b[0mself\u001b[0m\u001b[0;34m.\u001b[0m\u001b[0mget_indexer\u001b[0m\u001b[0;34m(\u001b[0m\u001b[0;34m[\u001b[0m\u001b[0mkey\u001b[0m\u001b[0;34m]\u001b[0m\u001b[0;34m,\u001b[0m \u001b[0mmethod\u001b[0m\u001b[0;34m=\u001b[0m\u001b[0mmethod\u001b[0m\u001b[0;34m,\u001b[0m \u001b[0mtolerance\u001b[0m\u001b[0;34m=\u001b[0m\u001b[0mtolerance\u001b[0m\u001b[0;34m)\u001b[0m\u001b[0;34m\u001b[0m\u001b[0;34m\u001b[0m\u001b[0m\n\u001b[1;32m   2650\u001b[0m         \u001b[0;32mif\u001b[0m \u001b[0mindexer\u001b[0m\u001b[0;34m.\u001b[0m\u001b[0mndim\u001b[0m \u001b[0;34m>\u001b[0m \u001b[0;36m1\u001b[0m \u001b[0;32mor\u001b[0m \u001b[0mindexer\u001b[0m\u001b[0;34m.\u001b[0m\u001b[0msize\u001b[0m \u001b[0;34m>\u001b[0m \u001b[0;36m1\u001b[0m\u001b[0;34m:\u001b[0m\u001b[0;34m\u001b[0m\u001b[0;34m\u001b[0m\u001b[0m\n",
      "\u001b[0;32mpandas/_libs/index.pyx\u001b[0m in \u001b[0;36mpandas._libs.index.IndexEngine.get_loc\u001b[0;34m()\u001b[0m\n",
      "\u001b[0;32mpandas/_libs/index.pyx\u001b[0m in \u001b[0;36mpandas._libs.index.IndexEngine.get_loc\u001b[0;34m()\u001b[0m\n",
      "\u001b[0;32mpandas/_libs/hashtable_class_helper.pxi\u001b[0m in \u001b[0;36mpandas._libs.hashtable.PyObjectHashTable.get_item\u001b[0;34m()\u001b[0m\n",
      "\u001b[0;32mpandas/_libs/hashtable_class_helper.pxi\u001b[0m in \u001b[0;36mpandas._libs.hashtable.PyObjectHashTable.get_item\u001b[0;34m()\u001b[0m\n",
      "\u001b[0;31mKeyError\u001b[0m: 'InfType'"
     ]
    }
   ],
   "source": [
    "#get the sex problems\n",
    "sexcheck = pd.read_csv(f'{WRKDIR}/qc/{COHORT}.sex.sexcheck',sep='\\s+')\n",
    "sexmismatch = sexcheck.loc[(sexcheck['PEDSEX'] != 0) & (sexcheck['STATUS'] == 'PROBLEM')]\n",
    "\n",
    "#get the duplicates\n",
    "rels_df = pd.read_csv(f'{WRKDIR}/qc/{COHORT}.king.related.kin0',sep='\\s+')\n",
    "print(f'number of related pairs {rels_df.shape[0]}')\n",
    "print(rels_df['InfType'].value_counts())\n",
    "\n",
    "#subset just the dups\n",
    "dups_df = rels_df.loc[rels_df['InfType'] == 'DUP/MZ']\n",
    "\n",
    "print(f'\\njust the DUP/MZ {dups_df.shape[0]}')\n",
    "print(dups_df['InfType'].value_counts())\n",
    "\n",
    "print('\\nnumber of samples in that failed sexcheck and also a duplicate')\n",
    "print(len(set(sexmismatch['IID']) & (set(rels_df['ID1']) | set(rels_df['ID2']))))\n"
   ]
  },
  {
   "cell_type": "code",
   "execution_count": null,
   "metadata": {},
   "outputs": [],
   "source": []
  },
  {
   "cell_type": "code",
   "execution_count": 5,
   "metadata": {
    "scrolled": true
   },
   "outputs": [
    {
     "name": "stdout",
     "output_type": "stream",
     "text": [
      "       8\n",
      "gs://test-7cee72c0e768/Jax/ubams\n",
      "gs://test-7cee72c0e768/Jax/ubams/KOLF2-ARID2-A2/\n",
      "gs://test-7cee72c0e768/Jax/ubams/KUCG3-C1/\n",
      "gs://test-7cee72c0e768/Jax/ubams/LNGPI1-C1/\n",
      "gs://test-7cee72c0e768/Jax/ubams/NCRM1-C6/\n",
      "gs://test-7cee72c0e768/Jax/ubams/NCRM5-C5/\n",
      "gs://test-7cee72c0e768/Jax/ubams/NN0003932-C3/\n",
      "gs://test-7cee72c0e768/Jax/ubams/NN0004297-C1/\n",
      "gs://test-7cee72c0e768/Jax/ubams/PGP1-C2/\n"
     ]
    }
   ],
   "source": [
    "%%bash -s \"$COHORT_BUCKET\"\n",
    "\n",
    "COHORT_BUCKET=${1}\n",
    "\n",
    "gsutil ls ${COHORT_BUCKET}/ubams | wc -l\n",
    "echo ${COHORT_BUCKET}/ubams\n",
    "gsutil ls ${COHORT_BUCKET}/ubams\n"
   ]
  },
  {
   "cell_type": "code",
   "execution_count": 6,
   "metadata": {},
   "outputs": [
    {
     "name": "stdout",
     "output_type": "stream",
     "text": [
      "gs://test-7cee72c0e768/Jax/ubams/NCRM1-C6/NCRM1-C6_GT20-02407_L003_200221.unmapped.bam\r\n"
     ]
    }
   ],
   "source": [
    "!gsutil ls gs://test-7cee72c0e768/Jax/ubams/NCRM1-C6/"
   ]
  }
 ],
 "metadata": {
  "kernelspec": {
   "display_name": "Python 3",
   "language": "python",
   "name": "python3"
  },
  "language_info": {
   "codemirror_mode": {
    "name": "ipython",
    "version": 3
   },
   "file_extension": ".py",
   "mimetype": "text/x-python",
   "name": "python",
   "nbconvert_exporter": "python",
   "pygments_lexer": "ipython3",
   "version": "3.7.7"
  }
 },
 "nbformat": 4,
 "nbformat_minor": 4
}
