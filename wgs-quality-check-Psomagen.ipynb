{
 "cells": [
  {
   "cell_type": "markdown",
   "metadata": {},
   "source": [
    "## Posmagen illumnia data  25Aug, 2020\n",
    "\n",
    "Use the same method to check the quality of Psomagen and Jax data"
   ]
  },
  {
   "cell_type": "markdown",
   "metadata": {},
   "source": [
    "## Notes\n",
    "1. -mq  -q means quiet, no verbose at all\n",
    "2. gsutil doesn't work on python3.8, which is installed in my plot env\n",
    "3. global varibles and libraries\n",
    "4. Remeber to update the WRKDIR for previously used notebooks\n",
    "5. Remember do not add comments before %%bash\n",
    "6. Remember to replace 'usuhsID' with 'Sample_Name' in sample_ids\n",
    "7. make sure the json or tool dir are there for the next steps"
   ]
  },
  {
   "cell_type": "code",
   "execution_count": 9,
   "metadata": {},
   "outputs": [],
   "source": [
    "!mkdir /Users/pengl7/Downloads/WGS/UNHS"
   ]
  },
  {
   "cell_type": "code",
   "execution_count": 11,
   "metadata": {},
   "outputs": [],
   "source": [
    "WRKDIR = '/Users/pengl7/Downloads/WGS/UNHS'\n",
    "COHORT = 'UNHS'"
   ]
  },
  {
   "cell_type": "code",
   "execution_count": 12,
   "metadata": {},
   "outputs": [],
   "source": [
    "import pandas as pd\n",
    "import numpy as np\n",
    "import time\n",
    "import json\n",
    "import os\n",
    "import seaborn as sns\n",
    "import matplotlib.pyplot as plt"
   ]
  },
  {
   "cell_type": "markdown",
   "metadata": {},
   "source": [
    "#### Check the vcf files inside the destination folder"
   ]
  },
  {
   "cell_type": "code",
   "execution_count": 8,
   "metadata": {},
   "outputs": [
    {
     "name": "stdout",
     "output_type": "stream",
     "text": [
      "   5.6 MiB  2020-07-27T18:38:33Z  gs://singlecellindi/WGS/2001UNHS-0021/hg38/genotypes/UNHS.chrX.gtonly.vcf.gz\r\n",
      " 85.35 KiB  2020-07-27T18:38:33Z  gs://singlecellindi/WGS/2001UNHS-0021/hg38/genotypes/UNHS.chrX.gtonly.vcf.gz.tbi\r\n",
      " 29.15 MiB  2020-07-27T18:38:33Z  gs://singlecellindi/WGS/2001UNHS-0021/hg38/genotypes/UNHS.chrX.vcf.gz\r\n",
      "  93.7 KiB  2020-07-27T18:38:33Z  gs://singlecellindi/WGS/2001UNHS-0021/hg38/genotypes/UNHS.chrX.vcf.gz.tbi\r\n",
      "174.85 MiB  2020-07-27T18:38:33Z  gs://singlecellindi/WGS/2001UNHS-0021/hg38/genotypes/UNHS.gtonly.vcf.gz\r\n",
      "  1.61 MiB  2020-07-27T18:38:33Z  gs://singlecellindi/WGS/2001UNHS-0021/hg38/genotypes/UNHS.gtonly.vcf.gz.tbi\r\n",
      "  1.18 GiB  2020-07-27T18:38:33Z  gs://singlecellindi/WGS/2001UNHS-0021/hg38/genotypes/UNHS.vcf.gz\r\n",
      "  1.91 MiB  2020-07-27T18:38:33Z  gs://singlecellindi/WGS/2001UNHS-0021/hg38/genotypes/UNHS.vcf.gz.tbi\r\n",
      "TOTAL: 8 objects, 1491329990 bytes (1.39 GiB)\r\n"
     ]
    }
   ],
   "source": [
    "!gsutil ls -lh gs://singlecellindi/WGS/2001UNHS-0021/hg38/genotypes/UNHS.chrX.vcf.gz* "
   ]
  },
  {
   "cell_type": "markdown",
   "metadata": {},
   "source": [
    "## Run QC on samples"
   ]
  },
  {
   "cell_type": "code",
   "execution_count": 16,
   "metadata": {},
   "outputs": [
    {
     "name": "stdout",
     "output_type": "stream",
     "text": [
      "mkdir: /Users/pengl7/Downloads/WGS/UNHS/genotypes: File exists\n",
      "Copying gs://singlecellindi/WGS/2001UNHS-0021/hg38/genotypes/UNHS.vcf.gz...\n",
      "==> NOTE: You are downloading one or more large file(s), which would            \n",
      "run significantly faster if you enabled sliced object downloads. This\n",
      "feature is enabled by default but requires that compiled crcmod be\n",
      "installed (see \"gsutil help crcmod\").\n",
      "\n",
      "Copying gs://singlecellindi/WGS/2001UNHS-0021/hg38/genotypes/UNHS.vcf.gz.tbi...\n",
      "| [2/2 files][  1.2 GiB/  1.2 GiB] 100% Done   6.1 MiB/s ETA 00:00:00           \n",
      "Operation completed over 2 objects/1.2 GiB.                                      \n"
     ]
    }
   ],
   "source": [
    "!mkdir {WRKDIR}/genotypes\n",
    "!gsutil -m cp gs://singlecellindi/WGS/2001UNHS-0021/hg38/genotypes/UNHS.vcf.gz* {WRKDIR}/genotypes/"
   ]
  },
  {
   "cell_type": "markdown",
   "metadata": {},
   "source": [
    "## Preprocessing for the purpose of QC \n",
    "According to Raph's suggestion, using plink instead of VSRQ.\n",
    "1. filter\n",
    "2. Extract chrX\n",
    "Two versions of plink were used in Raph and Anni's notebook for different purpose. For example, multiallelics option is available in plink2, however, flags of --check-sex don't work plink2\n",
    "1. Use plink2: Use the option of --make-pgen multiallelics=-, otherwise error occurs during plink trim from the bed file\n",
    "2. Use plink1.9: check-sex and check het rate"
   ]
  },
  {
   "cell_type": "code",
   "execution_count": 18,
   "metadata": {},
   "outputs": [],
   "source": [
    "#convert from vcf to plink2\n",
    "\n",
    "input_vcf = f'{WRKDIR}/genotypes/{COHORT}.vcf.gz'\n",
    "out_file_set = f'{WRKDIR}/genotypes/{COHORT}'\n",
    "\n",
    "!plink2 --vcf {input_vcf} --double-id \\\n",
    "--silent --allow-extra-chr --make-pgen multiallelics=- --out {out_file_set}"
   ]
  },
  {
   "cell_type": "code",
   "execution_count": 19,
   "metadata": {},
   "outputs": [
    {
     "name": "stdout",
     "output_type": "stream",
     "text": [
      "-rw-r--r--  1 pengl7  NIH\\Domain Users   1.3K Aug 26 18:17 /Users/pengl7/Downloads/WGS/UNHS/genotypes/UNHS.log\n",
      "-rw-r--r--  1 pengl7  NIH\\Domain Users    45M Aug 26 18:17 /Users/pengl7/Downloads/WGS/UNHS/genotypes/UNHS.pgen\n",
      "-rw-r--r--  1 pengl7  NIH\\Domain Users   2.6G Aug 26 18:17 /Users/pengl7/Downloads/WGS/UNHS/genotypes/UNHS.pvar\n",
      "-rw-r--r--  1 pengl7  NIH\\Domain Users   260B Aug 26 18:17 /Users/pengl7/Downloads/WGS/UNHS/genotypes/UNHS.psam\n",
      "-rw-r--r--  1 pengl7  NIH\\Domain Users   1.2G Aug 26 16:12 /Users/pengl7/Downloads/WGS/UNHS/genotypes/UNHS.vcf.gz\n",
      "-rw-r--r--  1 pengl7  NIH\\Domain Users   1.9M Aug 26 16:09 /Users/pengl7/Downloads/WGS/UNHS/genotypes/UNHS.vcf.gz.tbi\n",
      "-rw-r--r--  1 pengl7  NIH\\Domain Users    29M Aug 26 16:08 /Users/pengl7/Downloads/WGS/UNHS/genotypes/UNHS.chrX.vcf.gz\n",
      "-rw-r--r--  1 pengl7  NIH\\Domain Users    94K Aug 26 16:08 /Users/pengl7/Downloads/WGS/UNHS/genotypes/UNHS.chrX.vcf.gz.tbi\n",
      "/Users/pengl7/Downloads/WGS/UNHS/genotypes/UNHS-temporary.psam.\n",
      "9347639 variants loaded from\n",
      "/Users/pengl7/Downloads/WGS/UNHS/genotypes/UNHS-temporary.pvar.\n",
      "Note: No phenotype data present.\n",
      "Writing /Users/pengl7/Downloads/WGS/UNHS/genotypes/UNHS.psam ... done.\n",
      "Writing /Users/pengl7/Downloads/WGS/UNHS/genotypes/UNHS.pvar ... done.\n",
      "Writing /Users/pengl7/Downloads/WGS/UNHS/genotypes/UNHS.pgen ... done.\n",
      "Multiallelic split: 10435116 variants written.\n",
      "\n",
      "End time: Wed Aug 26 18:17:37 2020\n"
     ]
    }
   ],
   "source": [
    "#check creation and logging\n",
    "!ls -lth {WRKDIR}/genotypes/{COHORT}.*\n",
    "!tail {WRKDIR}/genotypes/{COHORT}.*log"
   ]
  },
  {
   "cell_type": "markdown",
   "metadata": {},
   "source": [
    "## Trim variants to QC set\n",
    "\n",
    "what do geno, maf, and hwe mean?\n",
    "\n",
    "- --geno Missing genotype rates: filters out all variants with missing call rates exceeding the provided value (default 0.1) to be removed, while --mind does the same for samples.\n",
    "- --maf filters out all variants with allele frequency below the provided threshold (default 0.01)\n",
    "- --hwe filters out all variants which have Hardy-Weinberg equilibrium exact test p-value below the provided threshold."
   ]
  },
  {
   "cell_type": "code",
   "execution_count": 21,
   "metadata": {},
   "outputs": [
    {
     "name": "stdout",
     "output_type": "stream",
     "text": [
      "PLINK v2.00a2.3 64-bit (24 Jan 2020)           www.cog-genomics.org/plink/2.0/\n",
      "(C) 2005-2020 Shaun Purcell, Christopher Chang   GNU General Public License v3\n",
      "Logging to /Users/pengl7/Downloads/WGS/UNHS/qc/UNHS.geno05maf05hwe000001.log.\n",
      "Options in effect:\n",
      "  --geno 0.05\n",
      "  --hwe 0.000001\n",
      "  --maf 0.05\n",
      "  --make-bed\n",
      "  --out /Users/pengl7/Downloads/WGS/UNHS/qc/UNHS.geno05maf05hwe000001\n",
      "  --pfile /Users/pengl7/Downloads/WGS/UNHS/genotypes/UNHS\n",
      "\n",
      "Start time: Wed Aug 26 18:18:39 2020\n",
      "16384 MiB RAM detected; reserving 8192 MiB for main workspace.\n",
      "Using up to 12 threads (change this with --threads).\n",
      "9 samples (0 females, 0 males, 9 ambiguous; 9 founders) loaded from\n",
      "/Users/pengl7/Downloads/WGS/UNHS/genotypes/UNHS.psam.\n",
      "10435116 variants loaded from\n",
      "/Users/pengl7/Downloads/WGS/UNHS/genotypes/UNHS.pvar.\n",
      "Note: No phenotype data present.\n",
      "Calculating allele frequencies... 101112131415161718192021222324252627282930313233343536373839404142434445464748495051525354555657585960616263646566676869707172737475767778798081828384858687888990919293949596979899done.\n",
      "--geno: 212620 variants removed due to missing genotype data.\n",
      "--hwe: 0 variants removed due to Hardy-Weinberg exact test (founders only).\n",
      "402022 variants removed due to allele frequency threshold(s)\n",
      "(--maf/--max-maf/--mac/--max-mac).\n",
      "9820474 variants remaining after main filters.\n",
      "Writing /Users/pengl7/Downloads/WGS/UNHS/qc/UNHS.geno05maf05hwe000001.fam ...\n",
      "done.\n",
      "Writing /Users/pengl7/Downloads/WGS/UNHS/qc/UNHS.geno05maf05hwe000001.bim ...\n",
      "done.\n",
      "Writing /Users/pengl7/Downloads/WGS/UNHS/qc/UNHS.geno05maf05hwe000001.bed ...\n",
      "101112131415161718192021222324252627282930313233343536373839404142434445464748495051525354555657585960616263646566676869707172737475767778798081828384858687888990919293949596979899done.\n",
      "End time: Wed Aug 26 18:18:43 2020\n"
     ]
    }
   ],
   "source": [
    "#trim variant to QC set\n",
    "input_file_set = f'{WRKDIR}/genotypes/{COHORT}'\n",
    "out_file_set = f'{WRKDIR}/qc/{COHORT}.geno05maf05hwe000001'\n",
    "\n",
    "!mkdir -p {WRKDIR}/qc\n",
    "!plink2 --pfile {input_file_set} --make-bed --geno 0.05 --maf 0.05 --hwe 0.000001 --out {out_file_set}"
   ]
  },
  {
   "cell_type": "markdown",
   "metadata": {},
   "source": [
    "### Extract chrX for checksex at the step of --make-bed using opton of --chr X"
   ]
  },
  {
   "cell_type": "code",
   "execution_count": 22,
   "metadata": {},
   "outputs": [
    {
     "name": "stdout",
     "output_type": "stream",
     "text": [
      "PLINK v2.00a2.3 64-bit (24 Jan 2020)           www.cog-genomics.org/plink/2.0/\n",
      "(C) 2005-2020 Shaun Purcell, Christopher Chang   GNU General Public License v3\n",
      "Logging to /Users/pengl7/Downloads/WGS/UNHS/qc/UNHS.chrX.geno05maf05.log.\n",
      "Options in effect:\n",
      "  --chr X\n",
      "  --geno 0.05\n",
      "  --maf 0.05\n",
      "  --make-bed\n",
      "  --out /Users/pengl7/Downloads/WGS/UNHS/qc/UNHS.chrX.geno05maf05\n",
      "  --pfile /Users/pengl7/Downloads/WGS/UNHS/genotypes/UNHS\n",
      "\n",
      "Start time: Wed Aug 26 18:19:39 2020\n",
      "16384 MiB RAM detected; reserving 8192 MiB for main workspace.\n",
      "Using up to 12 threads (change this with --threads).\n",
      "9 samples (0 females, 0 males, 9 ambiguous; 9 founders) loaded from\n",
      "/Users/pengl7/Downloads/WGS/UNHS/genotypes/UNHS.psam.\n",
      "298292 out of 10435116 variants loaded from\n",
      "/Users/pengl7/Downloads/WGS/UNHS/genotypes/UNHS.pvar.\n",
      "Note: No phenotype data present.\n",
      "Calculating allele frequencies... 1133557799done.\n",
      "--geno: 12598 variants removed due to missing genotype data.\n",
      "19913 variants removed due to allele frequency threshold(s)\n",
      "(--maf/--max-maf/--mac/--max-mac).\n",
      "265781 variants remaining after main filters.\n",
      "Writing /Users/pengl7/Downloads/WGS/UNHS/qc/UNHS.chrX.geno05maf05.fam ... done.\n",
      "Writing /Users/pengl7/Downloads/WGS/UNHS/qc/UNHS.chrX.geno05maf05.bim ... done.\n",
      "Writing /Users/pengl7/Downloads/WGS/UNHS/qc/UNHS.chrX.geno05maf05.bed ... 1134557799done.\n",
      "End time: Wed Aug 26 18:19:40 2020\n"
     ]
    }
   ],
   "source": [
    "#trim variant to QC set\n",
    "input_file_set = f'{WRKDIR}/genotypes/{COHORT}'\n",
    "out_file_set = f'{WRKDIR}/qc/{COHORT}.chrX.geno05maf05'\n",
    "\n",
    "!plink2 --pfile {input_file_set} --make-bed --chr X --geno 0.05 --maf 0.05 --out {out_file_set}"
   ]
  },
  {
   "cell_type": "code",
   "execution_count": 24,
   "metadata": {
    "scrolled": true
   },
   "outputs": [
    {
     "name": "stdout",
     "output_type": "stream",
     "text": [
      "total 639968\r\n",
      "-rw-r--r--  1 pengl7  NIH\\Domain Users   1.3K Aug 26 18:19 UNHS.chrX.geno05maf05.log\r\n",
      "-rw-r--r--  1 pengl7  NIH\\Domain Users   779K Aug 26 18:19 UNHS.chrX.geno05maf05.bed\r\n",
      "-rw-r--r--  1 pengl7  NIH\\Domain Users   6.8M Aug 26 18:19 UNHS.chrX.geno05maf05.bim\r\n",
      "-rw-r--r--  1 pengl7  NIH\\Domain Users   301B Aug 26 18:19 UNHS.chrX.geno05maf05.fam\r\n",
      "-rw-r--r--  1 pengl7  NIH\\Domain Users   1.3K Aug 26 18:18 UNHS.geno05maf05hwe000001.log\r\n",
      "-rw-r--r--  1 pengl7  NIH\\Domain Users    28M Aug 26 18:18 UNHS.geno05maf05hwe000001.bed\r\n",
      "-rw-r--r--  1 pengl7  NIH\\Domain Users   262M Aug 26 18:18 UNHS.geno05maf05hwe000001.bim\r\n",
      "-rw-r--r--  1 pengl7  NIH\\Domain Users   301B Aug 26 18:18 UNHS.geno05maf05hwe000001.fam\r\n"
     ]
    }
   ],
   "source": [
    "%ls -lth {WRKDIR}/qc"
   ]
  },
  {
   "cell_type": "markdown",
   "metadata": {},
   "source": [
    "### Check sex"
   ]
  },
  {
   "cell_type": "markdown",
   "metadata": {},
   "source": [
    "## Plink2 doesn't have the tag --check-sex, so change to plink1.9\n",
    "PLINK v2.00a2.3 64-bit (24 Jan 2020)           www.cog-genomics.org/plink/2.0/\n",
    "Error: Unrecognized flag ('--check-sex')."
   ]
  },
  {
   "cell_type": "markdown",
   "metadata": {},
   "source": [
    "### check sex"
   ]
  },
  {
   "cell_type": "code",
   "execution_count": 70,
   "metadata": {},
   "outputs": [
    {
     "name": "stdout",
     "output_type": "stream",
     "text": [
      "PLINK v1.90p 64-bit (16 Jun 2020)              www.cog-genomics.org/plink/1.9/\n",
      "(C) 2005-2020 Shaun Purcell, Christopher Chang   GNU General Public License v3\n",
      "Logging to /Users/pengl7/Downloads/WGS/UNHS/qc/UNHS.sex.log.\n",
      "Options in effect:\n",
      "  --bfile /Users/pengl7/Downloads/WGS/UNHS/qc/UNHS.chrX.geno05maf05\n",
      "  --check-sex 0.25 0.75\n",
      "  --extract /Users/pengl7/Downloads/WGS/UNHS/qc/UNHS.chrX.list\n",
      "  --out /Users/pengl7/Downloads/WGS/UNHS/qc/UNHS.sex\n",
      "\n",
      "16384 MB RAM detected; reserving 8192 MB for main workspace.\n",
      "265781 variants loaded from .bim file.\n",
      "9 people (0 males, 0 females, 9 ambiguous) loaded from .fam.\n",
      "Ambiguous sex IDs written to /Users/pengl7/Downloads/WGS/UNHS/qc/UNHS.sex.nosex\n",
      ".\n",
      "--extract: 265717 variants remaining.\n",
      "Using 1 thread (no multithreaded calculations invoked).\n",
      "Before main variant filters, 9 founders and 0 nonfounders present.\n",
      "Calculating allele frequencies... 0%\b\b1%\b\b2%\b\b3%\b\b4%\b\b5%\b\b6%\b\b7%\b\b8%\b\b9%\b\b10%\b\b\b11%\b\b\b12%\b\b\b13%\b\b\b14%\b\b\b15%\b\b\b16%\b\b\b17%\b\b\b18%\b\b\b19%\b\b\b20%\b\b\b21%\b\b\b22%\b\b\b23%\b\b\b24%\b\b\b25%\b\b\b26%\b\b\b27%\b\b\b28%\b\b\b29%\b\b\b30%\b\b\b31%\b\b\b32%\b\b\b33%\b\b\b34%\b\b\b35%\b\b\b36%\b\b\b37%\b\b\b38%\b\b\b39%\b\b\b40%\b\b\b41%\b\b\b42%\b\b\b43%\b\b\b44%\b\b\b45%\b\b\b46%\b\b\b47%\b\b\b48%\b\b\b49%\b\b\b50%\b\b\b51%\b\b\b52%\b\b\b53%\b\b\b54%\b\b\b55%\b\b\b56%\b\b\b57%\b\b\b58%\b\b\b59%\b\b\b60%\b\b\b61%\b\b\b62%\b\b\b63%\b\b\b64%\b\b\b65%\b\b\b66%\b\b\b67%\b\b\b68%\b\b\b69%\b\b\b70%\b\b\b71%\b\b\b72%\b\b\b73%\b\b\b74%\b\b\b75%\b\b\b76%\b\b\b77%\b\b\b78%\b\b\b79%\b\b\b80%\b\b\b81%\b\b\b82%\b\b\b83%\b\b\b84%\b\b\b85%\b\b\b86%\b\b\b87%\b\b\b88%\b\b\b89%\b\b\b90%\b\b\b91%\b\b\b92%\b\b\b93%\b\b\b94%\b\b\b95%\b\b\b96%\b\b\b97%\b\b\b98%\b\b\b99%\b\b\b\b done.\n",
      "265717 variants and 9 people pass filters and QC.\n",
      "Note: No phenotypes present.\n",
      "--check-sex: 265717 Xchr and 0 Ychr variant(s) scanned, 9 problems detected.\n",
      "Report written to /Users/pengl7/Downloads/WGS/UNHS/qc/UNHS.sex.sexcheck .\n"
     ]
    },
    {
     "name": "stderr",
     "output_type": "stream",
     "text": [
      "Warning: At least 75712 duplicate IDs in --extract file.\n"
     ]
    }
   ],
   "source": [
    "%%bash -s \"$COHORT\" \"$WRKDIR\"\n",
    "#check gender\n",
    "COHORT=${1}\n",
    "WRKDIR=${2}\"/qc\"\n",
    "plink=${3}\n",
    "#hg38 non-PAR\n",
    "awk '$4 > 2800000 && $4 < 155700000 {print $2}' ${WRKDIR}/${COHORT}.chrX.geno05maf05.bim \\\n",
    "    > ${WRKDIR}/${COHORT}.chrX.list\n",
    "\n",
    "plink1.9 --bfile ${WRKDIR}/${COHORT}.chrX.geno05maf05 --extract ${WRKDIR}/${COHORT}.chrX.list \\\n",
    "--check-sex 0.25 0.75 --out ${WRKDIR}/${COHORT}.sex"
   ]
  },
  {
   "cell_type": "code",
   "execution_count": 71,
   "metadata": {},
   "outputs": [
    {
     "name": "stdout",
     "output_type": "stream",
     "text": [
      "sexcheck shape is (9, 6)\n",
      "number of samples failing sexcheck 9\n",
      "                     FID                    IID  PEDSEX  SNPSEX   STATUS  \\\n",
      "0             GT19-38445             GT19-38445       0       0  PROBLEM   \n",
      "1             GT19-38446             GT19-38446       0       0  PROBLEM   \n",
      "2             GT19-38447             GT19-38447       0       0  PROBLEM   \n",
      "3             GT19-38448             GT19-38448       0       0  PROBLEM   \n",
      "4             GT19-38449             GT19-38449       0       1  PROBLEM   \n",
      "5             GT19-38450             GT19-38450       0       0  PROBLEM   \n",
      "6             GT19-38451             GT19-38451       0       0  PROBLEM   \n",
      "7             GT19-38452             GT19-38452       0       1  PROBLEM   \n",
      "8  NIST-reference-sample  NIST-reference-sample       0       1  PROBLEM   \n",
      "\n",
      "        F  \n",
      "0  0.7483  \n",
      "1  0.7475  \n",
      "2  0.7352  \n",
      "3  0.7365  \n",
      "4  0.7646  \n",
      "5  0.7494  \n",
      "6  0.7487  \n",
      "7  0.7610  \n",
      "8  0.7501  \n",
      "number of samples failing sexcheck excluding missing info (0, 6)\n",
      "Empty DataFrame\n",
      "Columns: [FID, IID, PEDSEX, SNPSEX, STATUS, F]\n",
      "Index: []\n"
     ]
    }
   ],
   "source": [
    "#check sex test results\n",
    "sexcheck_df = pd.read_csv(f'{WRKDIR}/qc/{COHORT}.sex.sexcheck', sep='\\s+')\n",
    "print(f'sexcheck shape is {sexcheck_df.shape}')\n",
    "\n",
    "fail_sexcheck_df = sexcheck_df.loc[sexcheck_df['STATUS'] == 'PROBLEM']\n",
    "print(f'number of samples failing sexcheck {fail_sexcheck_df.shape[0]}')\n",
    "print(fail_sexcheck_df)\n",
    "\n",
    "fail_sexcheck_df = sexcheck_df.loc[(sexcheck_df['STATUS'] == 'PROBLEM') & \\\n",
    "                                   (sexcheck_df['PEDSEX'] != 0)]\n",
    "print(f'number of samples failing sexcheck excluding missing info {fail_sexcheck_df.shape}')\n",
    "print(fail_sexcheck_df)"
   ]
  },
  {
   "cell_type": "code",
   "execution_count": 60,
   "metadata": {},
   "outputs": [
    {
     "name": "stdout",
     "output_type": "stream",
     "text": [
      "PLINK v1.90p 64-bit (16 Jun 2020)              www.cog-genomics.org/plink/1.9/\n",
      "(C) 2005-2020 Shaun Purcell, Christopher Chang   GNU General Public License v3\n",
      "Logging to /Users/pengl7/Downloads/WGS/UNHS/qc/UNHS.missing.log.\n",
      "Options in effect:\n",
      "  --autosome\n",
      "  --bfile /Users/pengl7/Downloads/WGS/UNHS/qc/UNHS.geno05maf05hwe000001\n",
      "  --missing\n",
      "  --out /Users/pengl7/Downloads/WGS/UNHS/qc/UNHS.missing\n",
      "\n",
      "16384 MB RAM detected; reserving 8192 MB for main workspace.\n",
      "9542779 out of 9820474 variants loaded from .bim file.\n",
      "9 people (0 males, 0 females, 9 ambiguous) loaded from .fam.\n",
      "Ambiguous sex IDs written to\n",
      "/Users/pengl7/Downloads/WGS/UNHS/qc/UNHS.missing.nosex .\n",
      "Using 1 thread (no multithreaded calculations invoked).\n",
      "Before main variant filters, 9 founders and 0 nonfounders present.\n",
      "Calculating allele frequencies... 10111213141516171819202122232425262728293031323334353637383940414243444546474849505152535455565758596061626364656667686970717273747576777879808182838485868788899091929394959697989 done.\n",
      "--missing: Sample missing data report written to\n",
      "/Users/pengl7/Downloads/WGS/UNHS/qc/UNHS.missing.imiss, and variant-based\n",
      "missing data report written to\n",
      "/Users/pengl7/Downloads/WGS/UNHS/qc/UNHS.missing.lmiss.\n"
     ]
    }
   ],
   "source": [
    "#check missingness\n",
    "!plink2 --bfile {WRKDIR}/qc/{COHORT}.geno05maf05hwe000001 --missing --autosome \\\n",
    "--out {WRKDIR}/qc/{COHORT}.missing"
   ]
  },
  {
   "cell_type": "code",
   "execution_count": 62,
   "metadata": {},
   "outputs": [
    {
     "name": "stdout",
     "output_type": "stream",
     "text": [
      "-rw-r--r--  1 pengl7  NIH\\Domain Users   1.0K Aug 26 18:58 /Users/pengl7/Downloads/WGS/UNHS/qc/UNHS.missing.log\r\n",
      "-rw-r--r--  1 pengl7  NIH\\Domain Users   860B Aug 26 18:58 /Users/pengl7/Downloads/WGS/UNHS/qc/UNHS.missing.imiss\r\n",
      "-rw-r--r--  1 pengl7  NIH\\Domain Users   419M Aug 26 18:58 /Users/pengl7/Downloads/WGS/UNHS/qc/UNHS.missing.lmiss\r\n",
      "-rw-r--r--  1 pengl7  NIH\\Domain Users   220B Aug 26 18:58 /Users/pengl7/Downloads/WGS/UNHS/qc/UNHS.missing.nosex\r\n",
      "-rw-r--r--  1 pengl7  NIH\\Domain Users   155M Aug 26 18:57 /Users/pengl7/Downloads/WGS/UNHS/qc/UNHS.missing.vmiss\r\n",
      "-rw-r--r--  1 pengl7  NIH\\Domain Users   362B Aug 26 18:57 /Users/pengl7/Downloads/WGS/UNHS/qc/UNHS.missing.smiss\r\n"
     ]
    }
   ],
   "source": [
    "%ls -lth {WRKDIR}/qc/{COHORT}.missing*"
   ]
  },
  {
   "cell_type": "code",
   "execution_count": 61,
   "metadata": {},
   "outputs": [
    {
     "name": "stdout",
     "output_type": "stream",
     "text": [
      "number samples failing missingness test 0\n",
      "Empty DataFrame\n",
      "Columns: [FID, IID, MISS_PHENO, N_MISS, N_GENO, F_MISS]\n",
      "Index: []\n"
     ]
    }
   ],
   "source": [
    "#check missingness results\n",
    "misstest_df = pd.read_csv(f'{WRKDIR}/qc/{COHORT}.missing.smiss', sep='\\s+')\n",
    "\n",
    "#find failed\n",
    "misstest_failed_df = misstest_df.loc[misstest_df['F_MISS'] > 0.05]\n",
    "\n",
    "print(f'number samples failing missingness test {misstest_failed_df.shape[0]}')\n",
    "\n",
    "print(misstest_failed_df)"
   ]
  },
  {
   "cell_type": "markdown",
   "metadata": {},
   "source": [
    "### check het rates"
   ]
  },
  {
   "cell_type": "code",
   "execution_count": 54,
   "metadata": {},
   "outputs": [
    {
     "name": "stdout",
     "output_type": "stream",
     "text": [
      "PLINK v1.90p 64-bit (16 Jun 2020)              www.cog-genomics.org/plink/1.9/\n",
      "(C) 2005-2020 Shaun Purcell, Christopher Chang   GNU General Public License v3\n",
      "Logging to /Users/pengl7/Downloads/WGS/UNHS/qc/UNHS.het.log.\n",
      "Options in effect:\n",
      "  --autosome\n",
      "  --bfile /Users/pengl7/Downloads/WGS/UNHS/qc/UNHS.geno05maf05hwe000001\n",
      "  --het\n",
      "  --out /Users/pengl7/Downloads/WGS/UNHS/qc/UNHS.het\n",
      "\n",
      "16384 MB RAM detected; reserving 8192 MB for main workspace.\n",
      "9542779 out of 9820474 variants loaded from .bim file.\n",
      "9 people (0 males, 0 females, 9 ambiguous) loaded from .fam.\n",
      "Ambiguous sex IDs written to /Users/pengl7/Downloads/WGS/UNHS/qc/UNHS.het.nosex\n",
      ".\n",
      "Using 1 thread (no multithreaded calculations invoked).\n",
      "Before main variant filters, 9 founders and 0 nonfounders present.\n",
      "Calculating allele frequencies... 10111213141516171819202122232425262728293031323334353637383940414243444546474849505152535455565758596061626364656667686970717273747576777879808182838485868788899091929394959697989 done.\n",
      "9542779 variants and 9 people pass filters and QC.\n",
      "Note: No phenotypes present.\n",
      "--het: 9542779 variants scanned, report written to\n",
      "/Users/pengl7/Downloads/WGS/UNHS/qc/UNHS.het.het .\n"
     ]
    }
   ],
   "source": [
    "#check het rates, plink2 doesn't work\n",
    "!plink1.9 --bfile {WRKDIR}/qc/{COHORT}.geno05maf05hwe000001 --het --autosome \\\n",
    "--out {WRKDIR}/qc/{COHORT}.het"
   ]
  },
  {
   "cell_type": "code",
   "execution_count": 55,
   "metadata": {},
   "outputs": [
    {
     "name": "stdout",
     "output_type": "stream",
     "text": [
      "number samples failing heterzygosity check 0\n",
      "Empty DataFrame\n",
      "Columns: [FID, IID, O(HOM), E(HOM), N(NM), F]\n",
      "Index: []\n"
     ]
    }
   ],
   "source": [
    "#check het rate results\n",
    "\n",
    "###2 failes\n",
    "\n",
    "hets_df = pd.read_csv(f'{WRKDIR}/qc/{COHORT}.het.het', sep='\\s+')\n",
    "\n",
    "#find failed\n",
    "hets_failed_df = hets_df.loc[(hets_df['F'] > 0.15) | (hets_df['F'] < -0.15)]\n",
    "\n",
    "print(f'number samples failing heterzygosity check {hets_failed_df.shape[0]}')\n",
    "\n",
    "print(hets_failed_df)"
   ]
  }
 ],
 "metadata": {
  "kernelspec": {
   "display_name": "Python 3",
   "language": "python",
   "name": "python3"
  },
  "language_info": {
   "codemirror_mode": {
    "name": "ipython",
    "version": 3
   },
   "file_extension": ".py",
   "mimetype": "text/x-python",
   "name": "python",
   "nbconvert_exporter": "python",
   "pygments_lexer": "ipython3",
   "version": "3.7.6"
  }
 },
 "nbformat": 4,
 "nbformat_minor": 4
}
