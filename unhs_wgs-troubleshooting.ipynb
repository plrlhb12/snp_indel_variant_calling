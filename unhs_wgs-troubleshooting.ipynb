{
 "cells": [
  {
   "cell_type": "markdown",
   "metadata": {},
   "source": [
    "## Jax IlluminaWGS"
   ]
  },
  {
   "cell_type": "markdown",
   "metadata": {},
   "source": [
    "### July 7, 2020"
   ]
  },
  {
   "cell_type": "markdown",
   "metadata": {},
   "source": [
    "#### global varibles and libraries"
   ]
  },
  {
   "cell_type": "markdown",
   "metadata": {},
   "source": [
    "#global notebook variables for both python and bash majic (by stdin arguments)\n",
    "WRKDIR = '/Users/mooreank/Desktop/Mark/UNHS'\n",
    "PRJ_BUCKET = 'gs://nihnialngcbg-testing'\n",
    "PROJECT_ID = 'nih-nia-lng-cbg'\n",
    "MYUSER = 'mooreank'\n",
    "AUTOSOMES=[str(x) for x in list(range(1,23))]\n",
    "SEXOMES=['X','Y']\n",
    "CHROMOSOMES=AUTOSOMES + SEXOMES\n",
    "COHORT='UNHS'\n",
    "COHORT_BUCKET=f'{PRJ_BUCKET}/{COHORT}'"
   ]
  },
  {
   "cell_type": "code",
   "execution_count": 163,
   "metadata": {},
   "outputs": [],
   "source": [
    "#global notebook variables for both python and bash majic (by stdin arguments)\n",
    "#WRKDIR = '/Users/mooreank/Desktop/Mark/UNHS'\n",
    "WRKDIR = '/Users/pengl7/Downloads/Jax'\n",
    "#PRJ_BUCKET = 'gs://nihnialngcbg-testing'\n",
    "PRJ_BUCKET = 'gs://singlecellindi'\n",
    "#PROJECT_ID = 'nih-nia-lng-cbg'\n",
    "PROJECT_ID = 'singlecellseq'\n",
    "#MYUSER = 'mooreank'\n",
    "MYUSER = 'pengl7'\n",
    "AUTOSOMES=[str(x) for x in list(range(1,23))]\n",
    "SEXOMES=['X','Y']\n",
    "CHROMOSOMES=AUTOSOMES + SEXOMES\n",
    "\n",
    "# COHORT='UNHS'\n",
    "# remember the folder sequence should also be the same in the local dir\n",
    "COHORT = 'Jax'\n",
    "\n",
    "# Notice that COHORT_BUCKET means the main data_folder path in the project bucket, instead of a bucket name\n",
    "COHORT_BUCKET=f'{PRJ_BUCKET}/{COHORT}'"
   ]
  },
  {
   "cell_type": "code",
   "execution_count": 158,
   "metadata": {},
   "outputs": [
    {
     "name": "stdout",
     "output_type": "stream",
     "text": [
      "://singlecellindi/\r\n"
     ]
    }
   ],
   "source": [
    "!echo ${PRJ_BUCKET}/${COHORT}"
   ]
  },
  {
   "cell_type": "code",
   "execution_count": null,
   "metadata": {},
   "outputs": [],
   "source": [
    "### when use %%bash for variable defined outside it, remember to add arguments, don't forget -s, don't forget $"
   ]
  },
  {
   "cell_type": "code",
   "execution_count": 164,
   "metadata": {},
   "outputs": [
    {
     "name": "stdout",
     "output_type": "stream",
     "text": [
      "gs://singlecellindi/Jax\n"
     ]
    }
   ],
   "source": [
    "%%bash -s \"$PRJ_BUCKET\" \"$COHORT\"\n",
    "PRJ_BUCKET=${1}\n",
    "COHORT=${2}\n",
    "echo ${PRJ_BUCKET}/${COHORT}"
   ]
  },
  {
   "cell_type": "code",
   "execution_count": 165,
   "metadata": {},
   "outputs": [
    {
     "data": {
      "text/plain": [
       "'gs://singlecellindi/Jax'"
      ]
     },
     "execution_count": 165,
     "metadata": {},
     "output_type": "execute_result"
    }
   ],
   "source": [
    "COHORT_BUCKET "
   ]
  },
  {
   "cell_type": "code",
   "execution_count": 166,
   "metadata": {},
   "outputs": [],
   "source": [
    "#import libraries\n",
    "import pandas as pd\n",
    "import numpy as np\n",
    "import time\n",
    "import json\n",
    "import os\n",
    "import seaborn as sns\n",
    "import matplotlib.pyplot as plt"
   ]
  },
  {
   "cell_type": "markdown",
   "metadata": {},
   "source": [
    "#### Check the number of files inside the data folder\n",
    "\n",
    "number of fastqs is different: 19 instead of 18 (need to substract one because the parental folder  path was caluclated as a "
   ]
  },
  {
   "cell_type": "code",
   "execution_count": 167,
   "metadata": {
    "scrolled": true
   },
   "outputs": [
    {
     "name": "stdout",
     "output_type": "stream",
     "text": [
      "      18\n",
      "gs://singlecellindi/Jax/IlluminaWGS/*fastq*\n",
      "gs://singlecellindi/Jax/IlluminaWGS/KOLF2-ARID2-A2_GT20-02408_AAGTCCAA-TATGAGTA_S303_L003_R1_001.fastq.gz\n",
      "gs://singlecellindi/Jax/IlluminaWGS/KOLF2-ARID2-A2_GT20-02408_AAGTCCAA-TATGAGTA_S303_L003_R2_001.fastq.gz\n",
      "gs://singlecellindi/Jax/IlluminaWGS/KUCG3-C1_GT20-02406_TTATAACC-GATATCGA_S306_L003_R1_001.fastq.gz\n",
      "gs://singlecellindi/Jax/IlluminaWGS/KUCG3-C1_GT20-02406_TTATAACC-GATATCGA_S306_L003_R2_001.fastq.gz\n",
      "gs://singlecellindi/Jax/IlluminaWGS/LNGPI1-C1_GT20-02411_CAAGCTAG-ACATAGCG_S302_L003_R1_001.fastq.gz\n",
      "gs://singlecellindi/Jax/IlluminaWGS/LNGPI1-C1_GT20-02411_CAAGCTAG-ACATAGCG_S302_L003_R2_001.fastq.gz\n",
      "gs://singlecellindi/Jax/IlluminaWGS/NCRM1-C6_GT20-02407_GGACTTGG-CGCAGACG_S309_L003_R1_001.fastq.gz\n",
      "gs://singlecellindi/Jax/IlluminaWGS/NCRM1-C6_GT20-02407_GGACTTGG-CGCAGACG_S309_L003_R2_001.fastq.gz\n",
      "gs://singlecellindi/Jax/IlluminaWGS/NCRM5-C5_GT20-02409_ATCCACTG-AGGTGCGT_S304_L003_R1_001.fastq.gz\n",
      "gs://singlecellindi/Jax/IlluminaWGS/NCRM5-C5_GT20-02409_ATCCACTG-AGGTGCGT_S304_L003_R2_001.fastq.gz\n",
      "gs://singlecellindi/Jax/IlluminaWGS/NN0003932-C3_GT20-02410_GCTTGTCA-GAACATAC_S307_L003_R1_001.fastq.gz\n",
      "gs://singlecellindi/Jax/IlluminaWGS/NN0003932-C3_GT20-02410_GCTTGTCA-GAACATAC_S307_L003_R2_001.fastq.gz\n",
      "gs://singlecellindi/Jax/IlluminaWGS/NN0004297-C1_GT20-02405_CCGCGGTT-AGCGCTAG_S308_L003_R1_001.fastq.gz\n",
      "gs://singlecellindi/Jax/IlluminaWGS/NN0004297-C1_GT20-02405_CCGCGGTT-AGCGCTAG_S308_L003_R2_001.fastq.gz\n",
      "gs://singlecellindi/Jax/IlluminaWGS/PGP1-C2_GT20-02412_TGGATCGA-GTGCGATA_S305_L003_R1_001.fastq.gz\n",
      "gs://singlecellindi/Jax/IlluminaWGS/PGP1-C2_GT20-02412_TGGATCGA-GTGCGATA_S305_L003_R2_001.fastq.gz\n",
      "gs://singlecellindi/Jax/IlluminaWGS/Undetermined_S0_L003_R1_001.fastq.gz\n",
      "gs://singlecellindi/Jax/IlluminaWGS/Undetermined_S0_L003_R2_001.fastq.gz\n"
     ]
    }
   ],
   "source": [
    "%%bash -s \"$COHORT_BUCKET\"\n",
    "\n",
    "COHORT_BUCKET=${1}\n",
    "\n",
    "gsutil ls ${COHORT_BUCKET}/IlluminaWGS/*fastq* | wc -l\n",
    "echo ${COHORT_BUCKET}/IlluminaWGS/*fastq*  \n",
    "gsutil ls ${COHORT_BUCKET}/IlluminaWGS/*fastq*\n"
   ]
  },
  {
   "cell_type": "markdown",
   "metadata": {},
   "source": [
    "### Get the file name for each fastq file\n",
    "\n",
    "-s option: This  option  allows the positional parameters to be set when invoking an interactive shell."
   ]
  },
  {
   "cell_type": "code",
   "execution_count": 168,
   "metadata": {},
   "outputs": [
    {
     "name": "stdout",
     "output_type": "stream",
     "text": [
      "      18\n",
      "KOLF2-ARID2-A2 GT20-02408 AAGTCCAA-TATGAGTA S303 L003 R1 001\n",
      "KOLF2-ARID2-A2 GT20-02408 AAGTCCAA-TATGAGTA S303 L003 R2 001\n",
      "KUCG3-C1 GT20-02406 TTATAACC-GATATCGA S306 L003 R1 001\n",
      "KUCG3-C1 GT20-02406 TTATAACC-GATATCGA S306 L003 R2 001\n",
      "LNGPI1-C1 GT20-02411 CAAGCTAG-ACATAGCG S302 L003 R1 001\n",
      "LNGPI1-C1 GT20-02411 CAAGCTAG-ACATAGCG S302 L003 R2 001\n",
      "NCRM1-C6 GT20-02407 GGACTTGG-CGCAGACG S309 L003 R1 001\n",
      "NCRM1-C6 GT20-02407 GGACTTGG-CGCAGACG S309 L003 R2 001\n",
      "NCRM5-C5 GT20-02409 ATCCACTG-AGGTGCGT S304 L003 R1 001\n",
      "NCRM5-C5 GT20-02409 ATCCACTG-AGGTGCGT S304 L003 R2 001\n",
      "NCRM5-C5 GT20-02409 ATCCACTG-AGGTGCGT S304 L003 R1 001\n",
      "NCRM5-C5 GT20-02409 ATCCACTG-AGGTGCGT S304 L003 R2 001\n",
      "NN0003932-C3 GT20-02410 GCTTGTCA-GAACATAC S307 L003 R1 001\n",
      "NN0003932-C3 GT20-02410 GCTTGTCA-GAACATAC S307 L003 R2 001\n",
      "NN0004297-C1 GT20-02405 CCGCGGTT-AGCGCTAG S308 L003 R1 001\n",
      "NN0004297-C1 GT20-02405 CCGCGGTT-AGCGCTAG S308 L003 R2 001\n",
      "PGP1-C2 GT20-02412 TGGATCGA-GTGCGATA S305 L003 R1 001\n",
      "PGP1-C2 GT20-02412 TGGATCGA-GTGCGATA S305 L003 R2 001\n",
      "Undetermined S0 L003 R1 001\n",
      "Undetermined S0 L003 R2 001\n"
     ]
    }
   ],
   "source": [
    "%%bash -s \"$WRKDIR\" \"$COHORT\" \"$COHORT_BUCKET\"\n",
    "#get fastq listing and tokenize\n",
    "WRKDIR=${1}\n",
    "COHORT=${2}\n",
    "COHORT_BUCKET=${3}\n",
    "\n",
    "#generate a txt file to store the name of each file, also do string manipulation for each file\n",
    "#generate the txt file name variable: FASTQ_LISTING\n",
    "\n",
    "FASTQ_LISTING=${WRKDIR}/${COHORT}.fastq.listing.txt\n",
    "\n",
    "#Export every path of the file to the txt file\n",
    "#gsutil ls gs://nihnialngcbg-testing/UNHS/fastqs/*.fastq.gz > ${FASTQ_LISTING}\n",
    "gsutil ls ${COHORT_BUCKET}/IlluminaWGS/*.fastq.gz > ${FASTQ_LISTING}\n",
    "\n",
    "# do string substitute for each file name to get rid of prefix \"gs://nihnialngcbg-testing/UNHS/2001UNHS-0041/fastqs/\"\n",
    "# sed example:  's/day/night/g'\n",
    "\n",
    "sed -i -e s\"/gs:\\/\\/singlecellindi\\/Jax\\/IlluminaWGS\\///\"g ${FASTQ_LISTING}\n",
    "\n",
    "# get rid of subfix \".fastq.gz\"\n",
    "sed -i -e s\"/\\.fastq\\.gz//\"g ${FASTQ_LISTING}\n",
    "\n",
    "# replace the \"_\" with a space\n",
    "sed -i -e s'/_/\\ /'g ${FASTQ_LISTING}\n",
    "\n",
    "# the first part of each line is the sample info\n",
    "less ${FASTQ_LISTING} | wc -l\n",
    "head ${FASTQ_LISTING}\n",
    "tail ${FASTQ_LISTING}"
   ]
  },
  {
   "cell_type": "markdown",
   "metadata": {},
   "source": [
    "#### load fastq listing and USUHS sample info and ID mappings\n",
    "\n",
    "Download the metadata from buckt to the folder of meta in the working directory"
   ]
  },
  {
   "cell_type": "code",
   "execution_count": 119,
   "metadata": {},
   "outputs": [
    {
     "name": "stdout",
     "output_type": "stream",
     "text": [
      "(9, 16)\n",
      "(18, 7)\n"
     ]
    }
   ],
   "source": [
    "#ok now see what we have\n",
    "#load the USUHS quality reports\n",
    "usuhs_qa_file = f'{WRKDIR}/meta/Jax_IlluminaWGS_20-cel-001_QCreport.csv'\n",
    "usuhs_qa = pd.read_csv(usuhs_qa_file, header=15)\n",
    "print(usuhs_qa.shape)\n",
    "\n",
    "#load the fastq info\n",
    "fastqs_file = f'{WRKDIR}/{COHORT}.fastq.listing.txt'\n",
    "fastqs_df = pd.read_csv(fastqs_file,header=None, sep=\" \", dtype='category')\n",
    "fastqs_df.columns = ['Sample_Name','usuhsID', 'Adaptor', 'S', 'LANE', 'READ', 'NUM']\n",
    "print(fastqs_df.shape)\n",
    "\n",
    "#load usuhs key map\n",
    "# usuhs_key_file = WRKDIR + '/pA3.hernandez.export1.keyTable.june.27.2019.csv'\n",
    "# usuhs_keys_df = pd.read_csv(usuhs_key_file,sep=',')\n",
    "# print(usuhs_keys_df.shape)\n"
   ]
  },
  {
   "cell_type": "code",
   "execution_count": 120,
   "metadata": {},
   "outputs": [
    {
     "data": {
      "text/html": [
       "<div>\n",
       "<style scoped>\n",
       "    .dataframe tbody tr th:only-of-type {\n",
       "        vertical-align: middle;\n",
       "    }\n",
       "\n",
       "    .dataframe tbody tr th {\n",
       "        vertical-align: top;\n",
       "    }\n",
       "\n",
       "    .dataframe thead th {\n",
       "        text-align: right;\n",
       "    }\n",
       "</style>\n",
       "<table border=\"1\" class=\"dataframe\">\n",
       "  <thead>\n",
       "    <tr style=\"text-align: right;\">\n",
       "      <th></th>\n",
       "      <th>Sample_Name</th>\n",
       "      <th>usuhsID</th>\n",
       "      <th>Adaptor</th>\n",
       "      <th>S</th>\n",
       "      <th>LANE</th>\n",
       "      <th>READ</th>\n",
       "      <th>NUM</th>\n",
       "    </tr>\n",
       "  </thead>\n",
       "  <tbody>\n",
       "    <tr>\n",
       "      <th>0</th>\n",
       "      <td>KOLF2-ARID2-A2</td>\n",
       "      <td>GT20-02408</td>\n",
       "      <td>AAGTCCAA-TATGAGTA</td>\n",
       "      <td>S303</td>\n",
       "      <td>L003</td>\n",
       "      <td>R1</td>\n",
       "      <td>001</td>\n",
       "    </tr>\n",
       "    <tr>\n",
       "      <th>1</th>\n",
       "      <td>KOLF2-ARID2-A2</td>\n",
       "      <td>GT20-02408</td>\n",
       "      <td>AAGTCCAA-TATGAGTA</td>\n",
       "      <td>S303</td>\n",
       "      <td>L003</td>\n",
       "      <td>R2</td>\n",
       "      <td>001</td>\n",
       "    </tr>\n",
       "    <tr>\n",
       "      <th>2</th>\n",
       "      <td>KUCG3-C1</td>\n",
       "      <td>GT20-02406</td>\n",
       "      <td>TTATAACC-GATATCGA</td>\n",
       "      <td>S306</td>\n",
       "      <td>L003</td>\n",
       "      <td>R1</td>\n",
       "      <td>001</td>\n",
       "    </tr>\n",
       "    <tr>\n",
       "      <th>3</th>\n",
       "      <td>KUCG3-C1</td>\n",
       "      <td>GT20-02406</td>\n",
       "      <td>TTATAACC-GATATCGA</td>\n",
       "      <td>S306</td>\n",
       "      <td>L003</td>\n",
       "      <td>R2</td>\n",
       "      <td>001</td>\n",
       "    </tr>\n",
       "    <tr>\n",
       "      <th>4</th>\n",
       "      <td>LNGPI1-C1</td>\n",
       "      <td>GT20-02411</td>\n",
       "      <td>CAAGCTAG-ACATAGCG</td>\n",
       "      <td>S302</td>\n",
       "      <td>L003</td>\n",
       "      <td>R1</td>\n",
       "      <td>001</td>\n",
       "    </tr>\n",
       "    <tr>\n",
       "      <th>5</th>\n",
       "      <td>LNGPI1-C1</td>\n",
       "      <td>GT20-02411</td>\n",
       "      <td>CAAGCTAG-ACATAGCG</td>\n",
       "      <td>S302</td>\n",
       "      <td>L003</td>\n",
       "      <td>R2</td>\n",
       "      <td>001</td>\n",
       "    </tr>\n",
       "    <tr>\n",
       "      <th>6</th>\n",
       "      <td>NCRM1-C6</td>\n",
       "      <td>GT20-02407</td>\n",
       "      <td>GGACTTGG-CGCAGACG</td>\n",
       "      <td>S309</td>\n",
       "      <td>L003</td>\n",
       "      <td>R1</td>\n",
       "      <td>001</td>\n",
       "    </tr>\n",
       "    <tr>\n",
       "      <th>7</th>\n",
       "      <td>NCRM1-C6</td>\n",
       "      <td>GT20-02407</td>\n",
       "      <td>GGACTTGG-CGCAGACG</td>\n",
       "      <td>S309</td>\n",
       "      <td>L003</td>\n",
       "      <td>R2</td>\n",
       "      <td>001</td>\n",
       "    </tr>\n",
       "    <tr>\n",
       "      <th>8</th>\n",
       "      <td>NCRM5-C5</td>\n",
       "      <td>GT20-02409</td>\n",
       "      <td>ATCCACTG-AGGTGCGT</td>\n",
       "      <td>S304</td>\n",
       "      <td>L003</td>\n",
       "      <td>R1</td>\n",
       "      <td>001</td>\n",
       "    </tr>\n",
       "    <tr>\n",
       "      <th>9</th>\n",
       "      <td>NCRM5-C5</td>\n",
       "      <td>GT20-02409</td>\n",
       "      <td>ATCCACTG-AGGTGCGT</td>\n",
       "      <td>S304</td>\n",
       "      <td>L003</td>\n",
       "      <td>R2</td>\n",
       "      <td>001</td>\n",
       "    </tr>\n",
       "    <tr>\n",
       "      <th>10</th>\n",
       "      <td>NN0003932-C3</td>\n",
       "      <td>GT20-02410</td>\n",
       "      <td>GCTTGTCA-GAACATAC</td>\n",
       "      <td>S307</td>\n",
       "      <td>L003</td>\n",
       "      <td>R1</td>\n",
       "      <td>001</td>\n",
       "    </tr>\n",
       "    <tr>\n",
       "      <th>11</th>\n",
       "      <td>NN0003932-C3</td>\n",
       "      <td>GT20-02410</td>\n",
       "      <td>GCTTGTCA-GAACATAC</td>\n",
       "      <td>S307</td>\n",
       "      <td>L003</td>\n",
       "      <td>R2</td>\n",
       "      <td>001</td>\n",
       "    </tr>\n",
       "    <tr>\n",
       "      <th>12</th>\n",
       "      <td>NN0004297-C1</td>\n",
       "      <td>GT20-02405</td>\n",
       "      <td>CCGCGGTT-AGCGCTAG</td>\n",
       "      <td>S308</td>\n",
       "      <td>L003</td>\n",
       "      <td>R1</td>\n",
       "      <td>001</td>\n",
       "    </tr>\n",
       "    <tr>\n",
       "      <th>13</th>\n",
       "      <td>NN0004297-C1</td>\n",
       "      <td>GT20-02405</td>\n",
       "      <td>CCGCGGTT-AGCGCTAG</td>\n",
       "      <td>S308</td>\n",
       "      <td>L003</td>\n",
       "      <td>R2</td>\n",
       "      <td>001</td>\n",
       "    </tr>\n",
       "    <tr>\n",
       "      <th>14</th>\n",
       "      <td>PGP1-C2</td>\n",
       "      <td>GT20-02412</td>\n",
       "      <td>TGGATCGA-GTGCGATA</td>\n",
       "      <td>S305</td>\n",
       "      <td>L003</td>\n",
       "      <td>R1</td>\n",
       "      <td>001</td>\n",
       "    </tr>\n",
       "    <tr>\n",
       "      <th>15</th>\n",
       "      <td>PGP1-C2</td>\n",
       "      <td>GT20-02412</td>\n",
       "      <td>TGGATCGA-GTGCGATA</td>\n",
       "      <td>S305</td>\n",
       "      <td>L003</td>\n",
       "      <td>R2</td>\n",
       "      <td>001</td>\n",
       "    </tr>\n",
       "    <tr>\n",
       "      <th>16</th>\n",
       "      <td>Undetermined</td>\n",
       "      <td>S0</td>\n",
       "      <td>L003</td>\n",
       "      <td>R1</td>\n",
       "      <td>001</td>\n",
       "      <td>NaN</td>\n",
       "      <td>NaN</td>\n",
       "    </tr>\n",
       "    <tr>\n",
       "      <th>17</th>\n",
       "      <td>Undetermined</td>\n",
       "      <td>S0</td>\n",
       "      <td>L003</td>\n",
       "      <td>R2</td>\n",
       "      <td>001</td>\n",
       "      <td>NaN</td>\n",
       "      <td>NaN</td>\n",
       "    </tr>\n",
       "  </tbody>\n",
       "</table>\n",
       "</div>"
      ],
      "text/plain": [
       "       Sample_Name     usuhsID            Adaptor     S  LANE READ  NUM\n",
       "0   KOLF2-ARID2-A2  GT20-02408  AAGTCCAA-TATGAGTA  S303  L003   R1  001\n",
       "1   KOLF2-ARID2-A2  GT20-02408  AAGTCCAA-TATGAGTA  S303  L003   R2  001\n",
       "2         KUCG3-C1  GT20-02406  TTATAACC-GATATCGA  S306  L003   R1  001\n",
       "3         KUCG3-C1  GT20-02406  TTATAACC-GATATCGA  S306  L003   R2  001\n",
       "4        LNGPI1-C1  GT20-02411  CAAGCTAG-ACATAGCG  S302  L003   R1  001\n",
       "5        LNGPI1-C1  GT20-02411  CAAGCTAG-ACATAGCG  S302  L003   R2  001\n",
       "6         NCRM1-C6  GT20-02407  GGACTTGG-CGCAGACG  S309  L003   R1  001\n",
       "7         NCRM1-C6  GT20-02407  GGACTTGG-CGCAGACG  S309  L003   R2  001\n",
       "8         NCRM5-C5  GT20-02409  ATCCACTG-AGGTGCGT  S304  L003   R1  001\n",
       "9         NCRM5-C5  GT20-02409  ATCCACTG-AGGTGCGT  S304  L003   R2  001\n",
       "10    NN0003932-C3  GT20-02410  GCTTGTCA-GAACATAC  S307  L003   R1  001\n",
       "11    NN0003932-C3  GT20-02410  GCTTGTCA-GAACATAC  S307  L003   R2  001\n",
       "12    NN0004297-C1  GT20-02405  CCGCGGTT-AGCGCTAG  S308  L003   R1  001\n",
       "13    NN0004297-C1  GT20-02405  CCGCGGTT-AGCGCTAG  S308  L003   R2  001\n",
       "14         PGP1-C2  GT20-02412  TGGATCGA-GTGCGATA  S305  L003   R1  001\n",
       "15         PGP1-C2  GT20-02412  TGGATCGA-GTGCGATA  S305  L003   R2  001\n",
       "16    Undetermined          S0               L003    R1   001  NaN  NaN\n",
       "17    Undetermined          S0               L003    R2   001  NaN  NaN"
      ]
     },
     "execution_count": 120,
     "metadata": {},
     "output_type": "execute_result"
    }
   ],
   "source": [
    "fastqs_df"
   ]
  },
  {
   "cell_type": "code",
   "execution_count": 121,
   "metadata": {},
   "outputs": [
    {
     "data": {
      "text/html": [
       "<div>\n",
       "<style scoped>\n",
       "    .dataframe tbody tr th:only-of-type {\n",
       "        vertical-align: middle;\n",
       "    }\n",
       "\n",
       "    .dataframe tbody tr th {\n",
       "        vertical-align: top;\n",
       "    }\n",
       "\n",
       "    .dataframe thead th {\n",
       "        text-align: right;\n",
       "    }\n",
       "</style>\n",
       "<table border=\"1\" class=\"dataframe\">\n",
       "  <thead>\n",
       "    <tr style=\"text-align: right;\">\n",
       "      <th></th>\n",
       "      <th>Sample_Name</th>\n",
       "      <th>usuhsID</th>\n",
       "      <th>Adaptor</th>\n",
       "      <th>S</th>\n",
       "      <th>LANE</th>\n",
       "      <th>READ</th>\n",
       "      <th>NUM</th>\n",
       "    </tr>\n",
       "  </thead>\n",
       "  <tbody>\n",
       "    <tr>\n",
       "      <th>0</th>\n",
       "      <td>KOLF2-ARID2-A2</td>\n",
       "      <td>GT20-02408</td>\n",
       "      <td>AAGTCCAA-TATGAGTA</td>\n",
       "      <td>S303</td>\n",
       "      <td>L003</td>\n",
       "      <td>R1</td>\n",
       "      <td>001</td>\n",
       "    </tr>\n",
       "    <tr>\n",
       "      <th>1</th>\n",
       "      <td>KOLF2-ARID2-A2</td>\n",
       "      <td>GT20-02408</td>\n",
       "      <td>AAGTCCAA-TATGAGTA</td>\n",
       "      <td>S303</td>\n",
       "      <td>L003</td>\n",
       "      <td>R2</td>\n",
       "      <td>001</td>\n",
       "    </tr>\n",
       "    <tr>\n",
       "      <th>2</th>\n",
       "      <td>KUCG3-C1</td>\n",
       "      <td>GT20-02406</td>\n",
       "      <td>TTATAACC-GATATCGA</td>\n",
       "      <td>S306</td>\n",
       "      <td>L003</td>\n",
       "      <td>R1</td>\n",
       "      <td>001</td>\n",
       "    </tr>\n",
       "    <tr>\n",
       "      <th>3</th>\n",
       "      <td>KUCG3-C1</td>\n",
       "      <td>GT20-02406</td>\n",
       "      <td>TTATAACC-GATATCGA</td>\n",
       "      <td>S306</td>\n",
       "      <td>L003</td>\n",
       "      <td>R2</td>\n",
       "      <td>001</td>\n",
       "    </tr>\n",
       "    <tr>\n",
       "      <th>4</th>\n",
       "      <td>LNGPI1-C1</td>\n",
       "      <td>GT20-02411</td>\n",
       "      <td>CAAGCTAG-ACATAGCG</td>\n",
       "      <td>S302</td>\n",
       "      <td>L003</td>\n",
       "      <td>R1</td>\n",
       "      <td>001</td>\n",
       "    </tr>\n",
       "    <tr>\n",
       "      <th>5</th>\n",
       "      <td>LNGPI1-C1</td>\n",
       "      <td>GT20-02411</td>\n",
       "      <td>CAAGCTAG-ACATAGCG</td>\n",
       "      <td>S302</td>\n",
       "      <td>L003</td>\n",
       "      <td>R2</td>\n",
       "      <td>001</td>\n",
       "    </tr>\n",
       "    <tr>\n",
       "      <th>6</th>\n",
       "      <td>NCRM1-C6</td>\n",
       "      <td>GT20-02407</td>\n",
       "      <td>GGACTTGG-CGCAGACG</td>\n",
       "      <td>S309</td>\n",
       "      <td>L003</td>\n",
       "      <td>R1</td>\n",
       "      <td>001</td>\n",
       "    </tr>\n",
       "    <tr>\n",
       "      <th>7</th>\n",
       "      <td>NCRM1-C6</td>\n",
       "      <td>GT20-02407</td>\n",
       "      <td>GGACTTGG-CGCAGACG</td>\n",
       "      <td>S309</td>\n",
       "      <td>L003</td>\n",
       "      <td>R2</td>\n",
       "      <td>001</td>\n",
       "    </tr>\n",
       "    <tr>\n",
       "      <th>8</th>\n",
       "      <td>NCRM5-C5</td>\n",
       "      <td>GT20-02409</td>\n",
       "      <td>ATCCACTG-AGGTGCGT</td>\n",
       "      <td>S304</td>\n",
       "      <td>L003</td>\n",
       "      <td>R1</td>\n",
       "      <td>001</td>\n",
       "    </tr>\n",
       "    <tr>\n",
       "      <th>9</th>\n",
       "      <td>NCRM5-C5</td>\n",
       "      <td>GT20-02409</td>\n",
       "      <td>ATCCACTG-AGGTGCGT</td>\n",
       "      <td>S304</td>\n",
       "      <td>L003</td>\n",
       "      <td>R2</td>\n",
       "      <td>001</td>\n",
       "    </tr>\n",
       "    <tr>\n",
       "      <th>10</th>\n",
       "      <td>NN0003932-C3</td>\n",
       "      <td>GT20-02410</td>\n",
       "      <td>GCTTGTCA-GAACATAC</td>\n",
       "      <td>S307</td>\n",
       "      <td>L003</td>\n",
       "      <td>R1</td>\n",
       "      <td>001</td>\n",
       "    </tr>\n",
       "    <tr>\n",
       "      <th>11</th>\n",
       "      <td>NN0003932-C3</td>\n",
       "      <td>GT20-02410</td>\n",
       "      <td>GCTTGTCA-GAACATAC</td>\n",
       "      <td>S307</td>\n",
       "      <td>L003</td>\n",
       "      <td>R2</td>\n",
       "      <td>001</td>\n",
       "    </tr>\n",
       "    <tr>\n",
       "      <th>12</th>\n",
       "      <td>NN0004297-C1</td>\n",
       "      <td>GT20-02405</td>\n",
       "      <td>CCGCGGTT-AGCGCTAG</td>\n",
       "      <td>S308</td>\n",
       "      <td>L003</td>\n",
       "      <td>R1</td>\n",
       "      <td>001</td>\n",
       "    </tr>\n",
       "    <tr>\n",
       "      <th>13</th>\n",
       "      <td>NN0004297-C1</td>\n",
       "      <td>GT20-02405</td>\n",
       "      <td>CCGCGGTT-AGCGCTAG</td>\n",
       "      <td>S308</td>\n",
       "      <td>L003</td>\n",
       "      <td>R2</td>\n",
       "      <td>001</td>\n",
       "    </tr>\n",
       "    <tr>\n",
       "      <th>14</th>\n",
       "      <td>PGP1-C2</td>\n",
       "      <td>GT20-02412</td>\n",
       "      <td>TGGATCGA-GTGCGATA</td>\n",
       "      <td>S305</td>\n",
       "      <td>L003</td>\n",
       "      <td>R1</td>\n",
       "      <td>001</td>\n",
       "    </tr>\n",
       "    <tr>\n",
       "      <th>15</th>\n",
       "      <td>PGP1-C2</td>\n",
       "      <td>GT20-02412</td>\n",
       "      <td>TGGATCGA-GTGCGATA</td>\n",
       "      <td>S305</td>\n",
       "      <td>L003</td>\n",
       "      <td>R2</td>\n",
       "      <td>001</td>\n",
       "    </tr>\n",
       "  </tbody>\n",
       "</table>\n",
       "</div>"
      ],
      "text/plain": [
       "       Sample_Name     usuhsID            Adaptor     S  LANE READ  NUM\n",
       "0   KOLF2-ARID2-A2  GT20-02408  AAGTCCAA-TATGAGTA  S303  L003   R1  001\n",
       "1   KOLF2-ARID2-A2  GT20-02408  AAGTCCAA-TATGAGTA  S303  L003   R2  001\n",
       "2         KUCG3-C1  GT20-02406  TTATAACC-GATATCGA  S306  L003   R1  001\n",
       "3         KUCG3-C1  GT20-02406  TTATAACC-GATATCGA  S306  L003   R2  001\n",
       "4        LNGPI1-C1  GT20-02411  CAAGCTAG-ACATAGCG  S302  L003   R1  001\n",
       "5        LNGPI1-C1  GT20-02411  CAAGCTAG-ACATAGCG  S302  L003   R2  001\n",
       "6         NCRM1-C6  GT20-02407  GGACTTGG-CGCAGACG  S309  L003   R1  001\n",
       "7         NCRM1-C6  GT20-02407  GGACTTGG-CGCAGACG  S309  L003   R2  001\n",
       "8         NCRM5-C5  GT20-02409  ATCCACTG-AGGTGCGT  S304  L003   R1  001\n",
       "9         NCRM5-C5  GT20-02409  ATCCACTG-AGGTGCGT  S304  L003   R2  001\n",
       "10    NN0003932-C3  GT20-02410  GCTTGTCA-GAACATAC  S307  L003   R1  001\n",
       "11    NN0003932-C3  GT20-02410  GCTTGTCA-GAACATAC  S307  L003   R2  001\n",
       "12    NN0004297-C1  GT20-02405  CCGCGGTT-AGCGCTAG  S308  L003   R1  001\n",
       "13    NN0004297-C1  GT20-02405  CCGCGGTT-AGCGCTAG  S308  L003   R2  001\n",
       "14         PGP1-C2  GT20-02412  TGGATCGA-GTGCGATA  S305  L003   R1  001\n",
       "15         PGP1-C2  GT20-02412  TGGATCGA-GTGCGATA  S305  L003   R2  001"
      ]
     },
     "execution_count": 121,
     "metadata": {},
     "output_type": "execute_result"
    }
   ],
   "source": [
    "# delete the undermined datasets\n",
    "fastqs_df = fastqs_df.iloc[0:16, :]\n",
    "fastqs_df = fastqs_df.astype(str)\n",
    "fastqs_df"
   ]
  },
  {
   "cell_type": "code",
   "execution_count": 122,
   "metadata": {},
   "outputs": [
    {
     "data": {
      "text/plain": [
       "R1    8\n",
       "R2    8\n",
       "Name: READ, dtype: int64"
      ]
     },
     "execution_count": 122,
     "metadata": {},
     "output_type": "execute_result"
    }
   ],
   "source": [
    "#check exprect count R1 == R2\n",
    "fastqs_df['READ'].value_counts()"
   ]
  },
  {
   "cell_type": "code",
   "execution_count": 123,
   "metadata": {},
   "outputs": [
    {
     "name": "stdout",
     "output_type": "stream",
     "text": [
      "(8, 9)\n"
     ]
    },
    {
     "name": "stderr",
     "output_type": "stream",
     "text": [
      "/Users/pengl7/opt/anaconda3/lib/python3.7/site-packages/ipykernel_launcher.py:4: SettingWithCopyWarning: \n",
      "A value is trying to be set on a copy of a slice from a DataFrame.\n",
      "Try using .loc[row_indexer,col_indexer] = value instead\n",
      "\n",
      "See the caveats in the documentation: https://pandas.pydata.org/pandas-docs/stable/user_guide/indexing.html#returning-a-view-versus-a-copy\n",
      "  after removing the cwd from sys.path.\n",
      "/Users/pengl7/opt/anaconda3/lib/python3.7/site-packages/ipykernel_launcher.py:6: SettingWithCopyWarning: \n",
      "A value is trying to be set on a copy of a slice from a DataFrame.\n",
      "Try using .loc[row_indexer,col_indexer] = value instead\n",
      "\n",
      "See the caveats in the documentation: https://pandas.pydata.org/pandas-docs/stable/user_guide/indexing.html#returning-a-view-versus-a-copy\n",
      "  \n"
     ]
    },
    {
     "data": {
      "text/html": [
       "<div>\n",
       "<style scoped>\n",
       "    .dataframe tbody tr th:only-of-type {\n",
       "        vertical-align: middle;\n",
       "    }\n",
       "\n",
       "    .dataframe tbody tr th {\n",
       "        vertical-align: top;\n",
       "    }\n",
       "\n",
       "    .dataframe thead th {\n",
       "        text-align: right;\n",
       "    }\n",
       "</style>\n",
       "<table border=\"1\" class=\"dataframe\">\n",
       "  <thead>\n",
       "    <tr style=\"text-align: right;\">\n",
       "      <th></th>\n",
       "      <th>Sample_Name</th>\n",
       "      <th>usuhsID</th>\n",
       "      <th>Adaptor</th>\n",
       "      <th>S</th>\n",
       "      <th>LANE</th>\n",
       "      <th>READ</th>\n",
       "      <th>NUM</th>\n",
       "      <th>Flowcell</th>\n",
       "      <th>DATE</th>\n",
       "    </tr>\n",
       "  </thead>\n",
       "  <tbody>\n",
       "    <tr>\n",
       "      <th>0</th>\n",
       "      <td>KOLF2-ARID2-A2</td>\n",
       "      <td>GT20-02408</td>\n",
       "      <td>AAGTCCAA-TATGAGTA</td>\n",
       "      <td>S303</td>\n",
       "      <td>L003</td>\n",
       "      <td>R1</td>\n",
       "      <td>001</td>\n",
       "      <td>KOLF2-ARID2-A2_GT20-02408</td>\n",
       "      <td>200221</td>\n",
       "    </tr>\n",
       "    <tr>\n",
       "      <th>2</th>\n",
       "      <td>KUCG3-C1</td>\n",
       "      <td>GT20-02406</td>\n",
       "      <td>TTATAACC-GATATCGA</td>\n",
       "      <td>S306</td>\n",
       "      <td>L003</td>\n",
       "      <td>R1</td>\n",
       "      <td>001</td>\n",
       "      <td>KUCG3-C1_GT20-02406</td>\n",
       "      <td>200221</td>\n",
       "    </tr>\n",
       "    <tr>\n",
       "      <th>4</th>\n",
       "      <td>LNGPI1-C1</td>\n",
       "      <td>GT20-02411</td>\n",
       "      <td>CAAGCTAG-ACATAGCG</td>\n",
       "      <td>S302</td>\n",
       "      <td>L003</td>\n",
       "      <td>R1</td>\n",
       "      <td>001</td>\n",
       "      <td>LNGPI1-C1_GT20-02411</td>\n",
       "      <td>200221</td>\n",
       "    </tr>\n",
       "    <tr>\n",
       "      <th>6</th>\n",
       "      <td>NCRM1-C6</td>\n",
       "      <td>GT20-02407</td>\n",
       "      <td>GGACTTGG-CGCAGACG</td>\n",
       "      <td>S309</td>\n",
       "      <td>L003</td>\n",
       "      <td>R1</td>\n",
       "      <td>001</td>\n",
       "      <td>NCRM1-C6_GT20-02407</td>\n",
       "      <td>200221</td>\n",
       "    </tr>\n",
       "    <tr>\n",
       "      <th>8</th>\n",
       "      <td>NCRM5-C5</td>\n",
       "      <td>GT20-02409</td>\n",
       "      <td>ATCCACTG-AGGTGCGT</td>\n",
       "      <td>S304</td>\n",
       "      <td>L003</td>\n",
       "      <td>R1</td>\n",
       "      <td>001</td>\n",
       "      <td>NCRM5-C5_GT20-02409</td>\n",
       "      <td>200221</td>\n",
       "    </tr>\n",
       "    <tr>\n",
       "      <th>10</th>\n",
       "      <td>NN0003932-C3</td>\n",
       "      <td>GT20-02410</td>\n",
       "      <td>GCTTGTCA-GAACATAC</td>\n",
       "      <td>S307</td>\n",
       "      <td>L003</td>\n",
       "      <td>R1</td>\n",
       "      <td>001</td>\n",
       "      <td>NN0003932-C3_GT20-02410</td>\n",
       "      <td>200221</td>\n",
       "    </tr>\n",
       "    <tr>\n",
       "      <th>12</th>\n",
       "      <td>NN0004297-C1</td>\n",
       "      <td>GT20-02405</td>\n",
       "      <td>CCGCGGTT-AGCGCTAG</td>\n",
       "      <td>S308</td>\n",
       "      <td>L003</td>\n",
       "      <td>R1</td>\n",
       "      <td>001</td>\n",
       "      <td>NN0004297-C1_GT20-02405</td>\n",
       "      <td>200221</td>\n",
       "    </tr>\n",
       "    <tr>\n",
       "      <th>14</th>\n",
       "      <td>PGP1-C2</td>\n",
       "      <td>GT20-02412</td>\n",
       "      <td>TGGATCGA-GTGCGATA</td>\n",
       "      <td>S305</td>\n",
       "      <td>L003</td>\n",
       "      <td>R1</td>\n",
       "      <td>001</td>\n",
       "      <td>PGP1-C2_GT20-02412</td>\n",
       "      <td>200221</td>\n",
       "    </tr>\n",
       "  </tbody>\n",
       "</table>\n",
       "</div>"
      ],
      "text/plain": [
       "       Sample_Name     usuhsID            Adaptor     S  LANE READ  NUM  \\\n",
       "0   KOLF2-ARID2-A2  GT20-02408  AAGTCCAA-TATGAGTA  S303  L003   R1  001   \n",
       "2         KUCG3-C1  GT20-02406  TTATAACC-GATATCGA  S306  L003   R1  001   \n",
       "4        LNGPI1-C1  GT20-02411  CAAGCTAG-ACATAGCG  S302  L003   R1  001   \n",
       "6         NCRM1-C6  GT20-02407  GGACTTGG-CGCAGACG  S309  L003   R1  001   \n",
       "8         NCRM5-C5  GT20-02409  ATCCACTG-AGGTGCGT  S304  L003   R1  001   \n",
       "10    NN0003932-C3  GT20-02410  GCTTGTCA-GAACATAC  S307  L003   R1  001   \n",
       "12    NN0004297-C1  GT20-02405  CCGCGGTT-AGCGCTAG  S308  L003   R1  001   \n",
       "14         PGP1-C2  GT20-02412  TGGATCGA-GTGCGATA  S305  L003   R1  001   \n",
       "\n",
       "                     Flowcell    DATE  \n",
       "0   KOLF2-ARID2-A2_GT20-02408  200221  \n",
       "2         KUCG3-C1_GT20-02406  200221  \n",
       "4        LNGPI1-C1_GT20-02411  200221  \n",
       "6         NCRM1-C6_GT20-02407  200221  \n",
       "8         NCRM5-C5_GT20-02409  200221  \n",
       "10    NN0003932-C3_GT20-02410  200221  \n",
       "12    NN0004297-C1_GT20-02405  200221  \n",
       "14         PGP1-C2_GT20-02412  200221  "
      ]
     },
     "execution_count": 123,
     "metadata": {},
     "output_type": "execute_result"
    }
   ],
   "source": [
    "#only need one row for each sample, not both fastq pairs, ie R1 and R2\n",
    "cohort_df = fastqs_df.loc[fastqs_df['READ'] == 'R1']\n",
    "# No idea about the flowcell info?? so impute here, no the realone\n",
    "cohort_df['Flowcell'] = cohort_df.loc[:,'Sample_Name']+'_'+cohort_df.loc[:,'usuhsID']\n",
    "# add date info\n",
    "cohort_df['DATE'] = '200221'\n",
    "print(cohort_df.shape)\n",
    "cohort_df"
   ]
  },
  {
   "cell_type": "markdown",
   "metadata": {},
   "source": [
    "#### format per sample jsons files for the fastq to ubam jobs"
   ]
  },
  {
   "cell_type": "code",
   "execution_count": 124,
   "metadata": {},
   "outputs": [],
   "source": [
    "def checkfortemplatefile(this_template_file):\n",
    "    if not os.path.isfile(this_template_file):\n",
    "        print('need ' + this_template_file)"
   ]
  },
  {
   "cell_type": "markdown",
   "metadata": {},
   "source": [
    "### Where to retrieve the blank....json files if there are not exist??"
   ]
  },
  {
   "cell_type": "code",
   "execution_count": 125,
   "metadata": {},
   "outputs": [],
   "source": [
    "#create the jsons directory for the fastq to bam if it doesn't exist\n",
    "#also check to see if the blank jsons are present or you need to retrieve\n",
    "fastq_to_bam_json_dir = f'{WRKDIR}/jsons'\n",
    "\n",
    "if os.path.isdir(fastq_to_bam_json_dir):\n",
    "    os.makedirs(fastq_to_bam_json_dir + '/fastqtoubam', exist_ok=True)    \n",
    "    \n",
    "checkfortemplatefile(fastq_to_bam_json_dir + '/blank.fastqtoubam.json')\n",
    "checkfortemplatefile(fastq_to_bam_json_dir + '/blank.broadbam.hg38.json')\n",
    "checkfortemplatefile(fastq_to_bam_json_dir + '/blank.align.label.json')"
   ]
  },
  {
   "cell_type": "markdown",
   "metadata": {},
   "source": [
    "### Does it affect if mine sample isn't illumina, nor USUHS ???\n",
    "\n",
    "### Should I add \"I\" in the line of read_group_fastqs =[fastq_format.format(PRJ_BUCKET,COHORT,row['usuhsID'],'R1')  when I use 10x genomics datasets"
   ]
  },
  {
   "cell_type": "code",
   "execution_count": 126,
   "metadata": {},
   "outputs": [
    {
     "data": {
      "text/plain": [
       "Index(['Sample_Name', 'usuhsID', 'Adaptor', 'S', 'LANE', 'READ', 'NUM',\n",
       "       'Flowcell', 'DATE'],\n",
       "      dtype='object')"
      ]
     },
     "execution_count": 126,
     "metadata": {},
     "output_type": "execute_result"
    }
   ],
   "source": [
    "cohort_df.columns"
   ]
  },
  {
   "cell_type": "code",
   "execution_count": 186,
   "metadata": {},
   "outputs": [],
   "source": [
    "#format the WF input jsons for fastq to bams\n",
    "from datetime import datetime\n",
    "\n",
    "json_template = f'{WRKDIR}/jsons/blank.fastqtoubam.json'\n",
    "\n",
    "\n",
    "# the format of fastq file is \"gs://nihnialngcbg-testing/UNHS/2001UNHS-0041/fastqs/GT19-38445_R1.fastq.gz\"\n",
    "# gs://singlecellindi/Jax/IlluminaWGS/KOLF2-ARID2-A2_GT20-02408_AAGTCCAA-TATGAGTA_S303_L003_R1_001.fastq.gz\n",
    "#fastq_format = '{}/{}/2001UNHS-0041/fastqs/{}_{}.fastq.gz'\n",
    "\n",
    "fastq_format = '{}/{}/IllumiaWGS/{}_{}_{}_{}_{}_{}_001.fastq.gz'\n",
    "\n",
    "DEFAULTATTEMPTS = 3\n",
    "DEFAULTDISK = 500\n",
    "DEFAULTMEM = '30 GB'\n",
    "\n",
    "#sample_ids = ['NIST-reference-sample']\n",
    "sample_ids = cohort_df['Sample_Name'].unique()\n",
    "for sample_id in sample_ids:\n",
    "    with open(json_template) as json_file:  \n",
    "        data = json.load(json_file)\n",
    "        data['ConvertPairedFastQsToUnmappedBamWf.PairedFastQsToUnmappedBAM.gatk_path'] = '/gatk/gatk'\n",
    "        data['ConvertPairedFastQsToUnmappedBamWf.PairedFastQsToUnmappedBAM.docker'] = 'broadinstitute/gatk:4.0.1.2'\n",
    "        data['ConvertPairedFastQsToUnmappedBamWf.PairedFastQsToUnmappedBAM.mem_size'] = DEFAULTMEM\n",
    "        data['ConvertPairedFastQsToUnmappedBamWf.PairedFastQsToUnmappedBAM.disk_size'] = DEFAULTDISK\n",
    "        data['ConvertPairedFastQsToUnmappedBamWf.PairedFastQsToUnmappedBAM.preemptible_tries'] = DEFAULTATTEMPTS\n",
    "\n",
    "        sample_data = data.copy()\n",
    "        sample_data['ConvertPairedFastQsToUnmappedBamWf.readgroup_list'] = []\n",
    "        sample_data['ConvertPairedFastQsToUnmappedBamWf.metadata'] = {}\n",
    "        sample_data['ConvertPairedFastQsToUnmappedBamWf.fastq_pairs'] = {}\n",
    "        \n",
    "        sample_df = cohort_df.loc[cohort_df['Sample_Name'] == sample_id]\n",
    "        \n",
    "        json_outfile_name = '{}/jsons/fastqtoubam/{}.fastqtoubam.json'.format(WRKDIR,sample_id)\n",
    "\n",
    "        for index, row in sample_df.iterrows():\n",
    "            #lib_date, lib_machine, lib_index, flowcell = row['Flowcell'].split('_')\n",
    "            flowcell = row['Flowcell']\n",
    "            lib_date = row['DATE']\n",
    "\n",
    "            #read_group_name = '{}_{}_{}_{}'.format(row['oriID'], row['usuhsID'], row['LANE'], lib_date)\n",
    "            read_group_name = '{}_{}_{}_{}'.format(row['Sample_Name'],row['usuhsID'], row['LANE'], lib_date)\n",
    "\n",
    "            this_date_str = datetime.strptime(lib_date, '%y%m%d').strftime('%Y-%m-%d')\n",
    "            #read_group_info = [row['oriID'], row['oriID'], row['Flowcell'], this_date_str, 'ILLUMINA', 'USUHS']\n",
    "            read_group_info = [row['Sample_Name'], row['Sample_Name'], row['Flowcell'], this_date_str, 'ILLUMINA', 'USUHS']\n",
    "\n",
    "            read_group_fastqs = [fastq_format.format(PRJ_BUCKET,COHORT,row['Sample_Name'],row['usuhsID'],row['Adaptor'],row['S'],row['LANE'],'R1'), \\\n",
    "                                fastq_format.format(PRJ_BUCKET,COHORT,row['Sample_Name'],row['usuhsID'],row['Adaptor'],row['S'],row['LANE'],'R2')]\n",
    "            #Sample_Name', 'usuhsID', 'Adaptor', 'S', 'LANE','READ', 'NUM'\n",
    "            sample_data['ConvertPairedFastQsToUnmappedBamWf.readgroup_list'].append(read_group_name)\n",
    "            sample_data['ConvertPairedFastQsToUnmappedBamWf.metadata'].update({read_group_name : read_group_info})\n",
    "            sample_data['ConvertPairedFastQsToUnmappedBamWf.fastq_pairs'].update({read_group_name : read_group_fastqs})\n",
    "        \n",
    "        with open(json_outfile_name,'w') as json_outfile:\n",
    "            json.dump(sample_data,json_outfile,sort_keys=True,indent=4)\n",
    "\n",
    "\n",
    "# save the info of sample_ids into csv file as \"corhort_file_list\"\n",
    "\n",
    "cohort_file_list = '{}/{}.samples.list'.format(WRKDIR,COHORT)\n",
    "pd.DataFrame(data=sample_ids).to_csv(cohort_file_list,header=False,index=False)"
   ]
  },
  {
   "cell_type": "markdown",
   "metadata": {},
   "source": [
    "#### Why use -n option after echo?\n",
    "\n",
    "\\n     new line\n"
   ]
  },
  {
   "cell_type": "code",
   "execution_count": 6,
   "metadata": {},
   "outputs": [
    {
     "name": "stdout",
     "output_type": "stream",
     "text": [
      "OPID=ngcloud alpha genomics pipelines run ccc\n"
     ]
    }
   ],
   "source": [
    "%%bash\n",
    "echo -n OPID=\\n\\\n",
    "gcloud alpha genomics pipelines run \\\n",
    "ccc"
   ]
  },
  {
   "cell_type": "markdown",
   "metadata": {},
   "source": [
    "# change memory to 6"
   ]
  },
  {
   "cell_type": "code",
   "execution_count": 187,
   "metadata": {},
   "outputs": [
    {
     "name": "stdout",
     "output_type": "stream",
     "text": [
      "#run these commands at terminal:\n",
      "\n",
      "chmod +x /Users/pengl7/Downloads/Jax/jax.run_fastqs_to_ubams.sh\n",
      "nohup /Users/pengl7/Downloads/Jax/jax.run_fastqs_to_ubams.sh > /Users/pengl7/Downloads/Jax/jax.run_fastqs_to_ubams.log &\n"
     ]
    }
   ],
   "source": [
    "#define format function the ggp cmd\n",
    "def formatgcpcmd(this_sample,chrt_bucket):\n",
    "    this_cmd = 'echo -n {SAMPLE} OPID=\\n\\\n",
    "gcloud alpha genomics pipelines run \\\n",
    "--project {PROJECT_ID} \\\n",
    "--pipeline-file {PRJ_BUCKET}/tools/wdl_pipeline.yaml \\\n",
    "--zones us-central1-f \\\n",
    "--memory 7 \\\n",
    "--logging {COHORT_BUCKET}/logs/ubams/{SAMPLE} \\\n",
    "--inputs-from-file WDL={WRKDIR}/tools/broad/paired-fastq-to-unmapped-bam.wdl \\\n",
    "--inputs-from-file WORKFLOW_INPUTS={WRKDIR}/jsons/fastqtoubam/{SAMPLE}.fastqtoubam.json \\\n",
    "--inputs-from-file WORKFLOW_OPTIONS={WRKDIR}/jsons/generic.google-papi.options.json \\\n",
    "--inputs WORKSPACE={COHORT_BUCKET}/workspace/{SAMPLE} \\\n",
    "--inputs OUTPUTS={COHORT_BUCKET}/ubams/{SAMPLE} \\\n",
    "--labels=pipe=fastq_to_ubam,sample={LABELNAME},cohort={LCCOHORT},user={MYUSER}'\n",
    "    return(this_cmd.format(SAMPLE=this_sample,PROJECT_ID=PROJECT_ID,PRJ_BUCKET=PRJ_BUCKET,\\\n",
    "                         COHORT_BUCKET=chrt_bucket,WRKDIR=WRKDIR,COHORT=COHORT,\\\n",
    "                          LABELNAME=this_sample.lower(),LCCOHORT=COHORT.lower(),MYUSER=MYUSER))\n",
    "\n",
    "#iterate over samples formatting the cmds\n",
    "cohort_bucket = '{}/{}'.format(PRJ_BUCKET,COHORT)\n",
    "cmds = [formatgcpcmd(sample_id,cohort_bucket) for sample_id in sample_ids]\n",
    "\n",
    "\"\"\"\n",
    "generate the file of /Users/mooreank/Desktop/Mark/UNHS/unhs.run_fastqs_to_ubams.sh\n",
    "each line in the sh is to exercute a the task of fastq_to_ubams for one sample\n",
    "\"\"\"\n",
    "temp_script_file = '{}/{}.run_fastqs_to_ubams.sh'.format(WRKDIR,COHORT.lower())\n",
    "\n",
    "with open(temp_script_file, 'w') as file_handler:\n",
    "        for this_cmd in cmds:\n",
    "            file_handler.write(\"{}\\n\".format(this_cmd))\n",
    "            \n",
    "print('#run these commands at terminal:\\n')\n",
    "print('chmod +x ' + temp_script_file)\n",
    "print('nohup ' + temp_script_file + ' > {}/{}.run_fastqs_to_ubams.log &'.format(WRKDIR,COHORT.lower()))"
   ]
  },
  {
   "cell_type": "markdown",
   "metadata": {},
   "source": [
    "### My previouse one, didn't work"
   ]
  },
  {
   "cell_type": "code",
   "execution_count": 170,
   "metadata": {},
   "outputs": [
    {
     "name": "stdout",
     "output_type": "stream",
     "text": [
      "#run these commands at terminal:\n",
      "\n",
      "chmod +x /Users/pengl7/Downloads/Jax/jax.run_fastqs_to_ubams.sh\n",
      "nohup /Users/pengl7/Downloads/Jax/jax.run_fastqs_to_ubams.sh > /Users/pengl7/Downloads/Jax/jax.run_fastqs_to_ubams.log &\n"
     ]
    }
   ],
   "source": [
    "#define format function the ggp cmd\n",
    "def formatgcpcmd(this_sample,chrt_bucket):\n",
    "    this_cmd = 'echo -n {SAMPLE} OPID=\\n\\\n",
    "gcloud alpha genomics pipelines run \\\n",
    "--project {PROJECT_ID} \\\n",
    "--pipeline-file {WRKDIR}/tools/wdl_pipeline.yaml \\\n",
    "--zones us-central1-f \\\n",
    "--memory 6 \\\n",
    "--logging {COHORT_BUCKET}/IlluminaWGS/logs/ubams/{SAMPLE} \\\n",
    "--inputs-from-file WDL={WRKDIR}/tools/broad/paired-fastq-to-unmapped-bam.wdl \\\n",
    "--inputs-from-file WORKFLOW_INPUTS={WRKDIR}/jsons/fastqtoubam/{SAMPLE}.fastqtoubam.json \\\n",
    "--inputs-from-file WORKFLOW_OPTIONS={WRKDIR}/jsons/generic.google-papi.options.json \\\n",
    "--inputs WORKSPACE={COHORT_BUCKET}/workspace/{SAMPLE} \\\n",
    "--inputs OUTPUTS={COHORT_BUCKET}/ubams/{SAMPLE} \\\n",
    "--labels=pipe=fastq_to_ubam,sample={LABELNAME},cohort={LCCOHORT},user={MYUSER}'\n",
    "    return(this_cmd.format(SAMPLE=this_sample,PROJECT_ID=PROJECT_ID,PRJ_BUCKET=PRJ_BUCKET,\\\n",
    "                         COHORT_BUCKET=chrt_bucket,WRKDIR=WRKDIR,COHORT=COHORT,\\\n",
    "                          LABELNAME=this_sample.lower(),LCCOHORT=COHORT.lower(),MYUSER=MYUSER))\n",
    "\n",
    "#iterate over samples formatting the cmds\n",
    "cohort_bucket = '{}/{}'.format(PRJ_BUCKET,COHORT)\n",
    "cmds = [formatgcpcmd(sample_id,cohort_bucket) for sample_id in sample_ids]\n",
    "\n",
    "#generate the file of /Users/mooreank/Desktop/Mark/UNHS/unhs.run_fastqs_to_ubams.sh\n",
    "#each line in the sh is to exercute a the task of fastq_to_ubams for one sample\n",
    "\n",
    "temp_script_file = '{}/{}.run_fastqs_to_ubams.sh'.format(WRKDIR,COHORT.lower())\n",
    "\n",
    "with open(temp_script_file, 'w') as file_handler:\n",
    "        for this_cmd in cmds:\n",
    "            file_handler.write(\"{}\\n\".format(this_cmd))\n",
    "            \n",
    "print('#run these commands at terminal:\\n')\n",
    "print('chmod +x ' + temp_script_file)\n",
    "print('nohup ' + temp_script_file + ' > {}/{}.run_fastqs_to_ubams.log &'.format(WRKDIR,COHORT.lower()))"
   ]
  },
  {
   "cell_type": "markdown",
   "metadata": {},
   "source": [
    "#### Run this block after started the VM instance of PIPELABEL in gcp???\n",
    "#### How to get MYSUER name??"
   ]
  },
  {
   "cell_type": "code",
   "execution_count": null,
   "metadata": {},
   "outputs": [],
   "source": [
    "11985495783946404650"
   ]
  },
  {
   "cell_type": "code",
   "execution_count": 192,
   "metadata": {},
   "outputs": [
    {
     "name": "stdout",
     "output_type": "stream",
     "text": [
      "       1\r\n"
     ]
    }
   ],
   "source": [
    "cmd2 = f'gcloud compute instances list --project {PROJECT_ID} | grep RUNNING | wc -l'\n",
    "!{cmd2}"
   ]
  },
  {
   "cell_type": "code",
   "execution_count": 193,
   "metadata": {
    "scrolled": true
   },
   "outputs": [
    {
     "name": "stdout",
     "output_type": "stream",
     "text": [
      "done: true\n",
      "error:\n",
      "  code: 9\n",
      "  message: 'Execution failed: generic::failed_precondition: while running \"/bin/sh\n",
      "    -c gsutil -m -q cp gs://singlecellindi/Jax/ubams/KOLF2-ARID2-A2 ${OUTPUTS}\": unexpected\n",
      "    exit status 1 was not ignored'\n",
      "metadata:\n",
      "  events:\n",
      "  - description: Worker released\n",
      "    details:\n",
      "      '@type': type.googleapis.com/google.genomics.v2alpha1.WorkerReleasedEvent\n",
      "      instance: google-pipelines-worker-12b8d6b4d7dddfa4e8a252eb0aeaf376\n",
      "      zone: us-central1-f\n",
      "    timestamp: '2020-07-16T13:31:37.266906975Z'\n",
      "  - description: 'Execution failed: generic::failed_precondition: while running \"/bin/sh\n",
      "      -c gsutil -m -q cp gs://singlecellindi/Jax/ubams/KOLF2-ARID2-A2 ${OUTPUTS}\":\n",
      "      unexpected exit status 1 was not ignored'\n",
      "    details:\n",
      "      '@type': type.googleapis.com/google.genomics.v2alpha1.FailedEvent\n",
      "      cause: 'Execution failed: generic::failed_precondition: while running \"/bin/sh\n",
      "        -c gsutil -m -q cp gs://singlecellindi/Jax/ubams/KOLF2-ARID2-A2 ${OUTPUTS}\":\n",
      "        unexpected exit status 1 was not ignored'\n",
      "      code: FAILED_PRECONDITION\n",
      "    timestamp: '2020-07-16T13:31:36.201832070Z'\n",
      "  - description: Stopped running \"/bin/sh -c gsutil -m -q cp /google/logs/output gs://singlecellindi/Jax/logs/ubams/KOLF2-ARID2-A2\"\n",
      "    details:\n",
      "      '@type': type.googleapis.com/google.genomics.v2alpha1.ContainerStoppedEvent\n",
      "      actionId: 8\n",
      "      exitStatus: 0\n",
      "      stderr: ''\n",
      "    timestamp: '2020-07-16T13:31:36.173355190Z'\n",
      "  - description: Started running \"/bin/sh -c gsutil -m -q cp /google/logs/output gs://singlecellindi/Jax/logs/ubams/KOLF2-ARID2-A2\"\n",
      "    details:\n",
      "      '@type': type.googleapis.com/google.genomics.v2alpha1.ContainerStartedEvent\n",
      "      actionId: 8\n",
      "      ipAddress: ''\n",
      "      portMappings: {}\n",
      "    timestamp: '2020-07-16T13:31:33.904173874Z'\n",
      "  - description: Unexpected exit status 1 while running \"/bin/sh -c gsutil -m -q cp\n",
      "      gs://singlecellindi/Jax/ubams/KOLF2-ARID2-A2 ${OUTPUTS}\"\n",
      "    details:\n",
      "      '@type': type.googleapis.com/google.genomics.v2alpha1.UnexpectedExitStatusEvent\n",
      "      actionId: 4\n",
      "      exitStatus: 1\n",
      "    timestamp: '2020-07-16T13:31:33.814192800Z'\n",
      "  - description: |-\n",
      "      Stopped running \"/bin/sh -c gsutil -m -q cp gs://singlecellindi/Jax/ubams/KOLF2-ARID2-A2 ${OUTPUTS}\": exit status 1: CommandException: No URLs matched: gs://singlecellindi/Jax/ubams/KOLF2-ARID2-A2\n",
      "      CommandException: 1 file/object could not be transferred.\n",
      "    details:\n",
      "      '@type': type.googleapis.com/google.genomics.v2alpha1.ContainerStoppedEvent\n",
      "      actionId: 4\n",
      "      exitStatus: 1\n",
      "      stderr: |\n",
      "        CommandException: No URLs matched: gs://singlecellindi/Jax/ubams/KOLF2-ARID2-A2\n",
      "        CommandException: 1 file/object could not be transferred.\n",
      "    timestamp: '2020-07-16T13:31:33.814180686Z'\n",
      "  - description: Started running \"/bin/sh -c gsutil -m -q cp gs://singlecellindi/Jax/ubams/KOLF2-ARID2-A2\n",
      "      ${OUTPUTS}\"\n",
      "    details:\n",
      "      '@type': type.googleapis.com/google.genomics.v2alpha1.ContainerStartedEvent\n",
      "      actionId: 4\n",
      "      ipAddress: ''\n",
      "      portMappings: {}\n",
      "    timestamp: '2020-07-16T13:31:31.494152096Z'\n",
      "  - description: Stopped running \"/bin/sh -c echo \\\"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\\\"\n",
      "      | base64 -d > ${WDL}\"\n",
      "    details:\n",
      "      '@type': type.googleapis.com/google.genomics.v2alpha1.ContainerStoppedEvent\n",
      "      actionId: 3\n",
      "      exitStatus: 0\n",
      "      stderr: ''\n",
      "    timestamp: '2020-07-16T13:31:31.406724708Z'\n",
      "  - description: Started running \"/bin/sh -c echo \\\"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\\\"\n",
      "      | base64 -d > ${WDL}\"\n",
      "    details:\n",
      "      '@type': type.googleapis.com/google.genomics.v2alpha1.ContainerStartedEvent\n",
      "      actionId: 3\n",
      "      ipAddress: ''\n",
      "      portMappings: {}\n",
      "    timestamp: '2020-07-16T13:31:30.416964729Z'\n",
      "  - description: Stopped running \"/bin/sh -c echo \\\"ewogICAgIkNvbnZlcnRQYWlyZWRGYXN0UXNUb1VubWFwcGVkQmFtV2YuUGFpcmVkRmFzdFFzVG9Vbm1hcHBlZEJBTS5kaXNrX3NpemUiOiA1MDAsCiAgICAiQ29udmVydFBhaXJlZEZhc3RRc1RvVW5tYXBwZWRCYW1XZi5QYWlyZWRGYXN0UXNUb1VubWFwcGVkQkFNLmRvY2tlciI6ICJicm9hZGluc3RpdHV0ZS9nYXRrOjQuMC4xLjIiLAogICAgIkNvbnZlcnRQYWlyZWRGYXN0UXNUb1VubWFwcGVkQmFtV2YuUGFpcmVkRmFzdFFzVG9Vbm1hcHBlZEJBTS5nYXRrX3BhdGgiOiAiL2dhdGsvZ2F0ayIsCiAgICAiQ29udmVydFBhaXJlZEZhc3RRc1RvVW5tYXBwZWRCYW1XZi5QYWlyZWRGYXN0UXNUb1VubWFwcGVkQkFNLm1lbV9zaXplIjogIjMwIEdCIiwKICAgICJDb252ZXJ0UGFpcmVkRmFzdFFzVG9Vbm1hcHBlZEJhbVdmLlBhaXJlZEZhc3RRc1RvVW5tYXBwZWRCQU0ucHJlZW1wdGlibGVfdHJpZXMiOiAzLAogICAgIkNvbnZlcnRQYWlyZWRGYXN0UXNUb1VubWFwcGVkQmFtV2YuZmFzdHFfcGFpcnMiOiB7CiAgICAgICAgIktPTEYyLUFSSUQyLUEyX0dUMjAtMDI0MDhfTDAwM18yMDAyMjEiOiBbCiAgICAgICAgICAgICJnczovL3NpbmdsZWNlbGxpbmRpL0pheC9JbGx1bWlhV0dTL0tPTEYyLUFSSUQyLUEyX0dUMjAtMDI0MDhfQUFHVENDQUEtVEFUR0FHVEFfUzMwM19MMDAzX1IxXzAwMS5mYXN0cS5neiIsCiAgICAgICAgICAgICJnczovL3NpbmdsZWNlbGxpbmRpL0pheC9JbGx1bWlhV0dTL0tPTEYyLUFSSUQyLUEyX0dUMjAtMDI0MDhfQUFHVENDQUEtVEFUR0FHVEFfUzMwM19MMDAzX1IyXzAwMS5mYXN0cS5neiIKICAgICAgICBdCiAgICB9LAogICAgIkNvbnZlcnRQYWlyZWRGYXN0UXNUb1VubWFwcGVkQmFtV2YubWV0YWRhdGEiOiB7CiAgICAgICAgIktPTEYyLUFSSUQyLUEyX0dUMjAtMDI0MDhfTDAwM18yMDAyMjEiOiBbCiAgICAgICAgICAgICJLT0xGMi1BUklEMi1BMiIsCiAgICAgICAgICAgICJLT0xGMi1BUklEMi1BMiIsCiAgICAgICAgICAgICJLT0xGMi1BUklEMi1BMl9HVDIwLTAyNDA4IiwKICAgICAgICAgICAgIjIwMjAtMDItMjEiLAogICAgICAgICAgICAiSUxMVU1JTkEiLAogICAgICAgICAgICAiVVNVSFMiCiAgICAgICAgXQogICAgfSwKICAgICJDb252ZXJ0UGFpcmVkRmFzdFFzVG9Vbm1hcHBlZEJhbVdmLnJlYWRncm91cF9saXN0IjogWwogICAgICAgICJLT0xGMi1BUklEMi1BMl9HVDIwLTAyNDA4X0wwMDNfMjAwMjIxIgogICAgXQp9\\\"\n",
      "      | base64 -d > ${WORKFLOW_INPUTS}\"\n",
      "    details:\n",
      "      '@type': type.googleapis.com/google.genomics.v2alpha1.ContainerStoppedEvent\n",
      "      actionId: 2\n",
      "      exitStatus: 0\n",
      "      stderr: ''\n",
      "    timestamp: '2020-07-16T13:31:30.319724669Z'\n",
      "  - description: Started running \"/bin/sh -c echo \\\"ewogICAgIkNvbnZlcnRQYWlyZWRGYXN0UXNUb1VubWFwcGVkQmFtV2YuUGFpcmVkRmFzdFFzVG9Vbm1hcHBlZEJBTS5kaXNrX3NpemUiOiA1MDAsCiAgICAiQ29udmVydFBhaXJlZEZhc3RRc1RvVW5tYXBwZWRCYW1XZi5QYWlyZWRGYXN0UXNUb1VubWFwcGVkQkFNLmRvY2tlciI6ICJicm9hZGluc3RpdHV0ZS9nYXRrOjQuMC4xLjIiLAogICAgIkNvbnZlcnRQYWlyZWRGYXN0UXNUb1VubWFwcGVkQmFtV2YuUGFpcmVkRmFzdFFzVG9Vbm1hcHBlZEJBTS5nYXRrX3BhdGgiOiAiL2dhdGsvZ2F0ayIsCiAgICAiQ29udmVydFBhaXJlZEZhc3RRc1RvVW5tYXBwZWRCYW1XZi5QYWlyZWRGYXN0UXNUb1VubWFwcGVkQkFNLm1lbV9zaXplIjogIjMwIEdCIiwKICAgICJDb252ZXJ0UGFpcmVkRmFzdFFzVG9Vbm1hcHBlZEJhbVdmLlBhaXJlZEZhc3RRc1RvVW5tYXBwZWRCQU0ucHJlZW1wdGlibGVfdHJpZXMiOiAzLAogICAgIkNvbnZlcnRQYWlyZWRGYXN0UXNUb1VubWFwcGVkQmFtV2YuZmFzdHFfcGFpcnMiOiB7CiAgICAgICAgIktPTEYyLUFSSUQyLUEyX0dUMjAtMDI0MDhfTDAwM18yMDAyMjEiOiBbCiAgICAgICAgICAgICJnczovL3NpbmdsZWNlbGxpbmRpL0pheC9JbGx1bWlhV0dTL0tPTEYyLUFSSUQyLUEyX0dUMjAtMDI0MDhfQUFHVENDQUEtVEFUR0FHVEFfUzMwM19MMDAzX1IxXzAwMS5mYXN0cS5neiIsCiAgICAgICAgICAgICJnczovL3NpbmdsZWNlbGxpbmRpL0pheC9JbGx1bWlhV0dTL0tPTEYyLUFSSUQyLUEyX0dUMjAtMDI0MDhfQUFHVENDQUEtVEFUR0FHVEFfUzMwM19MMDAzX1IyXzAwMS5mYXN0cS5neiIKICAgICAgICBdCiAgICB9LAogICAgIkNvbnZlcnRQYWlyZWRGYXN0UXNUb1VubWFwcGVkQmFtV2YubWV0YWRhdGEiOiB7CiAgICAgICAgIktPTEYyLUFSSUQyLUEyX0dUMjAtMDI0MDhfTDAwM18yMDAyMjEiOiBbCiAgICAgICAgICAgICJLT0xGMi1BUklEMi1BMiIsCiAgICAgICAgICAgICJLT0xGMi1BUklEMi1BMiIsCiAgICAgICAgICAgICJLT0xGMi1BUklEMi1BMl9HVDIwLTAyNDA4IiwKICAgICAgICAgICAgIjIwMjAtMDItMjEiLAogICAgICAgICAgICAiSUxMVU1JTkEiLAogICAgICAgICAgICAiVVNVSFMiCiAgICAgICAgXQogICAgfSwKICAgICJDb252ZXJ0UGFpcmVkRmFzdFFzVG9Vbm1hcHBlZEJhbVdmLnJlYWRncm91cF9saXN0IjogWwogICAgICAgICJLT0xGMi1BUklEMi1BMl9HVDIwLTAyNDA4X0wwMDNfMjAwMjIxIgogICAgXQp9\\\"\n",
      "      | base64 -d > ${WORKFLOW_INPUTS}\"\n",
      "    details:\n",
      "      '@type': type.googleapis.com/google.genomics.v2alpha1.ContainerStartedEvent\n",
      "      actionId: 2\n",
      "      ipAddress: ''\n",
      "      portMappings: {}\n",
      "    timestamp: '2020-07-16T13:31:29.358251108Z'\n",
      "  - description: Stopped running \"/bin/sh -c echo \\\"ewoJInJlYWRfZnJvbV9jYWNoZSI6ZmFsc2UsCgkiZGVmYXVsdF9ydW50aW1lX2F0dHJpYnV0ZXMiOiB7CgkJInpvbmVzIjogInVzLWNlbnRyYWwxLWEgdXMtY2VudHJhbDEtYiB1cy1jZW50cmFsMS1jIHVzLWNlbnRyYWwxLWYiCgl9Cn0=\\\"\n",
      "      | base64 -d > ${WORKFLOW_OPTIONS}\"\n",
      "    details:\n",
      "      '@type': type.googleapis.com/google.genomics.v2alpha1.ContainerStoppedEvent\n",
      "      actionId: 1\n",
      "      exitStatus: 0\n",
      "      stderr: ''\n",
      "    timestamp: '2020-07-16T13:31:29.262347033Z'\n",
      "  - description: Started running \"/bin/sh -c echo \\\"ewoJInJlYWRfZnJvbV9jYWNoZSI6ZmFsc2UsCgkiZGVmYXVsdF9ydW50aW1lX2F0dHJpYnV0ZXMiOiB7CgkJInpvbmVzIjogInVzLWNlbnRyYWwxLWEgdXMtY2VudHJhbDEtYiB1cy1jZW50cmFsMS1jIHVzLWNlbnRyYWwxLWYiCgl9Cn0=\\\"\n",
      "      | base64 -d > ${WORKFLOW_OPTIONS}\"\n",
      "    details:\n",
      "      '@type': type.googleapis.com/google.genomics.v2alpha1.ContainerStartedEvent\n",
      "      actionId: 1\n",
      "      ipAddress: ''\n",
      "      portMappings: {}\n",
      "    timestamp: '2020-07-16T13:31:28.308158483Z'\n",
      "  - description: Stopped pulling \"gcr.io/broad-dsde-outreach/wdl_runner:2019_04_15\"\n",
      "    details:\n",
      "      '@type': type.googleapis.com/google.genomics.v2alpha1.PullStoppedEvent\n",
      "      imageUri: gcr.io/broad-dsde-outreach/wdl_runner:2019_04_15\n",
      "    timestamp: '2020-07-16T13:31:21.491682937Z'\n",
      "  - description: Started pulling \"gcr.io/broad-dsde-outreach/wdl_runner:2019_04_15\"\n",
      "    details:\n",
      "      '@type': type.googleapis.com/google.genomics.v2alpha1.PullStartedEvent\n",
      "      imageUri: gcr.io/broad-dsde-outreach/wdl_runner:2019_04_15\n",
      "    timestamp: '2020-07-16T13:30:29.984649849Z'\n",
      "  - description: Stopped pulling \"gcr.io/cloud-genomics-pipelines/tools\"\n",
      "    details:\n",
      "      '@type': type.googleapis.com/google.genomics.v2alpha1.PullStoppedEvent\n",
      "      imageUri: gcr.io/cloud-genomics-pipelines/tools\n",
      "    timestamp: '2020-07-16T13:30:29.984637883Z'\n",
      "  - description: Started pulling \"gcr.io/cloud-genomics-pipelines/tools\"\n",
      "    details:\n",
      "      '@type': type.googleapis.com/google.genomics.v2alpha1.PullStartedEvent\n",
      "      imageUri: gcr.io/cloud-genomics-pipelines/tools\n",
      "    timestamp: '2020-07-16T13:29:46.899501483Z'\n",
      "  - description: Stopped pulling \"google/cloud-sdk:slim\"\n",
      "    details:\n",
      "      '@type': type.googleapis.com/google.genomics.v2alpha1.PullStoppedEvent\n",
      "      imageUri: google/cloud-sdk:slim\n",
      "    timestamp: '2020-07-16T13:29:46.899495735Z'\n",
      "  - description: Started pulling \"google/cloud-sdk:slim\"\n",
      "    details:\n",
      "      '@type': type.googleapis.com/google.genomics.v2alpha1.PullStartedEvent\n",
      "      imageUri: google/cloud-sdk:slim\n",
      "    timestamp: '2020-07-16T13:29:16.929735741Z'\n",
      "  - description: Worker \"google-pipelines-worker-12b8d6b4d7dddfa4e8a252eb0aeaf376\"\n",
      "      assigned in \"us-central1-f\"\n",
      "    details:\n",
      "      '@type': type.googleapis.com/google.genomics.v2alpha1.WorkerAssignedEvent\n",
      "      instance: google-pipelines-worker-12b8d6b4d7dddfa4e8a252eb0aeaf376\n",
      "      machineType: custom-1-6144\n",
      "      zone: us-central1-f\n",
      "    timestamp: '2020-07-16T13:28:30.641630054Z'\n"
     ]
    }
   ],
   "source": [
    "%%bash\n",
    "\n",
    "OPID=11985495783946404650\n",
    "gcloud alpha genomics operations describe ${OPID} \\\n",
    "--format='yaml(done, error, metadata.events)'"
   ]
  },
  {
   "cell_type": "code",
   "execution_count": 179,
   "metadata": {},
   "outputs": [
    {
     "name": "stdout",
     "output_type": "stream",
     "text": [
      "done: true\n",
      "error:\n",
      "  code: 9\n",
      "  message: 'Execution failed: generic::failed_precondition: while running \"/bin/sh\n",
      "    -c gsutil -m -q cp gs://singlecellindi/Jax/ubams/KOLF2-ARID2-A2 ${OUTPUTS}\": unexpected\n",
      "    exit status 1 was not ignored'\n",
      "metadata:\n",
      "  events:\n",
      "  - description: Worker released\n",
      "    details:\n",
      "      '@type': type.googleapis.com/google.genomics.v2alpha1.WorkerReleasedEvent\n",
      "      instance: google-pipelines-worker-9472da53bc42d904965b3c1b99dba37d\n",
      "      zone: us-central1-f\n",
      "    timestamp: '2020-07-15T22:16:05.860239748Z'\n",
      "  - description: 'Execution failed: generic::failed_precondition: while running \"/bin/sh\n",
      "      -c gsutil -m -q cp gs://singlecellindi/Jax/ubams/KOLF2-ARID2-A2 ${OUTPUTS}\":\n",
      "      unexpected exit status 1 was not ignored'\n",
      "    details:\n",
      "      '@type': type.googleapis.com/google.genomics.v2alpha1.FailedEvent\n",
      "      cause: 'Execution failed: generic::failed_precondition: while running \"/bin/sh\n",
      "        -c gsutil -m -q cp gs://singlecellindi/Jax/ubams/KOLF2-ARID2-A2 ${OUTPUTS}\":\n",
      "        unexpected exit status 1 was not ignored'\n",
      "      code: FAILED_PRECONDITION\n",
      "    timestamp: '2020-07-15T22:16:04.980821029Z'\n",
      "  - description: Stopped running \"/bin/sh -c gsutil -m -q cp /google/logs/output gs://singlecellindi/Jax/IlluminaWGS/logs/ubams/KOLF2-ARID2-A2\"\n",
      "    details:\n",
      "      '@type': type.googleapis.com/google.genomics.v2alpha1.ContainerStoppedEvent\n",
      "      actionId: 8\n",
      "      exitStatus: 0\n",
      "      stderr: ''\n",
      "    timestamp: '2020-07-15T22:16:04.949001830Z'\n",
      "  - description: Started running \"/bin/sh -c gsutil -m -q cp /google/logs/output gs://singlecellindi/Jax/IlluminaWGS/logs/ubams/KOLF2-ARID2-A2\"\n",
      "    details:\n",
      "      '@type': type.googleapis.com/google.genomics.v2alpha1.ContainerStartedEvent\n",
      "      actionId: 8\n",
      "      ipAddress: ''\n",
      "      portMappings: {}\n",
      "    timestamp: '2020-07-15T22:16:02.522761510Z'\n",
      "  - description: Unexpected exit status 1 while running \"/bin/sh -c gsutil -m -q cp\n",
      "      gs://singlecellindi/Jax/ubams/KOLF2-ARID2-A2 ${OUTPUTS}\"\n",
      "    details:\n",
      "      '@type': type.googleapis.com/google.genomics.v2alpha1.UnexpectedExitStatusEvent\n",
      "      actionId: 4\n",
      "      exitStatus: 1\n",
      "    timestamp: '2020-07-15T22:16:02.432754111Z'\n",
      "  - description: |-\n",
      "      Stopped running \"/bin/sh -c gsutil -m -q cp gs://singlecellindi/Jax/ubams/KOLF2-ARID2-A2 ${OUTPUTS}\": exit status 1: CommandException: No URLs matched: gs://singlecellindi/Jax/ubams/KOLF2-ARID2-A2\n",
      "      CommandException: 1 file/object could not be transferred.\n",
      "    details:\n",
      "      '@type': type.googleapis.com/google.genomics.v2alpha1.ContainerStoppedEvent\n",
      "      actionId: 4\n",
      "      exitStatus: 1\n",
      "      stderr: |\n",
      "        CommandException: No URLs matched: gs://singlecellindi/Jax/ubams/KOLF2-ARID2-A2\n",
      "        CommandException: 1 file/object could not be transferred.\n",
      "    timestamp: '2020-07-15T22:16:02.432738301Z'\n",
      "  - description: Started running \"/bin/sh -c gsutil -m -q cp gs://singlecellindi/Jax/ubams/KOLF2-ARID2-A2\n",
      "      ${OUTPUTS}\"\n",
      "    details:\n",
      "      '@type': type.googleapis.com/google.genomics.v2alpha1.ContainerStartedEvent\n",
      "      actionId: 4\n",
      "      ipAddress: ''\n",
      "      portMappings: {}\n",
      "    timestamp: '2020-07-15T22:16:00.077319077Z'\n",
      "  - description: Stopped running \"/bin/sh -c echo \\\"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\\\"\n",
      "      | base64 -d > ${WDL}\"\n",
      "    details:\n",
      "      '@type': type.googleapis.com/google.genomics.v2alpha1.ContainerStoppedEvent\n",
      "      actionId: 3\n",
      "      exitStatus: 0\n",
      "      stderr: ''\n",
      "    timestamp: '2020-07-15T22:15:59.984281018Z'\n",
      "  - description: Started running \"/bin/sh -c echo \\\"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\\\"\n",
      "      | base64 -d > ${WDL}\"\n",
      "    details:\n",
      "      '@type': type.googleapis.com/google.genomics.v2alpha1.ContainerStartedEvent\n",
      "      actionId: 3\n",
      "      ipAddress: ''\n",
      "      portMappings: {}\n",
      "    timestamp: '2020-07-15T22:15:59.024739676Z'\n",
      "  - description: Stopped running \"/bin/sh -c echo \\\"ewogICAgIkNvbnZlcnRQYWlyZWRGYXN0UXNUb1VubWFwcGVkQmFtV2YuUGFpcmVkRmFzdFFzVG9Vbm1hcHBlZEJBTS5kaXNrX3NpemUiOiA1MDAsCiAgICAiQ29udmVydFBhaXJlZEZhc3RRc1RvVW5tYXBwZWRCYW1XZi5QYWlyZWRGYXN0UXNUb1VubWFwcGVkQkFNLmRvY2tlciI6ICJicm9hZGluc3RpdHV0ZS9nYXRrOjQuMC4xLjIiLAogICAgIkNvbnZlcnRQYWlyZWRGYXN0UXNUb1VubWFwcGVkQmFtV2YuUGFpcmVkRmFzdFFzVG9Vbm1hcHBlZEJBTS5nYXRrX3BhdGgiOiAiL2dhdGsvZ2F0ayIsCiAgICAiQ29udmVydFBhaXJlZEZhc3RRc1RvVW5tYXBwZWRCYW1XZi5QYWlyZWRGYXN0UXNUb1VubWFwcGVkQkFNLm1lbV9zaXplIjogIjMwIEdCIiwKICAgICJDb252ZXJ0UGFpcmVkRmFzdFFzVG9Vbm1hcHBlZEJhbVdmLlBhaXJlZEZhc3RRc1RvVW5tYXBwZWRCQU0ucHJlZW1wdGlibGVfdHJpZXMiOiAzLAogICAgIkNvbnZlcnRQYWlyZWRGYXN0UXNUb1VubWFwcGVkQmFtV2YuZmFzdHFfcGFpcnMiOiB7CiAgICAgICAgIktPTEYyLUFSSUQyLUEyX0dUMjAtMDI0MDhfTDAwM18yMDAyMjEiOiBbCiAgICAgICAgICAgICJnczovL3NpbmdsZWNlbGxpbmRpL0pheC9JbGx1bWlhV0dTL0tPTEYyLUFSSUQyLUEyX0dUMjAtMDI0MDhfQUFHVENDQUEtVEFUR0FHVEFfUzMwM19MMDAzX1IxXzAwMS5mYXN0cS5neiIsCiAgICAgICAgICAgICJnczovL3NpbmdsZWNlbGxpbmRpL0pheC9JbGx1bWlhV0dTL0tPTEYyLUFSSUQyLUEyX0dUMjAtMDI0MDhfQUFHVENDQUEtVEFUR0FHVEFfUzMwM19MMDAzX1IyXzAwMS5mYXN0cS5neiIKICAgICAgICBdCiAgICB9LAogICAgIkNvbnZlcnRQYWlyZWRGYXN0UXNUb1VubWFwcGVkQmFtV2YubWV0YWRhdGEiOiB7CiAgICAgICAgIktPTEYyLUFSSUQyLUEyX0dUMjAtMDI0MDhfTDAwM18yMDAyMjEiOiBbCiAgICAgICAgICAgICJHVDIwLTAyNDA4IiwKICAgICAgICAgICAgIkdUMjAtMDI0MDgiLAogICAgICAgICAgICAiS09MRjItQVJJRDItQTJfR1QyMC0wMjQwOCIsCiAgICAgICAgICAgICIyMDIwLTAyLTIxIiwKICAgICAgICAgICAgIklMTFVNSU5BIiwKICAgICAgICAgICAgIlVTVUhTIgogICAgICAgIF0KICAgIH0sCiAgICAiQ29udmVydFBhaXJlZEZhc3RRc1RvVW5tYXBwZWRCYW1XZi5yZWFkZ3JvdXBfbGlzdCI6IFsKICAgICAgICAiS09MRjItQVJJRDItQTJfR1QyMC0wMjQwOF9MMDAzXzIwMDIyMSIKICAgIF0KfQ==\\\"\n",
      "      | base64 -d > ${WORKFLOW_INPUTS}\"\n",
      "    details:\n",
      "      '@type': type.googleapis.com/google.genomics.v2alpha1.ContainerStoppedEvent\n",
      "      actionId: 2\n",
      "      exitStatus: 0\n",
      "      stderr: ''\n",
      "    timestamp: '2020-07-15T22:15:58.934293368Z'\n",
      "  - description: Started running \"/bin/sh -c echo \\\"ewogICAgIkNvbnZlcnRQYWlyZWRGYXN0UXNUb1VubWFwcGVkQmFtV2YuUGFpcmVkRmFzdFFzVG9Vbm1hcHBlZEJBTS5kaXNrX3NpemUiOiA1MDAsCiAgICAiQ29udmVydFBhaXJlZEZhc3RRc1RvVW5tYXBwZWRCYW1XZi5QYWlyZWRGYXN0UXNUb1VubWFwcGVkQkFNLmRvY2tlciI6ICJicm9hZGluc3RpdHV0ZS9nYXRrOjQuMC4xLjIiLAogICAgIkNvbnZlcnRQYWlyZWRGYXN0UXNUb1VubWFwcGVkQmFtV2YuUGFpcmVkRmFzdFFzVG9Vbm1hcHBlZEJBTS5nYXRrX3BhdGgiOiAiL2dhdGsvZ2F0ayIsCiAgICAiQ29udmVydFBhaXJlZEZhc3RRc1RvVW5tYXBwZWRCYW1XZi5QYWlyZWRGYXN0UXNUb1VubWFwcGVkQkFNLm1lbV9zaXplIjogIjMwIEdCIiwKICAgICJDb252ZXJ0UGFpcmVkRmFzdFFzVG9Vbm1hcHBlZEJhbVdmLlBhaXJlZEZhc3RRc1RvVW5tYXBwZWRCQU0ucHJlZW1wdGlibGVfdHJpZXMiOiAzLAogICAgIkNvbnZlcnRQYWlyZWRGYXN0UXNUb1VubWFwcGVkQmFtV2YuZmFzdHFfcGFpcnMiOiB7CiAgICAgICAgIktPTEYyLUFSSUQyLUEyX0dUMjAtMDI0MDhfTDAwM18yMDAyMjEiOiBbCiAgICAgICAgICAgICJnczovL3NpbmdsZWNlbGxpbmRpL0pheC9JbGx1bWlhV0dTL0tPTEYyLUFSSUQyLUEyX0dUMjAtMDI0MDhfQUFHVENDQUEtVEFUR0FHVEFfUzMwM19MMDAzX1IxXzAwMS5mYXN0cS5neiIsCiAgICAgICAgICAgICJnczovL3NpbmdsZWNlbGxpbmRpL0pheC9JbGx1bWlhV0dTL0tPTEYyLUFSSUQyLUEyX0dUMjAtMDI0MDhfQUFHVENDQUEtVEFUR0FHVEFfUzMwM19MMDAzX1IyXzAwMS5mYXN0cS5neiIKICAgICAgICBdCiAgICB9LAogICAgIkNvbnZlcnRQYWlyZWRGYXN0UXNUb1VubWFwcGVkQmFtV2YubWV0YWRhdGEiOiB7CiAgICAgICAgIktPTEYyLUFSSUQyLUEyX0dUMjAtMDI0MDhfTDAwM18yMDAyMjEiOiBbCiAgICAgICAgICAgICJHVDIwLTAyNDA4IiwKICAgICAgICAgICAgIkdUMjAtMDI0MDgiLAogICAgICAgICAgICAiS09MRjItQVJJRDItQTJfR1QyMC0wMjQwOCIsCiAgICAgICAgICAgICIyMDIwLTAyLTIxIiwKICAgICAgICAgICAgIklMTFVNSU5BIiwKICAgICAgICAgICAgIlVTVUhTIgogICAgICAgIF0KICAgIH0sCiAgICAiQ29udmVydFBhaXJlZEZhc3RRc1RvVW5tYXBwZWRCYW1XZi5yZWFkZ3JvdXBfbGlzdCI6IFsKICAgICAgICAiS09MRjItQVJJRDItQTJfR1QyMC0wMjQwOF9MMDAzXzIwMDIyMSIKICAgIF0KfQ==\\\"\n",
      "      | base64 -d > ${WORKFLOW_INPUTS}\"\n",
      "    details:\n",
      "      '@type': type.googleapis.com/google.genomics.v2alpha1.ContainerStartedEvent\n",
      "      actionId: 2\n",
      "      ipAddress: ''\n",
      "      portMappings: {}\n",
      "    timestamp: '2020-07-15T22:15:58.017387616Z'\n",
      "  - description: Stopped running \"/bin/sh -c echo \\\"ewoJInJlYWRfZnJvbV9jYWNoZSI6ZmFsc2UsCgkiZGVmYXVsdF9ydW50aW1lX2F0dHJpYnV0ZXMiOiB7CgkJInpvbmVzIjogInVzLWNlbnRyYWwxLWEgdXMtY2VudHJhbDEtYiB1cy1jZW50cmFsMS1jIHVzLWNlbnRyYWwxLWYiCgl9Cn0=\\\"\n",
      "      | base64 -d > ${WORKFLOW_OPTIONS}\"\n",
      "    details:\n",
      "      '@type': type.googleapis.com/google.genomics.v2alpha1.ContainerStoppedEvent\n",
      "      actionId: 1\n",
      "      exitStatus: 0\n",
      "      stderr: ''\n",
      "    timestamp: '2020-07-15T22:15:57.931378260Z'\n",
      "  - description: Started running \"/bin/sh -c echo \\\"ewoJInJlYWRfZnJvbV9jYWNoZSI6ZmFsc2UsCgkiZGVmYXVsdF9ydW50aW1lX2F0dHJpYnV0ZXMiOiB7CgkJInpvbmVzIjogInVzLWNlbnRyYWwxLWEgdXMtY2VudHJhbDEtYiB1cy1jZW50cmFsMS1jIHVzLWNlbnRyYWwxLWYiCgl9Cn0=\\\"\n",
      "      | base64 -d > ${WORKFLOW_OPTIONS}\"\n",
      "    details:\n",
      "      '@type': type.googleapis.com/google.genomics.v2alpha1.ContainerStartedEvent\n",
      "      actionId: 1\n",
      "      ipAddress: ''\n",
      "      portMappings: {}\n",
      "    timestamp: '2020-07-15T22:15:57.029924421Z'\n",
      "  - description: Stopped pulling \"gcr.io/broad-dsde-outreach/wdl_runner:2019_04_15\"\n",
      "    details:\n",
      "      '@type': type.googleapis.com/google.genomics.v2alpha1.PullStoppedEvent\n",
      "      imageUri: gcr.io/broad-dsde-outreach/wdl_runner:2019_04_15\n",
      "    timestamp: '2020-07-15T22:15:50.169986406Z'\n",
      "  - description: Started pulling \"gcr.io/broad-dsde-outreach/wdl_runner:2019_04_15\"\n",
      "    details:\n",
      "      '@type': type.googleapis.com/google.genomics.v2alpha1.PullStartedEvent\n",
      "      imageUri: gcr.io/broad-dsde-outreach/wdl_runner:2019_04_15\n",
      "    timestamp: '2020-07-15T22:14:59.456757010Z'\n",
      "  - description: Stopped pulling \"gcr.io/cloud-genomics-pipelines/tools\"\n",
      "    details:\n",
      "      '@type': type.googleapis.com/google.genomics.v2alpha1.PullStoppedEvent\n",
      "      imageUri: gcr.io/cloud-genomics-pipelines/tools\n",
      "    timestamp: '2020-07-15T22:14:59.456751419Z'\n",
      "  - description: Started pulling \"gcr.io/cloud-genomics-pipelines/tools\"\n",
      "    details:\n",
      "      '@type': type.googleapis.com/google.genomics.v2alpha1.PullStartedEvent\n",
      "      imageUri: gcr.io/cloud-genomics-pipelines/tools\n",
      "    timestamp: '2020-07-15T22:14:16.385692907Z'\n",
      "  - description: Stopped pulling \"google/cloud-sdk:slim\"\n",
      "    details:\n",
      "      '@type': type.googleapis.com/google.genomics.v2alpha1.PullStoppedEvent\n",
      "      imageUri: google/cloud-sdk:slim\n",
      "    timestamp: '2020-07-15T22:14:16.385687499Z'\n",
      "  - description: Started pulling \"google/cloud-sdk:slim\"\n",
      "    details:\n",
      "      '@type': type.googleapis.com/google.genomics.v2alpha1.PullStartedEvent\n",
      "      imageUri: google/cloud-sdk:slim\n",
      "    timestamp: '2020-07-15T22:13:45.108277331Z'\n",
      "  - description: Worker \"google-pipelines-worker-9472da53bc42d904965b3c1b99dba37d\"\n",
      "      assigned in \"us-central1-f\"\n",
      "    details:\n",
      "      '@type': type.googleapis.com/google.genomics.v2alpha1.WorkerAssignedEvent\n",
      "      instance: google-pipelines-worker-9472da53bc42d904965b3c1b99dba37d\n",
      "      machineType: custom-1-6144\n",
      "      zone: us-central1-f\n",
      "    timestamp: '2020-07-15T22:12:59.939020726Z'\n"
     ]
    }
   ],
   "source": [
    "%%bash\n",
    "\n",
    "OPID=2147274750968318430\n",
    "gcloud alpha genomics operations describe ${OPID} \\\n",
    "--format='yaml(done, error, metadata.events)'"
   ]
  },
  {
   "cell_type": "code",
   "execution_count": 156,
   "metadata": {},
   "outputs": [
    {
     "name": "stdout",
     "output_type": "stream",
     "text": [
      "done: true\n",
      "error:\n",
      "  code: 9\n",
      "  message: 'Execution failed: generic::failed_precondition: while running \"/bin/sh\n",
      "    -c gsutil -m -q cp gs://singlecellindi/Jax/IlluminaWGS/ubams/KOLF2-ARID2-A2 ${OUTPUTS}\":\n",
      "    unexpected exit status 1 was not ignored'\n",
      "metadata:\n",
      "  events:\n",
      "  - description: Worker released\n",
      "    details:\n",
      "      '@type': type.googleapis.com/google.genomics.v2alpha1.WorkerReleasedEvent\n",
      "      instance: google-pipelines-worker-eb2a5d0ec55c7e89b9c3396f38a64db8\n",
      "      zone: us-central1-f\n",
      "    timestamp: '2020-07-15T21:05:39.048982795Z'\n",
      "  - description: 'Execution failed: generic::failed_precondition: while running \"/bin/sh\n",
      "      -c gsutil -m -q cp gs://singlecellindi/Jax/IlluminaWGS/ubams/KOLF2-ARID2-A2\n",
      "      ${OUTPUTS}\": unexpected exit status 1 was not ignored'\n",
      "    details:\n",
      "      '@type': type.googleapis.com/google.genomics.v2alpha1.FailedEvent\n",
      "      cause: 'Execution failed: generic::failed_precondition: while running \"/bin/sh\n",
      "        -c gsutil -m -q cp gs://singlecellindi/Jax/IlluminaWGS/ubams/KOLF2-ARID2-A2\n",
      "        ${OUTPUTS}\": unexpected exit status 1 was not ignored'\n",
      "      code: FAILED_PRECONDITION\n",
      "    timestamp: '2020-07-15T21:05:38.093523657Z'\n",
      "  - description: Stopped running \"/bin/sh -c gsutil -m -q cp /google/logs/output gs://singlecellindi/Jax/IlluminaWGS/logs/ubams/KOLF2-ARID2-A2\"\n",
      "    details:\n",
      "      '@type': type.googleapis.com/google.genomics.v2alpha1.ContainerStoppedEvent\n",
      "      actionId: 8\n",
      "      exitStatus: 0\n",
      "      stderr: ''\n",
      "    timestamp: '2020-07-15T21:05:38.061561291Z'\n",
      "  - description: Started running \"/bin/sh -c gsutil -m -q cp /google/logs/output gs://singlecellindi/Jax/IlluminaWGS/logs/ubams/KOLF2-ARID2-A2\"\n",
      "    details:\n",
      "      '@type': type.googleapis.com/google.genomics.v2alpha1.ContainerStartedEvent\n",
      "      actionId: 8\n",
      "      ipAddress: ''\n",
      "      portMappings: {}\n",
      "    timestamp: '2020-07-15T21:05:35.634091563Z'\n",
      "  - description: Unexpected exit status 1 while running \"/bin/sh -c gsutil -m -q cp\n",
      "      gs://singlecellindi/Jax/IlluminaWGS/ubams/KOLF2-ARID2-A2 ${OUTPUTS}\"\n",
      "    details:\n",
      "      '@type': type.googleapis.com/google.genomics.v2alpha1.UnexpectedExitStatusEvent\n",
      "      actionId: 4\n",
      "      exitStatus: 1\n",
      "    timestamp: '2020-07-15T21:05:35.543980823Z'\n",
      "  - description: |-\n",
      "      Stopped running \"/bin/sh -c gsutil -m -q cp gs://singlecellindi/Jax/IlluminaWGS/ubams/KOLF2-ARID2-A2 ${OUTPUTS}\": exit status 1: CommandException: No URLs matched: gs://singlecellindi/Jax/IlluminaWGS/ubams/KOLF2-ARID2-A2\n",
      "      CommandException: 1 file/object could not be transferred.\n",
      "    details:\n",
      "      '@type': type.googleapis.com/google.genomics.v2alpha1.ContainerStoppedEvent\n",
      "      actionId: 4\n",
      "      exitStatus: 1\n",
      "      stderr: |\n",
      "        CommandException: No URLs matched: gs://singlecellindi/Jax/IlluminaWGS/ubams/KOLF2-ARID2-A2\n",
      "        CommandException: 1 file/object could not be transferred.\n",
      "    timestamp: '2020-07-15T21:05:35.543970922Z'\n",
      "  - description: Started running \"/bin/sh -c gsutil -m -q cp gs://singlecellindi/Jax/IlluminaWGS/ubams/KOLF2-ARID2-A2\n",
      "      ${OUTPUTS}\"\n",
      "    details:\n",
      "      '@type': type.googleapis.com/google.genomics.v2alpha1.ContainerStartedEvent\n",
      "      actionId: 4\n",
      "      ipAddress: ''\n",
      "      portMappings: {}\n",
      "    timestamp: '2020-07-15T21:05:33.096947149Z'\n",
      "  - description: Stopped running \"/bin/sh -c echo \\\"IyMgQ29weXJpZ2h0IEJyb2FkIEluc3RpdHV0ZSwgMjAxNwojIyAKIyMgVGhpcyBXREwgY29udmVydHMgcGFpcmVkIEZBU1RRIHRvIHVCQU0gYW5kIGFkZHMgcmVhZCBncm91cCBpbmZvcm1hdGlvbiAKIyMKIyMgUmVxdWlyZW1lbnRzL2V4cGVjdGF0aW9ucyA6CiMjIC0gUGFpci1lbmQgc2VxdWVuY2luZyBkYXRhIGluIEZBU1RRIGZvcm1hdCAob25lIGZpbGUgcGVyIG9yaWVudGF0aW9uKQojIyAtIE9uZSBvciBtb3JlIHJlYWQgZ3JvdXBzLCBvbmUgcGVyIHBhaXIgb2YgRkFTVFEgZmlsZXMgCiMjCiMjIE91dHB1dHMgOgojIyAtIFNldCBvZiB1bm1hcHBlZCBCQU1zLCBvbmUgcGVyIHJlYWQgZ3JvdXAKIyMKIyMgQ3JvbXdlbGwgdmVyc2lvbiBzdXBwb3J0IAojIyAtIFN1Y2Nlc3NmdWxseSB0ZXN0ZWQgb24gdjI0CiMjIC0gRG9lcyBub3Qgd29yayBvbiB2ZXJzaW9ucyA8IHYyMyBkdWUgdG8gb3V0cHV0IHN5bnRheAojIwojIyBSdW50aW1lIHBhcmFtZXRlcnMgYXJlIG9wdGltaXplZCBmb3IgQnJvYWQncyBHb29nbGUgQ2xvdWQgUGxhdGZvcm0gaW1wbGVtZW50YXRpb24uIAojIyBGb3IgcHJvZ3JhbSB2ZXJzaW9ucywgc2VlIGRvY2tlciBjb250YWluZXJzLiAKIyMKIyMgTElDRU5TSU5HIDogCiMjIFRoaXMgc2NyaXB0IGlzIHJlbGVhc2VkIHVuZGVyIHRoZSBXREwgc291cmNlIGNvZGUgbGljZW5zZSAoQlNELTMpIChzZWUgTElDRU5TRSBpbiAKIyMgaHR0cHM6Ly9naXRodWIuY29tL2Jyb2FkaW5zdGl0dXRlL3dkbCkuIE5vdGUgaG93ZXZlciB0aGF0IHRoZSBwcm9ncmFtcyBpdCBjYWxscyBtYXkgCiMjIGJlIHN1YmplY3QgdG8gZGlmZmVyZW50IGxpY2Vuc2VzLiBVc2VycyBhcmUgcmVzcG9uc2libGUgZm9yIGNoZWNraW5nIHRoYXQgdGhleSBhcmUKIyMgYXV0aG9yaXplZCB0byBydW4gYWxsIHByb2dyYW1zIGJlZm9yZSBydW5uaW5nIHRoaXMgc2NyaXB0LiBQbGVhc2Ugc2VlIHRoZSBkb2NrZXIgCiMjIHBhZ2UgYXQgaHR0cHM6Ly9odWIuZG9ja2VyLmNvbS9yL2Jyb2FkaW5zdGl0dXRlL2dlbm9tZXMtaW4tdGhlLWNsb3VkLyBmb3IgZGV0YWlsZWQKIyMgbGljZW5zaW5nIGluZm9ybWF0aW9uIHBlcnRhaW5pbmcgdG8gdGhlIGluY2x1ZGVkIHByb2dyYW1zLgoKIyBXT1JLRkxPVyBERUZJTklUSU9OCndvcmtmbG93IENvbnZlcnRQYWlyZWRGYXN0UXNUb1VubWFwcGVkQmFtV2YgewogIEFycmF5W1N0cmluZ10gcmVhZGdyb3VwX2xpc3QKICBNYXBbU3RyaW5nLCBBcnJheVtGaWxlXV0gZmFzdHFfcGFpcnMKICBNYXBbU3RyaW5nLCBBcnJheVtTdHJpbmddXSBtZXRhZGF0YQoKICAjIENvbnZlcnQgbXVsdGlwbGUgcGFpcnMgb2YgaW5wdXQgZmFzdHFzIGluIHBhcmFsbGVsCiAgc2NhdHRlciAocmVhZGdyb3VwIGluIHJlYWRncm91cF9saXN0KSB7CgogICAgIyBDb252ZXJ0IHBhaXIgb2YgRkFTVFFzIHRvIHVCQU0KICAgIGNhbGwgUGFpcmVkRmFzdFFzVG9Vbm1hcHBlZEJBTSB7CiAgICAgIGlucHV0OgogICAgICAgIGZhc3RxXzEgPSBmYXN0cV9wYWlyc1tyZWFkZ3JvdXBdWzBdLAogICAgICAgIGZhc3RxXzIgPSBmYXN0cV9wYWlyc1tyZWFkZ3JvdXBdWzFdLAogICAgICAgIHJlYWRncm91cF9uYW1lID0gcmVhZGdyb3VwLAogICAgICAgIHNhbXBsZV9uYW1lID0gbWV0YWRhdGFbcmVhZGdyb3VwXVswXSwKICAgICAgICBsaWJyYXJ5X25hbWUgPSBtZXRhZGF0YVtyZWFkZ3JvdXBdWzFdLAogICAgICAgIHBsYXRmb3JtX3VuaXQgPSBtZXRhZGF0YVtyZWFkZ3JvdXBdWzJdLAogICAgICAgIHJ1bl9kYXRlID0gbWV0YWRhdGFbcmVhZGdyb3VwXVszXSwKICAgICAgICBwbGF0Zm9ybV9uYW1lID0gbWV0YWRhdGFbcmVhZGdyb3VwXVs0XSwKICAgICAgICBzZXF1ZW5jaW5nX2NlbnRlciA9IG1ldGFkYXRhW3JlYWRncm91cF1bNV0KICAgIH0KICB9CgogICMgT3V0cHV0cyB0aGF0IHdpbGwgYmUgcmV0YWluZWQgd2hlbiBleGVjdXRpb24gaXMgY29tcGxldGUKICBvdXRwdXQgewogICAgQXJyYXlbRmlsZV0gb3V0cHV0X2JhbXMgPSBQYWlyZWRGYXN0UXNUb1VubWFwcGVkQkFNLm91dHB1dF9iYW0KICB9Cn0KCiMgVEFTSyBERUZJTklUSU9OUwoKIyBDb252ZXJ0IGEgcGFpciBvZiBGQVNUUXMgdG8gdUJBTQp0YXNrIFBhaXJlZEZhc3RRc1RvVW5tYXBwZWRCQU0gewogIEZpbGUgZmFzdHFfMQogIEZpbGUgZmFzdHFfMgogIFN0cmluZyByZWFkZ3JvdXBfbmFtZQogIFN0cmluZyBzYW1wbGVfbmFtZQogIFN0cmluZyBsaWJyYXJ5X25hbWUKICBTdHJpbmcgcGxhdGZvcm1fdW5pdAogIFN0cmluZyBydW5fZGF0ZQogIFN0cmluZyBwbGF0Zm9ybV9uYW1lCiAgU3RyaW5nIHNlcXVlbmNpbmdfY2VudGVyCiAgSW50IGRpc2tfc2l6ZQogIFN0cmluZyBtZW1fc2l6ZQogIFN0cmluZyBkb2NrZXIKICBTdHJpbmcgZ2F0a19wYXRoCiAgSW50IHByZWVtcHRpYmxlX3RyaWVzCgogIGNvbW1hbmQgPDw8CiAgICAke2dhdGtfcGF0aH0gLS1qYXZhLW9wdGlvbnMgIi1YbXgkKGdyZXAgTWVtVG90YWwgL3Byb2MvbWVtaW5mbyB8IGF3ayAne3ByaW50ICQyfScpayIgXAogICAgICBGYXN0cVRvU2FtIFwKICAgICAgLS1GQVNUUSAke2Zhc3RxXzF9IFwKICAgICAgLS1GQVNUUTIgJHtmYXN0cV8yfSBcCiAgICAgIC0tT1VUUFVUICR7cmVhZGdyb3VwX25hbWV9LnVubWFwcGVkLmJhbSBcCiAgICAgIC0tUkVBRF9HUk9VUF9OQU1FICR7cmVhZGdyb3VwX25hbWV9IFwKICAgICAgLS1TQU1QTEVfTkFNRSAke3NhbXBsZV9uYW1lfSBcCiAgICAgIC0tTElCUkFSWV9OQU1FICR7bGlicmFyeV9uYW1lfSBcCiAgICAgIC0tUExBVEZPUk1fVU5JVCAke3BsYXRmb3JtX3VuaXR9IFwKICAgICAgLS1SVU5fREFURSAke3J1bl9kYXRlfSBcCiAgICAgIC0tUExBVEZPUk0gJHtwbGF0Zm9ybV9uYW1lfSBcCiAgICAgIC0tU0VRVUVOQ0lOR19DRU5URVIgJHtzZXF1ZW5jaW5nX2NlbnRlcn0gCiAgPj4+CiAgcnVudGltZSB7CiAgICBkb2NrZXI6IGRvY2tlcgogICAgbWVtb3J5OiBtZW1fc2l6ZQogICAgY3B1OiAiMSIKICAgIGRpc2tzOiAibG9jYWwtZGlzayAiICsgZGlza19zaXplICsgIiBIREQiCiAgICBwcmVlbXB0aWJsZTogcHJlZW1wdGlibGVfdHJpZXMKICB9CiAgb3V0cHV0IHsKICAgIEZpbGUgb3V0cHV0X2JhbSA9ICIke3JlYWRncm91cF9uYW1lfS51bm1hcHBlZC5iYW0iCiAgfQp9Cgo=\\\"\n",
      "      | base64 -d > ${WDL}\"\n",
      "    details:\n",
      "      '@type': type.googleapis.com/google.genomics.v2alpha1.ContainerStoppedEvent\n",
      "      actionId: 3\n",
      "      exitStatus: 0\n",
      "      stderr: ''\n",
      "    timestamp: '2020-07-15T21:05:33.007831079Z'\n",
      "  - description: Started running \"/bin/sh -c echo \\\"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\\\"\n",
      "      | base64 -d > ${WDL}\"\n",
      "    details:\n",
      "      '@type': type.googleapis.com/google.genomics.v2alpha1.ContainerStartedEvent\n",
      "      actionId: 3\n",
      "      ipAddress: ''\n",
      "      portMappings: {}\n",
      "    timestamp: '2020-07-15T21:05:32.024607316Z'\n",
      "  - description: Stopped running \"/bin/sh -c echo \\\"ewogICAgIkNvbnZlcnRQYWlyZWRGYXN0UXNUb1VubWFwcGVkQmFtV2YuUGFpcmVkRmFzdFFzVG9Vbm1hcHBlZEJBTS5kaXNrX3NpemUiOiA1MDAsCiAgICAiQ29udmVydFBhaXJlZEZhc3RRc1RvVW5tYXBwZWRCYW1XZi5QYWlyZWRGYXN0UXNUb1VubWFwcGVkQkFNLmRvY2tlciI6ICJicm9hZGluc3RpdHV0ZS9nYXRrOjQuMC4xLjIiLAogICAgIkNvbnZlcnRQYWlyZWRGYXN0UXNUb1VubWFwcGVkQmFtV2YuUGFpcmVkRmFzdFFzVG9Vbm1hcHBlZEJBTS5nYXRrX3BhdGgiOiAiL2dhdGsvZ2F0ayIsCiAgICAiQ29udmVydFBhaXJlZEZhc3RRc1RvVW5tYXBwZWRCYW1XZi5QYWlyZWRGYXN0UXNUb1VubWFwcGVkQkFNLm1lbV9zaXplIjogIjMwIEdCIiwKICAgICJDb252ZXJ0UGFpcmVkRmFzdFFzVG9Vbm1hcHBlZEJhbVdmLlBhaXJlZEZhc3RRc1RvVW5tYXBwZWRCQU0ucHJlZW1wdGlibGVfdHJpZXMiOiAzLAogICAgIkNvbnZlcnRQYWlyZWRGYXN0UXNUb1VubWFwcGVkQmFtV2YuZmFzdHFfcGFpcnMiOiB7fSwKICAgICJDb252ZXJ0UGFpcmVkRmFzdFFzVG9Vbm1hcHBlZEJhbVdmLm1ldGFkYXRhIjoge30sCiAgICAiQ29udmVydFBhaXJlZEZhc3RRc1RvVW5tYXBwZWRCYW1XZi5yZWFkZ3JvdXBfbGlzdCI6IFtdCn0=\\\"\n",
      "      | base64 -d > ${WORKFLOW_INPUTS}\"\n",
      "    details:\n",
      "      '@type': type.googleapis.com/google.genomics.v2alpha1.ContainerStoppedEvent\n",
      "      actionId: 2\n",
      "      exitStatus: 0\n",
      "      stderr: ''\n",
      "    timestamp: '2020-07-15T21:05:31.934140583Z'\n",
      "  - description: Started running \"/bin/sh -c echo \\\"ewogICAgIkNvbnZlcnRQYWlyZWRGYXN0UXNUb1VubWFwcGVkQmFtV2YuUGFpcmVkRmFzdFFzVG9Vbm1hcHBlZEJBTS5kaXNrX3NpemUiOiA1MDAsCiAgICAiQ29udmVydFBhaXJlZEZhc3RRc1RvVW5tYXBwZWRCYW1XZi5QYWlyZWRGYXN0UXNUb1VubWFwcGVkQkFNLmRvY2tlciI6ICJicm9hZGluc3RpdHV0ZS9nYXRrOjQuMC4xLjIiLAogICAgIkNvbnZlcnRQYWlyZWRGYXN0UXNUb1VubWFwcGVkQmFtV2YuUGFpcmVkRmFzdFFzVG9Vbm1hcHBlZEJBTS5nYXRrX3BhdGgiOiAiL2dhdGsvZ2F0ayIsCiAgICAiQ29udmVydFBhaXJlZEZhc3RRc1RvVW5tYXBwZWRCYW1XZi5QYWlyZWRGYXN0UXNUb1VubWFwcGVkQkFNLm1lbV9zaXplIjogIjMwIEdCIiwKICAgICJDb252ZXJ0UGFpcmVkRmFzdFFzVG9Vbm1hcHBlZEJhbVdmLlBhaXJlZEZhc3RRc1RvVW5tYXBwZWRCQU0ucHJlZW1wdGlibGVfdHJpZXMiOiAzLAogICAgIkNvbnZlcnRQYWlyZWRGYXN0UXNUb1VubWFwcGVkQmFtV2YuZmFzdHFfcGFpcnMiOiB7fSwKICAgICJDb252ZXJ0UGFpcmVkRmFzdFFzVG9Vbm1hcHBlZEJhbVdmLm1ldGFkYXRhIjoge30sCiAgICAiQ29udmVydFBhaXJlZEZhc3RRc1RvVW5tYXBwZWRCYW1XZi5yZWFkZ3JvdXBfbGlzdCI6IFtdCn0=\\\"\n",
      "      | base64 -d > ${WORKFLOW_INPUTS}\"\n",
      "    details:\n",
      "      '@type': type.googleapis.com/google.genomics.v2alpha1.ContainerStartedEvent\n",
      "      actionId: 2\n",
      "      ipAddress: ''\n",
      "      portMappings: {}\n",
      "    timestamp: '2020-07-15T21:05:31.000550150Z'\n",
      "  - description: Stopped running \"/bin/sh -c echo \\\"ewoJInJlYWRfZnJvbV9jYWNoZSI6ZmFsc2UsCgkiZGVmYXVsdF9ydW50aW1lX2F0dHJpYnV0ZXMiOiB7CgkJInpvbmVzIjogInVzLWNlbnRyYWwxLWEgdXMtY2VudHJhbDEtYiB1cy1jZW50cmFsMS1jIHVzLWNlbnRyYWwxLWYiCgl9Cn0=\\\"\n",
      "      | base64 -d > ${WORKFLOW_OPTIONS}\"\n",
      "    details:\n",
      "      '@type': type.googleapis.com/google.genomics.v2alpha1.ContainerStoppedEvent\n",
      "      actionId: 1\n",
      "      exitStatus: 0\n",
      "      stderr: ''\n",
      "    timestamp: '2020-07-15T21:05:30.909866626Z'\n",
      "  - description: Started running \"/bin/sh -c echo \\\"ewoJInJlYWRfZnJvbV9jYWNoZSI6ZmFsc2UsCgkiZGVmYXVsdF9ydW50aW1lX2F0dHJpYnV0ZXMiOiB7CgkJInpvbmVzIjogInVzLWNlbnRyYWwxLWEgdXMtY2VudHJhbDEtYiB1cy1jZW50cmFsMS1jIHVzLWNlbnRyYWwxLWYiCgl9Cn0=\\\"\n",
      "      | base64 -d > ${WORKFLOW_OPTIONS}\"\n",
      "    details:\n",
      "      '@type': type.googleapis.com/google.genomics.v2alpha1.ContainerStartedEvent\n",
      "      actionId: 1\n",
      "      ipAddress: ''\n",
      "      portMappings: {}\n",
      "    timestamp: '2020-07-15T21:05:29.959684636Z'\n",
      "  - description: Stopped pulling \"gcr.io/broad-dsde-outreach/wdl_runner:2019_04_15\"\n",
      "    details:\n",
      "      '@type': type.googleapis.com/google.genomics.v2alpha1.PullStoppedEvent\n",
      "      imageUri: gcr.io/broad-dsde-outreach/wdl_runner:2019_04_15\n",
      "    timestamp: '2020-07-15T21:05:23.441400425Z'\n",
      "  - description: Started pulling \"gcr.io/broad-dsde-outreach/wdl_runner:2019_04_15\"\n",
      "    details:\n",
      "      '@type': type.googleapis.com/google.genomics.v2alpha1.PullStartedEvent\n",
      "      imageUri: gcr.io/broad-dsde-outreach/wdl_runner:2019_04_15\n",
      "    timestamp: '2020-07-15T21:04:33.493667067Z'\n",
      "  - description: Stopped pulling \"gcr.io/cloud-genomics-pipelines/tools\"\n",
      "    details:\n",
      "      '@type': type.googleapis.com/google.genomics.v2alpha1.PullStoppedEvent\n",
      "      imageUri: gcr.io/cloud-genomics-pipelines/tools\n",
      "    timestamp: '2020-07-15T21:04:33.493662164Z'\n",
      "  - description: Started pulling \"gcr.io/cloud-genomics-pipelines/tools\"\n",
      "    details:\n",
      "      '@type': type.googleapis.com/google.genomics.v2alpha1.PullStartedEvent\n",
      "      imageUri: gcr.io/cloud-genomics-pipelines/tools\n",
      "    timestamp: '2020-07-15T21:03:50.895217987Z'\n",
      "  - description: Stopped pulling \"google/cloud-sdk:slim\"\n",
      "    details:\n",
      "      '@type': type.googleapis.com/google.genomics.v2alpha1.PullStoppedEvent\n",
      "      imageUri: google/cloud-sdk:slim\n",
      "    timestamp: '2020-07-15T21:03:50.895212243Z'\n",
      "  - description: Started pulling \"google/cloud-sdk:slim\"\n",
      "    details:\n",
      "      '@type': type.googleapis.com/google.genomics.v2alpha1.PullStartedEvent\n",
      "      imageUri: google/cloud-sdk:slim\n",
      "    timestamp: '2020-07-15T21:03:21.103048089Z'\n",
      "  - description: Worker \"google-pipelines-worker-eb2a5d0ec55c7e89b9c3396f38a64db8\"\n",
      "      assigned in \"us-central1-f\"\n",
      "    details:\n",
      "      '@type': type.googleapis.com/google.genomics.v2alpha1.WorkerAssignedEvent\n",
      "      instance: google-pipelines-worker-eb2a5d0ec55c7e89b9c3396f38a64db8\n",
      "      machineType: custom-1-6144\n",
      "      zone: us-central1-f\n",
      "    timestamp: '2020-07-15T21:02:33.466635361Z'\n"
     ]
    }
   ],
   "source": [
    "%%bash\n",
    "\n",
    "OPID=18112627339897196856\n",
    "gcloud alpha genomics operations describe ${OPID} \\\n",
    "--format='yaml(done, error, metadata.events)'"
   ]
  },
  {
   "cell_type": "code",
   "execution_count": 150,
   "metadata": {},
   "outputs": [
    {
     "name": "stdout",
     "output_type": "stream",
     "text": [
      "done: false\n",
      "metadata:\n",
      "  events:\n",
      "  - description: Worker \"google-pipelines-worker-eb2a5d0ec55c7e89b9c3396f38a64db8\"\n",
      "      assigned in \"us-central1-f\"\n",
      "    details:\n",
      "      '@type': type.googleapis.com/google.genomics.v2alpha1.WorkerAssignedEvent\n",
      "      instance: google-pipelines-worker-eb2a5d0ec55c7e89b9c3396f38a64db8\n",
      "      machineType: custom-1-6144\n",
      "      zone: us-central1-f\n",
      "    timestamp: '2020-07-15T21:02:33.466635361Z'\n"
     ]
    }
   ],
   "source": [
    "# when I change to memory=6\n",
    "%%bash\n",
    "\n",
    "OPID=18112627339897196856\n",
    "gcloud alpha genomics operations describe ${OPID} \\\n",
    "--format='yaml(done, error, metadata.events)'"
   ]
  },
  {
   "cell_type": "code",
   "execution_count": 144,
   "metadata": {},
   "outputs": [
    {
     "name": "stdout",
     "output_type": "stream",
     "text": [
      "done: true\n",
      "error:\n",
      "  code: 3\n",
      "  message: \"Execution failed: creating instance: inserting instance: Invalid value\\\n",
      "    \\ for field 'resource.machineType': 'zones/us-central1-f/machineTypes/custom-1-7168'.\\\n",
      "    \\ Memory size for 1 vCPU instance should be between 1024MiB and 6656MiB, while\\\n",
      "    \\ 7168MiB is requested\"\n",
      "metadata:\n",
      "  events:\n",
      "  - description: Worker released\n",
      "    details:\n",
      "      '@type': type.googleapis.com/google.genomics.v2alpha1.WorkerReleasedEvent\n",
      "      instance: google-pipelines-worker-bd040304106e346b7e18ba4282366a04\n",
      "      zone: us-central1-f\n",
      "    timestamp: '2020-07-15T19:36:04.144657017Z'\n",
      "  - description: \"Execution failed: creating instance: inserting instance: Invalid\\\n",
      "      \\ value for field 'resource.machineType': 'zones/us-central1-f/machineTypes/custom-1-7168'.\\\n",
      "      \\ Memory size for 1 vCPU instance should be between 1024MiB and 6656MiB, while\\\n",
      "      \\ 7168MiB is requested\"\n",
      "    details:\n",
      "      '@type': type.googleapis.com/google.genomics.v2alpha1.FailedEvent\n",
      "      cause: \"Execution failed: creating instance: inserting instance: Invalid value\\\n",
      "        \\ for field 'resource.machineType': 'zones/us-central1-f/machineTypes/custom-1-7168'.\\\n",
      "        \\ Memory size for 1 vCPU instance should be between 1024MiB and 6656MiB, while\\\n",
      "        \\ 7168MiB is requested\"\n",
      "      code: INVALID_ARGUMENT\n",
      "    timestamp: '2020-07-15T19:36:03.783394169Z'\n",
      "  - description: Worker \"google-pipelines-worker-bd040304106e346b7e18ba4282366a04\"\n",
      "      assigned in \"us-central1-f\"\n",
      "    details:\n",
      "      '@type': type.googleapis.com/google.genomics.v2alpha1.WorkerAssignedEvent\n",
      "      instance: google-pipelines-worker-bd040304106e346b7e18ba4282366a04\n",
      "      machineType: custom-1-7168\n",
      "      zone: us-central1-f\n",
      "    timestamp: '2020-07-15T19:36:03.310254905Z'\n"
     ]
    }
   ],
   "source": [
    "%%bash\n",
    "\n",
    "OPID=5938711412769351381\n",
    "gcloud alpha genomics operations describe ${OPID} \\\n",
    "--format='yaml(done, error, metadata.events)'"
   ]
  },
  {
   "cell_type": "markdown",
   "metadata": {},
   "source": [
    "#### Check the operation status in GCP"
   ]
  },
  {
   "cell_type": "code",
   "execution_count": 18,
   "metadata": {
    "scrolled": true
   },
   "outputs": [
    {
     "name": "stdout",
     "output_type": "stream",
     "text": [
      "done: true\n",
      "metadata:\n",
      "  events:\n",
      "  - description: start\n",
      "    startTime: '2019-05-23T17:17:17.141792399Z'\n",
      "  - description: pulling-image\n",
      "    startTime: '2019-05-23T17:17:17.141868185Z'\n",
      "  - description: localizing-files\n",
      "    startTime: '2019-05-23T17:17:53.776297803Z'\n",
      "  - description: running-docker\n",
      "    startTime: '2019-05-23T17:17:53.776333263Z'\n",
      "  - description: delocalizing-files\n",
      "    startTime: '2019-05-23T22:29:25.124150479Z'\n",
      "  - description: ok\n",
      "    startTime: '2019-05-23T22:29:26.216592166Z'\n"
     ]
    }
   ],
   "source": [
    "%%bash\n",
    "\n",
    "OPID=EI6syK2uLRjvoZHbvPnIuRgglfil2O0VKg9wcm9kdWN0aW9uUXVldWU\n",
    "gcloud alpha genomics operations describe ${OPID} \\\n",
    "--format='yaml(done, error, metadata.events)'"
   ]
  },
  {
   "cell_type": "markdown",
   "metadata": {},
   "source": [
    "#### Do we need to define COHORT_BUKET everytime since it is global variable??\n",
    "\n",
    "-q, Causes gsutil to perform operations quietly, i.e., without reporting"
   ]
  },
  {
   "cell_type": "code",
   "execution_count": 26,
   "metadata": {},
   "outputs": [
    {
     "name": "stdout",
     "output_type": "stream",
     "text": [
      "       9\n"
     ]
    }
   ],
   "source": [
    "%%bash -s \"$WRKDIR\" \"$PRJ_BUCKET\" \"$COHORT\"\n",
    "#get a list of files that were successfully created\n",
    "WRKDIR=${1}\n",
    "PRJ_BUCKET=${2}\n",
    "COHORT=${3}\n",
    "\n",
    "COHORT_BUCKET=${PRJ_BUCKET}/${COHORT}\n",
    "\n",
    "\"\"\"\n",
    "export the path of each ubmas into the file in the data folder of the current working directory\n",
    "WRKDIR=/Users/mooreank/Desktop/Mark\n",
    "COHORT=UNHS\n",
    "/Users/mooreank/Desktop/Mark/UNHS\n",
    "\"\"\"\n",
    "\n",
    "gsutil -mq ls ${COHORT_BUCKET}/ubams > ${WRKDIR}/${COHORT}.found.files\n",
    "\n",
    "\n",
    "\"\"\"\n",
    "get rid of the prefix of gs://nihnialngcbg-testing/UNHS/ubams/ in the file name\n",
    "\"\"\"\n",
    "\n",
    "sed -i -e s\"/gs:\\/\\/nihnialngcbg-testing\\/${COHORT}\\/ubams\\///\"g ${WRKDIR}/${COHORT}.found.files\n",
    "sed -i -e s\"/\\///\"g ${WRKDIR}/${COHORT}.found.files\n",
    "\n",
    "less ${WRKDIR}/${COHORT}.found.files | wc -l"
   ]
  },
  {
   "cell_type": "code",
   "execution_count": 27,
   "metadata": {},
   "outputs": [
    {
     "name": "stdout",
     "output_type": "stream",
     "text": [
      "(9, 1)\n",
      "(9, 1)\n",
      "0\n",
      "(0, 1)\n"
     ]
    }
   ],
   "source": [
    "#check for any missing expected bams\n",
    "expected_file = '{}/{}.samples.list'.format(WRKDIR, COHORT)\n",
    "observed_file = '{}/{}.found.files'.format(WRKDIR, COHORT) \n",
    "missing_file = '{}/{}.missing.samples.list'.format(WRKDIR, COHORT)\n",
    "\n",
    "expected = pd.read_csv(expected_file,header=None)\n",
    "observed = pd.read_csv(observed_file,header=None)\n",
    "\n",
    "print(expected.shape)\n",
    "print(observed.shape)\n",
    "\n",
    "print(len(set(expected[0]) - set(observed[0])))\n",
    "\n",
    "missing = expected.loc[~expected[0].isin(observed[0])]\n",
    "print(missing.shape)\n",
    "missing.head()\n",
    "\n",
    "#save the missing list\n",
    "missing.to_csv(missing_file,header=None,index=None)"
   ]
  },
  {
   "cell_type": "markdown",
   "metadata": {},
   "source": [
    "## THIS IS WHERE WE STOPPED AFTER FASTQ TO uBAM coversion"
   ]
  },
  {
   "cell_type": "markdown",
   "metadata": {},
   "source": [
    "#### clean up the temp workspace and logs from the fastq to ubam conversions"
   ]
  },
  {
   "cell_type": "code",
   "execution_count": 111,
   "metadata": {},
   "outputs": [
    {
     "name": "stdout",
     "output_type": "stream",
     "text": [
      "#run these commands at terminal:\n",
      "\n",
      "#WE'VE ALREADY RUN THIS SO DO NOT NEED TO CLEANUP AGAIN\n",
      "\n",
      "gsutil -mq rm -r gs://nihnialngcbg-testing/UNHS/workspace\n"
     ]
    }
   ],
   "source": [
    "print('#run these commands at terminal:\\n')\n",
    "print('#WE\\'VE ALREADY RUN THIS SO DO NOT NEED TO CLEANUP AGAIN\\n')\n",
    "\n",
    "#print('gsutil -mq rm -r {}/logs/ubams'.format(COHORT_BUCKET))\n",
    "print('gsutil -mq rm -r {}/workspace'.format(COHORT_BUCKET))"
   ]
  },
  {
   "cell_type": "markdown",
   "metadata": {},
   "source": [
    "#### make sure the json dir is there for the next steps"
   ]
  },
  {
   "cell_type": "markdown",
   "metadata": {},
   "source": [
    "#### How to organize the folder in the working diretory\n",
    "\n",
    "#### 1. data:  /Users/mooreank/Desktop/Mark/UNHS\n",
    "#### 2. all py, wdl, and jsons in : /Users/mooreank/Desktop/Mark/jsons\n"
   ]
  },
  {
   "cell_type": "code",
   "execution_count": 112,
   "metadata": {},
   "outputs": [],
   "source": [
    "#create the jsons directory for the ubam to cram if it doesn't exist\n",
    "#also check to see if the blank jsons are present or you need to retrieve\n",
    "fastq_to_bam_json_dir = '{}/jsons'.format(WRKDIR)\n",
    "\n",
    "if os.path.isdir(fastq_to_bam_json_dir):\n",
    "    os.makedirs(fastq_to_bam_json_dir + '/broadbams', exist_ok=True)    \n",
    "    \n",
    "checkfortemplatefile(fastq_to_bam_json_dir + '/blank.align.label.json')\n",
    "checkfortemplatefile(fastq_to_bam_json_dir + '/PairedEndSingleSampleWf.gatk4.0.options.json')\n",
    "checkfortemplatefile(fastq_to_bam_json_dir + '/template.broadbam.hg38.json')\n",
    "checkfortemplatefile(fastq_to_bam_json_dir + '/cromwell_client.py')\n",
    "checkfortemplatefile(fastq_to_bam_json_dir + '/PairedEndSingleSampleWf.gatk4.0.wdl')"
   ]
  },
  {
   "cell_type": "markdown",
   "metadata": {},
   "source": [
    "#### This block was used for copies the necessary json, wdl files from gatk tools from bucket \n",
    "#### I do not need to run it, since I already have them in the working directory"
   ]
  },
  {
   "cell_type": "code",
   "execution_count": 30,
   "metadata": {},
   "outputs": [
    {
     "name": "stdout",
     "output_type": "stream",
     "text": [
      "#run these commands at terminal:\n",
      "\n",
      "gsutil cp gs://nihnialng-pd-wgs/tools/broad/blank.align.label.json /labseq/projects/ninds_eopd/jsons/\n",
      "gsutil cp gs://nihnialng-pd-wgs/tools/broad/PairedEndSingleSampleWf.gatk4.0.options.json /labseq/projects/ninds_eopd/jsons/\n",
      "gsutil cp gs://nihnialng-pd-wgs/tools/broad/template.broadbam.hg38.json /labseq/projects/ninds_eopd/jsons/\n",
      "gsutil cp gs://nihnialng-pd-wgs/tools/broad/json.substitute.py /labseq/projects/ninds_eopd/jsons/\n",
      "gsutil cp gs://nihnialng-pd-wgs/tools/broad/cromwell_client.py /labseq/projects/ninds_eopd/jsons/\n",
      "gsutil cp gs://nihnialng-pd-wgs/tools/broad/PairedEndSingleSampleWf.gatk4.0.wdl /labseq/projects/ninds_eopd/jsons/\n"
     ]
    }
   ],
   "source": [
    "print('#run these commands at terminal:\\n')\n",
    "\n",
    "print('gsutil cp gs://nihnialng-pd-wgs/tools/broad/blank.align.label.json {}/jsons/'.format(WRKDIR))\n",
    "print('gsutil cp gs://nihnialng-pd-wgs/tools/broad/PairedEndSingleSampleWf.gatk4.0.options.json \\\n",
    "{}/jsons/'.format(WRKDIR))\n",
    "print('gsutil cp gs://nihnialng-pd-wgs/tools/broad/template.broadbam.hg38.json {}/jsons/'.format(WRKDIR))\n",
    "print('gsutil cp gs://nihnialng-pd-wgs/tools/broad/cromwell_client.py {}/jsons/'.format(WRKDIR))\n",
    "print('gsutil cp gs://nihnialng-pd-wgs/tools/broad/PairedEndSingleSampleWf.gatk4.0.wdl {}/jsons/'.format(WRKDIR))"
   ]
  },
  {
   "cell_type": "markdown",
   "metadata": {},
   "source": [
    "#### create the ubam to cram per sample json files"
   ]
  },
  {
   "cell_type": "markdown",
   "metadata": {},
   "source": [
    "#### to cram or to bam??"
   ]
  },
  {
   "cell_type": "code",
   "execution_count": null,
   "metadata": {},
   "outputs": [],
   "source": [
    "#generate the extra json files for ubams to crams; ie labels and options for alignment wf\n",
    "from datetime import datetime\n",
    "\n",
    "json_label_template = '{}/jsons/blank.align.label.json'.format(WRKDIR)\n",
    "json_options_template = '{}/jsons/PairedEndSingleSampleWf.gatk4.0.options.json'.format(WRKDIR)\n",
    "json_broad_template = '{}/jsons/template.broadbam.hg38.updated.json'.format(WRKDIR)\n",
    "\n",
    "sample_ids = cohort_df['usuhsID'].unique()\n",
    "for sample_id in sample_ids:\n",
    "    json_labels_outfile_name = '{}/jsons/broadbams/{}.labels.json'.format(WRKDIR,sample_id)\n",
    "    json_options_outfile_name = '{}/jsons/broadbams/{}.options.json'.format(WRKDIR,sample_id)\n",
    "    json_broad_outfile_name = '{}/jsons/broadbams/{}.broadbam.hg38.updated.json'.format(WRKDIR,sample_id)    \n",
    "\n",
    "    #format and write the label json\n",
    "    with open(json_label_template) as json_file:  \n",
    "        label_data = json.load(json_file)\n",
    "        \n",
    "        label_data['cohort'] = COHORT.lower()\n",
    "        label_data['sample'] = sample_id.lower()\n",
    "        label_data['user'] = MYUSER.lower()\n",
    "        \n",
    "        with open(json_labels_outfile_name,'w') as json_outfile:\n",
    "            json.dump(label_data,json_outfile,sort_keys=True,indent=4)   \n",
    "    \n",
    "    #format and write the options json\n",
    "    with open(json_options_template) as json_file:  \n",
    "        options_data = json.load(json_file)\n",
    "        \n",
    "        options_data['final_workflow_outputs_dir'] = '{}/hg38/align-wf/{}'.format(COHORT_BUCKET, sample_id)\n",
    "        options_data['final_workflow_log_dir'] = '{}/logs/{}'.format(COHORT_BUCKET, sample_id)\n",
    "        options_data['final_call_logs_dir'] = '{}/logs/{}'.format(COHORT_BUCKET, sample_id)\n",
    "        \n",
    "        with open(json_options_outfile_name,'w') as json_outfile:\n",
    "            json.dump(options_data,json_outfile,sort_keys=True,indent=4)   \n",
    "\n",
    "    #format and write the broad json\n",
    "    get_ubams_cmd = 'gsutil ls {}/ubams/{}/*.unmapped.bam'.format(COHORT_BUCKET,sample_id)\n",
    "    ubams = !{get_ubams_cmd}\n",
    "\n",
    "    with open(json_broad_template) as json_file:  \n",
    "        broad_data = json.load(json_file)\n",
    "        \n",
    "        broad_data['PairedEndSingleSampleWorkflow.sample_name'] = sample_id\n",
    "        broad_data['PairedEndSingleSampleWorkflow.base_file_name'] = sample_id\n",
    "        broad_data['PairedEndSingleSampleWorkflow.flowcell_unmapped_bams'] = ubams\n",
    "        broad_data['PairedEndSingleSampleWorkflow.final_gvcf_base_name'] = sample_id\n",
    "        \n",
    "        with open(json_broad_outfile_name,'w') as json_outfile:\n",
    "            json.dump(broad_data,json_outfile,sort_keys=False,indent=4)   "
   ]
  },
  {
   "cell_type": "markdown",
   "metadata": {},
   "source": [
    "#### Set the server. We should set the server before running any wdl, i.e., many steps ago, right?"
   ]
  },
  {
   "cell_type": "markdown",
   "metadata": {},
   "source": [
    "#### setup the cromwell server"
   ]
  },
  {
   "cell_type": "code",
   "execution_count": null,
   "metadata": {},
   "outputs": [],
   "source": [
    "# print('#setup a cromwell server for running the alignment wdl jobs\\n\\\n",
    "# #get Matt\\'s cromwell stuff\\n\\\n",
    "# #already pulled for other projects so copy over from dementia_wgs\\n')\n",
    "\n",
    "# print('#run these commands at terminal:\\n')\n",
    "# print('#I\\'VE ALREADY RUN THIS, SO DO NOT NEED TO CREATE SERVER AGAIN\\n')\n",
    "# print('gsutil cp -r gs://nihnialng-pd-wgs/tools/verily-amp-pd-source {}/tools/'.format(WRKDIR))\n",
    "\n",
    "# print('\\n#fire up the cromwell instance')\n",
    "# print('chmod +x {}/tools/verily-amp-pd-source/setup_cromwell_vm/*.sh'.format(WRKDIR))\n",
    "# print('cd {}/tools/verily-amp-pd-source/setup_cromwell_vm/'.format(WRKDIR))\n",
    "# print('./create_cromwell_server.sh {}-cromwell {} n1-highmem-8'\\\n",
    "#       .format(COHORT.lower(),PROJECT_ID))\n",
    "# print('./configure.sh {}-cromwell {} nihnialngcbg-testing/{}'\\\n",
    "#       .format(COHORT.lower(),PROJECT_ID,COHORT.replace('_','-')))\n",
    "\n",
    "# print('\\n#When that is up, ssh to the instance:')\n",
    "# print('gcloud --project {} compute ssh {}-cromwell'.format(PROJECT_ID,COHORT.replace('_','-').lower()))\n",
    "\n",
    "# print('\\n#And in that SSH session, run:')\n",
    "# print('cd /install')\n",
    "# print('docker-compose -f /install/workspace/config/docker-compose.yml up')\n"
   ]
  },
  {
   "cell_type": "markdown",
   "metadata": {},
   "source": [
    "#### create the ssh tunnel to the cromwell server so you can submit jobs"
   ]
  },
  {
   "cell_type": "code",
   "execution_count": null,
   "metadata": {},
   "outputs": [],
   "source": [
    "# print('#When cromwell is up, create an SSH tunnel from your workstation:')\n",
    "# print('#run these commands at terminal:\\n')\n",
    "# print('gcloud --project {} compute ssh {}-cromwell -- -L 8000:localhost:8000'\\\n",
    "#       .format(PROJECT_ID,COHORT.replace('_','-').lower()))\n",
    "\n",
    "# print('\\n#after this runs you well actually be logged into the cromwell server, ' \\\n",
    "#       'so you will need to open another termincal session on your machine to submit your jobs\\n')"
   ]
  },
  {
   "cell_type": "markdown",
   "metadata": {},
   "source": [
    "#### The function of formatgcpcm was already defined, so it can skipped, right?\n",
    "#### The terminal is biowulf terminal instead of laptop right?"
   ]
  },
  {
   "cell_type": "code",
   "execution_count": 12,
   "metadata": {},
   "outputs": [
    {
     "name": "stdout",
     "output_type": "stream",
     "text": [
      "#run these commands at terminal:\n",
      "\n",
      "chmod +x /Users/mooreank/Desktop/Mark/UNHS/unhs.run_ubams_to_crams.sh\n",
      "nohup /Users/mooreank/Desktop/Mark/UNHS/unhs.run_ubams_to_crams.sh > /Users/mooreank/Desktop/Mark/UNHS/unhs.run_ubams_to_crams.log &\n"
     ]
    }
   ],
   "source": [
    "#define format function the ggp cmd\n",
    "# def formatgcpcmd(this_sample,chrt_bucket):\n",
    "#     this_cmd = 'echo -n {SAMPLE} OPID=\\n\\\n",
    "# python {WRKDIR}/jsons/cromwell_client.py \\\n",
    "# --wdl {WRKDIR}/jsons/PairedEndSingleSampleWf.gatk4.0.wdl \\\n",
    "# --workflow-inputs {WRKDIR}/jsons/broadbams/{SAMPLE}.broadbam.hg38.json \\\n",
    "# --workflow-options {WRKDIR}/jsons/broadbams/{SAMPLE}.options.json \\\n",
    "# --workflow-labels {WRKDIR}/jsons/broadbams/{SAMPLE}.labels.json'\n",
    "#     return(this_cmd.format(WRKDIR=WRKDIR,COHORT=COHORT,SAMPLE=this_sample))\n",
    "\n",
    "def formatgcpcmd(this_sample,chrt_bucket):\n",
    "    this_cmd = 'echo -n {SAMPLE} OPID=\\n\\\n",
    "gcloud alpha genomics pipelines run \\\n",
    "--project {PROJECT_ID} \\\n",
    "--pipeline-file {PRJ_BUCKET}/tools/wdl_pipeline.yaml \\\n",
    "--zones us-central1-f \\\n",
    "--memory 7 \\\n",
    "--logging {COHORT_BUCKET}/logs/crams/{SAMPLE} \\\n",
    "--inputs-from-file WDL={WRKDIR}/jsons/PairedEndSingleSampleWf.gatk4.0.wdl \\\n",
    "--inputs-from-file WORKFLOW_INPUTS={WRKDIR}/jsons/broadbams/{SAMPLE}.broadbam.hg38.updated.json \\\n",
    "--inputs-from-file WORKFLOW_OPTIONS={WRKDIR}/jsons/broadbams/{SAMPLE}.options.json \\\n",
    "--inputs WORKSPACE={COHORT_BUCKET}/workspace/{SAMPLE} \\\n",
    "--inputs OUTPUTS={COHORT_BUCKET}/crams/{SAMPLE} \\\n",
    "--labels=pipe=ubam_to_cram,sample={LABELNAME},cohort={LCCOHORT},user={MYUSER}'\n",
    "    return(this_cmd.format(SAMPLE=this_sample,PROJECT_ID=PROJECT_ID,PRJ_BUCKET=PRJ_BUCKET,\\\n",
    "                         COHORT_BUCKET=chrt_bucket,WRKDIR=WRKDIR,COHORT=COHORT,\\\n",
    "                          LABELNAME=this_sample.lower(),LCCOHORT=COHORT.lower(),MYUSER=MYUSER))\n",
    "\n",
    "\n",
    "\n",
    "\"\"\"\n",
    "To generate the sh file so that to do ubam to cram conversion at terminal\n",
    "\n",
    "\"\"\"\n",
    "#iterate over samples formatting the cmds\n",
    "cohort_bucket = '{}/{}'.format(PRJ_BUCKET,COHORT)\n",
    "cmds = [formatgcpcmd(sample_id,cohort_bucket) for sample_id in sample_ids]\n",
    "\n",
    "temp_script_file = '{}/{}.run_ubams_to_crams.sh'.format(WRKDIR,COHORT.lower())\n",
    "\n",
    "with open(temp_script_file, 'w') as file_handler:\n",
    "        for this_cmd in cmds:\n",
    "            file_handler.write(\"{}\\n\".format(this_cmd))\n",
    "            \n",
    "print('#run these commands at terminal:\\n')\n",
    "print('chmod +x ' + temp_script_file)\n",
    "print('nohup ' + temp_script_file + ' > {}/{}.run_ubams_to_crams.log &'.format(WRKDIR,COHORT.lower()))"
   ]
  },
  {
   "cell_type": "code",
   "execution_count": 3,
   "metadata": {},
   "outputs": [
    {
     "name": "stdout",
     "output_type": "stream",
     "text": [
      "#full job worker node count\n",
      "Listed 0 items.\n",
      "       0\n",
      "#number of all running instances in project\n",
      "       2\n"
     ]
    }
   ],
   "source": [
    "#see how many GCE (Google Compute Engine) instances are running your jobs\n",
    "PIPELABEL='pairedendsinglesamplewf'\n",
    "PROJECT_ID = 'nih-nia-lng-cbg'\n",
    "MYUSER = 'mooreank'\n",
    "COHORT = 'UNHS'\n",
    "\n",
    "print('#full job worker node count')\n",
    "cmd = f'gcloud compute instances list --project {PROJECT_ID} \\\n",
    "--filter \"labels:({PIPELABEL} {COHORT} {MYUSER})\" | grep RUNNING | wc -l'\n",
    "!{cmd}\n",
    "\n",
    "print('#number of all running instances in project')\n",
    "cmd2 = f'gcloud compute instances list --project {PROJECT_ID} | grep RUNNING | wc -l'\n",
    "!{cmd2}"
   ]
  },
  {
   "cell_type": "code",
   "execution_count": 42,
   "metadata": {},
   "outputs": [
    {
     "data": {
      "text/plain": [
       "'gs://nihnialngcbg-testing/UNHS'"
      ]
     },
     "execution_count": 42,
     "metadata": {},
     "output_type": "execute_result"
    }
   ],
   "source": [
    "COHORT_BUCKET"
   ]
  },
  {
   "cell_type": "markdown",
   "metadata": {},
   "source": [
    "#### commands for checking statuses using Cromwell REST cmds"
   ]
  },
  {
   "cell_type": "code",
   "execution_count": null,
   "metadata": {},
   "outputs": [],
   "source": [
    "# print('#run these commands at terminal:\\n')\n",
    "\n",
    "# print('#These actually won\\'t be that helpful because you are all using the same server.\\n')\n",
    "\n",
    "# print('#When cromwell is up, create an SSH tunnel from your workstation, if not already connected:\\n')\n",
    "# print('gcloud --project {} compute ssh {}-cromwell -- -L 8000:localhost:8000'.\\\n",
    "#       format(PROJECT_ID,COHORT.replace('_','-').lower()))\n",
    "\n",
    "# print('\\n#if tunnel established can check cromwell status\\n')\n",
    "# print('curl -X GET \"http://localhost:8000/api/workflows/v1/query?status=Running\"')\n",
    "# print('curl -X GET \"http://localhost:8000/api/workflows/v1/query?status=Submitted\"')\n",
    "# print('curl -X GET \"http://localhost:8000/api/workflows/v1/query?status=Failed\"')\n",
    "# print('curl -X GET \"http://localhost:8000/api/workflows/v1/query?status=Succeeded\"')"
   ]
  },
  {
   "cell_type": "markdown",
   "metadata": {},
   "source": [
    "#### commands to check progess by counting expected output files"
   ]
  },
  {
   "cell_type": "code",
   "execution_count": 6,
   "metadata": {},
   "outputs": [
    {
     "name": "stdout",
     "output_type": "stream",
     "text": [
      "#These actually won't be that helpful because you are all using the same bucket path.\n",
      "\n",
      "#crams\n",
      "       9\n",
      "       9\n",
      "#bams\n",
      "       9\n",
      "       9\n",
      "#gvcfs\n",
      "       9\n"
     ]
    }
   ],
   "source": [
    "#check bam, cram, and gvcf counts\n",
    "print('#These actually won\\'t be that helpful because you are all using the same bucket path.\\n')\n",
    "print('#crams')\n",
    "!gsutil ls {COHORT_BUCKET}/hg38/align-wf/*/PairedEndSingleSampleWorkflow/*/call-ConvertToCram/**.cram | wc -l\n",
    "!gsutil ls {COHORT_BUCKET}/hg38/align-wf/*/PairedEndSingleSampleWorkflow/*/call-ConvertToCram/**.crai | wc -l\n",
    "print('#bams')\n",
    "!gsutil ls {COHORT_BUCKET}/hg38/align-wf/*/PairedEndSingleSampleWorkflow/*/call-GatherBamFiles/**.bam | wc -l\n",
    "!gsutil ls {COHORT_BUCKET}/hg38/align-wf/*/PairedEndSingleSampleWorkflow/*/call-GatherBamFiles/**.bai | wc -l\n",
    "print('#gvcfs')\n",
    "!gsutil ls {COHORT_BUCKET}/hg38/align-wf/*/PairedEndSingleSampleWorkflow/*/call-MergeVCFs/**.g.vcf.gz | wc -l"
   ]
  },
  {
   "cell_type": "markdown",
   "metadata": {},
   "source": [
    "#### commands for copying the primary output files to a final dest path"
   ]
  },
  {
   "cell_type": "markdown",
   "metadata": {},
   "source": [
    "#### Do I need to makdir hg38/gvcfs/ in the CORHORT_BUCKET?? OR it is automatically generated?"
   ]
  },
  {
   "cell_type": "code",
   "execution_count": 8,
   "metadata": {},
   "outputs": [
    {
     "name": "stdout",
     "output_type": "stream",
     "text": [
      "#run these commands at terminal:\n",
      "\n",
      "#gvcfs\n",
      "gsutil -mq cp gs://nihnialngcbg-testing/UNHS/hg38/align-wf/*/PairedEndSingleSampleWorkflow/*/call-MergeVCFs/**.g.vcf.gz* gs://nihnialngcbg-testing/UNHS/hg38/gvcfs/\n",
      "\n",
      "#crams\n",
      "gsutil -mq cp gs://nihnialngcbg-testing/UNHS/hg38/align-wf/*/PairedEndSingleSampleWorkflow/*/call-ConvertToCram/**.cram* gs://nihnialngcbg-testing/UNHS/hg38/crams/\n",
      "\n",
      "#bams\n",
      "gsutil -mq cp gs://nihnialngcbg-testing/UNHS/hg38/align-wf/*/PairedEndSingleSampleWorkflow/*/call-GatherBamFiles/**.bam gs://nihnialngcbg-testing/UNHS/hg38/bams/\n",
      "gsutil -mq cp gs://nihnialngcbg-testing/UNHS/hg38/align-wf/*/PairedEndSingleSampleWorkflow/*/call-GatherBamFiles/**.bai gs://nihnialngcbg-testing/UNHS/hg38/bams/\n"
     ]
    }
   ],
   "source": [
    "print('#run these commands at terminal:\\n')\n",
    "\n",
    "print('#gvcfs')\n",
    "print('gsutil -mq cp {}/hg38/align-wf/*/PairedEndSingleSampleWorkflow/*/call-MergeVCFs/**.g.vcf.gz* \\\n",
    "{}/hg38/gvcfs/'.format(COHORT_BUCKET,COHORT_BUCKET))\n",
    "print('\\n#crams')\n",
    "print('gsutil -mq cp {}/hg38/align-wf/*/PairedEndSingleSampleWorkflow/*/call-ConvertToCram/**.cram* \\\n",
    "{}/hg38/crams/'.format(COHORT_BUCKET,COHORT_BUCKET))\n",
    "print('\\n#bams')\n",
    "print('gsutil -mq cp {}/hg38/align-wf/*/PairedEndSingleSampleWorkflow/*/call-GatherBamFiles/**.bam \\\n",
    "{}/hg38/bams/'.format(COHORT_BUCKET,COHORT_BUCKET))\n",
    "print('gsutil -mq cp {}/hg38/align-wf/*/PairedEndSingleSampleWorkflow/*/call-GatherBamFiles/**.bai \\\n",
    "{}/hg38/bams/'.format(COHORT_BUCKET,COHORT_BUCKET))"
   ]
  },
  {
   "cell_type": "markdown",
   "metadata": {},
   "source": [
    "#### confirm counts of the primary output files at final dest path"
   ]
  },
  {
   "cell_type": "code",
   "execution_count": 9,
   "metadata": {},
   "outputs": [
    {
     "name": "stdout",
     "output_type": "stream",
     "text": [
      "#crams\n",
      "       9\n",
      "       9\n",
      "#bams\n",
      "       9\n",
      "       9\n",
      "#gvcfs\n",
      "       9\n",
      "       9\n"
     ]
    }
   ],
   "source": [
    "#check bam, cram, and gvcf counts at final path\n",
    "print('#crams')\n",
    "!gsutil ls {COHORT_BUCKET}/hg38/crams/*.cram | wc -l\n",
    "!gsutil ls {COHORT_BUCKET}/hg38/crams/*.crai | wc -l\n",
    "print('#bams')\n",
    "!gsutil ls {COHORT_BUCKET}/hg38/bams/*.bam | wc -l\n",
    "!gsutil ls {COHORT_BUCKET}/hg38/bams/*.bai | wc -l\n",
    "print('#gvcfs')\n",
    "!gsutil ls {COHORT_BUCKET}/hg38/gvcfs/*.g.vcf.gz | wc -l\n",
    "!gsutil ls {COHORT_BUCKET}/hg38/gvcfs/*.g.vcf.gz.tbi | wc -l"
   ]
  },
  {
   "cell_type": "markdown",
   "metadata": {},
   "source": [
    "#### check that all expected files are there by looking at sample IDs"
   ]
  },
  {
   "cell_type": "code",
   "execution_count": 10,
   "metadata": {},
   "outputs": [
    {
     "name": "stdout",
     "output_type": "stream",
     "text": [
      "       9\n"
     ]
    }
   ],
   "source": [
    "%%bash -s \"$WRKDIR\" \"$COHORT_BUCKET\" \"$COHORT\"\n",
    "#get a list of files that were successfully created\n",
    "WRKDIR=${1}\n",
    "COHORT_BUCKET=${2}\n",
    "COHORT=${3}\n",
    "\n",
    "gsutil -mq ls ${COHORT_BUCKET}/hg38/crams/*.cram > ${WRKDIR}/${COHORT}.found.files\n",
    "\n",
    "sed -i -e s\"/gs:\\/\\/nihnialngcbg-testing\\/${COHORT}\\/hg38\\/crams\\///\"g ${WRKDIR}/${COHORT}.found.files\n",
    "sed -i -e s\"/\\///\"g ${WRKDIR}/${COHORT}.found.files\n",
    "sed -i -e s\"/\\.cram//\"g ${WRKDIR}/${COHORT}.found.files\n",
    "\n",
    "less ${WRKDIR}/${COHORT}.found.files | wc -l"
   ]
  },
  {
   "cell_type": "code",
   "execution_count": 13,
   "metadata": {},
   "outputs": [
    {
     "name": "stdout",
     "output_type": "stream",
     "text": [
      "(9, 1)\n",
      "(9, 1)\n",
      "0\n",
      "(0, 1)\n"
     ]
    }
   ],
   "source": [
    "#check for any missing expected bams\n",
    "expected_file = '{}/{}.samples.list'.format(WRKDIR, COHORT)\n",
    "observed_file = '{}/{}.found.files'.format(WRKDIR, COHORT) \n",
    "missing_file = '{}/{}.missing.samples.list'.format(WRKDIR, COHORT)\n",
    "\n",
    "expected = pd.read_csv(expected_file,header=None)\n",
    "observed = pd.read_csv(observed_file,header=None)\n",
    "\n",
    "print(expected.shape)\n",
    "print(observed.shape)\n",
    "\n",
    "print(len(set(expected[0]) - set(observed[0])))\n",
    "\n",
    "missing = expected.loc[~expected[0].isin(observed[0])]\n",
    "print(missing.shape)\n",
    "missing.head()\n",
    "\n",
    "#save the missing list\n",
    "missing.to_csv(missing_file,header=None,index=None)"
   ]
  },
  {
   "cell_type": "markdown",
   "metadata": {},
   "source": [
    "#### if all the expected primary output files are present then go ahead and copy of the other output files"
   ]
  },
  {
   "cell_type": "code",
   "execution_count": 16,
   "metadata": {},
   "outputs": [
    {
     "name": "stdout",
     "output_type": "stream",
     "text": [
      "#run these commands at terminal:\n",
      "\n",
      "gsutil -mq cp gs://nihnialngcbg-testing/UNHS/hg38/align-wf/*/PairedEndSingleSampleWorkflow/*/call-ValidateCram/**.cram.validation_report gs://nihnialngcbg-testing/UNHS/hg38/align-wf/call-ValidateCram/\n",
      "\n",
      "gsutil -mq cp gs://nihnialngcbg-testing/UNHS/hg38/align-wf/*/PairedEndSingleSampleWorkflow/*/call-CheckContamination/**.preBqsr.selfSM gs://nihnialngcbg-testing/UNHS/hg38/align-wf/call-CheckContamination/\n",
      "\n",
      "gsutil -mq cp gs://nihnialngcbg-testing/UNHS/hg38/align-wf/*/PairedEndSingleSampleWorkflow/*/call-GatherBqsrReports/**.recal_data.csv gs://nihnialngcbg-testing/UNHS/hg38/align-wf/call-GatherBqsrReports/\n",
      "\n",
      "gsutil -mq cp gs://nihnialngcbg-testing/UNHS/hg38/align-wf/*/PairedEndSingleSampleWorkflow/**_metrics gs://nihnialngcbg-testing/UNHS/hg38/align-wf/metrics/\n",
      "\n",
      "gsutil -mq cp gs://nihnialngcbg-testing/UNHS/hg38/align-wf/*/PairedEndSingleSampleWorkflow/**.pdf gs://nihnialngcbg-testing/UNHS/hg38/align-wf/metrics/\n"
     ]
    }
   ],
   "source": [
    "#move the other metrics reports that may be of interest to keep\n",
    "#need to move all the other summary metric files over to final output\n",
    "print('#run these commands at terminal:\\n')\n",
    "print('gsutil -mq cp {}/hg38/align-wf/*/PairedEndSingleSampleWorkflow/*/call-ValidateCram/**.cram.validation_report ' \\\n",
    "'{}/hg38/align-wf/call-ValidateCram/'.format(COHORT_BUCKET,COHORT_BUCKET))\n",
    "print('\\ngsutil -mq cp {}/hg38/align-wf/*/PairedEndSingleSampleWorkflow/*/call-CheckContamination/**.preBqsr.selfSM ' \\\n",
    "'{}/hg38/align-wf/call-CheckContamination/'.format(COHORT_BUCKET,COHORT_BUCKET))\n",
    "print('\\ngsutil -mq cp {}/hg38/align-wf/*/PairedEndSingleSampleWorkflow/*/call-GatherBqsrReports/**.recal_data.csv ' \\\n",
    "'{}/hg38/align-wf/call-GatherBqsrReports/'.format(COHORT_BUCKET,COHORT_BUCKET))\n",
    "print('\\ngsutil -mq cp {}/hg38/align-wf/*/PairedEndSingleSampleWorkflow/**_metrics {}/hg38/align-wf/metrics/'.\\\n",
    "      format(COHORT_BUCKET,COHORT_BUCKET))\n",
    "print('\\ngsutil -mq cp {}/hg38/align-wf/*/PairedEndSingleSampleWorkflow/**.pdf {}/hg38/align-wf/metrics/'.\\\n",
    "      format(COHORT_BUCKET,COHORT_BUCKET))"
   ]
  },
  {
   "cell_type": "markdown",
   "metadata": {},
   "source": [
    "#### check file counts at destination for primary and other metrics output files"
   ]
  },
  {
   "cell_type": "code",
   "execution_count": 17,
   "metadata": {},
   "outputs": [
    {
     "name": "stdout",
     "output_type": "stream",
     "text": [
      "       9\n",
      "       9\n",
      "       9\n",
      "       9\n",
      "       9\n",
      "       9\n",
      "       9\n",
      "       9\n",
      "       9\n"
     ]
    }
   ],
   "source": [
    "#check file counts\n",
    "!gsutil ls {COHORT_BUCKET}/hg38/gvcfs/*.vcf.gz | wc -l\n",
    "!gsutil ls {COHORT_BUCKET}/hg38/gvcfs/*.vcf.gz.tbi | wc -l\n",
    "!gsutil ls {COHORT_BUCKET}/hg38/crams/*.cram | wc -l\n",
    "!gsutil ls {COHORT_BUCKET}/hg38/crams/*.crai | wc -l\n",
    "!gsutil ls {COHORT_BUCKET}/hg38/bams/*.bam | wc -l\n",
    "!gsutil ls {COHORT_BUCKET}/hg38/bams/*.bai | wc -l\n",
    "!gsutil ls {COHORT_BUCKET}/hg38/align-wf/call-ValidateCram/*.cram.validation_report | wc -l\n",
    "!gsutil ls {COHORT_BUCKET}/hg38/align-wf/call-CheckContamination/*.preBqsr.selfSM | wc -l\n",
    "!gsutil ls {COHORT_BUCKET}/hg38/align-wf/call-GatherBqsrReports/*.recal_data.csv | wc -l"
   ]
  },
  {
   "cell_type": "markdown",
   "metadata": {},
   "source": [
    "#### check the cram validation reports"
   ]
  },
  {
   "cell_type": "code",
   "execution_count": 18,
   "metadata": {},
   "outputs": [
    {
     "name": "stdout",
     "output_type": "stream",
     "text": [
      "       9\n",
      "       9\n"
     ]
    }
   ],
   "source": [
    "#pull down the validation reports and check for erros\n",
    "!mkdir -p {WRKDIR}/temp\n",
    "\n",
    "!gsutil -mq cp {COHORT_BUCKET}/hg38/align-wf/call-ValidateCram/*.cram.validation_report {WRKDIR}/temp/\n",
    "\n",
    "!ls {WRKDIR}/temp/*.validation_report | wc -l\n",
    "!less {WRKDIR}/temp/*.validation_report | grep \"No errors found\" | wc -l\n",
    "\n",
    "#clean up the temp validation reports\n",
    "!rm {WRKDIR}/temp/*.validation_report\n"
   ]
  },
  {
   "cell_type": "markdown",
   "metadata": {},
   "source": [
    "# This is where we stopped after alignments"
   ]
  },
  {
   "cell_type": "markdown",
   "metadata": {},
   "source": [
    "#### do some additional cleanup, I've already run these deletes\n",
    "\n",
    "including the deletion of the ubams"
   ]
  },
  {
   "cell_type": "code",
   "execution_count": 8,
   "metadata": {},
   "outputs": [
    {
     "name": "stdout",
     "output_type": "stream",
     "text": [
      "gsutil -mq rm -r gs://nihnialng-pd-wgs/ninds_eopd/logs\n",
      "gsutil -mq rm -r gs://nihnialng-pd-wgs/ninds_eopd/cromwell-execution/PairedEndSingleSampleWorkflow\n"
     ]
    }
   ],
   "source": [
    "#if successfully, clean up log files and workspace path\n",
    "!echo gsutil -mq rm -r {COHORT_BUCKET}/logs\n",
    "!echo gsutil -mq rm -r {COHORT_BUCKET}/cromwell-execution/PairedEndSingleSampleWorkflow"
   ]
  },
  {
   "cell_type": "markdown",
   "metadata": {},
   "source": [
    "#### Delete all files left in the folder of \"PairedEndSingleSampleWorkflow\"?"
   ]
  },
  {
   "cell_type": "code",
   "execution_count": 19,
   "metadata": {},
   "outputs": [
    {
     "name": "stdout",
     "output_type": "stream",
     "text": [
      "#run these commands at terminal:\n",
      "\n",
      "#I'VE ALREADY RUN THIS SO DO NOT NEED TO DELETE AGAIN\n",
      "\n",
      "chmod +x /Users/mooreank/Desktop/Mark/UNHS/unhs.delete_other_files.sh\n",
      "nohup /Users/mooreank/Desktop/Mark/UNHS/unhs.delete_other_files.sh > /Users/mooreank/Desktop/Mark/UNHS/unhs.delete_other_files.log &\n"
     ]
    }
   ],
   "source": [
    "#define format function the gcp cmd to delete additional per sample un-needed files\n",
    "def formatgcpcmd(this_sample,chrt_bucket):\n",
    "    this_cmd = 'gsutil -mq rm -r {COHORT_BUCKET}/hg38/align-wf/{SAMPLE}/PairedEndSingleSampleWorkflow'\n",
    "    return(this_cmd.format(COHORT_BUCKET=chrt_bucket,SAMPLE=this_sample))\n",
    "\n",
    "#here reloading sample_ids\n",
    "cohort_file_list = '{}/{}.samples.list'.format(WRKDIR,COHORT)\n",
    "sample_ids = pd.read_csv(cohort_file_list,header=None).to_numpy()\n",
    "sample_ids = sample_ids.reshape(len(sample_ids))\n",
    "\n",
    "#iterate over samples formatting the cmds\n",
    "cmds = [formatgcpcmd(sample_id,COHORT_BUCKET) for sample_id in sample_ids]\n",
    "\n",
    "temp_script_file = '{}/{}.delete_other_files.sh'.format(WRKDIR,COHORT.lower())\n",
    "\n",
    "with open(temp_script_file, 'w') as file_handler:\n",
    "        for this_cmd in cmds:\n",
    "            file_handler.write(\"{}\\n\".format(this_cmd))\n",
    "            \n",
    "print('#run these commands at terminal:\\n')\n",
    "print('#I\\'VE ALREADY RUN THIS SO DO NOT NEED TO DELETE AGAIN\\n')\n",
    "print('chmod +x ' + temp_script_file)\n",
    "print('nohup ' + temp_script_file + ' > {}/{}.delete_other_files.log &'.format(WRKDIR,COHORT.lower()))"
   ]
  },
  {
   "cell_type": "code",
   "execution_count": 126,
   "metadata": {},
   "outputs": [
    {
     "name": "stdout",
     "output_type": "stream",
     "text": [
      "#run these commands at terminal:\n",
      "\n",
      "#I'VE ALREADY RUN THIS SO DO NOT NEED TO DELETE AGAIN\n",
      "\n",
      "chmod +x /labseq/projects/ninds_eopd/ninds_eopd.delete_ubams.sh\n",
      "nohup /labseq/projects/ninds_eopd/ninds_eopd.delete_ubams.sh > /labseq/projects/ninds_eopd/ninds_eopd.delete_ubams.log &\n"
     ]
    }
   ],
   "source": [
    "##didnt do this yet\n",
    "\n",
    "#define format function the ggp cmd to delete ubams\n",
    "# def formatgcpcmd(this_sample,chrt_bucket):\n",
    "#     this_cmd = 'gsutil -mq rm -r {COHORT_BUCKET}/ubams/{SAMPLE}'\n",
    "#     return(this_cmd.format(COHORT_BUCKET=chrt_bucket,SAMPLE=this_sample))\n",
    "\n",
    "# #iterate over samples formatting the cmds\n",
    "# cmds = [formatgcpcmd(sample_id,COHORT_BUCKET) for sample_id in sample_ids]\n",
    "\n",
    "# temp_script_file = '{}/{}.delete_ubams.sh'.format(WRKDIR,COHORT.lower())\n",
    "\n",
    "# with open(temp_script_file, 'w') as file_handler:\n",
    "#         for this_cmd in cmds:\n",
    "#             file_handler.write(\"{}\\n\".format(this_cmd))\n",
    "            \n",
    "# print('#run these commands at terminal:\\n')\n",
    "# print('#I\\'VE ALREADY RUN THIS SO DO NOT NEED TO DELETE AGAIN\\n')\n",
    "# print('chmod +x ' + temp_script_file)\n",
    "# print('nohup ' + temp_script_file + ' > {}/{}.delete_ubams.log &'.format(WRKDIR,COHORT.lower()))"
   ]
  },
  {
   "cell_type": "markdown",
   "metadata": {},
   "source": [
    "#### archive the fastqs to nearline storage for some periond of time"
   ]
  },
  {
   "cell_type": "markdown",
   "metadata": {},
   "source": [
    "#### I do not have nearline storage for archive purpose"
   ]
  },
  {
   "cell_type": "code",
   "execution_count": 81,
   "metadata": {},
   "outputs": [
    {
     "name": "stdout",
     "output_type": "stream",
     "text": [
      "#run these commands at terminal:\n",
      "\n",
      "#I'VE ALREADY RUN THIS SO DO NOT NEED TO MOVE AGAIN\n",
      "\n",
      "nohup gsutil -mq cp gs://nihnialng-pd-wgs/ninds_eopd/fastqs/*.fastq.gz gs://nihnialng-pd-archive/fastqs/usuhs/ninds_eopd_july2019/ &\n"
     ]
    }
   ],
   "source": [
    "##didnt do this yet\n",
    "\n",
    "#move fastqs to archvie bucket\n",
    "# fastq_bucket_path = '{}/{}/fastqs/*.fastq.gz'.format(PRJ_BUCKET,COHORT)\n",
    "# archive_bucket_path = 'gs://nihnialng-pd-archive/fastqs/usuhs/{}/'.\\\n",
    "# format(COHORTBUILD.replace('.', '_'))\n",
    "\n",
    "# print('#run these commands at terminal:\\n')\n",
    "# print('#I\\'VE ALREADY RUN THIS SO DO NOT NEED TO MOVE AGAIN\\n')\n",
    "# print('nohup gsutil -mq cp {} {} &'.format(fastq_bucket_path, archive_bucket_path))"
   ]
  },
  {
   "cell_type": "code",
   "execution_count": 130,
   "metadata": {},
   "outputs": [
    {
     "name": "stdout",
     "output_type": "stream",
     "text": [
      "1184\n",
      "10.13 TiB    gs://nihnialng-pd-archive/fastqs/usuhs/ninds_eopd_july2019\n"
     ]
    }
   ],
   "source": [
    "#check that all the files were moved, although should be successful if no error was reported\n",
    "#should match the original counts from early fastq counting cell\n",
    "!gsutil ls {archive_bucket_path} | wc -l\n",
    "\n",
    "#get storage size\n",
    "!gsutil -mq du -hs {archive_bucket_path}"
   ]
  },
  {
   "cell_type": "markdown",
   "metadata": {},
   "source": [
    "#### We didn't use any staging bucket in this case right?"
   ]
  },
  {
   "cell_type": "markdown",
   "metadata": {},
   "source": [
    "#### if everything is ok with archiving of fastqs, delete original staging bucket fastqs"
   ]
  },
  {
   "cell_type": "code",
   "execution_count": 82,
   "metadata": {},
   "outputs": [
    {
     "name": "stdout",
     "output_type": "stream",
     "text": [
      "#run these commands at terminal:\n",
      "\n",
      "#I'VE ALREADY RUN THIS SO DO NOT NEED TO DELETE AGAIN\n",
      "\n",
      "gsutil -mq rm gs://nihnialng-staging-f745d15a/pA3.hernandez.N148.00/*.fastq.gz\n",
      "gsutil -mq rm gs://nihnialng-staging-f745d15a/pA3.hernandez.N148.01/*.fastq.gz\n",
      "gsutil -mq rm gs://nihnialng-pd-wgs/ninds_eopd/fastqs/*.fastq.gz\n"
     ]
    }
   ],
   "source": [
    "#delete the staging bucket fastqs that USUHS uploaded\n",
    "# print('#run these commands at terminal:\\n')\n",
    "# print('#I\\'VE ALREADY RUN THIS SO DO NOT NEED TO DELETE AGAIN\\n')\n",
    "# print('gsutil -mq rm gs://nihnialng-staging-f745d15a/pA3.hernandez.N148.00/*.fastq.gz')\n",
    "# print('gsutil -mq rm gs://nihnialng-staging-f745d15a/pA3.hernandez.N148.01/*.fastq.gz')\n",
    "# print('gsutil -mq rm {}/fastqs/*.fastq.gz'.format(COHORT_BUCKET))"
   ]
  },
  {
   "cell_type": "code",
   "execution_count": null,
   "metadata": {},
   "outputs": [],
   "source": []
  },
  {
   "cell_type": "markdown",
   "metadata": {},
   "source": []
  },
  {
   "cell_type": "markdown",
   "metadata": {},
   "source": [
    "#### check for any contaminated samples\n",
    "pull down seq contamination check info"
   ]
  },
  {
   "cell_type": "code",
   "execution_count": 20,
   "metadata": {},
   "outputs": [
    {
     "name": "stdout",
     "output_type": "stream",
     "text": [
      "       9\n"
     ]
    }
   ],
   "source": [
    "#pull down the verifybamid check contamination files \n",
    "!mkdir -p {WRKDIR}/seqqc\n",
    "\n",
    "!gsutil -mq cp {COHORT_BUCKET}/hg38/align-wf/call-CheckContamination/*.preBqsr.selfSM {WRKDIR}/seqqc/\n",
    "!ls {WRKDIR}/seqqc/*.preBqsr.selfSM | wc -l"
   ]
  },
  {
   "cell_type": "code",
   "execution_count": 35,
   "metadata": {},
   "outputs": [],
   "source": [
    "# %%bash -s \"$WRKDIR\" \"$COHORT\"\n",
    "# #combine the contamination files into single table\n",
    "# WRKDIR=${1}\n",
    "# COHORT=${2}\n",
    "\n",
    "# SAMPLESLISTFILE=${WRKDIR}/${COHORT}.samples.list\n",
    "# METRICSFILE=${WRKDIR}/${COHORT}.contam.metrics.txt\n",
    "\n",
    "# if [ -s ${METRICSFILE} ]; then\n",
    "# rm ${METRICSFILE}\n",
    "# fi\n",
    "# echo \"id avgdp freemix\" > ${METRICSFILE}\n",
    "\n",
    "# ls ${WRKDIR}/seqqc/*.preBqsr.selfSM | xargs -L basename > ${WRKDIR}/selfsm.file.list\n",
    "# sed -i -e s\"/\\.preBqsr\\.selfSM//\"g ${WRKDIR}/selfsm.file.list\n",
    "\n",
    "# while read SAMPLELINE\n",
    "# do\n",
    "# SAMPLE=$(echo ${SAMPLELINE} | awk '{print $1}')\n",
    "# awk -v SAMPLE=${SAMPLE} '$1 == SAMPLE {print $1,$6,$7}' \\\n",
    "# ${SAMPLE}.preBqsr.selfSM >> ${METRICSFILE}\n",
    "# done < ${WRKDIR}/selfsm.file.list\n",
    "\n",
    "# rm ${WRKDIR}/selfsm.file.list"
   ]
  },
  {
   "cell_type": "code",
   "execution_count": 49,
   "metadata": {},
   "outputs": [],
   "source": [
    "sample_file = f'{WRKDIR}/UNHS.samples.list'\n",
    "\n",
    "samples_list= []\n",
    "with open(sample_file, 'r') as fi:\n",
    "    for line in fi:\n",
    "        line = line.strip()\n",
    "        samples_list.append(str(line))\n",
    "        \n",
    "\n",
    "with open(f\"{WRKDIR}/UNHS.contam.metrics.txt\", \"w\") as text_file:\n",
    "    text_file.write(\"id avgdp freemix \\n\")\n",
    "    \n",
    "for sample in samples_list:\n",
    "    cmd = f\"\"\"awk 'NR==2{{print $1,$6,$7}}' {WRKDIR}/seqqc/{sample}.preBqsr.selfSM >> {WRKDIR}/UNHS.contam.metrics.txt\"\"\"\n",
    "    !{cmd}"
   ]
  },
  {
   "cell_type": "markdown",
   "metadata": {},
   "source": [
    "#### check the contamination reports for problems"
   ]
  },
  {
   "cell_type": "markdown",
   "metadata": {},
   "source": [
    "#### What is WARN_FREEMIX?"
   ]
  },
  {
   "cell_type": "code",
   "execution_count": 51,
   "metadata": {},
   "outputs": [
    {
     "name": "stdout",
     "output_type": "stream",
     "text": [
      "(9, 3)\n",
      "number of samples maybe contaminated with freemix > 0.02 and < 0.049 is 0\n",
      "number of samples with freemix > 0.049 is 0\n",
      "number of samples with avgdp < 27 is 0\n"
     ]
    }
   ],
   "source": [
    "#check the contamination and seq coverage rates\n",
    "contam_metrics_file = '{}/{}.contam.metrics.txt'.format(WRKDIR,COHORT)\n",
    "\n",
    "WARN_FREEMIX = 0.02\n",
    "MAX_FREEMIX = 0.049\n",
    "MIN_DEPTH = 27\n",
    "\n",
    "metrics_df = pd.read_csv(contam_metrics_file,sep='\\s+')\n",
    "print(metrics_df.shape)\n",
    "metrics_df.head()\n",
    "\n",
    "maybe_contamin_df = metrics_df.loc[(metrics_df['freemix'] <= MAX_FREEMIX) & \\\n",
    "                                   (metrics_df['freemix'] > WARN_FREEMIX)]\n",
    "print('number of samples maybe contaminated with freemix > {} and < {} is {}'\\\n",
    "      .format(WARN_FREEMIX,MAX_FREEMIX,maybe_contamin_df.shape[0]))\n",
    "contam_maybe_file = '{}/{}.contamination.possible.samples.txt'.format(WRKDIR,COHORT)\n",
    "maybe_contamin_df.to_csv(contam_maybe_file,index=False,sep='\\t')\n",
    "\n",
    "contaminated_df = metrics_df.loc[metrics_df['freemix'] > MAX_FREEMIX]\n",
    "print('number of samples with freemix > {} is {}'.format(MAX_FREEMIX,contaminated_df.shape[0]))\n",
    "contam_problems_file = '{}/{}.contaminated.samples.txt'.format(WRKDIR,COHORT)\n",
    "contaminated_df.to_csv(contam_problems_file,index=False,sep='\\t')\n",
    "\n",
    "low_cov_df = metrics_df.loc[metrics_df['avgdp'] < MIN_DEPTH]\n",
    "print('number of samples with avgdp < {} is {}'.format(MIN_DEPTH,low_cov_df.shape[0]))\n",
    "low_coverage_file = '{}/{}.low_coverage.samples.txt'.format(WRKDIR,COHORT)\n",
    "low_cov_df.to_csv(low_coverage_file,index=False,sep='\\t')\n"
   ]
  },
  {
   "cell_type": "markdown",
   "metadata": {},
   "source": [
    "#### good news there aren't any samples with contamination or low coverage\n",
    "\n",
    "if there had been, you would want to just exclude the ones with freemix > 5% and decide on excluding the possibly contaminated or low coverage"
   ]
  },
  {
   "cell_type": "markdown",
   "metadata": {},
   "source": [
    "#### now prep for running the joint genotyping"
   ]
  },
  {
   "cell_type": "markdown",
   "metadata": {},
   "source": [
    "#### pull down the broad tooling"
   ]
  },
  {
   "cell_type": "markdown",
   "metadata": {},
   "source": [
    "#### I need to execute this block becaue I haven't downloaded these files into working directory, right?"
   ]
  },
  {
   "cell_type": "code",
   "execution_count": 74,
   "metadata": {},
   "outputs": [
    {
     "name": "stdout",
     "output_type": "stream",
     "text": [
      "  % Total    % Received % Xferd  Average Speed   Time    Time     Time  Current\n",
      "                                 Dload  Upload   Total   Spent    Left  Speed\n",
      "100    15  100    15    0     0    112      0 --:--:-- --:--:-- --:--:--   113\n",
      "  % Total    % Received % Xferd  Average Speed   Time    Time     Time  Current\n",
      "                                 Dload  Upload   Total   Spent    Left  Speed\n",
      "100    15  100    15    0     0    131      0 --:--:-- --:--:-- --:--:--   132\n",
      "  % Total    % Received % Xferd  Average Speed   Time    Time     Time  Current\n",
      "                                 Dload  Upload   Total   Spent    Left  Speed\n",
      "100   134  100   134    0     0    779      0 --:--:-- --:--:-- --:--:--   779\n"
     ]
    }
   ],
   "source": [
    "#pull down the correct recent Broad tooling\n",
    "!mkdir -p {WRKDIR}/tools\n",
    "\n",
    "# don't think wget is easy to install for Mac, maybe use curl instead\n",
    "#!wget https://raw.githubusercontent.com/gatk-workflows/gatk4-germline-snps-indels/master/joint-discovery-gatk4.wdl -O {WRKDIR}/tools/joint-discovery-gatk4.wdl\n",
    "# !wget https://raw.githubusercontent.com/gatk-workflows/gatk4-germline-snps-indels/master/joint-discovery-gatk4.hg38.wgs.inputs.json \\\n",
    "#     -O {WRKDIR}/tools/joint-discovery-gatk4.hg38.wgs.inputs.json\n",
    "\n",
    "# !curl https://raw.githubusercontent.com/gatk-workflows/gatk4-germline-snps-indels/master/joint-discovery-gatk4.wdl \\\n",
    "#     -o {WRKDIR}/tools/joint-discovery-gatk4.wdl\n",
    "# !curl https://raw.githubusercontent.com/gatk-workflows/gatk4-germline-snps-indels/master/joint-discovery-gatk4.hg38.wgs.inputs.json \\\n",
    "#     -o {WRKDIR}/tools/joint-discovery-gatk4.hg38.wgs.inputs.json\n",
    "    \n",
    "# !curl https://raw.githubusercontent.com/gatk-workflows/gatk4-germline-snps-indels/master/generic.google-papi.options.json \\\n",
    "#     -o {WRKDIR}/tools/generic.google-papi.options.json\n",
    "    \n",
    "# !curl https://raw.githubusercontent.com/gatk-workflows/gatk4-germline-snps-indels/master/JointGenotyping.wdl \\\n",
    "#     -o {WRKDIR}/tools/JointGenotyping.wdl\n",
    "# !curl https://raw.githubusercontent.com/gatk-workflows/gatk4-germline-snps-indels/master/JointGenotyping.hg38.wgs.inputs.json \\\n",
    "#     -o {WRKDIR}/jsons/JointGenotyping.hg38.wgs.inputs.json\n",
    "    \n",
    "# !curl https://raw.githubusercontent.com/gatk-workflows/gatk4-germline-snps-indels/master/generic.google-papi.options.json \\\n",
    "#     -o {WRKDIR}/jsons/generic.google-papi.options.json    "
   ]
  },
  {
   "cell_type": "markdown",
   "metadata": {},
   "source": [
    "#### update joint calling jsons"
   ]
  },
  {
   "cell_type": "code",
   "execution_count": 75,
   "metadata": {},
   "outputs": [],
   "source": [
    "#update some of the json configs for broad joint calling\n",
    "#generate the extra json files for ubams to crams; ie labels and options for alignment wf\n",
    "\n",
    "# generic_options_template = f'{WRKDIR}/jsons/generic.google-papi.options.json'\n",
    "# wdl_input_template = f'{WRKDIR}/jsons/JointGenotyping.hg38.wgs.inputs.json'\n",
    "\n",
    "#json_labels_outfile_name = '{}/jsons/{}.JointGenotyping.labels.json'.format(WRKDIR,COHORT)\n",
    "# json_options_outfile_name = f'{WRKDIR}/jsons/{COHORT}.JointGenotyping.options.json'\n",
    "# json_broad_outfile_name = f'{WRKDIR}/jsons/{COHORT}.JointGenotyping.hg38.wgs.inputs.json'  \n",
    "\n",
    "generic_options_template = f'{WRKDIR}/tools/generic.google-papi.options.json'\n",
    "wdl_input_template = f'{WRKDIR}/tools/joint-discovery-gatk4.hg38.wgs.inputs.json'\n",
    "\n",
    "#json_labels_outfile_name = '{}/jsons/{}.jdgatk4.labels.json'.format(WRKDIR,COHORT)\n",
    "json_options_outfile_name = f'{WRKDIR}/jsons/{COHORT}.jdgatk4.options.json'\n",
    "json_broad_outfile_name = f'{WRKDIR}/jsons/{COHORT}.jdgatk4.hg38.wgs.inputs.json'\n",
    "\n",
    "#format and write the label json\n",
    "# label_data = {}\n",
    "# label_data['workflow'] = 'jdgatk4'\n",
    "# label_data['cohort'] = COHORT.lower()\n",
    "# label_data['user'] = MYUSER.lower()\n",
    "\n",
    "# with open(json_labels_outfile_name,'w') as json_outfile:\n",
    "#     json.dump(label_data,json_outfile,sort_keys=True,indent=4)   \n",
    "\n",
    "#format and write the options json\n",
    "with open(generic_options_template) as json_file:  \n",
    "    options_data = json.load(json_file)\n",
    "    \n",
    "    options_data['read_from_cache'] = True\n",
    "    options_data['write_to_cache'] = True\n",
    "    options_data['workflow_failure_mode'] = 'ContinueWhilePossible'\n",
    "    options_data['system.input-read-limits.lines'] = 640000    \n",
    "    options_data['final_workflow_outputs_dir'] = '{}/hg38/joint_calling'.format(COHORT_BUCKET)\n",
    "    options_data['final_workflow_log_dir'] = '{}/logs/joint_calling'.format(COHORT_BUCKET)\n",
    "    options_data['final_call_logs_dir'] = '{}/logs/joint_calling'.format(COHORT_BUCKET)\n",
    "\n",
    "    with open(json_options_outfile_name,'w') as json_outfile:\n",
    "        json.dump(options_data,json_outfile,sort_keys=True,indent=4)   \n",
    "\n",
    "#format and write the broad json\n",
    "with open(wdl_input_template) as json_file:  \n",
    "    broad_data = json.load(json_file)\n",
    "    \n",
    "    sample_gvcfs_path = '{}/{}.sample.gvcfs.map.txt'.format(COHORT_BUCKET,COHORT)\n",
    "    broad_data['JointGenotyping.callset_name'] = COHORT\n",
    "    broad_data['JointGenotyping.sample_name_map'] = sample_gvcfs_path\n",
    "\n",
    "    with open(json_broad_outfile_name,'w') as json_outfile:\n",
    "        json.dump(broad_data,json_outfile,sort_keys=False,indent=4)   \n"
   ]
  },
  {
   "cell_type": "code",
   "execution_count": 56,
   "metadata": {},
   "outputs": [
    {
     "name": "stdout",
     "output_type": "stream",
     "text": [
      "       9\n"
     ]
    }
   ],
   "source": [
    "%%bash -s \"$WRKDIR\" \"$COHORT_BUCKET\" \"$COHORT\"\n",
    "#get a list of files that were successfully created\n",
    "WRKDIR=${1}\n",
    "COHORT_BUCKET=${2}\n",
    "COHORT=${3}\n",
    "\n",
    "gsutil -mq ls ${COHORT_BUCKET}/hg38/crams/*.cram > ${WRKDIR}/${COHORT}.found.files\n",
    "\n",
    "sed -i -e s\"/gs:\\/\\/nihnialngcbg-testing\\/${COHORT}\\/hg38\\/crams\\///\"g ${WRKDIR}/${COHORT}.found.files\n",
    "sed -i -e s\"/\\///\"g ${WRKDIR}/${COHORT}.found.files\n",
    "sed -i -e s\"/\\.cram//\"g ${WRKDIR}/${COHORT}.found.files\n",
    "\n",
    "less ${WRKDIR}/${COHORT}.found.files | wc -l"
   ]
  },
  {
   "cell_type": "code",
   "execution_count": 58,
   "metadata": {},
   "outputs": [
    {
     "data": {
      "text/plain": [
       "'gs://nihnialngcbg-testing/UNHS'"
      ]
     },
     "execution_count": 58,
     "metadata": {},
     "output_type": "execute_result"
    }
   ],
   "source": [
    "COHORT_BUCKET"
   ]
  },
  {
   "cell_type": "code",
   "execution_count": 57,
   "metadata": {},
   "outputs": [],
   "source": [
    "#need to create the gvcfs sample map file used as json argument above JointGenotyping.sample_name_map\n",
    "#instead of just looping expected ids do so from found list in previous cell, allow to move/remove fails\n",
    "\n",
    "found_file_list = '{}/{}.found.files'.format(WRKDIR,COHORT)\n",
    "found_ids = pd.read_csv(found_file_list,header=None).to_numpy()\n",
    "# found_ids = sample_ids.reshape(len(found_ids))\n",
    "found_ids = found_ids.reshape(len(found_ids))\n",
    "\n",
    "gvcfs_map_file = '{}/{}.sample.gvcfs.map.txt'.format(WRKDIR,COHORT)\n",
    "\n",
    "with open(gvcfs_map_file, 'w') as file_handler:\n",
    "    for sample_id in found_ids:\n",
    "        file_handler.write(\"{}\\t{}/hg38/gvcfs/{}.g.vcf.gz\\n\".\\\n",
    "                           format(sample_id,COHORT_BUCKET,sample_id))\n",
    "\n",
    "#now copy the map file up to cloud bucket\n",
    "!gsutil -mq cp {gvcfs_map_file} {COHORT_BUCKET}/\n"
   ]
  },
  {
   "cell_type": "markdown",
   "metadata": {},
   "source": [
    "#### now run the joint calling job"
   ]
  },
  {
   "cell_type": "code",
   "execution_count": 43,
   "metadata": {},
   "outputs": [
    {
     "name": "stdout",
     "output_type": "stream",
     "text": [
      "#When cromwell is up, create an SSH tunnel from your workstation:\n",
      "#run these commands at terminal:\n",
      "\n",
      "gcloud --project pd-genome compute ssh ninds-eopd-cromwell -- -L 8000:localhost:8000\n",
      "\n",
      "#after this runs you well actually be logged into the cromwell server, so you will need to open another termincal session on your machine to submit your jobs\n",
      "\n"
     ]
    }
   ],
   "source": [
    "# print('#When cromwell is up, create an SSH tunnel from your workstation:')\n",
    "# print('#run these commands at terminal:\\n')\n",
    "# print('gcloud --project {} compute ssh {}-cromwell -- -L 8000:localhost:8000'\\\n",
    "#       .format(PROJECT_ID,COHORT.replace('_','-')))\n",
    "\n",
    "# print('\\n#after this runs you well actually be logged into the cromwell server, ' \\\n",
    "#       'so you will need to open another termincal session on your machine to submit your jobs\\n')"
   ]
  },
  {
   "cell_type": "code",
   "execution_count": 16,
   "metadata": {},
   "outputs": [
    {
     "name": "stdout",
     "output_type": "stream",
     "text": [
      "#run these commands at terminal:\n",
      "\n",
      "nohup gcloud alpha genomics pipelines run --project nih-nia-lng-cbg --pipeline-file gs://nihnialngcbg-testing/tools/wdl_pipeline.yaml --zones us-central1-f --memory 7 --logging gs://nihnialngcbg-testing/UNHS/logs/joint-discovery/ --inputs-from-file WDL=/Users/mooreank/Desktop/Mark/UNHS/tools/joint-discovery-gatk4.wdl --inputs-from-file WORKFLOW_INPUTS=/Users/mooreank/Desktop/Mark/UNHS/jsons/UNHS.jdgatk4.hg38.wgs.inputs.json --inputs-from-file WORKFLOW_OPTIONS=/Users/mooreank/Desktop/Mark/UNHS/jsons/UNHS.jdgatk4.options.json --inputs WORKSPACE=gs://nihnialngcbg-testing/UNHS/workspace/ --inputs OUTPUTS=gs://nihnialngcbg-testing/UNHS/joint-discovery/ --labels=cohort=unhs,user=mooreank,workflow=jointdiscovery > /Users/mooreank/Desktop/Mark/UNHS/unhs.joint-discovery.log &\n"
     ]
    }
   ],
   "source": [
    "#now run the joint calling job\n",
    "\n",
    "# run_cmd = 'python {wrk_dir}/jsons/cromwell_client.py \\\n",
    "# --wdl {wrk_dir}/tools/joint-discovery-gatk4.wdl \\\n",
    "# --workflow-inputs {wrk_dir}/jsons/{this_cohort}.jdgatk4.hg38.wgs.inputs.json \\\n",
    "# --workflow-options {wrk_dir}/jsons/{this_cohort}.jdgatk4.options.json \\\n",
    "# --workflow-labels {wrk_dir}/jsons/{this_cohort}.jdgatk4.labels.json'.\\\n",
    "# format(wrk_dir=WRKDIR, this_cohort=COHORT)\n",
    "\n",
    "# print('#run these commands at terminal:\\n')\n",
    "\n",
    "# print('{} > {}/{}.jdgatk4.jobid'.format(run_cmd, WRKDIR, COHORTBUILD))\n",
    "\n",
    "cohort_bucket = f'{PRJ_BUCKET}/{COHORT}'\n",
    "\n",
    "def formatgcpcmd(chrt_bucket):\n",
    "    this_cmd = 'gcloud alpha genomics pipelines run \\\n",
    "--project {PROJECT_ID} \\\n",
    "--pipeline-file {PRJ_BUCKET}/tools/wdl_pipeline.yaml \\\n",
    "--zones us-central1-f \\\n",
    "--memory 7 \\\n",
    "--logging {COHORT_BUCKET}/logs/joint-discovery/ \\\n",
    "--inputs-from-file WDL={WRKDIR}/tools/joint-discovery-gatk4.wdl \\\n",
    "--inputs-from-file WORKFLOW_INPUTS={WRKDIR}/jsons/UNHS.jdgatk4.hg38.wgs.inputs.json \\\n",
    "--inputs-from-file WORKFLOW_OPTIONS={WRKDIR}/jsons/UNHS.jdgatk4.options.json \\\n",
    "--inputs WORKSPACE={COHORT_BUCKET}/workspace/ \\\n",
    "--inputs OUTPUTS={COHORT_BUCKET}/joint-discovery/ \\\n",
    "--labels=cohort=unhs,user={MYUSER},workflow=jointdiscovery'\n",
    "    return(this_cmd.format(PROJECT_ID=PROJECT_ID,PRJ_BUCKET=PRJ_BUCKET,\\\n",
    "                         COHORT_BUCKET=chrt_bucket,WRKDIR=WRKDIR,COHORT=COHORT,MYUSER=MYUSER))\n",
    "\n",
    "# #iterate over samples formatting the cmds\n",
    "# cohort_bucket = '{}/{}'.format(PRJ_BUCKET,COHORT)\n",
    "# cmds = [formatgcpcmd(sample_id,cohort_bucket) for sample_id in sample_ids]\n",
    "\n",
    "# temp_script_file = '{}/{}.run_JointGenotyping.sh'.format(WRKDIR,COHORT.lower())\n",
    "\n",
    "final_cmd = formatgcpcmd(cohort_bucket)\n",
    "\n",
    "with open(temp_script_file, 'w') as file_handler:\n",
    "        for this_cmd in cmds:\n",
    "            file_handler.write(\"{}\\n\".format(this_cmd))\n",
    "            \n",
    "print('#run these commands at terminal:\\n')\n",
    "#print('chmod +x ' + final_cmd)\n",
    "print('nohup ' +final_cmd + ' > {}/{}.joint-discovery.log &'.format(WRKDIR,COHORT.lower()))"
   ]
  },
  {
   "cell_type": "code",
   "execution_count": 34,
   "metadata": {},
   "outputs": [
    {
     "name": "stdout",
     "output_type": "stream",
     "text": [
      "done: true\n",
      "metadata:\n",
      "  events:\n",
      "  - description: start\n",
      "    startTime: '2020-02-28T15:51:46.403412281Z'\n",
      "  - description: pulling-image\n",
      "    startTime: '2020-02-28T15:51:46.403483020Z'\n",
      "  - description: localizing-files\n",
      "    startTime: '2020-02-28T15:52:19.197885255Z'\n",
      "  - description: running-docker\n",
      "    startTime: '2020-02-28T15:52:19.197924392Z'\n",
      "  - description: delocalizing-files\n",
      "    startTime: '2020-02-29T00:21:41.439351830Z'\n",
      "  - description: ok\n",
      "    startTime: '2020-02-29T00:21:42.553588635Z'\n",
      "\n",
      "\n",
      "Updates are available for some Cloud SDK components.  To install them,\n",
      "please run:\n",
      "  $ gcloud components update\n",
      "\n"
     ]
    }
   ],
   "source": [
    "#the above google genomics pipeline (ggp) commands should return on OPIDs\n",
    "#grab to previous operation IDs to use here as opids list\n",
    "opid = 'EK6T--OILhiQtfaw7I68kekBINn1oK--DSoPcHJvZHVjdGlvblF1ZXVl'\n",
    "#for opid in opids:\n",
    "!gcloud alpha genomics operations describe {opid} --format='yaml(done, error, metadata.events)'"
   ]
  },
  {
   "cell_type": "markdown",
   "metadata": {},
   "source": [
    "# This where we stopped after joint calling"
   ]
  },
  {
   "cell_type": "code",
   "execution_count": 31,
   "metadata": {},
   "outputs": [
    {
     "name": "stdout",
     "output_type": "stream",
     "text": [
      "#full job worker node count\n",
      "       1\n",
      "#number of all running instances in project\n",
      "       2\n"
     ]
    }
   ],
   "source": [
    "#see how many GCE (Google Compute Engine) instances are running for joint calling\n",
    "print('#full job worker node count')\n",
    "!gcloud compute instances list --project {PROJECT_ID} \\\n",
    "--filter \"labels:(unhs {MYUSER} jointdiscovery)\" | grep RUNNING | wc -l\n",
    "\n",
    "print('#number of all running instances in project')\n",
    "!gcloud compute instances list --project {PROJECT_ID} | grep RUNNING | wc -l"
   ]
  },
  {
   "cell_type": "markdown",
   "metadata": {},
   "source": [
    "#### commands for checking statuses using Cromwell REST cmds"
   ]
  },
  {
   "cell_type": "markdown",
   "metadata": {},
   "source": [
    "#### Can I run this block for the purpose of checking statuses?"
   ]
  },
  {
   "cell_type": "code",
   "execution_count": 131,
   "metadata": {},
   "outputs": [
    {
     "name": "stdout",
     "output_type": "stream",
     "text": [
      "#run these commands at terminal:\n",
      "\n",
      "#These actually won't be that helpful because you are all using the same server.\n",
      "\n",
      "#When cromwell is up, create an SSH tunnel from your workstation, if not already connected:\n",
      "\n",
      "gcloud --project pd-genome compute ssh ninds-eopd-cromwell -- -L 8000:localhost:8000\n",
      "\n",
      "#if tunnel established can check cromwell status\n",
      "\n",
      "curl -X GET \"http://localhost:8000/api/workflows/v1/query?status=Running\"\n",
      "curl -X GET \"http://localhost:8000/api/workflows/v1/query?status=Submitted\"\n",
      "curl -X GET \"http://localhost:8000/api/workflows/v1/query?status=Failed\"\n",
      "curl -X GET \"http://localhost:8000/api/workflows/v1/query?status=Succeeded\"\n"
     ]
    }
   ],
   "source": [
    "# print('#run these commands at terminal:\\n')\n",
    "\n",
    "# print('#These actually won\\'t be that helpful because you are all using the same server.\\n')\n",
    "\n",
    "# print('#When cromwell is up, create an SSH tunnel from your workstation, if not already connected:\\n')\n",
    "# print('gcloud --project {} compute ssh {}-cromwell -- -L 8000:localhost:8000'.\\\n",
    "#       format(PROJECT_ID,COHORT.replace('_','-')))\n",
    "\n",
    "# print('\\n#if tunnel established can check cromwell status\\n')\n",
    "# print('curl -X GET \"http://localhost:8000/api/workflows/v1/query?status=Running\"')\n",
    "# print('curl -X GET \"http://localhost:8000/api/workflows/v1/query?status=Submitted\"')\n",
    "# print('curl -X GET \"http://localhost:8000/api/workflows/v1/query?status=Failed\"')\n",
    "# print('curl -X GET \"http://localhost:8000/api/workflows/v1/query?status=Succeeded\"')"
   ]
  },
  {
   "cell_type": "markdown",
   "metadata": {},
   "source": [
    "## check to make sure expected file(s) are there in this case since < 1K samples will be single vcf\n",
    "\n",
    "Note that below here would be different for larger cohorts, with file per chromosome"
   ]
  },
  {
   "cell_type": "code",
   "execution_count": 46,
   "metadata": {},
   "outputs": [
    {
     "name": "stdout",
     "output_type": "stream",
     "text": [
      "  1.93 GiB  2020-02-29T00:21:40Z  gs://nihnialngcbg-testing/UNHS/joint-discovery/UNHS.vcf.gz\n",
      "   2.6 MiB  2020-02-29T00:21:40Z  gs://nihnialngcbg-testing/UNHS/joint-discovery/UNHS.vcf.gz.tbi\n",
      "TOTAL: 2 objects, 2070401011 bytes (1.93 GiB)\n"
     ]
    }
   ],
   "source": [
    "#see if result file is present\n",
    "#!gsutil ls -lh {COHORT_BUCKET}/hg38/joint_calling/*/{COHORTBUILD}.vcf.gz*\n",
    "!gsutil ls -lh gs://nihnialngcbg-testing/UNHS/joint-discovery/UNHS.vcf.gz*\n",
    "\n"
   ]
  },
  {
   "cell_type": "markdown",
   "metadata": {},
   "source": [
    "#### move file to a final destination path"
   ]
  },
  {
   "cell_type": "markdown",
   "metadata": {},
   "source": [
    "#### COHORTBUILD is actually CORHORT in our case, why we need to variable names for the same value??"
   ]
  },
  {
   "cell_type": "code",
   "execution_count": 51,
   "metadata": {},
   "outputs": [
    {
     "name": "stdout",
     "output_type": "stream",
     "text": [
      "#run these commands at terminal:\n",
      "\n",
      "#I'VE ALREADY RUN THIS SO DO NOT NEED TO RUN AGAIN\n",
      "\n",
      "gsutil -mq cp gs://nihnialngcbg-testing/UNHS/hg38/joint_calling/JointGenotyping/0822e1a2-f073-49fa-8dd3-bd9519dc7781/call-CollectMetricsOnFullVcf/* gs://nihnialngcbg-testing/UNHS/hg38/JointGenotyping/\n"
     ]
    }
   ],
   "source": [
    "COHORTBUILD = 'UNHS'\n",
    "\n",
    "#job was run twice to two sets of outputs, grab one and then do some cleanup\n",
    "print('#run these commands at terminal:\\n')\n",
    "print('#I\\'VE ALREADY RUN THIS SO DO NOT NEED TO RUN AGAIN\\n')\n",
    "in_path = f'{COHORT_BUCKET}/hg38/joint_calling/JointGenotyping/0822e1a2-f073-49fa-8dd3-bd9519dc7781'\n",
    "out_path = f'{COHORT_BUCKET}/hg38/JointGenotyping/'\n",
    "#print(f'gsutil -mq cp {in_path }/call-DynamicallyCombineIntervals/{COHORTBUILD}.vcf.gz* {out_path}')\n",
    "print(f'gsutil -mq cp {in_path }/call-CollectMetricsOnFullVcf/* {out_path}')"
   ]
  },
  {
   "cell_type": "markdown",
   "metadata": {},
   "source": [
    "#### now do some clean up"
   ]
  },
  {
   "cell_type": "code",
   "execution_count": 60,
   "metadata": {},
   "outputs": [
    {
     "name": "stdout",
     "output_type": "stream",
     "text": [
      "#run these commands at terminal:\n",
      "\n",
      "#I'VE ALREADY RUN THIS SO DO NOT NEED TO RUN AGAIN\n",
      "\n",
      "gsutil -mq rm gs://nihnialng-pd-wgs/ninds_eopd/hg38/joint_calling/JointGenotyping/83cca38d-7e42-4ac1-bb7c-278c1343a6d7/call-FinalGatherVcf/ninds_eopd.july2019.vcf.gz*\n",
      "gsutil -mq rm gs://nihnialng-pd-wgs/ninds_eopd/hg38/joint_calling/JointGenotyping/83cca38d-7e42-4ac1-bb7c-278c1343a6d7/call-CollectMetricsOnFullVcf/*\n",
      "gsutil -mq rm gs://nihnialng-pd-wgs/ninds_eopd/hg38/joint_calling/JointGenotyping/83cca38d-7e42-4ac1-bb7c-278c1343a6d7/call-DynamicallyCombineIntervals/*\n",
      "gsutil -mq rm -r gs://nihnialng-pd-wgs/ninds_eopd/hg38/joint_calling/JointGenotyping/2a88a45a-f6dd-4d61-9bfb-d70d07f04fb7\n",
      "gsutil -mq rm -r gs://nihnialng-pd-wgs/ninds_eopd/logs\n",
      "gsutil -mq rm -r gs://nihnialng-pd-wgs/ninds_eopd/cromwell-execution/JointGenotyping\n"
     ]
    }
   ],
   "source": [
    "#delete logging, cromwell execution path, and detritus from output path\n",
    "print('#run these commands at terminal:\\n')\n",
    "print('#I\\'VE ALREADY RUN THIS SO DO NOT NEED TO RUN AGAIN\\n')\n",
    "\n",
    "print(f'gsutil -mq rm {in_path }/call-FinalGatherVcf/{COHORTBUILD}.vcf.gz*')\n",
    "print(f'gsutil -mq rm {in_path }/call-CollectMetricsOnFullVcf/*')\n",
    "print(f'gsutil -mq rm {in_path }/call-DynamicallyCombineIntervals/*')\n",
    "print(f'gsutil -mq rm -r {COHORT_BUCKET}/hg38/joint_calling/JointGenotyping/2a88a45a-f6dd-4d61-9bfb-d70d07f04fb7')\n",
    "\n",
    "print(f'gsutil -mq rm -r {COHORT_BUCKET}/logs')\n",
    "print(f'gsutil -mq rm -r {COHORT_BUCKET}/cromwell-execution/JointGenotyping')"
   ]
  },
  {
   "cell_type": "markdown",
   "metadata": {},
   "source": [
    "#### now delete the cromwell server"
   ]
  },
  {
   "cell_type": "markdown",
   "metadata": {},
   "source": [
    "#### Do you mean delete the gcp VM??"
   ]
  },
  {
   "cell_type": "code",
   "execution_count": 26,
   "metadata": {},
   "outputs": [
    {
     "name": "stdout",
     "output_type": "stream",
     "text": [
      "#run these commands at terminal:\n",
      "\n",
      "#I'VE ALREADY RUN THIS SO DO NOT NEED TO RUN AGAIN\n",
      "\n",
      "gcloud compute instances delete ninds-eopd-cromwell --project pd-genome --zone us-central1-f\n"
     ]
    }
   ],
   "source": [
    "#if done with the cromwell server delete it\n",
    "# print('#run these commands at terminal:\\n')\n",
    "# print('#I\\'VE ALREADY RUN THIS SO DO NOT NEED TO RUN AGAIN\\n')\n",
    "# !echo gcloud compute instances delete {COHORT.replace('_','-')}-cromwell \\\n",
    "# --project {PROJECT_ID} --zone us-central1-f"
   ]
  },
  {
   "cell_type": "code",
   "execution_count": 54,
   "metadata": {},
   "outputs": [
    {
     "data": {
      "text/plain": [
       "'gs://nihnialng-pd-wgs/tools/yamls/SubjectSubsetVCF.yaml'"
      ]
     },
     "execution_count": 54,
     "metadata": {},
     "output_type": "execute_result"
    }
   ],
   "source": [
    "pipe_yaml"
   ]
  },
  {
   "cell_type": "markdown",
   "metadata": {},
   "source": [
    "### subset vcfs to just PASSED variants\n",
    "\n",
    "#### VQSR doesn't really work for the non-PAR sexomes and while you probably won't be doing analsys on sexome variation you will need at lest chrX to perform sex check QC\n",
    "\n",
    "so submit another vcf subset but only for chrX without PASS filter"
   ]
  },
  {
   "cell_type": "code",
   "execution_count": 60,
   "metadata": {},
   "outputs": [
    {
     "name": "stdout",
     "output_type": "stream",
     "text": [
      "#run these commands at terminal:\n",
      "\n",
      "cut -f 1 /Users/mooreank/Desktop/Mark/UNHS/UNHS.sample.gvcfs.map.txt > /Users/mooreank/Desktop/Mark/UNHS/UNHS.samples.list\n",
      "\n",
      "gsutil -mq cp /Users/mooreank/Desktop/Mark/UNHS/UNHS.samples.list gs://nihnialngcbg-testing/UNHS/\n",
      "\n",
      "gcloud alpha genomics pipelines run --project nih-nia-lng-cbg --pipeline-file gs://nihnialngcbg-testing/tools/SubjectSubsetVCF.yaml --logging gs://nihnialngcbg-testing/UNHS/logs/jointcall/filtervcf/ --inputs INPUTVCF=gs://nihnialngcbg-testing/UNHS/joint-discovery/UNHS.vcf.gz --inputs INPUTVCFINDEX=gs://nihnialngcbg-testing/UNHS/joint-discovery/UNHS.vcf.gz.tbi --inputs SUBJECTLIST=gs://nihnialngcbg-testing/UNHS/UNHS.samples.list --inputs EXCLUDECARROT=\" \" --inputs FILTERFLAGS=\"-f PASS --force-samples\" --inputs MINAC=\"1\" --outputs OUTVCF=gs://nihnialngcbg-testing/UNHS/hg38/genotypes/UNHS.vcf.gz --outputs OUTVCFINDEX=gs://nihnialngcbg-testing/UNHS/hg38/genotypes/UNHS.vcf.gz.tbi --labels=pipe=filtervcfs,cohort=unhs,user=mooreank\n",
      "\n",
      "gcloud alpha genomics pipelines run --project nih-nia-lng-cbg --pipeline-file gs://nihnialngcbg-testing/tools/SubjectSubsetVCF.yaml --logging gs://nihnialngcbg-testing/UNHS/logs/jointcall/filtervcf/ --inputs INPUTVCF=gs://nihnialngcbg-testing/UNHS/joint-discovery/UNHS.vcf.gz --inputs INPUTVCFINDEX=gs://nihnialngcbg-testing/UNHS/joint-discovery/UNHS.vcf.gz.tbi --inputs SUBJECTLIST=gs://nihnialngcbg-testing/UNHS/UNHS.samples.list --inputs EXCLUDECARROT=\" \" --inputs FILTERFLAGS=\"--regions chrX --force-samples\" --inputs MINAC=\"1\" --outputs OUTVCF=gs://nihnialngcbg-testing/UNHS/hg38/genotypes/UNHS.chrX.vcf.gz --outputs OUTVCFINDEX=gs://nihnialngcbg-testing/UNHS/hg38/genotypes/UNHS.chrX.vcf.gz.tbi --labels=pipe=filtervcfs,cohort=unhs,chromosome=chrx,user=mooreank\n",
      "\n"
     ]
    }
   ],
   "source": [
    "print('#run these commands at terminal:\\n')\n",
    "#prep and run the VQSR subset job\n",
    "print(f'cut -f 1 {WRKDIR}/{COHORTBUILD}.sample.gvcfs.map.txt > {WRKDIR}/{COHORTBUILD}.samples.list\\n')\n",
    "print(f'gsutil -mq cp {WRKDIR}/{COHORTBUILD}.samples.list {COHORT_BUCKET}/\\n')\n",
    "\n",
    "pipe_yaml = 'gs://nihnialngcbg-testing/tools/SubjectSubsetVCF.yaml'\n",
    "\n",
    "filter_vqsr_cmd = f'gcloud alpha genomics pipelines run \\\n",
    "--project {PROJECT_ID} \\\n",
    "--pipeline-file {pipe_yaml} \\\n",
    "--logging {COHORT_BUCKET}/logs/jointcall/filtervcf/ \\\n",
    "--inputs INPUTVCF={COHORT_BUCKET}/joint-discovery/{COHORTBUILD}.vcf.gz \\\n",
    "--inputs INPUTVCFINDEX={COHORT_BUCKET}/joint-discovery/{COHORTBUILD}.vcf.gz.tbi \\\n",
    "--inputs SUBJECTLIST={COHORT_BUCKET}/{COHORTBUILD}.samples.list \\\n",
    "--inputs EXCLUDECARROT=\\\" \\\" \\\n",
    "--inputs FILTERFLAGS=\\\"-f PASS --force-samples\\\" \\\n",
    "--inputs MINAC=\\\"1\\\" \\\n",
    "--outputs OUTVCF={COHORT_BUCKET}/hg38/genotypes/{COHORTBUILD}.vcf.gz \\\n",
    "--outputs OUTVCFINDEX={COHORT_BUCKET}/hg38/genotypes/{COHORTBUILD}.vcf.gz.tbi \\\n",
    "--labels=pipe=filtervcfs,cohort={COHORT.lower()},user={MYUSER}\\n'\n",
    "\n",
    "print(filter_vqsr_cmd)\n",
    "\n",
    "chrx_vcf_cmd = f'gcloud alpha genomics pipelines run \\\n",
    "--project {PROJECT_ID} \\\n",
    "--pipeline-file {pipe_yaml} \\\n",
    "--logging {COHORT_BUCKET}/logs/jointcall/filtervcf/ \\\n",
    "--inputs INPUTVCF={COHORT_BUCKET}/joint-discovery/{COHORTBUILD}.vcf.gz \\\n",
    "--inputs INPUTVCFINDEX={COHORT_BUCKET}/joint-discovery/{COHORTBUILD}.vcf.gz.tbi \\\n",
    "--inputs SUBJECTLIST={COHORT_BUCKET}/{COHORTBUILD}.samples.list \\\n",
    "--inputs EXCLUDECARROT=\\\" \\\" \\\n",
    "--inputs FILTERFLAGS=\\\"--regions chrX --force-samples\\\" \\\n",
    "--inputs MINAC=\\\"1\\\" \\\n",
    "--outputs OUTVCF={COHORT_BUCKET}/hg38/genotypes/{COHORTBUILD}.chrX.vcf.gz \\\n",
    "--outputs OUTVCFINDEX={COHORT_BUCKET}/hg38/genotypes/{COHORTBUILD}.chrX.vcf.gz.tbi \\\n",
    "--labels=pipe=filtervcfs,cohort={COHORT.lower()},chromosome=chrx,user={MYUSER}\\n'\n",
    "\n",
    "print(chrx_vcf_cmd)"
   ]
  },
  {
   "cell_type": "markdown",
   "metadata": {},
   "source": [
    "#### check status of filter on VQSR pass job using OPID"
   ]
  },
  {
   "cell_type": "code",
   "execution_count": 63,
   "metadata": {},
   "outputs": [
    {
     "name": "stdout",
     "output_type": "stream",
     "text": [
      "done: true\n",
      "metadata:\n",
      "  events:\n",
      "  - description: start\n",
      "    startTime: '2020-03-01T19:18:58.313804782Z'\n",
      "  - description: pulling-image\n",
      "    startTime: '2020-03-01T19:18:58.313867110Z'\n",
      "  - description: localizing-files\n",
      "    startTime: '2020-03-01T19:20:03.795115565Z'\n",
      "  - description: running-docker\n",
      "    startTime: '2020-03-01T19:20:39.265816827Z'\n",
      "  - description: delocalizing-files\n",
      "    startTime: '2020-03-01T19:24:51.248589498Z'\n",
      "  - description: copied 1 file(s) to \"gs://nihnialngcbg-testing/UNHS/hg38/genotypes/UNHS.vcf.gz\"\n",
      "    startTime: '2020-03-01T19:25:00.395490523Z'\n",
      "  - description: copied 1 file(s) to \"gs://nihnialngcbg-testing/UNHS/hg38/genotypes/UNHS.vcf.gz.tbi\"\n",
      "    startTime: '2020-03-01T19:25:01.563639767Z'\n",
      "  - description: ok\n",
      "    startTime: '2020-03-01T19:25:02.815306283Z'\n",
      "done: true\n",
      "metadata:\n",
      "  events:\n",
      "  - description: start\n",
      "    startTime: '2020-03-01T19:25:10.403946898Z'\n",
      "  - description: pulling-image\n",
      "    startTime: '2020-03-01T19:25:10.404025041Z'\n",
      "  - description: localizing-files\n",
      "    startTime: '2020-03-01T19:26:13.482372733Z'\n",
      "  - description: running-docker\n",
      "    startTime: '2020-03-01T19:26:45.479664972Z'\n",
      "  - description: delocalizing-files\n",
      "    startTime: '2020-03-01T19:26:57.578257057Z'\n",
      "  - description: copied 1 file(s) to \"gs://nihnialngcbg-testing/UNHS/hg38/genotypes/UNHS.chrX.vcf.gz\"\n",
      "    startTime: '2020-03-01T19:26:58.896926964Z'\n",
      "  - description: copied 1 file(s) to \"gs://nihnialngcbg-testing/UNHS/hg38/genotypes/UNHS.chrX.vcf.gz.tbi\"\n",
      "    startTime: '2020-03-01T19:26:59.943448219Z'\n",
      "  - description: ok\n",
      "    startTime: '2020-03-01T19:27:01.379598186Z'\n"
     ]
    }
   ],
   "source": [
    "#the above google genomics pipeline (ggp) commands should return on OPIDs\n",
    "#grab to previous operation IDs to use here as opids list\n",
    "opids = ['EIukoLyJLhi5iqrx6JOjgEAg2fWgr74NKg9wcm9kdWN0aW9uUXVldWU', \\\n",
    "'EOuht7yJLhjyhI_w0oOcrFQg2fWgr74NKg9wcm9kdWN0aW9uUXVldWU']\n",
    "\n",
    "for opid in opids:\n",
    "    !gcloud alpha genomics operations describe {opid} \\\n",
    "    --format='yaml(done, error, metadata.events)'"
   ]
  },
  {
   "cell_type": "markdown",
   "metadata": {},
   "source": [
    "#### split multi-allelics, name variants, and thin out vcf verbosity"
   ]
  },
  {
   "cell_type": "code",
   "execution_count": 64,
   "metadata": {},
   "outputs": [
    {
     "name": "stdout",
     "output_type": "stream",
     "text": [
      "#run these commands at terminal:\n",
      "\n",
      "gcloud alpha genomics pipelines run --project nih-nia-lng-cbg --pipeline-file gs://nihnialngcbg-testing/tools/SplitAndNameVCF.yaml --logging gs://nihnialngcbg-testing/UNHS/logs/jointcall/splitname/ --inputs INPUTVCF=gs://nihnialngcbg-testing/UNHS/hg38/genotypes/UNHS.vcf.gz --inputs INPUTVCFINDEX=gs://nihnialngcbg-testing/UNHS/hg38/genotypes/UNHS.vcf.gz.tbi --inputs REFFASTA=gs://gcp-public-data--broad-references/hg38/v0/Homo_sapiens_assembly38.fasta --inputs REFFASTAINDEX=gs://gcp-public-data--broad-references/hg38/v0/Homo_sapiens_assembly38.fasta.fai --outputs OUTVCF=gs://nihnialngcbg-testing/UNHS/hg38/genotypes/UNHS.gtonly.vcf.gz --outputs OUTVCFINDEX=gs://nihnialngcbg-testing/UNHS/hg38/genotypes/UNHS.gtonly.vcf.gz.tbi --labels=pipe=splitnamevcf,cohort=unhs,user=mooreank\n",
      "\n",
      "gcloud alpha genomics pipelines run --project nih-nia-lng-cbg --pipeline-file gs://nihnialngcbg-testing/tools/SplitAndNameVCF.yaml --logging gs://nihnialngcbg-testing/UNHS/logs/jointcall/splitname/ --inputs INPUTVCF=gs://nihnialngcbg-testing/UNHS/hg38/genotypes/UNHS.chrX.vcf.gz --inputs INPUTVCFINDEX=gs://nihnialngcbg-testing/UNHS/hg38/genotypes/UNHS.chrX.vcf.gz.tbi --inputs REFFASTA=gs://gcp-public-data--broad-references/hg38/v0/Homo_sapiens_assembly38.fasta --inputs REFFASTAINDEX=gs://gcp-public-data--broad-references/hg38/v0/Homo_sapiens_assembly38.fasta.fai --outputs OUTVCF=gs://nihnialngcbg-testing/UNHS/hg38/genotypes/UNHS.chrX.gtonly.vcf.gz --outputs OUTVCFINDEX=gs://nihnialngcbg-testing/UNHS/hg38/genotypes/UNHS.chrX.gtonly.vcf.gz.tbi --labels=pipe=splitnamevcf,cohort=unhs,user=mooreank\n",
      "\n"
     ]
    }
   ],
   "source": [
    "#split multi-allelics, name variants, and thin out vcf verbosity\n",
    "pipe_yaml = 'gs://nihnialngcbg-testing/tools/SplitAndNameVCF.yaml'\n",
    "\n",
    "print('#run these commands at terminal:\\n')\n",
    "split_name_cmd = f'gcloud alpha genomics pipelines run \\\n",
    "--project {PROJECT_ID} \\\n",
    "--pipeline-file {pipe_yaml} \\\n",
    "--logging {COHORT_BUCKET}/logs/jointcall/splitname/ \\\n",
    "--inputs INPUTVCF={COHORT_BUCKET}/hg38/genotypes/{COHORTBUILD}.vcf.gz \\\n",
    "--inputs INPUTVCFINDEX={COHORT_BUCKET}/hg38/genotypes/{COHORTBUILD}.vcf.gz.tbi \\\n",
    "--inputs REFFASTA=gs://gcp-public-data--broad-references/hg38/v0/Homo_sapiens_assembly38.fasta \\\n",
    "--inputs REFFASTAINDEX=gs://gcp-public-data--broad-references/hg38/v0/Homo_sapiens_assembly38.fasta.fai \\\n",
    "--outputs OUTVCF={COHORT_BUCKET}/hg38/genotypes/{COHORTBUILD}.gtonly.vcf.gz \\\n",
    "--outputs OUTVCFINDEX={COHORT_BUCKET}/hg38/genotypes/{COHORTBUILD}.gtonly.vcf.gz.tbi \\\n",
    "--labels=pipe=splitnamevcf,cohort={COHORT.lower()},user={MYUSER}\\n'\n",
    "\n",
    "print(split_name_cmd)\n",
    "\n",
    "split_name_cmd = f'gcloud alpha genomics pipelines run \\\n",
    "--project {PROJECT_ID} \\\n",
    "--pipeline-file {pipe_yaml} \\\n",
    "--logging {COHORT_BUCKET}/logs/jointcall/splitname/ \\\n",
    "--inputs INPUTVCF={COHORT_BUCKET}/hg38/genotypes/{COHORTBUILD}.chrX.vcf.gz \\\n",
    "--inputs INPUTVCFINDEX={COHORT_BUCKET}/hg38/genotypes/{COHORTBUILD}.chrX.vcf.gz.tbi \\\n",
    "--inputs REFFASTA=gs://gcp-public-data--broad-references/hg38/v0/Homo_sapiens_assembly38.fasta \\\n",
    "--inputs REFFASTAINDEX=gs://gcp-public-data--broad-references/hg38/v0/Homo_sapiens_assembly38.fasta.fai \\\n",
    "--outputs OUTVCF={COHORT_BUCKET}/hg38/genotypes/{COHORTBUILD}.chrX.gtonly.vcf.gz \\\n",
    "--outputs OUTVCFINDEX={COHORT_BUCKET}/hg38/genotypes/{COHORTBUILD}.chrX.gtonly.vcf.gz.tbi \\\n",
    "--labels=pipe=splitnamevcf,cohort={COHORT.lower()},user={MYUSER}\\n'\n",
    "\n",
    "print(split_name_cmd)"
   ]
  },
  {
   "cell_type": "markdown",
   "metadata": {},
   "source": [
    "#### check status on the split multi-allelics, re-IDs, and gtonly job using OPID"
   ]
  },
  {
   "cell_type": "code",
   "execution_count": 71,
   "metadata": {},
   "outputs": [
    {
     "name": "stdout",
     "output_type": "stream",
     "text": [
      "done: true\n",
      "metadata:\n",
      "  events:\n",
      "  - description: start\n",
      "    startTime: '2020-03-01T19:30:35.598864731Z'\n",
      "  - description: pulling-image\n",
      "    startTime: '2020-03-01T19:30:35.598934666Z'\n",
      "  - description: localizing-files\n",
      "    startTime: '2020-03-01T19:31:48.612462191Z'\n",
      "  - description: running-docker\n",
      "    startTime: '2020-03-01T19:32:38.170931220Z'\n",
      "  - description: delocalizing-files\n",
      "    startTime: '2020-03-01T19:37:48.614771296Z'\n",
      "  - description: copied 1 file(s) to \"gs://nihnialngcbg-testing/UNHS/hg38/genotypes/UNHS.gtonly.vcf.gz.tbi\"\n",
      "    startTime: '2020-03-01T19:37:49.997867127Z'\n",
      "  - description: copied 1 file(s) to \"gs://nihnialngcbg-testing/UNHS/hg38/genotypes/UNHS.gtonly.vcf.gz\"\n",
      "    startTime: '2020-03-01T19:37:52.313480213Z'\n",
      "  - description: ok\n",
      "    startTime: '2020-03-01T19:37:53.553216492Z'\n",
      "done: true\n",
      "metadata:\n",
      "  events:\n",
      "  - description: start\n",
      "    startTime: '2020-03-01T19:30:40.250184523Z'\n",
      "  - description: pulling-image\n",
      "    startTime: '2020-03-01T19:30:40.250259674Z'\n",
      "  - description: localizing-files\n",
      "    startTime: '2020-03-01T19:31:39.800821164Z'\n",
      "  - description: running-docker\n",
      "    startTime: '2020-03-01T19:32:15.710593120Z'\n",
      "  - description: delocalizing-files\n",
      "    startTime: '2020-03-01T19:32:29.383496336Z'\n",
      "  - description: copied 1 file(s) to \"gs://nihnialngcbg-testing/UNHS/hg38/genotypes/UNHS.chrX.gtonly.vcf.gz.tbi\"\n",
      "    startTime: '2020-03-01T19:32:30.542988855Z'\n",
      "  - description: copied 1 file(s) to \"gs://nihnialngcbg-testing/UNHS/hg38/genotypes/UNHS.chrX.gtonly.vcf.gz\"\n",
      "    startTime: '2020-03-01T19:32:31.970613113Z'\n",
      "  - description: ok\n",
      "    startTime: '2020-03-01T19:32:33.330812697Z'\n"
     ]
    }
   ],
   "source": [
    "#the above google genomics pipeline (ggp) commands should return on OPIDs\n",
    "#grab to previous operation IDs to use here as opids list\n",
    "opids = ['EM_fx7yJLhjYwouT2966qW4g2fWgr74NKg9wcm9kdWN0aW9uUXVldWU', \\\n",
    "'EPi3yLyJLhiekrq5_fCm9NcBINn1oK--DSoPcHJvZHVjdGlvblF1ZXVl']\n",
    "\n",
    "for opid in opids:\n",
    "    !gcloud alpha genomics operations describe {opid} \\\n",
    "    --format='yaml(done, error, metadata.events)'"
   ]
  },
  {
   "cell_type": "code",
   "execution_count": 72,
   "metadata": {},
   "outputs": [
    {
     "name": "stdout",
     "output_type": "stream",
     "text": [
      "   5.6 MiB  2020-03-01T19:32:31Z  gs://nihnialngcbg-testing/UNHS/hg38/genotypes/UNHS.chrX.gtonly.vcf.gz\n",
      " 85.35 KiB  2020-03-01T19:32:30Z  gs://nihnialngcbg-testing/UNHS/hg38/genotypes/UNHS.chrX.gtonly.vcf.gz.tbi\n",
      " 29.15 MiB  2020-03-01T19:26:58Z  gs://nihnialngcbg-testing/UNHS/hg38/genotypes/UNHS.chrX.vcf.gz\n",
      "  93.7 KiB  2020-03-01T19:26:59Z  gs://nihnialngcbg-testing/UNHS/hg38/genotypes/UNHS.chrX.vcf.gz.tbi\n",
      "174.85 MiB  2020-03-01T19:37:52Z  gs://nihnialngcbg-testing/UNHS/hg38/genotypes/UNHS.gtonly.vcf.gz\n",
      "  1.61 MiB  2020-03-01T19:37:49Z  gs://nihnialngcbg-testing/UNHS/hg38/genotypes/UNHS.gtonly.vcf.gz.tbi\n",
      "  1.18 GiB  2020-03-01T19:25:00Z  gs://nihnialngcbg-testing/UNHS/hg38/genotypes/UNHS.vcf.gz\n",
      "  1.91 MiB  2020-03-01T19:25:01Z  gs://nihnialngcbg-testing/UNHS/hg38/genotypes/UNHS.vcf.gz.tbi\n",
      "TOTAL: 8 objects, 1491329990 bytes (1.39 GiB)\n"
     ]
    }
   ],
   "source": [
    "#confirm output file was successfull created\n",
    "!gsutil -mq ls -lh {COHORT_BUCKET}/hg38/genotypes/{COHORTBUILD}.*"
   ]
  },
  {
   "cell_type": "code",
   "execution_count": 73,
   "metadata": {},
   "outputs": [
    {
     "name": "stdout",
     "output_type": "stream",
     "text": [
      "#run these commands at terminal:\n",
      "\n",
      "gsutil -mq rm -r gs://nihnialngcbg-testing/UNHS/logs/jointcall/filtervcf\n"
     ]
    }
   ],
   "source": [
    "print('#run these commands at terminal:\\n')\n",
    "#clean up log files\n",
    "print(f'gsutil -mq rm -r {COHORT_BUCKET}/logs/jointcall/filtervcf')"
   ]
  },
  {
   "cell_type": "markdown",
   "metadata": {},
   "source": [
    "## run QC on samples\n",
    "\n",
    "you can all run this separately in parallel"
   ]
  },
  {
   "cell_type": "markdown",
   "metadata": {},
   "source": [
    "#### pull down the genotypes"
   ]
  },
  {
   "cell_type": "code",
   "execution_count": 74,
   "metadata": {},
   "outputs": [],
   "source": [
    "!mkdir -p {WRKDIR}/genotypes\n",
    "\n",
    "!gsutil -mq cp {COHORT_BUCKET}/hg38/genotypes/{COHORTBUILD}.*gtonly.vcf.gz* {WRKDIR}/genotypes/"
   ]
  },
  {
   "cell_type": "markdown",
   "metadata": {},
   "source": [
    "#### prior to converting from vcf to plink helps to go ahead and include dx and dx\n",
    "\n",
    "can format using plink2 sample file psam\n",
    "#FID IID sex dx\n",
    "\n",
    "hold over from plink1 sex; male=1, female=2, unknown/other=0"
   ]
  },
  {
   "cell_type": "markdown",
   "metadata": {},
   "source": [
    "#### convert vcfs to plink2"
   ]
  },
  {
   "cell_type": "markdown",
   "metadata": {},
   "source": [
    "#### I need to install plink2, a ready-to-use binary package?"
   ]
  },
  {
   "cell_type": "code",
   "execution_count": 76,
   "metadata": {},
   "outputs": [],
   "source": [
    "#convert from vcf to plink2\n",
    "input_vcf = f'{WRKDIR}/genotypes/{COHORTBUILD}.gtonly.vcf.gz'\n",
    "out_file_set = f'{WRKDIR}/genotypes/{COHORTBUILD}'\n",
    "\n",
    "# !/Users/mooreank/Downloads/plink2 --vcf {input_vcf} --double-id \\\n",
    "# --update-sex /Users/mooreank/Desktop/WGS/genotypes/ninds_eopd.txt col-num=3 \\\n",
    "# --pheno /Users/mooreank/Desktop/WGS/genotypes/ninds_eopd.txt --pheno-col-nums 4 \\\n",
    "# --silent --allow-extra-chr --make-pgen --out {out_file_set}\n",
    "\n",
    "!/Users/mooreank/Downloads/plink2 --vcf {input_vcf} --double-id \\\n",
    "--silent --allow-extra-chr --make-pgen --out {out_file_set}\n",
    "\n",
    "input_vcf = f'{WRKDIR}/genotypes/{COHORTBUILD}.chrX.gtonly.vcf.gz'\n",
    "out_file_set = f'{WRKDIR}/genotypes/{COHORTBUILD}.chrX'\n",
    "\n",
    "# !/Users/mooreank/Downloads/plink2 --vcf {input_vcf} --double-id \\\n",
    "# --update-sex /Users/mooreank/Desktop/WGS/genotypes/ninds_eopd.txt col-num=3 \\\n",
    "# --pheno /Users/mooreank/Desktop/WGS/genotypes/ninds_eopd.txt --pheno-col-nums 4 \\\n",
    "# --silent --allow-extra-chr --make-pgen --out {out_file_set}\n",
    "\n",
    "!/Users/mooreank/Downloads/plink2 --vcf {input_vcf} --double-id \\\n",
    "--silent --allow-extra-chr --make-pgen --out {out_file_set}"
   ]
  },
  {
   "cell_type": "code",
   "execution_count": 77,
   "metadata": {},
   "outputs": [
    {
     "name": "stdout",
     "output_type": "stream",
     "text": [
      "/Users/mooreank/Desktop/Mark/UNHS/genotypes/UNHS.chrX.gtonly.vcf.gz\n",
      "/Users/mooreank/Desktop/Mark/UNHS/genotypes/UNHS.chrX.gtonly.vcf.gz.tbi\n",
      "/Users/mooreank/Desktop/Mark/UNHS/genotypes/UNHS.chrX.log\n",
      "/Users/mooreank/Desktop/Mark/UNHS/genotypes/UNHS.chrX.pgen\n",
      "/Users/mooreank/Desktop/Mark/UNHS/genotypes/UNHS.chrX.psam\n",
      "/Users/mooreank/Desktop/Mark/UNHS/genotypes/UNHS.chrX.pvar\n",
      "/Users/mooreank/Desktop/Mark/UNHS/genotypes/UNHS.gtonly.vcf.gz\n",
      "/Users/mooreank/Desktop/Mark/UNHS/genotypes/UNHS.gtonly.vcf.gz.tbi\n",
      "/Users/mooreank/Desktop/Mark/UNHS/genotypes/UNHS.log\n",
      "/Users/mooreank/Desktop/Mark/UNHS/genotypes/UNHS.pgen\n",
      "/Users/mooreank/Desktop/Mark/UNHS/genotypes/UNHS.psam\n",
      "/Users/mooreank/Desktop/Mark/UNHS/genotypes/UNHS.pvar\n",
      "==> /Users/mooreank/Desktop/Mark/UNHS/genotypes/UNHS.chrX.log <==\n",
      "9 samples (0 females, 0 males, 9 ambiguous; 9 founders) loaded from\n",
      "/Users/mooreank/Desktop/Mark/UNHS/genotypes/UNHS.chrX-temporary.psam.\n",
      "323830 variants loaded from\n",
      "/Users/mooreank/Desktop/Mark/UNHS/genotypes/UNHS.chrX-temporary.pvar.\n",
      "Note: No phenotype data present.\n",
      "Writing /Users/mooreank/Desktop/Mark/UNHS/genotypes/UNHS.chrX.psam ... done.\n",
      "Writing /Users/mooreank/Desktop/Mark/UNHS/genotypes/UNHS.chrX.pvar ... done.\n",
      "Writing /Users/mooreank/Desktop/Mark/UNHS/genotypes/UNHS.chrX.pgen ... done.\n",
      "\n",
      "End time: Sun Mar  1 14:49:07 2020\n",
      "\n",
      "==> /Users/mooreank/Desktop/Mark/UNHS/genotypes/UNHS.log <==\n",
      "9 samples (0 females, 0 males, 9 ambiguous; 9 founders) loaded from\n",
      "/Users/mooreank/Desktop/Mark/UNHS/genotypes/UNHS-temporary.psam.\n",
      "10435116 variants loaded from\n",
      "/Users/mooreank/Desktop/Mark/UNHS/genotypes/UNHS-temporary.pvar.\n",
      "Note: No phenotype data present.\n",
      "Writing /Users/mooreank/Desktop/Mark/UNHS/genotypes/UNHS.psam ... done.\n",
      "Writing /Users/mooreank/Desktop/Mark/UNHS/genotypes/UNHS.pvar ... done.\n",
      "Writing /Users/mooreank/Desktop/Mark/UNHS/genotypes/UNHS.pgen ... done.\n",
      "\n",
      "End time: Sun Mar  1 14:49:07 2020\n"
     ]
    }
   ],
   "source": [
    "#check creation and logging\n",
    "!ls {WRKDIR}/genotypes/{COHORTBUILD}.*\n",
    "\n",
    "!tail {WRKDIR}/genotypes/{COHORTBUILD}.*log"
   ]
  },
  {
   "cell_type": "markdown",
   "metadata": {},
   "source": [
    "#### trim variants to QC set"
   ]
  },
  {
   "cell_type": "markdown",
   "metadata": {},
   "source": [
    "#### what do geno, maf, and hwe mean?"
   ]
  },
  {
   "cell_type": "code",
   "execution_count": 78,
   "metadata": {},
   "outputs": [],
   "source": [
    "#trim variant to QC set\n",
    "input_file_set = f'{WRKDIR}/genotypes/{COHORTBUILD}'\n",
    "out_file_set = f'{WRKDIR}/qc/{COHORTBUILD}.geno05maf05hwe000001'\n",
    "\n",
    "!mkdir -p {WRKDIR}/qc\n",
    "\n",
    "!/Users/mooreank/Downloads/plink2 --pfile {input_file_set} \\\n",
    "--geno 0.05 --maf 0.05 --hwe 0.000001 \\\n",
    "--silent --make-bed --out {out_file_set}\n",
    "\n",
    "input_file_set = f'{WRKDIR}/genotypes/{COHORTBUILD}.chrX'\n",
    "out_file_set = f'{WRKDIR}/qc/{COHORTBUILD}.chrX.geno05maf05'\n",
    "\n",
    "!/Users/mooreank/Downloads/plink2 --pfile {input_file_set} \\\n",
    "--geno 0.05 --maf 0.05 \\\n",
    "--silent --make-bed --out {out_file_set}"
   ]
  },
  {
   "cell_type": "markdown",
   "metadata": {},
   "source": [
    "#### run sexcheck"
   ]
  },
  {
   "cell_type": "markdown",
   "metadata": {},
   "source": [
    "#### What is the purpose of sexcheck? I know all my samples are male. what do scores of 0.25 and 0.75 represent?"
   ]
  },
  {
   "cell_type": "code",
   "execution_count": 79,
   "metadata": {},
   "outputs": [],
   "source": [
    "%%bash -s \"$COHORTBUILD\" \"$WRKDIR\"\n",
    "#check gender\n",
    "COHORTBUILD=${1}\n",
    "WRKDIR=${2}\"/qc\"\n",
    "\n",
    "#hg38 non-PAR\n",
    "awk '$4 > 2800000 && $4 < 155700000 {print $2}' ${WRKDIR}/${COHORTBUILD}.chrX.geno05maf05.bim \\\n",
    "    > ${WRKDIR}/${COHORTBUILD}.chrX.list\n",
    "\n",
    "plink --bfile ${WRKDIR}/${COHORTBUILD}.chrX.geno05maf05 --extract ${WRKDIR}/${COHORTBUILD}.chrX.list \\\n",
    "--check-sex 0.25 0.75 --silent --out ${WRKDIR}/${COHORTBUILD}.sex"
   ]
  },
  {
   "cell_type": "code",
   "execution_count": 28,
   "metadata": {},
   "outputs": [
    {
     "name": "stdout",
     "output_type": "stream",
     "text": [
      "sexcheck shape is (148, 6)\n",
      "number of samples failing sexcheck 0\n",
      "Empty DataFrame\n",
      "Columns: [FID, IID, PEDSEX, SNPSEX, STATUS, F]\n",
      "Index: []\n",
      "number of samples failing sexcheck excluding missing info (0, 6)\n",
      "Empty DataFrame\n",
      "Columns: [FID, IID, PEDSEX, SNPSEX, STATUS, F]\n",
      "Index: []\n"
     ]
    }
   ],
   "source": [
    "#check sex test results\n",
    "sexcheck_df = pd.read_csv(f'{WRKDIR}/qc/{COHORTBUILD}.sex.sexcheck', sep='\\s+')\n",
    "print(f'sexcheck shape is {sexcheck_df.shape}')\n",
    "\n",
    "fail_sexcheck_df = sexcheck_df.loc[sexcheck_df['STATUS'] == 'PROBLEM']\n",
    "print(f'number of samples failing sexcheck {fail_sexcheck_df.shape[0]}')\n",
    "print(fail_sexcheck_df)\n",
    "\n",
    "fail_sexcheck_df = sexcheck_df.loc[(sexcheck_df['STATUS'] == 'PROBLEM') & \\\n",
    "                                   (sexcheck_df['PEDSEX'] != 0)]\n",
    "print(f'number of samples failing sexcheck excluding missing info {fail_sexcheck_df.shape}')\n",
    "print(fail_sexcheck_df)"
   ]
  },
  {
   "cell_type": "markdown",
   "metadata": {},
   "source": [
    "#### check missingness"
   ]
  },
  {
   "cell_type": "markdown",
   "metadata": {},
   "source": [
    "#### missing what?"
   ]
  },
  {
   "cell_type": "code",
   "execution_count": 80,
   "metadata": {},
   "outputs": [],
   "source": [
    "#check missingness\n",
    "!plink2 --bfile {WRKDIR}/qc/{COHORTBUILD}.geno05maf05hwe000001 --missing --autosome \\\n",
    "--silent --out {WRKDIR}/qc/{COHORTBUILD}.missing"
   ]
  },
  {
   "cell_type": "code",
   "execution_count": 81,
   "metadata": {},
   "outputs": [
    {
     "name": "stdout",
     "output_type": "stream",
     "text": [
      "number samples failing missingness test 0\n",
      "Empty DataFrame\n",
      "Columns: [CHR, SNP, N_MISS, N_GENO, F_MISS]\n",
      "Index: []\n"
     ]
    }
   ],
   "source": [
    "#check missingness results\n",
    "misstest_df = pd.read_csv(f'{WRKDIR}/qc/{COHORTBUILD}.missing.lmiss', sep='\\s+')\n",
    "\n",
    "#find failed\n",
    "misstest_failed_df = misstest_df.loc[misstest_df['F_MISS'] > 0.05]\n",
    "\n",
    "print(f'number samples failing missingness test {misstest_failed_df.shape[0]}')\n",
    "\n",
    "print(misstest_failed_df)"
   ]
  },
  {
   "cell_type": "markdown",
   "metadata": {},
   "source": [
    "#### check het rates"
   ]
  },
  {
   "cell_type": "code",
   "execution_count": 82,
   "metadata": {},
   "outputs": [],
   "source": [
    "#check het rates\n",
    "!plink --bfile {WRKDIR}/qc/{COHORTBUILD}.geno05maf05hwe000001 --het --autosome \\\n",
    "--silent --out {WRKDIR}/qc/{COHORTBUILD}.het"
   ]
  },
  {
   "cell_type": "markdown",
   "metadata": {},
   "source": [
    "#### What does FID, IID,... represent?"
   ]
  },
  {
   "cell_type": "code",
   "execution_count": 83,
   "metadata": {},
   "outputs": [
    {
     "name": "stdout",
     "output_type": "stream",
     "text": [
      "number samples failing heterzygosity check 0\n",
      "Empty DataFrame\n",
      "Columns: [FID, IID, O(HOM), E(HOM), N(NM), F]\n",
      "Index: []\n"
     ]
    }
   ],
   "source": [
    "#check het rate results\n",
    "\n",
    "###2 failes\n",
    "\n",
    "hets_df = pd.read_csv(f'{WRKDIR}/qc/{COHORTBUILD}.het.het', sep='\\s+')\n",
    "\n",
    "#find failed\n",
    "hets_failed_df = hets_df.loc[(hets_df['F'] > 0.15) | (hets_df['F'] < -0.15)]\n",
    "\n",
    "print(f'number samples failing heterzygosity check {hets_failed_df.shape[0]}')\n",
    "\n",
    "print(hets_failed_df)"
   ]
  },
  {
   "cell_type": "markdown",
   "metadata": {},
   "source": [
    "#### check for relatedness, including duplicates"
   ]
  },
  {
   "cell_type": "code",
   "execution_count": 84,
   "metadata": {},
   "outputs": [
    {
     "name": "stdout",
     "output_type": "stream",
     "text": [
      "#run these commands at terminal:\n",
      "\n",
      "king --related -b /Users/mooreank/Desktop/Mark/UNHS/UNHS.geno05maf05hwe000001.bed  --degree 2 --prefix /Users/mooreank/Desktop/Mark/UNHS/UNHS.king.related > /labshare/anni/from_local/UNHS.king.related.log &\n"
     ]
    }
   ],
   "source": [
    "# king_related_cmd = f'nohup king --related -b {WRKDIR}/qc/{COHORTBUILD}.geno05maf05hwe000001.bed \\\n",
    "# --cpus $(nproc) --degree 2 --prefix {WRKDIR}/qc/{COHORTBUILD}.king.related \\\n",
    "# > {WRKDIR}/qc/{COHORTBUILD}.king.related.log &'\n",
    "\n",
    "# king_related_cmd = f'nohup /Users/mooreank/Downloads/king --related -b {WRKDIR}/qc/{COHORTBUILD}.geno05maf05hwe000001.bed \\\n",
    "#  --degree 2 --prefix {WRKDIR}/qc/{COHORTBUILD}.king.related \\\n",
    "# > {WRKDIR}/qc/{COHORTBUILD}.king.related.log &'\n",
    "\n",
    "\n",
    "king_related_cmd = f'king --related -b {WRKDIR}/{COHORTBUILD}.geno05maf05hwe000001.bed \\\n",
    " --degree 2 --prefix {WRKDIR}/{COHORTBUILD}.king.related \\\n",
    "> /labshare/anni/from_local/{COHORTBUILD}.king.related.log &'\n",
    "\n",
    "print('#run these commands at terminal:\\n')\n",
    "print(king_related_cmd)"
   ]
  },
  {
   "cell_type": "code",
   "execution_count": 7,
   "metadata": {},
   "outputs": [
    {
     "name": "stdout",
     "output_type": "stream",
     "text": [
      "Each family consists of one individual.\n",
      "A subset of informative SNPs will be used to screen close relatives.\n",
      "Relationship inference across families starts at Mon Sep 16 09:49:16 2019\n",
      "12 CPU cores are used...\n",
      "  Stages 1&2 (with 32768 SNPs): 1 pairs of relatives are detected (with kinship > 0.0625)\n",
      "                               Screening ends at Mon Sep 16 09:49:16 2019\n",
      "  Final Stage (with 8322297 SNPs): 1 pairs of relatives (up to 2nd-degree) are confirmed\n",
      "                               Inference ends at Mon Sep 16 09:49:16 2019\n",
      "\n",
      "Relationship summary (total relatives: 0 by pedigree, 1 by inference)\n",
      "        \tMZ\tPO\tFS\t2nd\n",
      "  =====================================================\n",
      "  Inference\t1\t0\t0\t0\n",
      "\n",
      "\n",
      "Between-family relatives (kinship >= 0.08839) saved in file /labshare/anni/from_local/ninds_eopd.july2019.king.related.kin0\n"
     ]
    }
   ],
   "source": [
    "#check the king log\n",
    "!tail -n 16 {WRKDIR}/qc/{COHORTBUILD}.king.related.log"
   ]
  },
  {
   "cell_type": "markdown",
   "metadata": {},
   "source": [
    "#### for the duplicates see which ones also failed sexcheck, ie clues how to correctly resolve duplicates"
   ]
  },
  {
   "cell_type": "code",
   "execution_count": 8,
   "metadata": {},
   "outputs": [
    {
     "name": "stdout",
     "output_type": "stream",
     "text": [
      "number of related pairs 1\n",
      "DUP/MZ    1\n",
      "Name: InfType, dtype: int64\n",
      "\n",
      "just the DUP/MZ 1\n",
      "DUP/MZ    1\n",
      "Name: InfType, dtype: int64\n",
      "\n",
      "number of samples in that failed sexcheck and also a duplicate\n",
      "0\n"
     ]
    }
   ],
   "source": [
    "#get the sex problems\n",
    "sexcheck = pd.read_csv(f'{WRKDIR}/qc/{COHORTBUILD}.sex.sexcheck',sep='\\s+')\n",
    "sexmismatch = sexcheck.loc[(sexcheck['PEDSEX'] != 0) & (sexcheck['STATUS'] == 'PROBLEM')]\n",
    "\n",
    "#get the duplicates\n",
    "rels_df = pd.read_csv(f'{WRKDIR}/qc/{COHORTBUILD}.king.related.kin0',sep='\\s+')\n",
    "print(f'number of related pairs {rels_df.shape[0]}')\n",
    "print(rels_df['InfType'].value_counts())\n",
    "\n",
    "#subset just the dups\n",
    "dups_df = rels_df.loc[rels_df['InfType'] == 'DUP/MZ']\n",
    "\n",
    "print(f'\\njust the DUP/MZ {dups_df.shape[0]}')\n",
    "print(dups_df['InfType'].value_counts())\n",
    "\n",
    "print('\\nnumber of samples in that failed sexcheck and also a duplicate')\n",
    "print(len(set(sexmismatch['IID']) & (set(rels_df['ID1']) | set(rels_df['ID2']))))\n"
   ]
  },
  {
   "cell_type": "markdown",
   "metadata": {},
   "source": [
    "#### No need to run further, right?"
   ]
  },
  {
   "cell_type": "markdown",
   "metadata": {},
   "source": [
    "#### Is java default install in Cloud SDK??"
   ]
  },
  {
   "cell_type": "markdown",
   "metadata": {},
   "source": [
    "#### check the sample ancestries making use of 1KG data"
   ]
  },
  {
   "cell_type": "code",
   "execution_count": 3,
   "metadata": {},
   "outputs": [
    {
     "name": "stdout",
     "output_type": "stream",
     "text": [
      "\n",
      "\n",
      "Updates are available for some Cloud SDK components.  To install them,\n",
      "please run:\n",
      "  $ gcloud components update\n",
      "\n"
     ]
    }
   ],
   "source": [
    "#pull down the 1KG genotypes to look at pop-structure\n",
    "!gsutil -mq cp gs://nihnialng-pd-wgs/tools/onekg.good.geno05maf05hwe000001.* {WRKDIR}/qc/"
   ]
  },
  {
   "cell_type": "code",
   "execution_count": 10,
   "metadata": {},
   "outputs": [
    {
     "name": "stdout",
     "output_type": "stream",
     "text": [
      "-rw-r--r--  1 mooreank  NIH\\Domain Users    60K Sep 16 10:09 /Users/mooreank/Desktop/WGS/qc/onekg.good.geno05maf05hwe000001.fam\n",
      "-rw-r--r--  1 mooreank  NIH\\Domain Users   1.3K Sep 16 10:09 /Users/mooreank/Desktop/WGS/qc/onekg.good.geno05maf05hwe000001.log\n",
      "-rw-r--r--  1 mooreank  NIH\\Domain Users   144M Sep 16 10:09 /Users/mooreank/Desktop/WGS/qc/onekg.good.geno05maf05hwe000001.bim\n",
      "-rw-r--r--  1 mooreank  NIH\\Domain Users   3.0G Sep 16 10:09 /Users/mooreank/Desktop/WGS/qc/onekg.good.geno05maf05hwe000001.bed\n"
     ]
    }
   ],
   "source": [
    "#check the pull downs\n",
    "!ls -lhtr {WRKDIR}/qc/onekg.*"
   ]
  },
  {
   "cell_type": "code",
   "execution_count": 11,
   "metadata": {},
   "outputs": [],
   "source": [
    "%%bash -s \"$WRKDIR\"\n",
    "#for our WGS since I renamed all variants by position and allele need to do the same for onekg data\n",
    "WRKDIR=${1}\"/qc\"\n",
    "\n",
    "mv ${WRKDIR}/onekg.good.geno05maf05hwe000001.bim ${WRKDIR}/onekg.good.geno05maf05hwe000001.bim.ori\n",
    "awk '{ print $1\"\\tchr\"$1\":\"$4\":\"$5\":\"$6\"\\t\"$3\"\\t\"$4\"\\t\"$5\"\\t\"$6}' \\\n",
    "${WRKDIR}/onekg.good.geno05maf05hwe000001.bim.ori > ${WRKDIR}/onekg.good.geno05maf05hwe000001.bim"
   ]
  },
  {
   "cell_type": "code",
   "execution_count": 24,
   "metadata": {},
   "outputs": [],
   "source": [
    "%%bash -s \"$WRKDIR\" \"$COHORTBUILD\"\n",
    "#unfortunelty because of the plink2/plink1 ref vs minor freq variant files, \\\n",
    "#so rename the variants to match the flipped alleles\n",
    "WRKDIR=${1}\"/qc\"\n",
    "COHORTBUILD=${2}\n",
    "\n",
    "mv ${WRKDIR}/${COHORTBUILD}.geno05maf05hwe000001.bim ${WRKDIR}/${COHORTBUILD}.geno05maf05hwe000001.bim.ori\n",
    "awk '{ print $1\"\\tchr\"$1\":\"$4\":\"$5\":\"$6\"\\t\"$3\"\\t\"$4\"\\t\"$5\"\\t\"$6}' \\\n",
    "${WRKDIR}/${COHORTBUILD}.geno05maf05hwe000001.bim.ori > ${WRKDIR}/${COHORTBUILD}.geno05maf05hwe000001.bim"
   ]
  },
  {
   "cell_type": "code",
   "execution_count": 13,
   "metadata": {},
   "outputs": [
    {
     "name": "stderr",
     "output_type": "stream",
     "text": [
      "Error: Out of memory.  The --memory flag may be helpful.\n",
      "Failed allocation size: 5607525568\n"
     ]
    }
   ],
   "source": [
    "%%bash -s \"$COHORTBUILD\" \"$WRKDIR\"\n",
    "#merge cohort and 1KG data with plink\n",
    "COHORTBUILD=${1}\n",
    "WRKDIR=${2}\"/qc\"\n",
    "\n",
    "plink --bfile ${WRKDIR}/${COHORTBUILD}.geno05maf05hwe000001 \\\n",
    "--bmerge ${WRKDIR}/onekg.good.geno05maf05hwe000001 \\\n",
    "    --geno 0.05 --maf 0.05 --hwe 0.000001 --silent --allow-no-sex \\\n",
    "    --keep-allele-order --make-bed --out ${WRKDIR}/${COHORTBUILD}.onekg\n",
    "\n",
    "if [ -s ${WRKDIR}/${COHORTBUILD}.onekg-merge.missnp ]; then\n",
    "plink2 -bfile ${WRKDIR}/${COHORTBUILD}.geno05maf05hwe000001 --allow-no-sex \\\n",
    "    --exclude ${WRKDIR}/${COHORTBUILD}.onekg-merge.missnp --silent \\\n",
    "    --keep-allele-order --make-bed --out ${WRKDIR}/${COHORTBUILD}.geno05maf05hwe000001.temp\n",
    "\n",
    "plink2 -bfile ${WRKDIR}/onekg.good.geno05maf05hwe000001 --allow-no-sex \\\n",
    "    --exclude ${WRKDIR}/${COHORTBUILD}.onekg-merge.missnp --silent \\\n",
    "    --keep-allele-order --make-bed --out ${WRKDIR}/onekg.good.geno05maf05hwe000001.temp\n",
    "\n",
    "plink --bfile ${WRKDIR}/${COHORTBUILD}.geno05maf05hwe000001.temp \\\n",
    "    --bmerge ${WRKDIR}/onekg.good.geno05maf05hwe000001.temp \\\n",
    "    --geno 0.05 --maf 0.05 --hwe 0.000001 --silent --allow-no-sex \\\n",
    "    --keep-allele-order --make-bed --out ${WRKDIR}/${COHORTBUILD}.onekg\n",
    "fi\n"
   ]
  },
  {
   "cell_type": "code",
   "execution_count": 7,
   "metadata": {},
   "outputs": [],
   "source": [
    "%%bash -s \"$COHORTBUILD\" \"$WRKDIR\"\n",
    "#merge cohort and 1KG data with plink\n",
    "COHORTBUILD=${1}\n",
    "WRKDIR=${2}\"/qc\"\n",
    "\n"
   ]
  },
  {
   "cell_type": "code",
   "execution_count": 8,
   "metadata": {},
   "outputs": [
    {
     "name": "stdout",
     "output_type": "stream",
     "text": [
      "-rw-r--r--  1 mooreank  NIH\\Domain Users    65K Sep 16 10:38 /Users/mooreank/Desktop/WGS/qc/ninds_eopd.july2019.onekg-merge.fam\n",
      "-rw-r--r--  1 mooreank  NIH\\Domain Users   2.6G Sep 17 16:38 /Users/mooreank/Desktop/WGS/qc/ninds_eopd.july2019.onekg.bed\n",
      "-rw-r--r--  1 mooreank  NIH\\Domain Users   154M Sep 17 16:38 /Users/mooreank/Desktop/WGS/qc/ninds_eopd.july2019.onekg.bim\n",
      "-rw-r--r--  1 mooreank  NIH\\Domain Users    65K Sep 17 16:38 /Users/mooreank/Desktop/WGS/qc/ninds_eopd.july2019.onekg.fam\n",
      "-rw-r--r--  1 mooreank  NIH\\Domain Users    31M Sep 17 16:38 /Users/mooreank/Desktop/WGS/qc/ninds_eopd.july2019.onekg.hh\n",
      "-rw-r--r--  1 mooreank  NIH\\Domain Users    51K Sep 17 16:38 /Users/mooreank/Desktop/WGS/qc/ninds_eopd.july2019.onekg.log\n"
     ]
    }
   ],
   "source": [
    "#check the merged cohort and 1KG data with plink was created\n",
    "!ls -lh {WRKDIR}/qc/{COHORTBUILD}.onekg*"
   ]
  },
  {
   "cell_type": "markdown",
   "metadata": {},
   "source": [
    "#### pull down the 1KG population labels"
   ]
  },
  {
   "cell_type": "code",
   "execution_count": 9,
   "metadata": {},
   "outputs": [
    {
     "name": "stdout",
     "output_type": "stream",
     "text": [
      "sample\tpop\tsuper_pop\tgender\t\t\n",
      "HG00096\tGBR\tEUR\tmale\n",
      "HG00097\tGBR\tEUR\tfemale\n",
      "HG00099\tGBR\tEUR\tfemale\n",
      "HG00100\tGBR\tEUR\tfemale\n",
      "HG00101\tGBR\tEUR\tmale\n",
      "HG00102\tGBR\tEUR\tfemale\n",
      "HG00103\tGBR\tEUR\tmale\n",
      "HG00105\tGBR\tEUR\tmale\n",
      "HG00106\tGBR\tEUR\tfemale\n"
     ]
    }
   ],
   "source": [
    "#need to pull down the 1KG population labels\n",
    "!gsutil -mq cp gs://nihnialng-pd-wgs/tools/onekg.panel {WRKDIR}/qc/\n",
    "    \n",
    "#check file\n",
    "!head {WRKDIR}/qc/onekg.panel"
   ]
  },
  {
   "cell_type": "markdown",
   "metadata": {},
   "source": [
    "#### king is too slow for population background check once we get into the thousands of samples\n",
    "\n",
    "for now switch back to LD prunning, plink genome ibs/ibd and mds methods"
   ]
  },
  {
   "cell_type": "code",
   "execution_count": 10,
   "metadata": {},
   "outputs": [
    {
     "name": "stdout",
     "output_type": "stream",
     "text": [
      "#run these commands at terminal:\n",
      "\n",
      "plink2 --bfile /Users/mooreank/Desktop/WGS/qc/ninds_eopd.july2019.onekg --indep-pairwise 50 5 0.3 --out /Users/mooreank/Desktop/WGS/qc/ninds_eopd.july2019.onekg.ldprune\n",
      "plink2 --bfile /Users/mooreank/Desktop/WGS/qc/ninds_eopd.july2019.onekg --extract /Users/mooreank/Desktop/WGS/qc/ninds_eopd.july2019.onekg.ldprune.prune.in --make-bed --out /Users/mooreank/Desktop/WGS/qc/ninds_eopd.july2019.onekg.pruned\n",
      "plink --bfile /Users/mooreank/Desktop/WGS/qc/ninds_eopd.july2019.onekg.pruned --genome --out /Users/mooreank/Desktop/WGS/qc/ninds_eopd.july2019.onekg.ibs_ibd\n",
      "nohup plink --bfile /Users/mooreank/Desktop/WGS/qc/ninds_eopd.july2019.onekg.pruned --read-genome /Users/mooreank/Desktop/WGS/qc/ninds_eopd.july2019.onekg.ibs_ibd.genome --cluster --mds-plot 20 --out /Users/mooreank/Desktop/WGS/qc/ninds_eopd.july2019.onekg.ibs_ibd.mds &\n"
     ]
    }
   ],
   "source": [
    "%%bash -s \"$COHORTBUILD\" \"$WRKDIR\"\n",
    "#merge cohort and 1KG data with plink\n",
    "COHORTBUILD=${1}\n",
    "WRKDIR=${2}\"/qc\"\n",
    "\n",
    "echo -e \"#run these commands at terminal:\\n\"\n",
    "\n",
    "#find pruned variants\n",
    "echo plink2 --bfile ${WRKDIR}/${COHORTBUILD}.onekg \\\n",
    "--indep-pairwise 50 5 0.3 --out ${WRKDIR}/${COHORTBUILD}.onekg.ldprune \n",
    "\n",
    "#subset to pruned variants\n",
    "echo plink2 --bfile ${WRKDIR}/${COHORTBUILD}.onekg \\\n",
    "--extract ${WRKDIR}/${COHORTBUILD}.onekg.ldprune.prune.in \\\n",
    "--make-bed --out ${WRKDIR}/${COHORTBUILD}.onekg.pruned\n",
    "\n",
    "#generate ibs/ibd info\n",
    "echo plink --bfile ${WRKDIR}/${COHORTBUILD}.onekg.pruned \\\n",
    "--genome --out ${WRKDIR}/${COHORTBUILD}.onekg.ibs_ibd\n",
    "\n",
    "#do mds clusters from ibs/ibd data\n",
    "echo \"nohup plink --bfile ${WRKDIR}/${COHORTBUILD}.onekg.pruned \\\n",
    "--read-genome ${WRKDIR}/${COHORTBUILD}.onekg.ibs_ibd.genome \\\n",
    "--cluster --mds-plot 20 --out ${WRKDIR}/${COHORTBUILD}.onekg.ibs_ibd.mds &\""
   ]
  },
  {
   "cell_type": "code",
   "execution_count": 5,
   "metadata": {},
   "outputs": [
    {
     "data": {
      "image/png": "[encoded data removed]",
      "text/plain": [
       "<Figure size 1152x576 with 2 Axes>"
      ]
     },
     "metadata": {},
     "output_type": "display_data"
    }
   ],
   "source": [
    "qc_dir =  f'{WRKDIR}/qc'\n",
    "mdsfile = f'{qc_dir}/{COHORTBUILD}.onekg.ibs_ibd.mds.mds'\n",
    "popinfofile =  f'{qc_dir}/onekg.panel'\n",
    "output_pca_plot = f'{qc_dir}/{COHORTBUILD}.pop_structure.pca.png'\n",
    "outfile = f'{qc_dir}/{COHORTBUILD}.pop.outliers.txt'\n",
    "\n",
    "cohort_label = COHORT\n",
    "\n",
    "expected_ancestry = 'EUR'\n",
    "\n",
    "mdsdf = pd.read_csv(mdsfile,sep='\\s+')\n",
    "infodf = pd.read_csv(popinfofile,sep=\"\\t\")\n",
    "\n",
    "df = mdsdf.merge(infodf,how='left',left_on='IID',right_on='sample')\n",
    "\n",
    "df[['super_pop']] = df[['super_pop']].fillna(cohort_label)\n",
    "df[['pop']] = df[['pop']].fillna(cohort_label)\n",
    "\n",
    "ancestry_cohort = df.loc[df['super_pop'] == expected_ancestry]\n",
    "coi = df.loc[df['super_pop'] == cohort_label]\n",
    "\n",
    "mds1_mean = np.mean(ancestry_cohort['C1'])\n",
    "mds1_std = np.std(ancestry_cohort['C1'])\n",
    "mds2_mean = np.mean(ancestry_cohort['C2'])\n",
    "mds2_std = np.std(ancestry_cohort['C2'])\n",
    "\n",
    "maxSD = 6\n",
    "plusMax_1 = mds1_mean + maxSD * mds1_std\n",
    "negMax_1 = mds1_mean - maxSD * mds1_std\n",
    "plusMax_2 = mds2_mean + maxSD * mds2_std\n",
    "negMax_2 = mds2_mean - maxSD * mds2_std\n",
    "\n",
    "df['outlier'] = ((df['super_pop'] == cohort_label) & \\\n",
    "    ((df['C1'] > plusMax_1) | (df['C1'] < negMax_1) | \\\n",
    "     (df['C2'] > plusMax_2) | (df['C2'] < negMax_2)))\n",
    "\n",
    "outliers = df.loc[df['outlier'] == True] \n",
    "outliers.to_csv(outfile,sep=\"\\t\",index=False,header=False)\n",
    "\n",
    "df.loc[df['IID'].isin(outliers['IID']),['super_pop','pop']] = 'outlier'\n",
    "\n",
    "# df = df.sort_values('super_pop',ascending=False)\n",
    "df = df.sample(frac=1)\n",
    "\n",
    "cohort_euro_df = df[df['super_pop'].isin([expected_ancestry,cohort_label,'outlier'])]\n",
    "# cohort_euro_df = cohort_euro_df.sort_values('pop',ascending=False)\n",
    "# cohort_euro_df = cohort_euro_df.sample(frac=1)\n",
    "\n",
    "sns.set()\n",
    "plt.figure(figsize=(16,8))\n",
    "plt.subplot(1,2,1)\n",
    "sns.scatterplot(x='C1',y='C2',hue='super_pop',style='super_pop',data=df)\n",
    "plt.xlabel('PC 1')\n",
    "plt.ylabel('PC 2')\n",
    "plt.legend(bbox_to_anchor=(1.05, 1), loc=1, borderaxespad=0,prop={'size': 8})\n",
    "plt.subplot(1,2,2)\n",
    "sns.scatterplot(x='C1',y='C2',hue='pop',style='pop',data=cohort_euro_df)\n",
    "plt.xlabel('PC 1')\n",
    "plt.ylabel('PC 2')\n",
    "plt.legend(bbox_to_anchor=(1.05, 1), loc=2, borderaxespad=0,prop={'size': 8})\n",
    "#plt.legend(loc='upper right', prop={'size': 6})\n",
    "plt.savefig(output_pca_plot,format='png',dpi=600,bbox_inches='tight')\n",
    "plt.show()"
   ]
  },
  {
   "cell_type": "code",
   "execution_count": 14,
   "metadata": {},
   "outputs": [
    {
     "data": {
      "text/html": [
       "<div>\n",
       "<style scoped>\n",
       "    .dataframe tbody tr th:only-of-type {\n",
       "        vertical-align: middle;\n",
       "    }\n",
       "\n",
       "    .dataframe tbody tr th {\n",
       "        vertical-align: top;\n",
       "    }\n",
       "\n",
       "    .dataframe thead th {\n",
       "        text-align: right;\n",
       "    }\n",
       "</style>\n",
       "<table border=\"1\" class=\"dataframe\">\n",
       "  <thead>\n",
       "    <tr style=\"text-align: right;\">\n",
       "      <th></th>\n",
       "      <th>FID</th>\n",
       "      <th>IID</th>\n",
       "      <th>SOL</th>\n",
       "      <th>C1</th>\n",
       "      <th>C2</th>\n",
       "      <th>C3</th>\n",
       "      <th>C4</th>\n",
       "      <th>C5</th>\n",
       "      <th>C6</th>\n",
       "      <th>C7</th>\n",
       "      <th>...</th>\n",
       "      <th>C18</th>\n",
       "      <th>C19</th>\n",
       "      <th>C20</th>\n",
       "      <th>sample</th>\n",
       "      <th>pop</th>\n",
       "      <th>super_pop</th>\n",
       "      <th>gender</th>\n",
       "      <th>Unnamed: 4</th>\n",
       "      <th>Unnamed: 5</th>\n",
       "      <th>outlier</th>\n",
       "    </tr>\n",
       "  </thead>\n",
       "  <tbody>\n",
       "    <tr>\n",
       "      <th>1103</th>\n",
       "      <td>HG03006</td>\n",
       "      <td>HG03006</td>\n",
       "      <td>0</td>\n",
       "      <td>-0.027618</td>\n",
       "      <td>-0.003371</td>\n",
       "      <td>-0.042326</td>\n",
       "      <td>0.000146</td>\n",
       "      <td>-0.003339</td>\n",
       "      <td>-0.000676</td>\n",
       "      <td>-0.001992</td>\n",
       "      <td>...</td>\n",
       "      <td>0.002522</td>\n",
       "      <td>-0.002765</td>\n",
       "      <td>0.001628</td>\n",
       "      <td>HG03006</td>\n",
       "      <td>BEB</td>\n",
       "      <td>SAS</td>\n",
       "      <td>male</td>\n",
       "      <td>NaN</td>\n",
       "      <td>NaN</td>\n",
       "      <td>False</td>\n",
       "    </tr>\n",
       "    <tr>\n",
       "      <th>228</th>\n",
       "      <td>HG00554</td>\n",
       "      <td>HG00554</td>\n",
       "      <td>0</td>\n",
       "      <td>-0.020207</td>\n",
       "      <td>0.035616</td>\n",
       "      <td>0.011807</td>\n",
       "      <td>-0.010436</td>\n",
       "      <td>0.006435</td>\n",
       "      <td>-0.010515</td>\n",
       "      <td>0.005433</td>\n",
       "      <td>...</td>\n",
       "      <td>-0.002620</td>\n",
       "      <td>0.005227</td>\n",
       "      <td>0.000217</td>\n",
       "      <td>HG00554</td>\n",
       "      <td>PUR</td>\n",
       "      <td>AMR</td>\n",
       "      <td>female</td>\n",
       "      <td>NaN</td>\n",
       "      <td>NaN</td>\n",
       "      <td>False</td>\n",
       "    </tr>\n",
       "    <tr>\n",
       "      <th>772</th>\n",
       "      <td>HG02108</td>\n",
       "      <td>HG02108</td>\n",
       "      <td>0</td>\n",
       "      <td>0.071980</td>\n",
       "      <td>0.003463</td>\n",
       "      <td>0.002197</td>\n",
       "      <td>0.001835</td>\n",
       "      <td>0.003102</td>\n",
       "      <td>0.000363</td>\n",
       "      <td>-0.001075</td>\n",
       "      <td>...</td>\n",
       "      <td>-0.002729</td>\n",
       "      <td>0.003856</td>\n",
       "      <td>-0.001751</td>\n",
       "      <td>HG02108</td>\n",
       "      <td>ACB</td>\n",
       "      <td>AFR</td>\n",
       "      <td>female</td>\n",
       "      <td>NaN</td>\n",
       "      <td>NaN</td>\n",
       "      <td>False</td>\n",
       "    </tr>\n",
       "    <tr>\n",
       "      <th>2305</th>\n",
       "      <td>NA20773</td>\n",
       "      <td>NA20773</td>\n",
       "      <td>0</td>\n",
       "      <td>-0.028516</td>\n",
       "      <td>0.048589</td>\n",
       "      <td>0.008230</td>\n",
       "      <td>0.004066</td>\n",
       "      <td>0.016358</td>\n",
       "      <td>-0.013131</td>\n",
       "      <td>0.006213</td>\n",
       "      <td>...</td>\n",
       "      <td>0.006151</td>\n",
       "      <td>0.001674</td>\n",
       "      <td>-0.003463</td>\n",
       "      <td>NA20773</td>\n",
       "      <td>TSI</td>\n",
       "      <td>EUR</td>\n",
       "      <td>female</td>\n",
       "      <td>NaN</td>\n",
       "      <td>NaN</td>\n",
       "      <td>False</td>\n",
       "    </tr>\n",
       "    <tr>\n",
       "      <th>1456</th>\n",
       "      <td>HG03873</td>\n",
       "      <td>HG03873</td>\n",
       "      <td>0</td>\n",
       "      <td>-0.025578</td>\n",
       "      <td>0.000916</td>\n",
       "      <td>-0.052141</td>\n",
       "      <td>-0.000555</td>\n",
       "      <td>-0.004510</td>\n",
       "      <td>0.000230</td>\n",
       "      <td>0.001602</td>\n",
       "      <td>...</td>\n",
       "      <td>-0.004072</td>\n",
       "      <td>0.008166</td>\n",
       "      <td>-0.033637</td>\n",
       "      <td>HG03873</td>\n",
       "      <td>ITU</td>\n",
       "      <td>SAS</td>\n",
       "      <td>female</td>\n",
       "      <td>NaN</td>\n",
       "      <td>NaN</td>\n",
       "      <td>False</td>\n",
       "    </tr>\n",
       "  </tbody>\n",
       "</table>\n",
       "<p>5 rows × 30 columns</p>\n",
       "</div>"
      ],
      "text/plain": [
       "          FID      IID  SOL        C1        C2        C3        C4        C5  \\\n",
       "1103  HG03006  HG03006    0 -0.027618 -0.003371 -0.042326  0.000146 -0.003339   \n",
       "228   HG00554  HG00554    0 -0.020207  0.035616  0.011807 -0.010436  0.006435   \n",
       "772   HG02108  HG02108    0  0.071980  0.003463  0.002197  0.001835  0.003102   \n",
       "2305  NA20773  NA20773    0 -0.028516  0.048589  0.008230  0.004066  0.016358   \n",
       "1456  HG03873  HG03873    0 -0.025578  0.000916 -0.052141 -0.000555 -0.004510   \n",
       "\n",
       "            C6        C7  ...       C18       C19       C20   sample  pop  \\\n",
       "1103 -0.000676 -0.001992  ...  0.002522 -0.002765  0.001628  HG03006  BEB   \n",
       "228  -0.010515  0.005433  ... -0.002620  0.005227  0.000217  HG00554  PUR   \n",
       "772   0.000363 -0.001075  ... -0.002729  0.003856 -0.001751  HG02108  ACB   \n",
       "2305 -0.013131  0.006213  ...  0.006151  0.001674 -0.003463  NA20773  TSI   \n",
       "1456  0.000230  0.001602  ... -0.004072  0.008166 -0.033637  HG03873  ITU   \n",
       "\n",
       "      super_pop  gender  Unnamed: 4  Unnamed: 5  outlier  \n",
       "1103        SAS    male         NaN         NaN    False  \n",
       "228         AMR  female         NaN         NaN    False  \n",
       "772         AFR  female         NaN         NaN    False  \n",
       "2305        EUR  female         NaN         NaN    False  \n",
       "1456        SAS  female         NaN         NaN    False  \n",
       "\n",
       "[5 rows x 30 columns]"
      ]
     },
     "execution_count": 14,
     "metadata": {},
     "output_type": "execute_result"
    }
   ],
   "source": [
    "df.head()"
   ]
  },
  {
   "cell_type": "code",
   "execution_count": 6,
   "metadata": {},
   "outputs": [
    {
     "data": {
      "text/plain": [
       "ninds_eopd    134\n",
       "IBS           107\n",
       "TSI           104\n",
       "CEU            99\n",
       "FIN            98\n",
       "GBR            91\n",
       "outlier        14\n",
       "Name: pop, dtype: int64"
      ]
     },
     "execution_count": 6,
     "metadata": {},
     "output_type": "execute_result"
    }
   ],
   "source": [
    "cohort_euro_df['pop'].value_counts()"
   ]
  },
  {
   "cell_type": "code",
   "execution_count": 7,
   "metadata": {},
   "outputs": [
    {
     "data": {
      "text/html": [
       "<div>\n",
       "<style scoped>\n",
       "    .dataframe tbody tr th:only-of-type {\n",
       "        vertical-align: middle;\n",
       "    }\n",
       "\n",
       "    .dataframe tbody tr th {\n",
       "        vertical-align: top;\n",
       "    }\n",
       "\n",
       "    .dataframe thead th {\n",
       "        text-align: right;\n",
       "    }\n",
       "</style>\n",
       "<table border=\"1\" class=\"dataframe\">\n",
       "  <thead>\n",
       "    <tr style=\"text-align: right;\">\n",
       "      <th></th>\n",
       "      <th>C1</th>\n",
       "      <th>C2</th>\n",
       "      <th>C3</th>\n",
       "      <th>C4</th>\n",
       "      <th>C5</th>\n",
       "      <th>C6</th>\n",
       "      <th>C7</th>\n",
       "      <th>C8</th>\n",
       "      <th>C9</th>\n",
       "      <th>C10</th>\n",
       "      <th>C11</th>\n",
       "      <th>C12</th>\n",
       "      <th>C13</th>\n",
       "      <th>C14</th>\n",
       "      <th>C15</th>\n",
       "      <th>C16</th>\n",
       "      <th>C17</th>\n",
       "      <th>C18</th>\n",
       "      <th>C19</th>\n",
       "      <th>C20</th>\n",
       "    </tr>\n",
       "    <tr>\n",
       "      <th>IID</th>\n",
       "      <th></th>\n",
       "      <th></th>\n",
       "      <th></th>\n",
       "      <th></th>\n",
       "      <th></th>\n",
       "      <th></th>\n",
       "      <th></th>\n",
       "      <th></th>\n",
       "      <th></th>\n",
       "      <th></th>\n",
       "      <th></th>\n",
       "      <th></th>\n",
       "      <th></th>\n",
       "      <th></th>\n",
       "      <th></th>\n",
       "      <th></th>\n",
       "      <th></th>\n",
       "      <th></th>\n",
       "      <th></th>\n",
       "      <th></th>\n",
       "    </tr>\n",
       "  </thead>\n",
       "  <tbody>\n",
       "    <tr>\n",
       "      <th>HG00096</th>\n",
       "      <td>-0.030845</td>\n",
       "      <td>0.049992</td>\n",
       "      <td>0.012833</td>\n",
       "      <td>0.002817</td>\n",
       "      <td>0.016931</td>\n",
       "      <td>0.004442</td>\n",
       "      <td>-0.002452</td>\n",
       "      <td>0.001082</td>\n",
       "      <td>-0.002418</td>\n",
       "      <td>0.001343</td>\n",
       "      <td>0.013804</td>\n",
       "      <td>-0.000051</td>\n",
       "      <td>0.004282</td>\n",
       "      <td>-0.004168</td>\n",
       "      <td>0.004888</td>\n",
       "      <td>-0.000797</td>\n",
       "      <td>0.000760</td>\n",
       "      <td>-0.002776</td>\n",
       "      <td>0.002404</td>\n",
       "      <td>-0.004128</td>\n",
       "    </tr>\n",
       "    <tr>\n",
       "      <th>HG00097</th>\n",
       "      <td>-0.031069</td>\n",
       "      <td>0.050532</td>\n",
       "      <td>0.012014</td>\n",
       "      <td>0.002583</td>\n",
       "      <td>0.016502</td>\n",
       "      <td>0.004576</td>\n",
       "      <td>-0.001263</td>\n",
       "      <td>-0.000129</td>\n",
       "      <td>-0.001587</td>\n",
       "      <td>0.001567</td>\n",
       "      <td>0.014040</td>\n",
       "      <td>-0.001939</td>\n",
       "      <td>0.005259</td>\n",
       "      <td>-0.001514</td>\n",
       "      <td>0.002454</td>\n",
       "      <td>0.001240</td>\n",
       "      <td>-0.004628</td>\n",
       "      <td>-0.000926</td>\n",
       "      <td>-0.001755</td>\n",
       "      <td>0.004181</td>\n",
       "    </tr>\n",
       "    <tr>\n",
       "      <th>HG00099</th>\n",
       "      <td>-0.031364</td>\n",
       "      <td>0.049827</td>\n",
       "      <td>0.011983</td>\n",
       "      <td>0.001757</td>\n",
       "      <td>0.015378</td>\n",
       "      <td>0.006195</td>\n",
       "      <td>-0.003835</td>\n",
       "      <td>-0.000783</td>\n",
       "      <td>-0.002504</td>\n",
       "      <td>-0.001713</td>\n",
       "      <td>0.016889</td>\n",
       "      <td>-0.001331</td>\n",
       "      <td>0.003329</td>\n",
       "      <td>-0.003763</td>\n",
       "      <td>0.002862</td>\n",
       "      <td>0.001451</td>\n",
       "      <td>0.001592</td>\n",
       "      <td>0.000417</td>\n",
       "      <td>0.004923</td>\n",
       "      <td>-0.002978</td>\n",
       "    </tr>\n",
       "    <tr>\n",
       "      <th>HG00100</th>\n",
       "      <td>-0.028523</td>\n",
       "      <td>0.050998</td>\n",
       "      <td>0.012454</td>\n",
       "      <td>0.002891</td>\n",
       "      <td>0.015711</td>\n",
       "      <td>0.001860</td>\n",
       "      <td>-0.001237</td>\n",
       "      <td>-0.000381</td>\n",
       "      <td>0.000153</td>\n",
       "      <td>-0.000034</td>\n",
       "      <td>0.018384</td>\n",
       "      <td>0.004070</td>\n",
       "      <td>0.000820</td>\n",
       "      <td>0.001165</td>\n",
       "      <td>0.007829</td>\n",
       "      <td>-0.003658</td>\n",
       "      <td>0.001454</td>\n",
       "      <td>0.001895</td>\n",
       "      <td>-0.000282</td>\n",
       "      <td>-0.000993</td>\n",
       "    </tr>\n",
       "    <tr>\n",
       "      <th>HG00101</th>\n",
       "      <td>-0.029837</td>\n",
       "      <td>0.049376</td>\n",
       "      <td>0.013342</td>\n",
       "      <td>0.001966</td>\n",
       "      <td>0.016678</td>\n",
       "      <td>0.005087</td>\n",
       "      <td>-0.002530</td>\n",
       "      <td>-0.000022</td>\n",
       "      <td>-0.001257</td>\n",
       "      <td>-0.000142</td>\n",
       "      <td>0.019363</td>\n",
       "      <td>0.001664</td>\n",
       "      <td>0.005348</td>\n",
       "      <td>-0.003400</td>\n",
       "      <td>0.000705</td>\n",
       "      <td>-0.002169</td>\n",
       "      <td>0.000755</td>\n",
       "      <td>-0.002595</td>\n",
       "      <td>0.003362</td>\n",
       "      <td>-0.002126</td>\n",
       "    </tr>\n",
       "  </tbody>\n",
       "</table>\n",
       "</div>"
      ],
      "text/plain": [
       "               C1        C2        C3        C4        C5        C6        C7  \\\n",
       "IID                                                                             \n",
       "HG00096 -0.030845  0.049992  0.012833  0.002817  0.016931  0.004442 -0.002452   \n",
       "HG00097 -0.031069  0.050532  0.012014  0.002583  0.016502  0.004576 -0.001263   \n",
       "HG00099 -0.031364  0.049827  0.011983  0.001757  0.015378  0.006195 -0.003835   \n",
       "HG00100 -0.028523  0.050998  0.012454  0.002891  0.015711  0.001860 -0.001237   \n",
       "HG00101 -0.029837  0.049376  0.013342  0.001966  0.016678  0.005087 -0.002530   \n",
       "\n",
       "               C8        C9       C10       C11       C12       C13       C14  \\\n",
       "IID                                                                             \n",
       "HG00096  0.001082 -0.002418  0.001343  0.013804 -0.000051  0.004282 -0.004168   \n",
       "HG00097 -0.000129 -0.001587  0.001567  0.014040 -0.001939  0.005259 -0.001514   \n",
       "HG00099 -0.000783 -0.002504 -0.001713  0.016889 -0.001331  0.003329 -0.003763   \n",
       "HG00100 -0.000381  0.000153 -0.000034  0.018384  0.004070  0.000820  0.001165   \n",
       "HG00101 -0.000022 -0.001257 -0.000142  0.019363  0.001664  0.005348 -0.003400   \n",
       "\n",
       "              C15       C16       C17       C18       C19       C20  \n",
       "IID                                                                  \n",
       "HG00096  0.004888 -0.000797  0.000760 -0.002776  0.002404 -0.004128  \n",
       "HG00097  0.002454  0.001240 -0.004628 -0.000926 -0.001755  0.004181  \n",
       "HG00099  0.002862  0.001451  0.001592  0.000417  0.004923 -0.002978  \n",
       "HG00100  0.007829 -0.003658  0.001454  0.001895 -0.000282 -0.000993  \n",
       "HG00101  0.000705 -0.002169  0.000755 -0.002595  0.003362 -0.002126  "
      ]
     },
     "execution_count": 7,
     "metadata": {},
     "output_type": "execute_result"
    }
   ],
   "source": [
    "mdsdf.set_index(mdsdf['IID'],inplace=True)\n",
    "mdsdf.drop(columns=['FID','IID','SOL'],inplace=True)\n",
    "mdsdf.head()"
   ]
  },
  {
   "cell_type": "code",
   "execution_count": 8,
   "metadata": {},
   "outputs": [
    {
     "name": "stderr",
     "output_type": "stream",
     "text": [
      "/Users/mooreank/anaconda3/lib/python3.7/site-packages/umap/spectral.py:229: UserWarning: Embedding a total of 7 separate connected components using meta-embedding (experimental)\n",
      "  n_components\n"
     ]
    },
    {
     "name": "stdout",
     "output_type": "stream",
     "text": [
      "The dimensions of the umap df of the population ancestry data are (2595, 2)\n"
     ]
    },
    {
     "data": {
      "text/html": [
       "<div>\n",
       "<style scoped>\n",
       "    .dataframe tbody tr th:only-of-type {\n",
       "        vertical-align: middle;\n",
       "    }\n",
       "\n",
       "    .dataframe tbody tr th {\n",
       "        vertical-align: top;\n",
       "    }\n",
       "\n",
       "    .dataframe thead th {\n",
       "        text-align: right;\n",
       "    }\n",
       "</style>\n",
       "<table border=\"1\" class=\"dataframe\">\n",
       "  <thead>\n",
       "    <tr style=\"text-align: right;\">\n",
       "      <th></th>\n",
       "      <th>x-umap</th>\n",
       "      <th>y-umap</th>\n",
       "    </tr>\n",
       "    <tr>\n",
       "      <th>IID</th>\n",
       "      <th></th>\n",
       "      <th></th>\n",
       "    </tr>\n",
       "  </thead>\n",
       "  <tbody>\n",
       "    <tr>\n",
       "      <th>HG00096</th>\n",
       "      <td>-11.138</td>\n",
       "      <td>-12.234</td>\n",
       "    </tr>\n",
       "    <tr>\n",
       "      <th>HG00097</th>\n",
       "      <td>-10.531</td>\n",
       "      <td>-12.238</td>\n",
       "    </tr>\n",
       "    <tr>\n",
       "      <th>HG00099</th>\n",
       "      <td>-11.072</td>\n",
       "      <td>-12.263</td>\n",
       "    </tr>\n",
       "    <tr>\n",
       "      <th>HG00100</th>\n",
       "      <td>-10.063</td>\n",
       "      <td>-12.141</td>\n",
       "    </tr>\n",
       "    <tr>\n",
       "      <th>HG00101</th>\n",
       "      <td>-11.126</td>\n",
       "      <td>-12.372</td>\n",
       "    </tr>\n",
       "  </tbody>\n",
       "</table>\n",
       "</div>"
      ],
      "text/plain": [
       "         x-umap  y-umap\n",
       "IID                    \n",
       "HG00096 -11.138 -12.234\n",
       "HG00097 -10.531 -12.238\n",
       "HG00099 -11.072 -12.263\n",
       "HG00100 -10.063 -12.141\n",
       "HG00101 -11.126 -12.372"
      ]
     },
     "execution_count": 8,
     "metadata": {},
     "output_type": "execute_result"
    }
   ],
   "source": [
    "#run UMAP on the expression data\n",
    "from umap import UMAP\n",
    "\n",
    "umap_results = UMAP(random_state=42).fit_transform(mdsdf)\n",
    "df_umap = pd.DataFrame(umap_results,columns=['x-umap','y-umap'], \\\n",
    "                                   index=mdsdf.index).round(3)\n",
    "print(f'The dimensions of the umap df of the population ancestry data are {df_umap.shape}')\n",
    "df_umap.head()"
   ]
  },
  {
   "cell_type": "code",
   "execution_count": 9,
   "metadata": {},
   "outputs": [
    {
     "name": "stdout",
     "output_type": "stream",
     "text": [
      "AFR           657\n",
      "EUR           499\n",
      "EAS           499\n",
      "SAS           481\n",
      "AMR           311\n",
      "ninds_eopd    134\n",
      "outlier        14\n",
      "Name: super_pop, dtype: int64\n",
      "ninds_eopd    134\n",
      "IBS           107\n",
      "TSI           104\n",
      "CEU            99\n",
      "FIN            98\n",
      "GBR            91\n",
      "outlier        14\n",
      "Name: pop, dtype: int64\n"
     ]
    }
   ],
   "source": [
    "df_umap = df_umap.merge(infodf,how='left',left_index=True,right_on='sample')\n",
    "\n",
    "df_umap[['super_pop']] = df_umap[['super_pop']].fillna(cohort_label)\n",
    "df_umap[['pop']] = df_umap[['pop']].fillna(cohort_label)\n",
    "\n",
    "df_umap.loc[df_umap['sample'].isin(outliers['IID']),['super_pop','pop']] = 'outlier'\n",
    "\n",
    "print(df_umap['super_pop'].value_counts())\n",
    "\n",
    "cohort_euro_df = df_umap[df_umap['super_pop'].isin([expected_ancestry,cohort_label,'outlier'])]\n",
    "print(cohort_euro_df['pop'].value_counts())\n",
    "\n",
    "# cohort_euro_df = cohort_euro_df.sort_values('sample',ascending=False)\n",
    "cohort_euro_df = cohort_euro_df.sample(frac=1)"
   ]
  },
  {
   "cell_type": "code",
   "execution_count": 10,
   "metadata": {},
   "outputs": [
    {
     "data": {
      "text/html": [
       "<div>\n",
       "<style scoped>\n",
       "    .dataframe tbody tr th:only-of-type {\n",
       "        vertical-align: middle;\n",
       "    }\n",
       "\n",
       "    .dataframe tbody tr th {\n",
       "        vertical-align: top;\n",
       "    }\n",
       "\n",
       "    .dataframe thead th {\n",
       "        text-align: right;\n",
       "    }\n",
       "</style>\n",
       "<table border=\"1\" class=\"dataframe\">\n",
       "  <thead>\n",
       "    <tr style=\"text-align: right;\">\n",
       "      <th></th>\n",
       "      <th>x-umap</th>\n",
       "      <th>y-umap</th>\n",
       "      <th>sample</th>\n",
       "      <th>pop</th>\n",
       "      <th>super_pop</th>\n",
       "      <th>gender</th>\n",
       "      <th>Unnamed: 4</th>\n",
       "      <th>Unnamed: 5</th>\n",
       "    </tr>\n",
       "  </thead>\n",
       "  <tbody>\n",
       "    <tr>\n",
       "      <th>0</th>\n",
       "      <td>-11.138</td>\n",
       "      <td>-12.234</td>\n",
       "      <td>HG00096</td>\n",
       "      <td>GBR</td>\n",
       "      <td>EUR</td>\n",
       "      <td>male</td>\n",
       "      <td>NaN</td>\n",
       "      <td>NaN</td>\n",
       "    </tr>\n",
       "    <tr>\n",
       "      <th>1</th>\n",
       "      <td>-10.531</td>\n",
       "      <td>-12.238</td>\n",
       "      <td>HG00097</td>\n",
       "      <td>GBR</td>\n",
       "      <td>EUR</td>\n",
       "      <td>female</td>\n",
       "      <td>NaN</td>\n",
       "      <td>NaN</td>\n",
       "    </tr>\n",
       "    <tr>\n",
       "      <th>2</th>\n",
       "      <td>-11.072</td>\n",
       "      <td>-12.263</td>\n",
       "      <td>HG00099</td>\n",
       "      <td>GBR</td>\n",
       "      <td>EUR</td>\n",
       "      <td>female</td>\n",
       "      <td>NaN</td>\n",
       "      <td>NaN</td>\n",
       "    </tr>\n",
       "    <tr>\n",
       "      <th>3</th>\n",
       "      <td>-10.063</td>\n",
       "      <td>-12.141</td>\n",
       "      <td>HG00100</td>\n",
       "      <td>GBR</td>\n",
       "      <td>EUR</td>\n",
       "      <td>female</td>\n",
       "      <td>NaN</td>\n",
       "      <td>NaN</td>\n",
       "    </tr>\n",
       "    <tr>\n",
       "      <th>4</th>\n",
       "      <td>-11.126</td>\n",
       "      <td>-12.372</td>\n",
       "      <td>HG00101</td>\n",
       "      <td>GBR</td>\n",
       "      <td>EUR</td>\n",
       "      <td>male</td>\n",
       "      <td>NaN</td>\n",
       "      <td>NaN</td>\n",
       "    </tr>\n",
       "  </tbody>\n",
       "</table>\n",
       "</div>"
      ],
      "text/plain": [
       "   x-umap  y-umap   sample  pop super_pop  gender  Unnamed: 4  Unnamed: 5\n",
       "0 -11.138 -12.234  HG00096  GBR       EUR    male         NaN         NaN\n",
       "1 -10.531 -12.238  HG00097  GBR       EUR  female         NaN         NaN\n",
       "2 -11.072 -12.263  HG00099  GBR       EUR  female         NaN         NaN\n",
       "3 -10.063 -12.141  HG00100  GBR       EUR  female         NaN         NaN\n",
       "4 -11.126 -12.372  HG00101  GBR       EUR    male         NaN         NaN"
      ]
     },
     "execution_count": 10,
     "metadata": {},
     "output_type": "execute_result"
    }
   ],
   "source": [
    "df_umap.head()"
   ]
  },
  {
   "cell_type": "code",
   "execution_count": 24,
   "metadata": {},
   "outputs": [
    {
     "data": {
      "image/png": "[encoded data removed]",
      "text/plain": [
       "<Figure size 1152x576 with 2 Axes>"
      ]
     },
     "metadata": {},
     "output_type": "display_data"
    }
   ],
   "source": [
    "output_umap_plot = f'{qc_dir}/{COHORTBUILD}.pop_structure.umap.png'\n",
    "\n",
    "sns.set()\n",
    "plt.figure(figsize=(16,8))\n",
    "plt.subplot(1,2,1)\n",
    "sns.scatterplot(x='x-umap',y='y-umap',hue='super_pop',style='super_pop',data=df_umap)\n",
    "plt.xlabel('x-UMAP')\n",
    "plt.ylabel('y-UMAP')\n",
    "plt.legend(bbox_to_anchor=(1.05, 1), loc=1, borderaxespad=0,prop={'size': 8})\n",
    "plt.subplot(1,2,2)\n",
    "sns.scatterplot(x='x-umap',y='y-umap',hue='pop',data=cohort_euro_df)\n",
    "plt.xlabel('x-UMAP')\n",
    "plt.ylabel('y-UMAP')\n",
    "plt.legend(bbox_to_anchor=(1.05, 1), loc=2, borderaxespad=0,prop={'size': 8})\n",
    "plt.savefig(output_umap_plot,format='png',dpi=600,bbox_inches='tight')\n",
    "plt.show()"
   ]
  },
  {
   "cell_type": "markdown",
   "metadata": {},
   "source": [
    "#### accumulate definite excludes, ie sample QC fails\n",
    "missingness, sexcheck, het-rate, and contamination"
   ]
  },
  {
   "cell_type": "code",
   "execution_count": 40,
   "metadata": {},
   "outputs": [
    {
     "name": "stdout",
     "output_type": "stream",
     "text": [
      "sex mismatches\n",
      "0 failed sexcheck\n",
      "0 failed missingness check\n",
      "2 failed het rate check\n",
      "0 failed contamination check\n"
     ]
    }
   ],
   "source": [
    "#sex check mismatches\n",
    "sexcheck_file = f'{WRKDIR}/qc/{COHORTBUILD}.sex.sexcheck'\n",
    "sexcheck_df = pd.read_csv(sexcheck_file,sep='\\s+')\n",
    "sexcheck_problems_df = sexcheck_df[(sexcheck_df['STATUS'] == 'PROBLEM') & (sexcheck_df['PEDSEX'] != 0)]\n",
    "print('sex mismatches')\n",
    "print(f'{sexcheck_problems_df.shape[0]} failed sexcheck')\n",
    "\n",
    "#check missingness \n",
    "smiss_file = f'{WRKDIR}/qc/{COHORTBUILD}.missing.lmiss'\n",
    "smiss_df = pd.read_csv(smiss_file,sep='\\s+')\n",
    "smiss_problems_df = smiss_df[smiss_df['F_MISS'] > 0.05]\n",
    "print(f'{smiss_problems_df.shape[0]} failed missingness check')\n",
    "\n",
    "#het rate problems\n",
    "hetcheck_file = f'{WRKDIR}/qc/{COHORTBUILD}.het.het'\n",
    "hetcheck_df = pd.read_csv(hetcheck_file,sep='\\s+')\n",
    "hetcheck_problems_df = hetcheck_df[(hetcheck_df['F'] > 0.15) | (hetcheck_df['F'] < -0.15)]\n",
    "print(f'{hetcheck_problems_df.shape[0]} failed het rate check')\n",
    "\n",
    "#sample contamination problems\n",
    "# contam_df = pd.DataFrame(data=None,columns=['id'])\n",
    "contam_file = f'{WRKDIR}/{COHORTBUILD}.contaminated.samples.txt'\n",
    "contam_df = pd.read_csv(contam_file,sep='\\s+')\n",
    "print(f'{contam_df.shape[0]} failed contamination check')\n"
   ]
  },
  {
   "cell_type": "code",
   "execution_count": 46,
   "metadata": {},
   "outputs": [
    {
     "name": "stdout",
     "output_type": "stream",
     "text": [
      "2 samples should be excluded to exclude\n"
     ]
    }
   ],
   "source": [
    "# def_exclude_set = set(sexcheck_problems_df['IID']) | set(smiss_problems_df['IID']) | \\\n",
    "# set(hetcheck_problems_df['IID']) | set(contam_df['id']) \n",
    "\n",
    "one=set(sexcheck_problems_df['IID'])\n",
    "two=set(smiss_problems_df['SNP'])\n",
    "three=set(hetcheck_problems_df['IID'])\n",
    "four=set(contam_df['id'])\n",
    "\n",
    "def_exclude_set = one | two | three | four\n",
    "\n",
    "\n",
    "\n",
    "print(f'{len(def_exclude_set)} samples should be excluded to exclude')"
   ]
  },
  {
   "cell_type": "code",
   "execution_count": 45,
   "metadata": {},
   "outputs": [
    {
     "data": {
      "text/html": [
       "<div>\n",
       "<style scoped>\n",
       "    .dataframe tbody tr th:only-of-type {\n",
       "        vertical-align: middle;\n",
       "    }\n",
       "\n",
       "    .dataframe tbody tr th {\n",
       "        vertical-align: top;\n",
       "    }\n",
       "\n",
       "    .dataframe thead th {\n",
       "        text-align: right;\n",
       "    }\n",
       "</style>\n",
       "<table border=\"1\" class=\"dataframe\">\n",
       "  <thead>\n",
       "    <tr style=\"text-align: right;\">\n",
       "      <th></th>\n",
       "      <th>CHR</th>\n",
       "      <th>SNP</th>\n",
       "      <th>N_MISS</th>\n",
       "      <th>N_GENO</th>\n",
       "      <th>F_MISS</th>\n",
       "    </tr>\n",
       "  </thead>\n",
       "  <tbody>\n",
       "  </tbody>\n",
       "</table>\n",
       "</div>"
      ],
      "text/plain": [
       "Empty DataFrame\n",
       "Columns: [CHR, SNP, N_MISS, N_GENO, F_MISS]\n",
       "Index: []"
      ]
     },
     "execution_count": 45,
     "metadata": {},
     "output_type": "execute_result"
    }
   ],
   "source": [
    "smiss_problems_df.head()"
   ]
  },
  {
   "cell_type": "code",
   "execution_count": 47,
   "metadata": {},
   "outputs": [
    {
     "data": {
      "text/plain": [
       "{'PennEOPD081', 'PennEOPD136'}"
      ]
     },
     "execution_count": 47,
     "metadata": {},
     "output_type": "execute_result"
    }
   ],
   "source": [
    "def_exclude_set"
   ]
  }
 ],
 "metadata": {
  "kernelspec": {
   "display_name": "Python 3",
   "language": "python",
   "name": "python3"
  },
  "language_info": {
   "codemirror_mode": {
    "name": "ipython",
    "version": 3
   },
   "file_extension": ".py",
   "mimetype": "text/x-python",
   "name": "python",
   "nbconvert_exporter": "python",
   "pygments_lexer": "ipython3",
   "version": "3.7.6"
  }
 },
 "nbformat": 4,
 "nbformat_minor": 4
}
